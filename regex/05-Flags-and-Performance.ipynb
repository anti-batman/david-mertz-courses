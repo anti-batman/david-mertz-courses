{
 "cells": [
  {
   "cell_type": "markdown",
   "metadata": {
    "slideshow": {
     "slide_type": "fragment"
    }
   },
   "source": [
    "# Flags and Performance\n",
    "\n",
    "In earlier example we have occasionally used flags that modified the behavior of regular expressions. In this lesson we look at them more systematically.  \n",
    "\n",
    "Another issue that you may encounter is poor performance of regular expressions against long string.  The examples in these lessons are small, but in principle you may use (complex) regular expressions against strings that are tens or hundreds of megabytes in size. "
   ]
  },
  {
   "cell_type": "code",
   "execution_count": 1,
   "metadata": {
    "slideshow": {
     "slide_type": "fragment"
    }
   },
   "outputs": [],
   "source": [
    "from src.setup import *"
   ]
  },
  {
   "cell_type": "markdown",
   "metadata": {
    "slideshow": {
     "slide_type": "slide"
    }
   },
   "source": [
    "## Catastrophic Backtracking\n",
    "\n",
    "The engine underneath a regular expression module can make a large asymptotic difference in performance.  The story here is complicated and involves a lot of computer science and math; moreover, providing better bounds on \"pathological\" cases sometimes makes worse typical behavior on \"normal\" cases.  The documentation of the standard library `re` module notes the third party `regex` module which both has enhanced functionality (some more experimental) and uses a different underlying algorithmic that handles the \"monsters\" vastly better."
   ]
  },
  {
   "cell_type": "markdown",
   "metadata": {
    "slideshow": {
     "slide_type": "subslide"
    }
   },
   "source": [
    "A contrived example below will show how rephrasing a regular expression can make a large difference.  We construct two strings of the letter 'a' terminated by either 'Y' or 'Z'.  The tricky part will be when different subpatterns match overlapping sets of patterns.  That in itself is perfectly reasonable and not uncommon"
   ]
  },
  {
   "cell_type": "code",
   "execution_count": 2,
   "metadata": {
    "slideshow": {
     "slide_type": "fragment"
    }
   },
   "outputs": [],
   "source": [
    "success = 'a'*30 + 'Z'\n",
    "failure = 'a'*30 + 'Y'\n",
    "\n",
    "pat1 = re.compile(r'[a-z]+Z')"
   ]
  },
  {
   "cell_type": "markdown",
   "metadata": {
    "slideshow": {
     "slide_type": "fragment"
    }
   },
   "source": [
    "We might first try to match \"a string of lowercase letters followed by 'Z'\".  This works fine for both the success case and where it fails at the last character."
   ]
  },
  {
   "cell_type": "code",
   "execution_count": 3,
   "metadata": {
    "slideshow": {
     "slide_type": "subslide"
    }
   },
   "outputs": [
    {
     "name": "stdout",
     "output_type": "stream",
     "text": [
      "CPU times: user 8 µs, sys: 2 µs, total: 10 µs\n",
      "Wall time: 11.7 µs\n"
     ]
    },
    {
     "data": {
      "text/plain": [
       "<re.Match object; span=(0, 31), match='aaaaaaaaaaaaaaaaaaaaaaaaaaaaaaZ'>"
      ]
     },
     "execution_count": 3,
     "metadata": {},
     "output_type": "execute_result"
    }
   ],
   "source": [
    "%%time\n",
    "re.match(pat1, success) or \"No Match!\""
   ]
  },
  {
   "cell_type": "code",
   "execution_count": 4,
   "metadata": {
    "slideshow": {
     "slide_type": "fragment"
    }
   },
   "outputs": [
    {
     "name": "stdout",
     "output_type": "stream",
     "text": [
      "CPU times: user 12 µs, sys: 2 µs, total: 14 µs\n",
      "Wall time: 17.9 µs\n"
     ]
    },
    {
     "data": {
      "text/plain": [
       "'No Match!'"
      ]
     },
     "execution_count": 4,
     "metadata": {},
     "output_type": "execute_result"
    }
   ],
   "source": [
    "%%time\n",
    "re.match(pat1, failure) or \"No Match!\""
   ]
  },
  {
   "cell_type": "markdown",
   "metadata": {
    "slideshow": {
     "slide_type": "subslide"
    }
   },
   "source": [
    "For a next variation, we want to match:\n",
    "\n",
    "* a string of (at least one) vowels\n",
    "* followed one of more of the first five letters of alphabet\n",
    "* last two subpatterns occurring at least once together\n",
    "* ending with a 'Z'"
   ]
  },
  {
   "cell_type": "code",
   "execution_count": 5,
   "metadata": {
    "slideshow": {
     "slide_type": "fragment"
    }
   },
   "outputs": [],
   "source": [
    "pat2 = re.compile(r'([aeiou]+[abcde]+)+Z')\n",
    "# Example match:'oucieddabcdZ'\n",
    "# Example failure: 'oucieddaklZ'"
   ]
  },
  {
   "cell_type": "code",
   "execution_count": 6,
   "metadata": {
    "slideshow": {
     "slide_type": "subslide"
    }
   },
   "outputs": [
    {
     "name": "stdout",
     "output_type": "stream",
     "text": [
      "CPU times: user 15 µs, sys: 0 ns, total: 15 µs\n",
      "Wall time: 18.6 µs\n"
     ]
    },
    {
     "data": {
      "text/plain": [
       "<re.Match object; span=(0, 31), match='aaaaaaaaaaaaaaaaaaaaaaaaaaaaaaZ'>"
      ]
     },
     "execution_count": 6,
     "metadata": {},
     "output_type": "execute_result"
    }
   ],
   "source": [
    "%%time\n",
    "re.match(pat2, success)"
   ]
  },
  {
   "cell_type": "code",
   "execution_count": 7,
   "metadata": {
    "slideshow": {
     "slide_type": "fragment"
    }
   },
   "outputs": [
    {
     "name": "stdout",
     "output_type": "stream",
     "text": [
      "CPU times: user 47.7 s, sys: 110 ms, total: 47.8 s\n",
      "Wall time: 47.5 s\n"
     ]
    },
    {
     "data": {
      "text/plain": [
       "'No Match!'"
      ]
     },
     "execution_count": 7,
     "metadata": {},
     "output_type": "execute_result"
    }
   ],
   "source": [
    "%%time\n",
    "re.match(pat2, failure) or \"No Match!\""
   ]
  },
  {
   "cell_type": "markdown",
   "metadata": {
    "slideshow": {
     "slide_type": "subslide"
    }
   },
   "source": [
    "## What Went Wrong?\n",
    "\n",
    "We started at couple tens of microseconds for either the success or failure case.  For the success case, the time is similar.  But for the failure case we are into tens of **seconds**, i.e. a million times worse.  It gets worse than that though: the complexity is exponential; in other words, the worst case gets worse at a rate of $O(2^N)$ (where N is the length of the target string).  For example, the analagous pattern with 35 'a's takes 20 minutes, and failing to match ten thousand 'a's would take longer than the lifespan of the universe."
   ]
  },
  {
   "cell_type": "markdown",
   "metadata": {
    "slideshow": {
     "slide_type": "subslide"
    }
   },
   "source": [
    "The problem is that the regular expression (depending on engine) needs to consider every possible combination of adjacent subpattern matches, and every number of occurrence counts of those, before it can conclude that there is no 'Z' at the end of the initial group."
   ]
  },
  {
   "cell_type": "markdown",
   "metadata": {
    "slideshow": {
     "slide_type": "subslide"
    }
   },
   "source": [
    "We can fix this is several different ways, but finding one for your particular problem can be something of a dark art.  \n",
    "\n",
    "In the example, we might lookahead for something much more general to get to failures quickly.  Anything that could match would need to be a more than one generic alphanumeric character followed by a 'Z'.  This allows the targets with no 'Z' characters at all to fail immediately without recursive backtracking."
   ]
  },
  {
   "cell_type": "code",
   "execution_count": 8,
   "metadata": {
    "slideshow": {
     "slide_type": "fragment"
    }
   },
   "outputs": [],
   "source": [
    "pat3 = re.compile(r'(?=\\w+Z)([aeiou]+[abcde]+)+Z')"
   ]
  },
  {
   "cell_type": "code",
   "execution_count": 9,
   "metadata": {
    "slideshow": {
     "slide_type": "subslide"
    }
   },
   "outputs": [
    {
     "name": "stdout",
     "output_type": "stream",
     "text": [
      "CPU times: user 20 µs, sys: 0 ns, total: 20 µs\n",
      "Wall time: 25.7 µs\n"
     ]
    },
    {
     "data": {
      "text/plain": [
       "<re.Match object; span=(0, 31), match='aaaaaaaaaaaaaaaaaaaaaaaaaaaaaaZ'>"
      ]
     },
     "execution_count": 9,
     "metadata": {},
     "output_type": "execute_result"
    }
   ],
   "source": [
    "%%time\n",
    "re.match(pat3, success) or \"No Match!\""
   ]
  },
  {
   "cell_type": "code",
   "execution_count": 10,
   "metadata": {
    "slideshow": {
     "slide_type": "fragment"
    }
   },
   "outputs": [
    {
     "name": "stdout",
     "output_type": "stream",
     "text": [
      "CPU times: user 19 µs, sys: 0 ns, total: 19 µs\n",
      "Wall time: 23.6 µs\n"
     ]
    },
    {
     "data": {
      "text/plain": [
       "'No Match!'"
      ]
     },
     "execution_count": 10,
     "metadata": {},
     "output_type": "execute_result"
    }
   ],
   "source": [
    "%%time\n",
    "re.match(pat3, failure) or \"No Match!\""
   ]
  },
  {
   "cell_type": "markdown",
   "metadata": {
    "slideshow": {
     "slide_type": "subslide"
    }
   },
   "source": [
    "Let us see that the improved pattern works even on vastly larger target strings.  A million character string moves us to milliseconds, but not into millennia."
   ]
  },
  {
   "cell_type": "code",
   "execution_count": 11,
   "metadata": {
    "slideshow": {
     "slide_type": "fragment"
    }
   },
   "outputs": [],
   "source": [
    "success2 = 'a'*1_000_000 + 'Z'\n",
    "failure2 = 'a'*1_000_000 + 'Y'"
   ]
  },
  {
   "cell_type": "code",
   "execution_count": 12,
   "metadata": {
    "slideshow": {
     "slide_type": "subslide"
    }
   },
   "outputs": [
    {
     "name": "stdout",
     "output_type": "stream",
     "text": [
      "CPU times: user 13.5 ms, sys: 0 ns, total: 13.5 ms\n",
      "Wall time: 14 ms\n"
     ]
    },
    {
     "data": {
      "text/plain": [
       "<re.Match object; span=(0, 1000001), match='aaaaaaaaaaaaaaaaaaaaaaaaaaaaaaaaaaaaaaaaaaaaaaaaa>"
      ]
     },
     "execution_count": 12,
     "metadata": {},
     "output_type": "execute_result"
    }
   ],
   "source": [
    "%%time\n",
    "re.match(pat3, success2) or \"No Match!\""
   ]
  },
  {
   "cell_type": "code",
   "execution_count": 13,
   "metadata": {
    "slideshow": {
     "slide_type": "fragment"
    }
   },
   "outputs": [
    {
     "name": "stdout",
     "output_type": "stream",
     "text": [
      "CPU times: user 14.5 ms, sys: 10 µs, total: 14.5 ms\n",
      "Wall time: 14.5 ms\n"
     ]
    },
    {
     "data": {
      "text/plain": [
       "'No Match!'"
      ]
     },
     "execution_count": 13,
     "metadata": {},
     "output_type": "execute_result"
    }
   ],
   "source": [
    "%%time\n",
    "re.match(pat3, failure2) or \"No Match!\""
   ]
  },
  {
   "cell_type": "markdown",
   "metadata": {
    "slideshow": {
     "slide_type": "slide"
    }
   },
   "source": [
    "## Regular Expression Flags\n",
    "\n",
    "There are six flags you may use to change the meaning of patterns.  When you use these, you pass them using the keyword argument `flags` of `re.compile()` and of other `re` module functions.  However, the `flags` argument only works if a string rather than compiled pattern is passed to other functions."
   ]
  },
  {
   "cell_type": "markdown",
   "metadata": {
    "slideshow": {
     "slide_type": "slide"
    }
   },
   "source": [
    "Flag      | Short | Description\n",
    "----------|-------|------------------------------------------------------------------------\n",
    "ASCII     | A     | `\\w`, `\\b`, `\\s` and `\\d` match only on ASCII characters\n",
    "DOTALL    | S     | `.` matches any character, including newlines\n",
    "IGNORECASE| I     | Case-insensitive matches\n",
    "LOCALE    | L     | Locale-aware match\n",
    "MULTILINE | M     | `^` and `$` match each line, not whole string\n",
    "VERBOSE   | X     | Enable verbose regular expressions"
   ]
  },
  {
   "cell_type": "markdown",
   "metadata": {
    "slideshow": {
     "slide_type": "subslide"
    }
   },
   "source": [
    "Flags may be combined by bitwise or'ing them.  Matching per-line, case-insensitively, first words of lines that start with latter part of alphabet:"
   ]
  },
  {
   "cell_type": "code",
   "execution_count": 14,
   "metadata": {
    "slideshow": {
     "slide_type": "fragment"
    }
   },
   "outputs": [
    {
     "data": {
      "text/html": [
       "·<font color=\"##AA0000\"><b>Mary</b></font>· had a little lamb<br/>Its fleece as white as snow<br/>And everywhere that Mary<br/>·<font color=\"##AA0000\"><b>went</b></font>·, the lamb was sure<br/>·<font color=\"##AA0000\"><b>to</b></font>· go"
      ],
      "text/plain": [
       "<IPython.core.display.HTML object>"
      ]
     },
     "execution_count": 14,
     "metadata": {},
     "output_type": "execute_result"
    }
   ],
   "source": [
    "show(r'^[l-z][a-z]*', rhyme, flags=re.M | re.I)"
   ]
  },
  {
   "cell_type": "markdown",
   "metadata": {
    "slideshow": {
     "slide_type": "subslide"
    }
   },
   "source": [
    "An additional cryptic means of choosing flags is available.  They can be part of the pattern itself using a prefix to the whole pattern or a group.  The inline pattern codes are any of `aiLmsux`, with `aLu` permitted per individual group as well.  The `u` here means to use Unicode (in contrast to ASCII or LOCALE)."
   ]
  },
  {
   "cell_type": "code",
   "execution_count": 15,
   "metadata": {
    "slideshow": {
     "slide_type": "fragment"
    }
   },
   "outputs": [
    {
     "data": {
      "text/plain": [
       "['Mary', 'went', 'to']"
      ]
     },
     "execution_count": 15,
     "metadata": {},
     "output_type": "execute_result"
    }
   ],
   "source": [
    "# Entire pattern is case-insensitive and multiline\n",
    "# The first-letter group is interpreted as ASCII\n",
    "re.findall(r'(?im)(?a:^[l-z])[a-z]*', rhyme)"
   ]
  }
 ],
 "metadata": {
  "celltoolbar": "Slideshow",
  "kernelspec": {
   "display_name": "Python 3",
   "language": "python",
   "name": "python3"
  },
  "language_info": {
   "codemirror_mode": {
    "name": "ipython",
    "version": 3
   },
   "file_extension": ".py",
   "mimetype": "text/x-python",
   "name": "python",
   "nbconvert_exporter": "python",
   "pygments_lexer": "ipython3",
   "version": "3.8.2"
  }
 },
 "nbformat": 4,
 "nbformat_minor": 4
}
