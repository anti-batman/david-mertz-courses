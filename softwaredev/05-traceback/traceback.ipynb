{
 "cells": [
  {
   "cell_type": "markdown",
   "metadata": {},
   "source": [
    "<div style=\"position: relative;\">\n",
    "<img src=\"https://user-images.githubusercontent.com/7065401/98728503-5ab82f80-2378-11eb-9c79-adeb308fc647.png\"></img>\n",
    "\n",
    "<h1 style=\"color: white; position: absolute; top:27%; left:10%;\">\n",
    "     Software Development with Python\n",
    "</h1>\n",
    "\n",
    "<h3 style=\"color: #ef7d22; font-weight: normal; position: absolute; top:55%; left:10%;\">\n",
    "    David Mertz, Ph.D.\n",
    "</h3>\n",
    "\n",
    "<h3 style=\"color: #ef7d22; font-weight: normal; position: absolute; top:62%; left:10%;\">\n",
    "    Data Scientist\n",
    "</h3>\n",
    "</div>"
   ]
  },
  {
   "cell_type": "markdown",
   "metadata": {},
   "source": [
    "# Frames and traceback\n",
    "\n",
    "In Python, nearly everything is available for introspection.  One of the design concepts in Python that you should understand is that execution is arranged as a *stack* of nested *frames* (this design is shared by many other programming languages as well).  A particular function or method has its own local variables and its own execution steps.  These steps are expressed by programmers as lines of source code, but internally Python reduces these lines to *word-codes* (often called *byte-codes* for historical reasons, but not accurate since Python 3.6).\n",
    "\n",
    "When one function calls another function, that generates a new frame, and the flow of control passes to that child frame.  After a while (generally) that child frame terminates and returns some value.  Flow then continues within the parent frame.  The parent likely terminates and returns a value and flow control to the grandparent, and so on.  Eventually, the top level of the program overall ends, and the Python interpreters stops running.\n",
    "\n",
    "When exceptions occur, tracebacks, by default, are printed to standard error.  Tracebacks display a stack of frames, going from where the exception actually occurs up to some frame where the exception is caught.  If no frame catches the exception, the Python interpreter itself displays this traceback before terminating."
   ]
  },
  {
   "cell_type": "markdown",
   "metadata": {},
   "source": [
    "## Examining frames"
   ]
  },
  {
   "cell_type": "markdown",
   "metadata": {},
   "source": [
    "Let us illustrate this with a very simple program, first as a script in a file, then as a Jupyter notebook cell.  By the time a notebook cell runs, we are already rather deep into a call stack.  I use the function `sys._getframe()` here; this is technically an implementation detail of CPython, and may not exist in other implementations of Python."
   ]
  },
  {
   "cell_type": "code",
   "execution_count": 1,
   "metadata": {},
   "outputs": [
    {
     "name": "stdout",
     "output_type": "stream",
     "text": [
      "     1\timport sys\n",
      "     2\tfor i in range(sys.getrecursionlimit()):\n",
      "     3\t    try:\n",
      "     4\t        print(f\"{i+1}: {sys._getframe(i)}\")\n",
      "     5\t    except:\n",
      "     6\t        break\n",
      "-----\n",
      "1: <frame at 0x7f94d3fae440, file 'tb.py', line 4, code <module>>\n"
     ]
    }
   ],
   "source": [
    "!cat -n tb.py\n",
    "print('-----')\n",
    "!python tb.py"
   ]
  },
  {
   "cell_type": "markdown",
   "metadata": {},
   "source": [
    "Running identical code inside a notebook cell:"
   ]
  },
  {
   "cell_type": "code",
   "execution_count": 2,
   "metadata": {},
   "outputs": [
    {
     "name": "stdout",
     "output_type": "stream",
     "text": [
      "1: <frame at 0x7fb6705a7230, file '<ipython-input-2-10b239d7e237>', line 4, code <module>>\n",
      "2: <frame at 0x55774e187f60, file '/home/dmertz/miniconda3/envs/INE/lib/python3.8/site-packages/IPython/core/interactiveshell.py', line 3418, code run_code>\n",
      "3: <frame at 0x55774e16e870, file '/home/dmertz/miniconda3/envs/INE/lib/python3.8/site-packages/IPython/core/interactiveshell.py', line 3338, code run_ast_nodes>\n",
      "4: <frame at 0x55774e1707f0, file '/home/dmertz/miniconda3/envs/INE/lib/python3.8/site-packages/IPython/core/interactiveshell.py', line 3146, code run_cell_async>\n",
      "5: <frame at 0x7fb670545220, file '/home/dmertz/miniconda3/envs/INE/lib/python3.8/site-packages/IPython/core/async_helpers.py', line 68, code _pseudo_sync_runner>\n",
      "6: <frame at 0x55774e1878c0, file '/home/dmertz/miniconda3/envs/INE/lib/python3.8/site-packages/IPython/core/interactiveshell.py', line 2923, code _run_cell>\n",
      "7: <frame at 0x7fb67054d040, file '/home/dmertz/miniconda3/envs/INE/lib/python3.8/site-packages/IPython/core/interactiveshell.py', line 2877, code run_cell>\n",
      "8: <frame at 0x7fb6705b8900, file '/home/dmertz/miniconda3/envs/INE/lib/python3.8/site-packages/ipykernel/zmqshell.py', line 536, code run_cell>\n",
      "9: <frame at 0x55774e166ce0, file '/home/dmertz/miniconda3/envs/INE/lib/python3.8/site-packages/ipykernel/ipkernel.py', line 306, code do_execute>\n",
      "10: <frame at 0x55774e18a6f0, file '/home/dmertz/miniconda3/envs/INE/lib/python3.8/site-packages/tornado/gen.py', line 234, code wrapper>\n",
      "11: <frame at 0x55774e187250, file '/home/dmertz/miniconda3/envs/INE/lib/python3.8/site-packages/ipykernel/kernelbase.py', line 543, code execute_request>\n",
      "12: <frame at 0x55774e1869e0, file '/home/dmertz/miniconda3/envs/INE/lib/python3.8/site-packages/tornado/gen.py', line 234, code wrapper>\n",
      "13: <frame at 0x55774e18a2b0, file '/home/dmertz/miniconda3/envs/INE/lib/python3.8/site-packages/ipykernel/kernelbase.py', line 268, code dispatch_shell>\n",
      "14: <frame at 0x55774e187490, file '/home/dmertz/miniconda3/envs/INE/lib/python3.8/site-packages/tornado/gen.py', line 234, code wrapper>\n",
      "15: <frame at 0x7fb6705ae040, file '/home/dmertz/miniconda3/envs/INE/lib/python3.8/site-packages/ipykernel/kernelbase.py', line 365, code process_one>\n",
      "16: <frame at 0x7fb670554440, file '/home/dmertz/miniconda3/envs/INE/lib/python3.8/site-packages/tornado/gen.py', line 775, code run>\n",
      "17: <frame at 0x7fb6705b2550, file '/home/dmertz/miniconda3/envs/INE/lib/python3.8/site-packages/tornado/gen.py', line 814, code inner>\n",
      "18: <frame at 0x7fb670550040, file '/home/dmertz/miniconda3/envs/INE/lib/python3.8/site-packages/tornado/ioloop.py', line 741, code _run_callback>\n",
      "19: <frame at 0x7fb6705b0780, file '/home/dmertz/miniconda3/envs/INE/lib/python3.8/site-packages/tornado/ioloop.py', line 688, code <lambda>>\n",
      "20: <frame at 0x55774e1831c0, file '/home/dmertz/miniconda3/envs/INE/lib/python3.8/asyncio/events.py', line 81, code _run>\n",
      "21: <frame at 0x55774e137940, file '/home/dmertz/miniconda3/envs/INE/lib/python3.8/asyncio/base_events.py', line 1859, code _run_once>\n",
      "22: <frame at 0x7fb6705ac400, file '/home/dmertz/miniconda3/envs/INE/lib/python3.8/asyncio/base_events.py', line 570, code run_forever>\n",
      "23: <frame at 0x7fb6705ac220, file '/home/dmertz/miniconda3/envs/INE/lib/python3.8/site-packages/tornado/platform/asyncio.py', line 199, code start>\n",
      "24: <frame at 0x7fb6760c5840, file '/home/dmertz/miniconda3/envs/INE/lib/python3.8/site-packages/ipykernel/kernelapp.py', line 612, code start>\n",
      "25: <frame at 0x55774e053d40, file '/home/dmertz/miniconda3/envs/INE/lib/python3.8/site-packages/traitlets/config/application.py', line 845, code launch_instance>\n",
      "26: <frame at 0x7fb676226610, file '/home/dmertz/miniconda3/envs/INE/lib/python3.8/site-packages/ipykernel_launcher.py', line 16, code <module>>\n",
      "27: <frame at 0x55774da60300, file '/home/dmertz/miniconda3/envs/INE/lib/python3.8/runpy.py', line 86, code _run_code>\n",
      "28: <frame at 0x55774da5fed0, file '/home/dmertz/miniconda3/envs/INE/lib/python3.8/runpy.py', line 193, code _run_module_as_main>\n"
     ]
    }
   ],
   "source": [
    "import sys\n",
    "for i in range(sys.getrecursionlimit()):\n",
    "    try:\n",
    "        print(f\"{i+1}: {sys._getframe(i)}\")\n",
    "    except:\n",
    "        break"
   ]
  },
  {
   "cell_type": "markdown",
   "metadata": {},
   "source": [
    "## Introspecting frames and stacks\n",
    "\n",
    "We can look at the Python stack within a Python program itself.  This is part of what debuggers do, for example.  We are able to code our own logic to examine them though.  Often logging this kind of information can be useful.  In this lesson, I merely print it off.  At times, you may want your functions to make actual decisions based on the the stack of frames leading down to them.  However, so-called \"frame hacking\" should be used with caution, and is frowned upon when more explicit data passing is available."
   ]
  },
  {
   "cell_type": "code",
   "execution_count": 3,
   "metadata": {},
   "outputs": [],
   "source": [
    "import traceback\n",
    "from collections import namedtuple\n",
    "fn = namedtuple('FUN', ['name', 'spam'])"
   ]
  },
  {
   "cell_type": "markdown",
   "metadata": {},
   "source": [
    "Here is a general purpose function that, when reached, will print off information about its ancestor frames.  Just for illustration, we look at how such an ancestor frame has defined its own `spam` variable.  This example is trivial, but having some complex data object with the same name, contain something different at different levels is a common source of bugs and confusion."
   ]
  },
  {
   "cell_type": "code",
   "execution_count": 4,
   "metadata": {},
   "outputs": [],
   "source": [
    "def how_did_I_get_here():\n",
    "    \"Function that reports on that call stack leading to it\"\n",
    "    spam = \"now\"\n",
    "    \n",
    "    # Hack to make this function sometimes raise an exception\n",
    "    if globals().get('RAISE'):\n",
    "        raise NotImplementedError(\"How did I get here?\")\n",
    "        \n",
    "    # Self report on frame stack\n",
    "    f = sys._getframe()\n",
    "    path = [fn(f.f_code.co_name, f.f_locals.get('spam'))]\n",
    "    # Minor hack because notebook cells are many levels into stack already\n",
    "    while not f.f_code.co_name.startswith(\"start\"):\n",
    "        f = f.f_back\n",
    "        path.append(fn(f.f_code.co_name, f.f_locals.get('spam')))\n",
    "    for n, frame in enumerate(reversed(path)):\n",
    "        print(\"  \"*n, \"⤷\", frame, sep='')"
   ]
  },
  {
   "cell_type": "markdown",
   "metadata": {},
   "source": [
    "Let's define a function that will launch a stack of nested calls, but in varying ways."
   ]
  },
  {
   "cell_type": "code",
   "execution_count": 5,
   "metadata": {},
   "outputs": [],
   "source": [
    "def start(lang='EN'):\n",
    "    if lang == 'EN':\n",
    "        one()\n",
    "    elif lang == 'ES':\n",
    "        uno()\n",
    "    else:\n",
    "        pass"
   ]
  },
  {
   "cell_type": "markdown",
   "metadata": {},
   "source": [
    "Define a path of nested calls."
   ]
  },
  {
   "cell_type": "code",
   "execution_count": 6,
   "metadata": {},
   "outputs": [],
   "source": [
    "def one(spam=1): \n",
    "    two()\n",
    "    \n",
    "def two(spam=2): \n",
    "    three()\n",
    "    \n",
    "def three(spam=3): \n",
    "    how_did_I_get_here()"
   ]
  },
  {
   "cell_type": "markdown",
   "metadata": {},
   "source": [
    "Definir una ruta de funciones anidadas"
   ]
  },
  {
   "cell_type": "code",
   "execution_count": 7,
   "metadata": {},
   "outputs": [],
   "source": [
    "def uno(spam=1):\n",
    "    dos()\n",
    "    \n",
    "def dos(spam=2):\n",
    "    tres()\n",
    "    \n",
    "def tres(spam=3):\n",
    "    cuatro()\n",
    "    \n",
    "def cuatro(spam=4):\n",
    "    how_did_I_get_here()"
   ]
  },
  {
   "cell_type": "code",
   "execution_count": 8,
   "metadata": {},
   "outputs": [
    {
     "name": "stdout",
     "output_type": "stream",
     "text": [
      "⤷FUN(name='start', spam=None)\n",
      "  ⤷FUN(name='one', spam=1)\n",
      "    ⤷FUN(name='two', spam=2)\n",
      "      ⤷FUN(name='three', spam=3)\n",
      "        ⤷FUN(name='how_did_I_get_here', spam='now')\n"
     ]
    }
   ],
   "source": [
    "start('EN')"
   ]
  },
  {
   "cell_type": "code",
   "execution_count": 9,
   "metadata": {},
   "outputs": [
    {
     "name": "stdout",
     "output_type": "stream",
     "text": [
      "⤷FUN(name='start', spam=None)\n",
      "  ⤷FUN(name='uno', spam=1)\n",
      "    ⤷FUN(name='dos', spam=2)\n",
      "      ⤷FUN(name='tres', spam=3)\n",
      "        ⤷FUN(name='cuatro', spam=4)\n",
      "          ⤷FUN(name='how_did_I_get_here', spam='now')\n"
     ]
    }
   ],
   "source": [
    "start('ES')"
   ]
  },
  {
   "cell_type": "code",
   "execution_count": 10,
   "metadata": {},
   "outputs": [
    {
     "data": {
      "text/plain": [
       "['f_back',\n",
       " 'f_builtins',\n",
       " 'f_code',\n",
       " 'f_globals',\n",
       " 'f_lasti',\n",
       " 'f_lineno',\n",
       " 'f_locals',\n",
       " 'f_trace',\n",
       " 'f_trace_lines',\n",
       " 'f_trace_opcodes']"
      ]
     },
     "execution_count": 10,
     "metadata": {},
     "output_type": "execute_result"
    }
   ],
   "source": [
    "[attr for attr in dir(sys._getframe()) if attr.startswith('f_')]"
   ]
  },
  {
   "cell_type": "markdown",
   "metadata": {},
   "source": [
    "## Working with tracebacks\n",
    "\n",
    "Just as we may want to look \"up\" the stack within a nested call, we might want to look \"down\" the stack when an exception occurs in such a nested call.  The `traceback` module allows us to do that.\n",
    "\n",
    "Let's first look at a standard traceback to remind ourselves."
   ]
  },
  {
   "cell_type": "code",
   "execution_count": 11,
   "metadata": {},
   "outputs": [
    {
     "ename": "NotImplementedError",
     "evalue": "How did I get here?",
     "output_type": "error",
     "traceback": [
      "\u001b[0;31m---------------------------------------------------------------------------\u001b[0m",
      "\u001b[0;31mNotImplementedError\u001b[0m                       Traceback (most recent call last)",
      "\u001b[0;32m<ipython-input-11-54ab695cf555>\u001b[0m in \u001b[0;36m<module>\u001b[0;34m\u001b[0m\n\u001b[1;32m      1\u001b[0m \u001b[0mRAISE\u001b[0m \u001b[0;34m=\u001b[0m \u001b[0;32mTrue\u001b[0m\u001b[0;34m\u001b[0m\u001b[0;34m\u001b[0m\u001b[0m\n\u001b[0;32m----> 2\u001b[0;31m \u001b[0mstart\u001b[0m\u001b[0;34m(\u001b[0m\u001b[0;34m)\u001b[0m\u001b[0;34m\u001b[0m\u001b[0;34m\u001b[0m\u001b[0m\n\u001b[0m",
      "\u001b[0;32m<ipython-input-5-e55aaddc7c3c>\u001b[0m in \u001b[0;36mstart\u001b[0;34m(lang)\u001b[0m\n\u001b[1;32m      1\u001b[0m \u001b[0;32mdef\u001b[0m \u001b[0mstart\u001b[0m\u001b[0;34m(\u001b[0m\u001b[0mlang\u001b[0m\u001b[0;34m=\u001b[0m\u001b[0;34m'EN'\u001b[0m\u001b[0;34m)\u001b[0m\u001b[0;34m:\u001b[0m\u001b[0;34m\u001b[0m\u001b[0;34m\u001b[0m\u001b[0m\n\u001b[1;32m      2\u001b[0m     \u001b[0;32mif\u001b[0m \u001b[0mlang\u001b[0m \u001b[0;34m==\u001b[0m \u001b[0;34m'EN'\u001b[0m\u001b[0;34m:\u001b[0m\u001b[0;34m\u001b[0m\u001b[0;34m\u001b[0m\u001b[0m\n\u001b[0;32m----> 3\u001b[0;31m         \u001b[0mone\u001b[0m\u001b[0;34m(\u001b[0m\u001b[0;34m)\u001b[0m\u001b[0;34m\u001b[0m\u001b[0;34m\u001b[0m\u001b[0m\n\u001b[0m\u001b[1;32m      4\u001b[0m     \u001b[0;32melif\u001b[0m \u001b[0mlang\u001b[0m \u001b[0;34m==\u001b[0m \u001b[0;34m'ES'\u001b[0m\u001b[0;34m:\u001b[0m\u001b[0;34m\u001b[0m\u001b[0;34m\u001b[0m\u001b[0m\n\u001b[1;32m      5\u001b[0m         \u001b[0muno\u001b[0m\u001b[0;34m(\u001b[0m\u001b[0;34m)\u001b[0m\u001b[0;34m\u001b[0m\u001b[0;34m\u001b[0m\u001b[0m\n",
      "\u001b[0;32m<ipython-input-6-34b62cebd10f>\u001b[0m in \u001b[0;36mone\u001b[0;34m(spam)\u001b[0m\n\u001b[1;32m      1\u001b[0m \u001b[0;32mdef\u001b[0m \u001b[0mone\u001b[0m\u001b[0;34m(\u001b[0m\u001b[0mspam\u001b[0m\u001b[0;34m=\u001b[0m\u001b[0;36m1\u001b[0m\u001b[0;34m)\u001b[0m\u001b[0;34m:\u001b[0m\u001b[0;34m\u001b[0m\u001b[0;34m\u001b[0m\u001b[0m\n\u001b[0;32m----> 2\u001b[0;31m     \u001b[0mtwo\u001b[0m\u001b[0;34m(\u001b[0m\u001b[0;34m)\u001b[0m\u001b[0;34m\u001b[0m\u001b[0;34m\u001b[0m\u001b[0m\n\u001b[0m\u001b[1;32m      3\u001b[0m \u001b[0;34m\u001b[0m\u001b[0m\n\u001b[1;32m      4\u001b[0m \u001b[0;32mdef\u001b[0m \u001b[0mtwo\u001b[0m\u001b[0;34m(\u001b[0m\u001b[0mspam\u001b[0m\u001b[0;34m=\u001b[0m\u001b[0;36m2\u001b[0m\u001b[0;34m)\u001b[0m\u001b[0;34m:\u001b[0m\u001b[0;34m\u001b[0m\u001b[0;34m\u001b[0m\u001b[0m\n\u001b[1;32m      5\u001b[0m     \u001b[0mthree\u001b[0m\u001b[0;34m(\u001b[0m\u001b[0;34m)\u001b[0m\u001b[0;34m\u001b[0m\u001b[0;34m\u001b[0m\u001b[0m\n",
      "\u001b[0;32m<ipython-input-6-34b62cebd10f>\u001b[0m in \u001b[0;36mtwo\u001b[0;34m(spam)\u001b[0m\n\u001b[1;32m      3\u001b[0m \u001b[0;34m\u001b[0m\u001b[0m\n\u001b[1;32m      4\u001b[0m \u001b[0;32mdef\u001b[0m \u001b[0mtwo\u001b[0m\u001b[0;34m(\u001b[0m\u001b[0mspam\u001b[0m\u001b[0;34m=\u001b[0m\u001b[0;36m2\u001b[0m\u001b[0;34m)\u001b[0m\u001b[0;34m:\u001b[0m\u001b[0;34m\u001b[0m\u001b[0;34m\u001b[0m\u001b[0m\n\u001b[0;32m----> 5\u001b[0;31m     \u001b[0mthree\u001b[0m\u001b[0;34m(\u001b[0m\u001b[0;34m)\u001b[0m\u001b[0;34m\u001b[0m\u001b[0;34m\u001b[0m\u001b[0m\n\u001b[0m\u001b[1;32m      6\u001b[0m \u001b[0;34m\u001b[0m\u001b[0m\n\u001b[1;32m      7\u001b[0m \u001b[0;32mdef\u001b[0m \u001b[0mthree\u001b[0m\u001b[0;34m(\u001b[0m\u001b[0mspam\u001b[0m\u001b[0;34m=\u001b[0m\u001b[0;36m3\u001b[0m\u001b[0;34m)\u001b[0m\u001b[0;34m:\u001b[0m\u001b[0;34m\u001b[0m\u001b[0;34m\u001b[0m\u001b[0m\n",
      "\u001b[0;32m<ipython-input-6-34b62cebd10f>\u001b[0m in \u001b[0;36mthree\u001b[0;34m(spam)\u001b[0m\n\u001b[1;32m      6\u001b[0m \u001b[0;34m\u001b[0m\u001b[0m\n\u001b[1;32m      7\u001b[0m \u001b[0;32mdef\u001b[0m \u001b[0mthree\u001b[0m\u001b[0;34m(\u001b[0m\u001b[0mspam\u001b[0m\u001b[0;34m=\u001b[0m\u001b[0;36m3\u001b[0m\u001b[0;34m)\u001b[0m\u001b[0;34m:\u001b[0m\u001b[0;34m\u001b[0m\u001b[0;34m\u001b[0m\u001b[0m\n\u001b[0;32m----> 8\u001b[0;31m     \u001b[0mhow_did_I_get_here\u001b[0m\u001b[0;34m(\u001b[0m\u001b[0;34m)\u001b[0m\u001b[0;34m\u001b[0m\u001b[0;34m\u001b[0m\u001b[0m\n\u001b[0m",
      "\u001b[0;32m<ipython-input-4-becdce95cbde>\u001b[0m in \u001b[0;36mhow_did_I_get_here\u001b[0;34m()\u001b[0m\n\u001b[1;32m      5\u001b[0m     \u001b[0;31m# Hack to make this function sometimes raise an exception\u001b[0m\u001b[0;34m\u001b[0m\u001b[0;34m\u001b[0m\u001b[0;34m\u001b[0m\u001b[0m\n\u001b[1;32m      6\u001b[0m     \u001b[0;32mif\u001b[0m \u001b[0mglobals\u001b[0m\u001b[0;34m(\u001b[0m\u001b[0;34m)\u001b[0m\u001b[0;34m.\u001b[0m\u001b[0mget\u001b[0m\u001b[0;34m(\u001b[0m\u001b[0;34m'RAISE'\u001b[0m\u001b[0;34m)\u001b[0m\u001b[0;34m:\u001b[0m\u001b[0;34m\u001b[0m\u001b[0;34m\u001b[0m\u001b[0m\n\u001b[0;32m----> 7\u001b[0;31m         \u001b[0;32mraise\u001b[0m \u001b[0mNotImplementedError\u001b[0m\u001b[0;34m(\u001b[0m\u001b[0;34m\"How did I get here?\"\u001b[0m\u001b[0;34m)\u001b[0m\u001b[0;34m\u001b[0m\u001b[0;34m\u001b[0m\u001b[0m\n\u001b[0m\u001b[1;32m      8\u001b[0m \u001b[0;34m\u001b[0m\u001b[0m\n\u001b[1;32m      9\u001b[0m     \u001b[0;31m# Self report on frame stack\u001b[0m\u001b[0;34m\u001b[0m\u001b[0;34m\u001b[0m\u001b[0;34m\u001b[0m\u001b[0m\n",
      "\u001b[0;31mNotImplementedError\u001b[0m: How did I get here?"
     ]
    }
   ],
   "source": [
    "RAISE = True\n",
    "start()"
   ]
  },
  {
   "cell_type": "markdown",
   "metadata": {},
   "source": [
    "There are a few different ways to interrogate the traceback.  One is using the error object itself, once we catch it."
   ]
  },
  {
   "cell_type": "code",
   "execution_count": 12,
   "metadata": {},
   "outputs": [
    {
     "name": "stderr",
     "output_type": "stream",
     "text": [
      "  File \"<ipython-input-12-f3221e149481>\", line 3, in start2\n",
      "    one()\n",
      "  File \"<ipython-input-6-34b62cebd10f>\", line 2, in one\n",
      "    two()\n",
      "  File \"<ipython-input-6-34b62cebd10f>\", line 5, in two\n",
      "    three()\n",
      "  File \"<ipython-input-6-34b62cebd10f>\", line 8, in three\n",
      "    how_did_I_get_here()\n",
      "  File \"<ipython-input-4-becdce95cbde>\", line 7, in how_did_I_get_here\n",
      "    raise NotImplementedError(\"How did I get here?\")\n"
     ]
    }
   ],
   "source": [
    "def start2():\n",
    "    try:\n",
    "        one()\n",
    "    except Exception as err:\n",
    "        # Can pull the traceback out of the exception object\n",
    "        traceback.print_tb(err.__traceback__)\n",
    "        \n",
    "start2()"
   ]
  },
  {
   "cell_type": "markdown",
   "metadata": {},
   "source": [
    "The same information is available inherently for `sys.exc_info()` even if we do not capture the error object."
   ]
  },
  {
   "cell_type": "code",
   "execution_count": 13,
   "metadata": {},
   "outputs": [
    {
     "name": "stdout",
     "output_type": "stream",
     "text": [
      "Exception class: NotImplementedError\n",
      "Exception message: How did I get here?\n",
      "Line: 3 | Function: start3\n",
      "Line: 2 | Function: one\n",
      "Line: 5 | Function: two\n",
      "Line: 8 | Function: three\n",
      "Line: 7 | Function: how_did_I_get_here\n"
     ]
    }
   ],
   "source": [
    "def start3():\n",
    "    try:\n",
    "        one()\n",
    "    except:\n",
    "        # Can query sys.exc_info()\n",
    "        exc_type, exc_value, exc_traceback = sys.exc_info()\n",
    "        print(f\"Exception class: {exc_type.__name__}\")\n",
    "        print(f\"Exception message: {exc_value}\")\n",
    "        for frame, lineno in traceback.walk_tb(exc_traceback):\n",
    "            print(f\"Line: {lineno} | Function: {frame.f_code.co_name}\")\n",
    "\n",
    "start3()"
   ]
  },
  {
   "cell_type": "markdown",
   "metadata": {},
   "source": [
    "With very little extra work, we can replicate the call graph display we had above, but as a caught exception rather than a nested stack examination.  That is, earlier we looked **up** the call stack.  Here we look **down** the traceback."
   ]
  },
  {
   "cell_type": "code",
   "execution_count": 14,
   "metadata": {},
   "outputs": [
    {
     "name": "stdout",
     "output_type": "stream",
     "text": [
      "⤷FUN(name='start4', spam=None)\n",
      "  ⤷FUN(name='one', spam=1)\n",
      "    ⤷FUN(name='two', spam=2)\n",
      "      ⤷FUN(name='three', spam=3)\n",
      "        ⤷FUN(name='how_did_I_get_here', spam='now')\n"
     ]
    }
   ],
   "source": [
    "def start4():\n",
    "    try:\n",
    "        one()\n",
    "    except Exception as err:\n",
    "        for n, (f, _) in enumerate(traceback.walk_tb(err.__traceback__)):\n",
    "            frame = fn(f.f_code.co_name, f.f_locals.get('spam'))\n",
    "            print(\"  \"*n, \"⤷\", frame, sep='')\n",
    "            \n",
    "start4()"
   ]
  },
  {
   "cell_type": "markdown",
   "metadata": {},
   "source": [
    "We have managed to perform custom inspection of local data within each descendant frame that eventually led to an exception.  Looking at this changing data (here, the simplified `spam` variable) may help us better diagnose program state when we encountered a problem."
   ]
  }
 ],
 "metadata": {
  "kernelspec": {
   "display_name": "Python 3",
   "language": "python",
   "name": "python3"
  },
  "language_info": {
   "codemirror_mode": {
    "name": "ipython",
    "version": 3
   },
   "file_extension": ".py",
   "mimetype": "text/x-python",
   "name": "python",
   "nbconvert_exporter": "python",
   "pygments_lexer": "ipython3",
   "version": "3.8.2"
  }
 },
 "nbformat": 4,
 "nbformat_minor": 4
}
