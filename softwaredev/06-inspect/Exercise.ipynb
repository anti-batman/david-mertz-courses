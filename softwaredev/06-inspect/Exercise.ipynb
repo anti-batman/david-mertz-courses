{
 "cells": [
  {
   "cell_type": "markdown",
   "metadata": {},
   "source": [
    "# Description"
   ]
  },
  {
   "cell_type": "markdown",
   "metadata": {},
   "source": [
    "Many Python packages contain numerous submodules, or even deeper nesting.  Within those various levels of nesting, various kinds of objects occur.  Of particular interest to us are functions, class, and scalars.\n",
    "\n",
    "You job is to write a function call `describe()` that will produce a hierarchical report of an overall package.  For example:\n",
    "\n",
    "```python\n",
    ">>> import textwrap\n",
    ">>> describe(textwrap, module_names_only=True)\n",
    "{'modules': {'re': '...'},\n",
    " 'functions': {'dedent': '<Signature (text)>',\n",
    "  'fill': '<Signature (text, width=70, **kwargs)>',\n",
    "  'indent': '<Signature (text, prefix, predicate=None)>',\n",
    "  'shorten': '<Signature (text, width, **kwargs)>',\n",
    "  'wrap': '<Signature (text, width=70, **kwargs)>'},\n",
    " 'classes': {'TextWrapper': ['TextWrapper', 'object']},\n",
    " 'scalars': {'__cached__': '/home/dmertz/minicon...',\n",
    "  '__doc__': 'Text wrapping and fi...',\n",
    "  '__file__': '/home/dmertz/minicon...',\n",
    "  '__name__': 'textwrap',\n",
    "  '__package__': '',\n",
    "  '_whitespace': '\\t\\n\\x0b\\x0c\\r '}}\n",
    "```"
   ]
  },
  {
   "cell_type": "markdown",
   "metadata": {},
   "source": [
    "# Setup"
   ]
  },
  {
   "cell_type": "code",
   "execution_count": 1,
   "metadata": {},
   "outputs": [],
   "source": [
    "import inspect\n",
    "\n",
    "def describe(mod):\n",
    "    return dict()"
   ]
  },
  {
   "cell_type": "markdown",
   "metadata": {},
   "source": [
    "# Solution"
   ]
  },
  {
   "cell_type": "code",
   "execution_count": 5,
   "metadata": {},
   "outputs": [],
   "source": [
    "def isscalar(obj):\n",
    "    return isinstance(obj, (int, complex, float, str, bytes))\n",
    "\n",
    "    \n",
    "def describe(obj, module_names_only=False, seen=None):\n",
    "    seen = set() if seen is None else seen\n",
    "    summary = dict(modules=dict(), \n",
    "                   functions=dict(), \n",
    "                   classes=dict(), \n",
    "                   scalars=dict())\n",
    "    \n",
    "    # Circular import graphs are a problem\n",
    "    for submod in inspect.getmembers(obj, inspect.ismodule):\n",
    "        if module_names_only:\n",
    "            summary['modules'][submod[0]] = \"...\"\n",
    "        elif not repr(submod) in seen:\n",
    "            summary['modules'][submod[0]] = describe(submod[1], seen)\n",
    "            seen.add(repr(submod))\n",
    "            \n",
    "    for func in inspect.getmembers(obj, inspect.isfunction):\n",
    "        try:\n",
    "            summary['functions'][func[0]] = repr(inspect.signature(func[1]))\n",
    "        except:\n",
    "            summary['functions'][func[0]] = None\n",
    "            \n",
    "    for klass in inspect.getmembers(obj, inspect.isclass):\n",
    "        summary['classes'][klass[0]] = [k.__name__ for k in inspect.getmro(klass[1])]\n",
    "        \n",
    "    for scalar in inspect.getmembers(obj, isscalar):\n",
    "        val = scalar[1]\n",
    "        if isinstance(val, str):\n",
    "            if len(val) > 20:\n",
    "                val = val[:20] + \"...\"\n",
    "        summary['scalars'][scalar[0]] = val\n",
    "        \n",
    "    return summary"
   ]
  },
  {
   "cell_type": "markdown",
   "metadata": {},
   "source": [
    "# Test Cases"
   ]
  },
  {
   "cell_type": "code",
   "execution_count": 4,
   "metadata": {},
   "outputs": [],
   "source": [
    "def test_textwrap():\n",
    "    import textwrap\n",
    "    desc = describe(textwrap, module_names_only=True)\n",
    "    del desc['scalars']['__cached__']\n",
    "    del desc['scalars']['__file__']\n",
    "    correct = {\n",
    "        'modules': {'re': '...'},\n",
    "        'functions': {'dedent': '<Signature (text)>',\n",
    "        'fill': '<Signature (text, width=70, **kwargs)>',\n",
    "        'indent': '<Signature (text, prefix, predicate=None)>',\n",
    "        'shorten': '<Signature (text, width, **kwargs)>',\n",
    "        'wrap': '<Signature (text, width=70, **kwargs)>'},\n",
    "        'classes': {'TextWrapper': ['TextWrapper', 'object']},\n",
    "        'scalars': {'__doc__': 'Text wrapping and fi...',\n",
    "        '__name__': 'textwrap',\n",
    "        '__package__': '',\n",
    "        '_whitespace': '\\t\\n\\x0b\\x0c\\r '}}\n",
    "    assert desc == correct\n",
    "    \n",
    "test_textwrap()"
   ]
  },
  {
   "cell_type": "code",
   "execution_count": 10,
   "metadata": {},
   "outputs": [],
   "source": [
    "def test_asyncio():\n",
    "    import asyncio\n",
    "    submods = set(describe(asyncio)['modules'])\n",
    "    correct = {'base_events', 'base_futures', 'base_subprocess', 'base_tasks',\n",
    "               'constants', 'coroutines', 'events', 'exceptions', \n",
    "               'format_helpers', 'futures', 'locks', 'log', 'protocols',\n",
    "               'queues', 'runners', 'selector_events', 'sslproto', 'staggered',\n",
    "               'streams', 'subprocess', 'sys', 'tasks', 'transports', 'trsock',\n",
    "               'unix_events'} \n",
    "    assert submods == correct\n",
    "    \n",
    "test_asyncio()"
   ]
  },
  {
   "cell_type": "code",
   "execution_count": 17,
   "metadata": {},
   "outputs": [],
   "source": [
    "def test_re():\n",
    "    import re\n",
    "    names = set(describe(re)['scalars'])\n",
    "    correct = {'A', 'ASCII', 'DEBUG', 'DOTALL', 'I', 'IGNORECASE', 'L',\n",
    "               'LOCALE', 'M', 'MULTILINE', 'S', 'T', 'TEMPLATE', 'U',\n",
    "               'UNICODE', 'VERBOSE', 'X'}\n",
    "    assert correct <= names\n",
    "\n",
    "test_re()"
   ]
  }
 ],
 "metadata": {
  "kernelspec": {
   "display_name": "Python 3",
   "language": "python",
   "name": "python3"
  },
  "language_info": {
   "codemirror_mode": {
    "name": "ipython",
    "version": 3
   },
   "file_extension": ".py",
   "mimetype": "text/x-python",
   "name": "python",
   "nbconvert_exporter": "python",
   "pygments_lexer": "ipython3",
   "version": "3.8.2"
  }
 },
 "nbformat": 4,
 "nbformat_minor": 4
}
