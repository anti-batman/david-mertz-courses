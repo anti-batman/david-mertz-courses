{
 "cells": [
  {
   "cell_type": "markdown",
   "metadata": {},
   "source": [
    "<div style=\"position: relative;\">\n",
    "<img src=\"https://user-images.githubusercontent.com/7065401/98728503-5ab82f80-2378-11eb-9c79-adeb308fc647.png\"></img>\n",
    "\n",
    "<h1 style=\"color: white; position: absolute; top:27%; left:10%;\">\n",
    "     Software Development with Python\n",
    "</h1>\n",
    "\n",
    "<h3 style=\"color: #ef7d22; font-weight: normal; position: absolute; top:55%; left:10%;\">\n",
    "    David Mertz, Ph.D.\n",
    "</h3>\n",
    "\n",
    "<h3 style=\"color: #ef7d22; font-weight: normal; position: absolute; top:62%; left:10%;\">\n",
    "    Data Scientist\n",
    "</h3>\n",
    "</div>"
   ]
  },
  {
   "cell_type": "markdown",
   "metadata": {},
   "source": [
    "# Embedding Python Interpreters\n",
    "\n",
    "The Python standard library module `code` allows you to embed a Python interpreter inside of your Python application.  Obviously, this capability is useful for developers, not for pure end users.  But for developers, providing an \"escape hatch\" into the current state of a program.\n",
    "\n",
    "This is probably most useful in long-running and interactive programs where some particular command or hotkey would activate the interpreter.  In some ways this is similar to running under a debugger; however, in this use, generally the availability of an Python interactive shell would remain a permanent features."
   ]
  },
  {
   "cell_type": "markdown",
   "metadata": {},
   "source": [
    "For a simple example, I have embedded this capability within the `/create-fractal.py` script that we have been working with in other lessons.\n",
    "\n",
    "```python\n",
    "import code\n",
    "\n",
    "if args.custom:\n",
    "    sys.ps1 = \"fractal> \"\n",
    "    sys.ps2 = \"     ... \"\n",
    "    banner = dedent(\"\"\"\n",
    "    ┌────────────────────────────────────────────────────────────────────┐\n",
    "    │ *** Define a custom complex to int function named 'fractal()' ***  │\n",
    "    │ You may inspect or modify the command-line parameters 'args'       │\n",
    "    │ ... when complete, press Ctrl-D to save function and exit          │\n",
    "    └────────────────────────────────────────────────────────────────────┘\n",
    "    \"\"\")\n",
    "    exitmsg = \"--- Using function 'fractal()' to generate image ---\"\n",
    "    args.kind = \"fractal\"\n",
    "    code.interact(banner=banner, local=globals(), exitmsg=exitmsg)\n",
    "    \n",
    "args.fn = eval(args.kind)\n",
    "main(args)\n",
    "```"
   ]
  },
  {
   "cell_type": "markdown",
   "metadata": {},
   "source": [
    "Let us interact with the new version in a terminal."
   ]
  }
 ],
 "metadata": {
  "kernelspec": {
   "display_name": "Python 3",
   "language": "python",
   "name": "python3"
  },
  "language_info": {
   "codemirror_mode": {
    "name": "ipython",
    "version": 3
   },
   "file_extension": ".py",
   "mimetype": "text/x-python",
   "name": "python",
   "nbconvert_exporter": "python",
   "pygments_lexer": "ipython3",
   "version": "3.8.2"
  }
 },
 "nbformat": 4,
 "nbformat_minor": 4
}
