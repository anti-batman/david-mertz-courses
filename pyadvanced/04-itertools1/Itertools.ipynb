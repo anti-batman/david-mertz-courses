{
 "cells": [
  {
   "cell_type": "markdown",
   "metadata": {},
   "source": [
    "<div style=\"position: relative;\">\n",
    "<img src=\"https://user-images.githubusercontent.com/7065401/98728503-5ab82f80-2378-11eb-9c79-adeb308fc647.png\"></img>\n",
    "\n",
    "<h1 style=\"color: white; position: absolute; top:27%; left:10%;\">\n",
    "     Advanced Python\n",
    "</h1>\n",
    "<h2 style=\"color: white; position: absolute; top:36%; left:10%;\">\n",
    "    Iterators, Generators, Context Managers, and Decorators\n",
    "</h2>\n",
    "\n",
    "\n",
    "<h3 style=\"color: #ef7d22; font-weight: normal; position: absolute; top:58%; left:10%;\">\n",
    "    David Mertz, Ph.D.\n",
    "</h3>\n",
    "\n",
    "<h3 style=\"color: #ef7d22; font-weight: normal; position: absolute; top:63%; left:10%;\">\n",
    "    Data Scientist\n",
    "</h3>\n",
    "</div>"
   ]
  },
  {
   "cell_type": "markdown",
   "metadata": {},
   "source": [
    "# Itertools\n",
    "\n",
    "The module `itertools` is a collection of powerful—and carefully designed—functions for performing *iterator algebra*.  That is, these permit *composition* of iterators in sophisticated ways while minimizing concrete instantiation of terms of iterable sequences. In addition to the basic functions in the module itself, the [module documentation](https://docs.python.org/3/library/itertools.html) provides a number of short recipes for additional functions using two or three of the basic module functions in combination. *Be aware that it is easy to get these recipes subtly wrong*. The third-party module `more_itertools` provides additional functions that are likewise designed to avoid common pitfalls and edge cases.\n",
    "\n",
    "The basic goal of using the building blocks inside `itertools` is to avoid performing computations before they are required, to avoid the memory requirements of large collections, to avoid potentially slow I/O until strictly necessary, and so on. Iterators are lazy sequences rather than realized collections; when combined with functions or recipes in `itertools`, they retain this property."
   ]
  },
  {
   "cell_type": "code",
   "execution_count": null,
   "metadata": {},
   "outputs": [],
   "source": [
    "from itertools import (\n",
    "    accumulate, \n",
    "    count,\n",
    "    tee,\n",
    "    takewhile, \n",
    "    dropwhile, \n",
    "    islice, \n",
    "    cycle\n",
    ")\n",
    "from math import inf, sqrt, log, isclose"
   ]
  },
  {
   "cell_type": "markdown",
   "metadata": {},
   "source": [
    "The built-in functions `zip()`, `enumerate()`, `filter()`, `range()`, and `map()` can be consided \"honorary itertools\" since they can also work with infinite or lazy iterators.  Built-ins like `all()`, `any()`, `sum()`, `min()`, `max()`, and `functools.reduce()` also act on iterables, but all of them, in the general case, need to exhaust the iterator rather than remain lazy."
   ]
  },
  {
   "cell_type": "markdown",
   "metadata": {},
   "source": [
    "## Massaging infinite streams of data"
   ]
  },
  {
   "cell_type": "markdown",
   "metadata": {},
   "source": [
    "Let's create an infinite sequence similar to the primes from the last lesson.  Unlike primes, the Fibonacci sequence requires very little state (i.e. a list of primes found already), only the last two numbers of the sequence.  But like primes, it is an infinite sequence of numbers.\n",
    "\n",
    "For this implementation, we build in an optional stopping point to more easily get just a finite number of them."
   ]
  },
  {
   "cell_type": "code",
   "execution_count": null,
   "metadata": {},
   "outputs": [],
   "source": [
    "def fibonacci(max=inf, a=1, b=2):\n",
    "    while a < max:\n",
    "        yield a\n",
    "        a, b = b, a+b"
   ]
  },
  {
   "cell_type": "code",
   "execution_count": null,
   "metadata": {},
   "outputs": [],
   "source": [
    "for n, f in zip(range(10), fibonacci()):\n",
    "    print(f\"Sequence {n}; Fib={f}\")"
   ]
  },
  {
   "cell_type": "code",
   "execution_count": null,
   "metadata": {},
   "outputs": [],
   "source": [
    "for f_ln in map(log, fibonacci(max=60)):\n",
    "    print(f_ln)"
   ]
  },
  {
   "cell_type": "code",
   "execution_count": null,
   "metadata": {},
   "outputs": [],
   "source": [
    "map(log, fibonacci(max=60))"
   ]
  },
  {
   "cell_type": "markdown",
   "metadata": {},
   "source": [
    "## Combining tools"
   ]
  },
  {
   "cell_type": "markdown",
   "metadata": {},
   "source": [
    "Here is a quick example of combining a few itertools functions. Let's keep a running sum of sum arbitrary iterator. We can create a single lazy iterator to generate both the current number and this sum."
   ]
  },
  {
   "cell_type": "code",
   "execution_count": null,
   "metadata": {},
   "outputs": [],
   "source": [
    "def item_with_total(iterable):\n",
    "    \"Generically transform a stream of numbers into (n, num, running_sum)\"\n",
    "    s, t = tee(iterable)   # unpacking tuples\n",
    "    yield from zip(count(), t, accumulate(s)) "
   ]
  },
  {
   "cell_type": "markdown",
   "metadata": {},
   "source": [
    "This new construct `yield from` is equivalent to:\n",
    "\n",
    "```python\n",
    "for n, item, total in zip(count(), t, accumulate(s)):\n",
    "    yield n, item, total\n",
    "```"
   ]
  },
  {
   "cell_type": "markdown",
   "metadata": {},
   "source": [
    "We can apply our new generator function, `item_with_total()` to an arbitrary numeric iterable."
   ]
  },
  {
   "cell_type": "code",
   "execution_count": null,
   "metadata": {},
   "outputs": [],
   "source": [
    "for n, item, total in item_with_total(range(101, 110)):\n",
    "    print(\"%3d. Item: %3d; Total: %3d\" % (n+1, item, total))"
   ]
  },
  {
   "cell_type": "code",
   "execution_count": null,
   "metadata": {},
   "outputs": [],
   "source": [
    "for n, item, total in item_with_total([37, 45, 22, 11, 86, 51]):\n",
    "    print(\"%3d. Item: %3d; Total: %3d\" % (n+1, item, total))"
   ]
  },
  {
   "cell_type": "code",
   "execution_count": null,
   "metadata": {},
   "outputs": [],
   "source": [
    "for n, fib, total in item_with_total(fibonacci(60)):\n",
    "    print(\"%3d. Item: %3d; Total: %3d\" % (n+1, fib, total))"
   ]
  },
  {
   "cell_type": "code",
   "execution_count": null,
   "metadata": {},
   "outputs": [],
   "source": [
    "item_with_total(fibonacci(60))"
   ]
  },
  {
   "cell_type": "markdown",
   "metadata": {},
   "source": [
    "## Infinite sequences for convergent sums"
   ]
  },
  {
   "cell_type": "markdown",
   "metadata": {},
   "source": [
    "Below, we represent a common alternating series whose sum converges to $\\ln(2)$.  The sequence by itself is similar to those we have seen for Fibonacci numbers or primes.  But we can use `itertools` to do more with it.\n",
    "\n",
    "$\\ln(2) = \\frac{1}{1} - \\frac{1}{2} + \\frac{1}{3} - \\frac{1}{4} + \\frac{1}{5} - \\cdots $"
   ]
  },
  {
   "cell_type": "code",
   "execution_count": null,
   "metadata": {},
   "outputs": [],
   "source": [
    "def ln2_terms():\n",
    "    sign = 1.\n",
    "    for denom in count(1):\n",
    "        yield sign/denom\n",
    "        sign *= -1"
   ]
  },
  {
   "cell_type": "code",
   "execution_count": null,
   "metadata": {},
   "outputs": [],
   "source": [
    "log(2), list(islice(ln2_terms(), 0, 6))"
   ]
  },
  {
   "cell_type": "markdown",
   "metadata": {},
   "source": [
    "We can rephrase this function a bit more concisely and idiomatically (should be slightly faster also)."
   ]
  },
  {
   "cell_type": "code",
   "execution_count": null,
   "metadata": {},
   "outputs": [],
   "source": [
    "def ln2_terms():\n",
    "    for denom, sign in enumerate(cycle([1.,-1.]), 1):\n",
    "        yield sign/denom\n",
    "\n",
    "list(islice(ln2_terms(), 0, 6))"
   ]
  },
  {
   "cell_type": "markdown",
   "metadata": {},
   "source": [
    "We might also spell this using (an infinite) generator comprehension."
   ]
  },
  {
   "cell_type": "code",
   "execution_count": null,
   "metadata": {},
   "outputs": [],
   "source": [
    "terms = (sign/denom for (denom, sign) in enumerate(cycle([1.,-1.]), 1))\n",
    "list(islice(terms, 0, 6))"
   ]
  },
  {
   "cell_type": "code",
   "execution_count": null,
   "metadata": {},
   "outputs": [],
   "source": [
    "(sign/denom for (denom, sign) in enumerate(cycle([1.,-1.]), 1))"
   ]
  },
  {
   "cell_type": "markdown",
   "metadata": {},
   "source": [
    "### Measure convergence\n",
    "\n",
    "We can use a bit of functional style to define a few convenience functions."
   ]
  },
  {
   "cell_type": "code",
   "execution_count": null,
   "metadata": {},
   "outputs": [],
   "source": [
    "from functools import partial\n",
    "close_to_ln2 = partial(isclose, log(2), rel_tol=0.01)\n",
    "close_to_ln2(0.8)"
   ]
  },
  {
   "cell_type": "code",
   "execution_count": null,
   "metadata": {},
   "outputs": [],
   "source": [
    "close_to_ln2(0.6931)"
   ]
  },
  {
   "cell_type": "code",
   "execution_count": null,
   "metadata": {},
   "outputs": [],
   "source": [
    "far_from_ln2 = lambda x: not close_to_ln2(x)\n",
    "far_from_ln2(0.8)"
   ]
  },
  {
   "cell_type": "code",
   "execution_count": null,
   "metadata": {},
   "outputs": [],
   "source": [
    "running_sum = accumulate(ln2_terms())\n",
    "for x in takewhile(far_from_ln2, running_sum):\n",
    "    print(x)"
   ]
  },
  {
   "cell_type": "markdown",
   "metadata": {},
   "source": [
    "Actually, that does not converge all that quickly!  The default delta of `1e-09` for `isclose` takes quite a lot of elements before it reaches floating point maximum accuracy.  How many exactly?"
   ]
  },
  {
   "cell_type": "code",
   "execution_count": null,
   "metadata": {},
   "outputs": [],
   "source": [
    "def val_not_close_to(target, rel_tol):\n",
    "    def compare(tup):\n",
    "        return not isclose(target, tup[1], rel_tol=rel_tol)\n",
    "    return compare\n",
    "\n",
    "# Use dropwhile() to exhaust some elements from infinite sequence\n",
    "close_nums = dropwhile(val_not_close_to(log(2), 1e-6), \n",
    "                       enumerate(accumulate(ln2_terms())))\n",
    "list(islice(close_nums, 0, 3))"
   ]
  },
  {
   "cell_type": "code",
   "execution_count": null,
   "metadata": {},
   "outputs": [],
   "source": [
    "list(islice(close_nums, 0, 3))"
   ]
  },
  {
   "cell_type": "code",
   "execution_count": null,
   "metadata": {},
   "outputs": [],
   "source": [
    "next(close_nums)"
   ]
  },
  {
   "cell_type": "code",
   "execution_count": null,
   "metadata": {},
   "outputs": [],
   "source": [
    "%%time\n",
    "# Let's get something more precise than 1-in-millionth error\n",
    "# ... it'll take a while!\n",
    "within_e8 = dropwhile(val_not_close_to(log(2), 1e-8), \n",
    "                      enumerate(accumulate(ln2_terms())))\n",
    "within_e8"
   ]
  },
  {
   "cell_type": "code",
   "execution_count": null,
   "metadata": {},
   "outputs": [],
   "source": [
    "%time next(within_e8)"
   ]
  },
  {
   "cell_type": "code",
   "execution_count": null,
   "metadata": {},
   "outputs": [],
   "source": [
    "%time next(within_e8)"
   ]
  },
  {
   "cell_type": "markdown",
   "metadata": {},
   "source": [
    "Probably time to hit our math textbooks to find a faster convergence if we want a 1-in-a-billionth error.  Clearly the `math` module has a faster method of taking natural logs."
   ]
  }
 ],
 "metadata": {
  "kernelspec": {
   "display_name": "Python 3",
   "language": "python",
   "name": "python3"
  },
  "language_info": {
   "codemirror_mode": {
    "name": "ipython",
    "version": 3
   },
   "file_extension": ".py",
   "mimetype": "text/x-python",
   "name": "python",
   "nbconvert_exporter": "python",
   "pygments_lexer": "ipython3",
   "version": "3.8.2"
  }
 },
 "nbformat": 4,
 "nbformat_minor": 4
}
