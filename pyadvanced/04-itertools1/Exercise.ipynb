{
 "cells": [
  {
   "cell_type": "markdown",
   "metadata": {},
   "source": [
    "# Description"
   ]
  },
  {
   "cell_type": "markdown",
   "metadata": {},
   "source": [
    "In this exercise, you should write a function called `merge()` that takes N iterables (each potentially infinite), each of whose iterators yields elements in sorted order (you can rely on that assumption for this exercise).  Your function should produce a new iterator that returns elements in sorted order overall.  If duplicates occur between the iterators (or within one), they should be returned multiple times.\n",
    "\n",
    "As a motivation for this function, imagine that you have many log files on your system, each of which begins with a timestamp.  You could use this function to order all events from all processes.  Of course, different processes might write different messages at an identical timestamp, and preserving all is relevant.  Moreover, log files can continue to accumulate new records, and this iterator might run forever, monitoring all of them.  In the hypothetical, of course, \"sorted order\" would simply mean \"sorted by first timestamp field.\"\n",
    "\n",
    "For this exercise, I provide moderate sized alphabetical wordlists of French, Spanish, and Danish.  Some words occur across multiple languages.  Assuming you open each wordlist as an iterable, your function might produce this:\n",
    "\n",
    "```python\n",
    ">>> for word in islice(merge(fr, es, da), 15):\n",
    "...     print(word)\n",
    "a\n",
    "aaronico\n",
    "ab\n",
    "ababillar\n",
    "abaceria\n",
    "abacero\n",
    "abaco\n",
    "abad\n",
    "abadejo\n",
    "abadengo\n",
    "abadernar\n",
    "abadesa\n",
    "abadia\n",
    "abadiato\n",
    "abaisse\n",
    "```\n",
    "\n",
    "**Note**: As you practice, you may use up elements from one or more of the gzip iterators.  Opening them anew will reset the iterables.\n",
    "\n",
    "**Note 2**: The sort order of words is dependent on your locale, so I have stripped all the words using letters outside the ASCII range in these word lists.  This will assure the same sorting in every locale. Apologies to speakers of those languages who are fond of words removed in the samples."
   ]
  },
  {
   "cell_type": "markdown",
   "metadata": {},
   "source": [
    "# Setup"
   ]
  },
  {
   "cell_type": "code",
   "execution_count": 1,
   "metadata": {},
   "outputs": [],
   "source": [
    "from itertools import *\n",
    "import gzip\n",
    "\n",
    "da = gzip.open('wordlist-da.txt.gz', 'rt')\n",
    "es = gzip.open('wordlist-es.txt.gz', 'rt')\n",
    "fr = gzip.open('wordlist-fr.txt.gz', 'rt')\n",
    "langs = [da, es, fr]\n",
    "\n",
    "def merge(*langs):\n",
    "    return ['a', 'aaronico', 'ab', 'ababillar', 'tanga']"
   ]
  },
  {
   "cell_type": "markdown",
   "metadata": {},
   "source": [
    "# Solution"
   ]
  },
  {
   "cell_type": "code",
   "execution_count": 2,
   "metadata": {},
   "outputs": [],
   "source": [
    "from functools import total_ordering\n",
    "\n",
    "# Define a value greater than all others\n",
    "@total_ordering\n",
    "class Top:\n",
    "    def __eq__(self, other):\n",
    "        return False\n",
    "    def __gt__(self, other):\n",
    "        return True\n",
    "\n",
    "# Define a value smaller than all others\n",
    "@total_ordering\n",
    "class Floor:\n",
    "    def __eq__(self, other):\n",
    "        return False\n",
    "    def __lt__(self, other):\n",
    "        return True\n",
    "\n",
    "top = Top()\n",
    "floor = Floor()\n",
    "    \n",
    "def merge2(a_iter, b_iter):\n",
    "    topless = lambda x: x is not top and x is not floor\n",
    "    todo = []\n",
    "    a, b = floor, floor\n",
    "    while a is not top or b is not top:\n",
    "        a = next(a_iter, top)\n",
    "        todo.append(a)\n",
    "        for b0 in b_iter:\n",
    "            todo.append(b0)\n",
    "            if b0 > a: break\n",
    "\n",
    "        # Sort and yield the (mostly sorted) temporary accumulation\n",
    "        # Possible to overshoot by one, so keep last thing in todo\n",
    "        todo.sort()\n",
    "        yield from filter(topless, iter(todo[:-1]))\n",
    "        todo = todo[-1:]\n",
    "\n",
    "        # Equivalent for a_iter as above with b_iter\n",
    "        b = next(b_iter, top)\n",
    "        todo.append(b)\n",
    "        for a0 in a_iter:\n",
    "            todo.append(a0)\n",
    "            if a0 > b: break\n",
    "        todo.sort()\n",
    "        yield from filter(topless, iter(todo[:-1]))\n",
    "        todo = todo[-1:]\n",
    "                \n",
    "def merge(*iters):\n",
    "    all_ = merge2(*iters[:2])\n",
    "    for it in iters[2:]:\n",
    "        all_ = merge2(all_, it)\n",
    "    return all_"
   ]
  },
  {
   "cell_type": "markdown",
   "metadata": {},
   "source": [
    "# Test Cases"
   ]
  },
  {
   "cell_type": "code",
   "execution_count": 3,
   "metadata": {},
   "outputs": [],
   "source": [
    "def test_iter():\n",
    "    from typing import Iterable, Iterator\n",
    "    assert isinstance(merge(da, es, fr), Iterable)\n",
    "    assert isinstance(iter(merge(da, es, fr)), Iterator)\n",
    "    \n",
    "test_iter()"
   ]
  },
  {
   "cell_type": "code",
   "execution_count": 4,
   "metadata": {},
   "outputs": [],
   "source": [
    "def test_merge2():\n",
    "    da = gzip.open('wordlist-da.txt.gz', 'rt')\n",
    "    fr = gzip.open('wordlist-fr.txt.gz', 'rt')\n",
    "    merged = merge(da, fr)\n",
    "    premerged = gzip.open('wordlist-dafr.txt.gz', 'rt')\n",
    "    # Extra LFs ignored for test\n",
    "    for a, b in zip_longest(merged, premerged):\n",
    "        a, b = a.rstrip(), b.rstrip()\n",
    "        assert a == b, f\"Merged {a} does not match {b}\"\n",
    "    \n",
    "test_merge2()"
   ]
  },
  {
   "cell_type": "code",
   "execution_count": 5,
   "metadata": {},
   "outputs": [],
   "source": [
    "def test_merge3():\n",
    "    da = map(str.rstrip, gzip.open('wordlist-da.txt.gz', 'rt'))\n",
    "    es = map(str.rstrip, gzip.open('wordlist-es.txt.gz', 'rt'))\n",
    "    fr = map(str.rstrip, gzip.open('wordlist-fr.txt.gz', 'rt'))\n",
    "    merged = merge(da, es, fr)\n",
    "    premerged = map(str.rstrip, gzip.open('wordlist-fresda.txt.gz', 'rt'))\n",
    "    for a, b in zip_longest(merged, premerged):\n",
    "        assert a == b, f\"Merged {a} does not match {b}\"\n",
    "    \n",
    "test_merge3()"
   ]
  }
 ],
 "metadata": {
  "kernelspec": {
   "display_name": "Python 3",
   "language": "python",
   "name": "python3"
  },
  "language_info": {
   "codemirror_mode": {
    "name": "ipython",
    "version": 3
   },
   "file_extension": ".py",
   "mimetype": "text/x-python",
   "name": "python",
   "nbconvert_exporter": "python",
   "pygments_lexer": "ipython3",
   "version": "3.8.2"
  }
 },
 "nbformat": 4,
 "nbformat_minor": 4
}
