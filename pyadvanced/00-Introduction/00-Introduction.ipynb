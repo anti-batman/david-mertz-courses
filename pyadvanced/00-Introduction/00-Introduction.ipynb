{
 "cells": [
  {
   "cell_type": "code",
   "execution_count": 1,
   "metadata": {
    "slideshow": {
     "slide_type": "skip"
    }
   },
   "outputs": [
    {
     "data": {
      "text/html": [
       "<!-- execute this cell before continue -->\n",
       "<link rel=\"stylesheet\" href=\"https://fonts.googleapis.com/css?family=Lato\">\n",
       "<style>.reveal * { font-family: \"Lato\" !important; } .reveal h1, .reveal h2, .reveal h3, .reveal h4, .reveal h5, .reveal h6 { font-family: \"Lato\" !important; } .reveal .code_cell *, .reveal code, .reveal code * { font-family: monospace !important; }</style>\n"
      ],
      "text/plain": [
       "<IPython.core.display.HTML object>"
      ]
     },
     "metadata": {},
     "output_type": "display_data"
    }
   ],
   "source": [
    "%%HTML\n",
    "<!-- execute this cell before continue -->\n",
    "<link rel=\"stylesheet\" href=\"https://fonts.googleapis.com/css?family=Lato\">\n",
    "<style>.reveal * { font-family: \"Lato\" !important; } .reveal h1, .reveal h2, .reveal h3, .reveal h4, .reveal h5, .reveal h6 { font-family: \"Lato\" !important; } .reveal .code_cell *, .reveal code, .reveal code * { font-family: monospace !important; }</style>"
   ]
  },
  {
   "cell_type": "markdown",
   "metadata": {
    "slideshow": {
     "slide_type": "slide"
    }
   },
   "source": [
    "<div style=\"position: relative;\">\n",
    "<img src=\"https://user-images.githubusercontent.com/7065401/98728503-5ab82f80-2378-11eb-9c79-adeb308fc647.png\"></img>\n",
    "\n",
    "<h1 style=\"color: white; position: absolute; top:25%; left:10%;\">\n",
    "    Software Development with Python\n",
    "</h1>\n",
    "\n",
    "<h3 style=\"color: #ef7d22; font-weight: normal; position: absolute; top:50%; left:10%;\">\n",
    "    David Mertz, Ph.D.\n",
    "</h3>\n",
    "\n",
    "<h3 style=\"color: #ef7d22; font-weight: normal; position: absolute; top:60%; left:10%;\">\n",
    "    Data Scientist\n",
    "</h3>\n",
    "</div>"
   ]
  },
  {
   "cell_type": "markdown",
   "metadata": {
    "slideshow": {
     "slide_type": "slide"
    }
   },
   "source": [
    "<h2 style=\"font-weight: bold;\">\n",
    "    Software Development with Python\n",
    "    \n",
    "</h2>\n",
    "\n",
    "![orange-divider](https://user-images.githubusercontent.com/7065401/98619088-44ab6000-22e1-11eb-8f6d-5532e68ab274.png)\n",
    "\n",
    "\n",
    "<img src=\"python-logo.png\" width=\"25%\" align=\"right\" style=\"padding-left: 30px;\" />The Python programming language is highly introspective.  That is to say, nearly everything about a Python program, and the objects existing within it, can be examined within that same running program.  This makes it possible to make programmatic decisions based on that state, and to understand program behaviors within tools like debuggers.\n",
    "\n",
    "Many tools aiding analysis of our Python software application are both written in Python itself and available within the Python standard library.  Those are the main focus of this course."
   ]
  },
  {
   "cell_type": "markdown",
   "metadata": {
    "slideshow": {
     "slide_type": "slide"
    }
   },
   "source": [
    "<h2 style=\"font-weight: bold;\">\n",
    "    Instructor\n",
    "</h2>\n",
    "\n",
    "![orange-divider](https://user-images.githubusercontent.com/7065401/98619088-44ab6000-22e1-11eb-8f6d-5532e68ab274.png)\n",
    "\n",
    "<img src=\"DQM-colors-2.jpg\" align=\"left\" width=\"30%\" style=\"padding-right: 30px;\"/>My name is David Mertz, and I am your instructor for these lessons.  I have been part of the Python community for over 20 years. During that time, I have been involved with the governance of the Python Software Foundation, and have worked as a developer, a writer, and a trainer.\n",
    "\n",
    "In recent years I have  focused on Python's use in scientific computing and data science."
   ]
  },
  {
   "cell_type": "markdown",
   "metadata": {
    "slideshow": {
     "slide_type": "slide"
    }
   },
   "source": [
    "<h2 style=\"font-weight: bold;\">\n",
    "    In This Course\n",
    "</h2>\n",
    "\n",
    "![orange-divider](https://user-images.githubusercontent.com/7065401/98619088-44ab6000-22e1-11eb-8f6d-5532e68ab274.png)\n",
    "\n",
    "* <img src=\"DQM-INE-masks-verso-angle.jpg\" align=\"right\" width=\"27%\"/>Debugging programs with the *pdb* debugger and friendly wrappers\n",
    "* Analyzing performance of components using the *timeit* module and tool\n",
    "* Tracing programs for coverage and profiling them to identify \"hot spots\"\n",
    "* Embedding interpreters within larger applications\n",
    "* Understanding stack frames and traceback stacks\n",
    "* Inspecting Python objects with the *inspect* module"
   ]
  },
  {
   "cell_type": "markdown",
   "metadata": {
    "slideshow": {
     "slide_type": "slide"
    }
   },
   "source": [
    "<h2 style=\"font-weight: bold;\">\n",
    "    Advanced Topics to Explore on Your Own\n",
    "</h2>\n",
    "\n",
    "![orange-divider](https://user-images.githubusercontent.com/7065401/98619088-44ab6000-22e1-11eb-8f6d-5532e68ab274.png)\n",
    "\n",
    "* <img src=\"DQM-cartoon.png\" align=\"right\" width=\"27%\" style=\"padding-left: 30px;\"/>Logging and program forensics\n",
    "* Development environments with integrated introspection\n",
    "  * PyCharm (community and commercial)\n",
    "  * VS Code (with plugins)\n",
    "  * Spyder\n",
    "  * Eclipse with PyDev\n",
    "  * Wing Python IDE\n",
    "* See other courses: Unit Testing with Python, GitHub and Version Control, Python Standard Library"
   ]
  }
 ],
 "metadata": {
  "celltoolbar": "Slideshow",
  "kernelspec": {
   "display_name": "Python 3",
   "language": "python",
   "name": "python3"
  },
  "language_info": {
   "codemirror_mode": {
    "name": "ipython",
    "version": 3
   },
   "file_extension": ".py",
   "mimetype": "text/x-python",
   "name": "python",
   "nbconvert_exporter": "python",
   "pygments_lexer": "ipython3",
   "version": "3.8.2"
  }
 },
 "nbformat": 4,
 "nbformat_minor": 4
}
