{
 "cells": [
  {
   "cell_type": "markdown",
   "metadata": {},
   "source": [
    "<div style=\"position: relative;\">\n",
    "<img src=\"https://user-images.githubusercontent.com/7065401/98728503-5ab82f80-2378-11eb-9c79-adeb308fc647.png\"></img>\n",
    "\n",
    "<h1 style=\"color: white; position: absolute; top:27%; left:10%;\">\n",
    "     Advanced Python\n",
    "</h1>\n",
    "<h2 style=\"color: white; position: absolute; top:36%; left:10%;\">\n",
    "    Iterators, Generators, Context Managers, and Decorators\n",
    "</h2>\n",
    "\n",
    "\n",
    "<h3 style=\"color: #ef7d22; font-weight: normal; position: absolute; top:58%; left:10%;\">\n",
    "    David Mertz, Ph.D.\n",
    "</h3>\n",
    "\n",
    "<h3 style=\"color: #ef7d22; font-weight: normal; position: absolute; top:63%; left:10%;\">\n",
    "    Data Scientist\n",
    "</h3>\n",
    "</div>"
   ]
  },
  {
   "cell_type": "markdown",
   "metadata": {},
   "source": [
    "# More Itertools\n",
    "\n",
    "In this lesson we continue to explore combining iterators, both using additional capabilities in `itertools`, and a few extras utilizing the 3rd party `more-itertools` module that adds additional useful function.  There are a number of short \"recipes\" in the official documentation of `itertools`—all of these recipes, along with numerous other functions, are included in `more_itertools`."
   ]
  },
  {
   "cell_type": "code",
   "execution_count": 1,
   "metadata": {},
   "outputs": [],
   "source": [
    "from itertools import *\n",
    "from more_itertools import *"
   ]
  },
  {
   "cell_type": "markdown",
   "metadata": {},
   "source": [
    "## Run-length encoding\n",
    "\n",
    "Sometimes data can be compressed very time- and memory-efficiently using a technique called *run-length* encoding.  The idea is that certain data sets, the same element may occur numerous times successively.  If so, it can be more compact to represent that as a number counting occurrences, followed by the element that is repeated.  As compression techniques go, this is rarely the most compressed result, although often RLE is combined with other techniques.  Let us implement it in an iterator style to show some of the conciseness of `itertools`."
   ]
  },
  {
   "cell_type": "markdown",
   "metadata": {},
   "source": [
    "As sample data, let us look at a FASTA record of rhibosomal RNA.  If the recurring objects were larger than a single character, RLE would be more significant, but this suffices to demonstrate the concept.  Here is sample sequence:"
   ]
  },
  {
   "cell_type": "code",
   "execution_count": 2,
   "metadata": {},
   "outputs": [],
   "source": [
    "ab000482 = \"\"\"\n",
    "agtttgatcctggctcagaacgaacgctggcggcaggcctaacacatgcaagtcgaggga\n",
    "gaagctatcttcggatnnnnnnnnnnnnnnnnnnnnnnnnnnnnnnnnnnnnnnnnnnnn\n",
    "nnnnnnnnnnnnnnaaacgactgctaataccgcatacgcccttcgggggaaagatttatc\n",
    "gctattcgattggcccgcgttagattagctaagttggtaaggtaacggcttaccaaggcg\n",
    "acgatctatagctggtttgagaggatgatcagccacactgggactgagacacggcccaga\n",
    "ctcctacgggaggcagcagtggggaatattgcgcaatggaggaaactctgacgcagccat\n",
    "gccgcgtgagtgaagaaggccttagggttgtaaagctctttcagacgtgatgaatgatga\n",
    "cagtagcgtcaaaagaagttccggctaaacttcgtgccagcagccgcggtaatacgaagg\n",
    "gaactagcgttgttcggatttactgggcgtaaagagcatgtaggcggattggacagttga\n",
    "gggtgaaatcccagagctcaactctggaacggccttcaatacttccagtctagagtccgt\n",
    "aagggggtggtggaattccgagtgtagaggtgaaattcgtagatattcggaggaacacca\n",
    "gtggcgaaggcgaccacctggtacggtactgacgctgagatgcgaaagcgtggggagcaa\n",
    "acaggattagataccctggtagtccacgccgtaaacgatgagtgctagttgtcaggatgt\n",
    "ttacatcttggtgacgcagctaacgcattaagcactccgcctggggagtacggtcgcaag\n",
    "attaaaactcaaaggaattgacgggggcccgcacaagcggtggagcatgtggtttaattc\n",
    "gaagcaacgcgaagaaccttaccaattcttgacatacctgtcgcgatttccagagatgga\n",
    "tttcttcagttcggctggacaggatacaggtgctgcatggctgtcgtcagctcgtgtcgt\n",
    "gagatgttgggttaagtcccgcaacgagcgcaaccctcacccctagttgccagcatttag\n",
    "ttgggcactctatgggaactgccggtgacaagccggaggaaggtggggatgacgtcaagt\n",
    "catcatggcccttacggattgggctacacacgtgctacaatggtaactacagtgggcagc\n",
    "gacgtcgcgaggcgaagcaaatctccaaaagttatctcagttcggattgttctctgcaac\n",
    "tcgagagcatgaagtcggaatcgcctagtaatcgcggatcagcatgccgcggtgaata\n",
    "\"\"\""
   ]
  },
  {
   "cell_type": "markdown",
   "metadata": {},
   "source": [
    "Let us wrap that slightly to remove the the optional newlines.  This rRNA sample is quite small, but the genes in human DNA, for example are vastly larger (but still of this general form in FASTA format).  An iterator over individual nucleic acids can be constructed as:"
   ]
  },
  {
   "cell_type": "code",
   "execution_count": 3,
   "metadata": {},
   "outputs": [
    {
     "data": {
      "text/plain": [
       "['a', 'g', 'g', 'g', 'a', 'g', 'a', 'a', 'g', 'c']"
      ]
     },
     "execution_count": 3,
     "metadata": {},
     "output_type": "execute_result"
    }
   ],
   "source": [
    "def symbols(fasta):\n",
    "    # Use a generator comprehension\n",
    "    yield from (c for c in fasta if c != '\\n')\n",
    "\n",
    "# A few symbols from first line continuing on second\n",
    "list(islice(symbols(ab000482), 55, 65))"
   ]
  },
  {
   "cell_type": "markdown",
   "metadata": {},
   "source": [
    "A generic RLE encoder can be constructed using `itertools.groupby()` which this thinly wraps.  Notice that we encode incrementally as symbols are read."
   ]
  },
  {
   "cell_type": "code",
   "execution_count": 4,
   "metadata": {},
   "outputs": [],
   "source": [
    "def rle_encode(it):\n",
    "    for k, g in groupby(it):\n",
    "        yield (k, len(list(g)))"
   ]
  },
  {
   "cell_type": "code",
   "execution_count": 5,
   "metadata": {},
   "outputs": [
    {
     "name": "stdout",
     "output_type": "stream",
     "text": [
      "('t', 1) ('c', 1) ('g', 2) ('a', 1) ('t', 1) ('n', 58) ('a', 3) ('c', 1) ('g', 1) ('a', 1) "
     ]
    }
   ],
   "source": [
    "seq = symbols(ab000482)\n",
    "for enc in rle_encode(islice(seq, 70, 140)):\n",
    "    print(enc, end=\" \")"
   ]
  },
  {
   "cell_type": "markdown",
   "metadata": {},
   "source": [
    "We can reverse the encoding be implementing a similarly short function using `itertools.repeat()` and `itertools.chain.from_iterable()`.  Repeating is just yielding the same items back numerous times.  Chaining is interesting.  It allows the lazy combination of as many iterables as you like, the next as soon as the previous one is exhausted.  However, if what you want to chain is not only a handful of named iterables, but rather an iterable of perhaps thousands of millions of iterables, it is impractical to pass these all as explicit arguments.  For example:"
   ]
  },
  {
   "cell_type": "code",
   "execution_count": 6,
   "metadata": {},
   "outputs": [
    {
     "name": "stdout",
     "output_type": "stream",
     "text": [
      "1 2 3 A B C 9 4 2 "
     ]
    }
   ],
   "source": [
    "a = {1, 2, 3}\n",
    "b = \"ABC\"\n",
    "c = [9, 4, 2]\n",
    "for x in chain(a, b, c):\n",
    "    print(x, end=' ')"
   ]
  },
  {
   "cell_type": "code",
   "execution_count": 7,
   "metadata": {},
   "outputs": [
    {
     "name": "stdout",
     "output_type": "stream",
     "text": [
      "1 2 3 A B C 9 4 2 "
     ]
    }
   ],
   "source": [
    "def iter_of_iters():\n",
    "    yield a\n",
    "    yield b\n",
    "    yield c\n",
    "    \n",
    "d = iter_of_iters()\n",
    "    \n",
    "for x in chain.from_iterable(d):\n",
    "    print(x, end=' ')"
   ]
  },
  {
   "cell_type": "markdown",
   "metadata": {},
   "source": [
    "So we can decode incrementally, taking each tuple `(val, ncount)` that we get from RLE encoding."
   ]
  },
  {
   "cell_type": "code",
   "execution_count": 8,
   "metadata": {},
   "outputs": [],
   "source": [
    "def rle_decode(it):\n",
    "    yield from chain.from_iterable(repeat(x, n) for x, n in it)"
   ]
  },
  {
   "cell_type": "code",
   "execution_count": 9,
   "metadata": {},
   "outputs": [
    {
     "name": "stdout",
     "output_type": "stream",
     "text": [
      "<generator object symbols at 0x7f7f600a7040>\n",
      "<generator object rle_encode at 0x7f7f6014f2e0>\n",
      "<generator object rle_decode at 0x7f7f60114f90>\n"
     ]
    }
   ],
   "source": [
    "seq = symbols(ab000482)\n",
    "encoded = rle_encode(seq)\n",
    "decoded = rle_decode(encoded)\n",
    "print(seq, encoded, decoded, sep='\\n')"
   ]
  },
  {
   "cell_type": "markdown",
   "metadata": {},
   "source": [
    "Looping through decoded should reproduce our original sequence."
   ]
  },
  {
   "cell_type": "code",
   "execution_count": 10,
   "metadata": {},
   "outputs": [
    {
     "name": "stdout",
     "output_type": "stream",
     "text": [
      "agtttgatcctggctcagaacgaacgctggcggcaggcctaacacatgcaagtcgaggga"
     ]
    }
   ],
   "source": [
    "for symbol in islice(decoded, 60):\n",
    "    print(symbol, end='')"
   ]
  },
  {
   "cell_type": "markdown",
   "metadata": {},
   "source": [
    "## Combining iterables\n",
    "\n",
    "Let's build further on the idea of chaining that we saw used in `rle_decode()`.  FASTA files consist of a header line followed by sequence information.  We might have stored millions or billions of these, and wish to process them only incrementally.  For our stipulated purpose, we would like not to read in all at once, nor ever to read in files after a search had found a certain pattern.\n",
    "\n",
    "Combining things we've done, let us identify the first sequence of more than 50 repetitions of the same symbol across a family of separate FASTA files."
   ]
  },
  {
   "cell_type": "code",
   "execution_count": 11,
   "metadata": {},
   "outputs": [
    {
     "data": {
      "text/plain": [
       "Record(metadata='>AB000393_1|Vibrio halioticoli|16S rRNA', sequence=<generator object symbols at 0x7f7f600fcf20>)"
      ]
     },
     "execution_count": 11,
     "metadata": {},
     "output_type": "execute_result"
    }
   ],
   "source": [
    "from glob import glob\n",
    "from collections import namedtuple\n",
    "Record = namedtuple(\"Record\", \"metadata sequence\")\n",
    "\n",
    "def read_fasta(pat):\n",
    "    for fname in glob(pat):\n",
    "        with open(fname) as fasta:\n",
    "            # Return a pair of sequence description and seq as iterator\n",
    "            yield Record(next(fasta).strip(), symbols(fasta.read()))\n",
    "            \n",
    "next(read_fasta(\"rRNA*.fasta\"))"
   ]
  },
  {
   "cell_type": "markdown",
   "metadata": {},
   "source": [
    "Let us find those sequences with 30 repeated symbols."
   ]
  },
  {
   "cell_type": "code",
   "execution_count": 12,
   "metadata": {},
   "outputs": [
    {
     "name": "stdout",
     "output_type": "stream",
     "text": [
      ">AB000476_1|Novispirillum itersonii|16S rRNA\n",
      "('n', 34)\n",
      ">AB000478_1|Novispirillum itersonii|16S rRNA\n",
      "('n', 34)\n",
      ">AB000477_1|Novispirillum itersonii|16S rRNA\n",
      "('n', 34)\n",
      ">AB000482_1|Terasakiella pusilla|16S rRNA\n",
      "('n', 58)\n",
      ">AB000481_1|Aquaspirillum polymorphum|16S rRNA\n",
      "('n', 99)\n"
     ]
    }
   ],
   "source": [
    "for record in read_fasta(\"rRNA*.fasta\"):\n",
    "    long_subseq = [enc for enc in rle_encode(record.sequence) if enc[1] >= 30]\n",
    "    if long_subseq:\n",
    "        print(record.metadata)\n",
    "        print(*long_subseq)"
   ]
  },
  {
   "cell_type": "markdown",
   "metadata": {},
   "source": [
    "## Interleaving, tupling, chaining"
   ]
  },
  {
   "cell_type": "markdown",
   "metadata": {},
   "source": [
    "The functions `itertools.chain()` and `itertools.chain.from_iterable()` combine multiple iterables.  Built-in `zip()` and `itertools.zip_longest()` also do this, although in a manner that incrementally advances each iterables.  These are all useful, but sometimes a slightly different way of combining is useful instead.  `more_itertools` provides `interleave()` and `interleave_longest()`.  Let us look at all these options using some some simple collections (iterables).  \n",
    "\n",
    "These all work with iterables in general, including infinite ones. But it is easier to see with small collections."
   ]
  },
  {
   "cell_type": "code",
   "execution_count": 13,
   "metadata": {},
   "outputs": [],
   "source": [
    "a = {1, 2, 3, 4, 5}\n",
    "b = \"ABCD\"\n",
    "c = [99, 88, 77]"
   ]
  },
  {
   "cell_type": "code",
   "execution_count": 14,
   "metadata": {},
   "outputs": [
    {
     "data": {
      "text/plain": [
       "[1, 2, 3, 4, 5, 'A', 'B', 'C', 'D', 99, 88, 77]"
      ]
     },
     "execution_count": 14,
     "metadata": {},
     "output_type": "execute_result"
    }
   ],
   "source": [
    "list(chain(a, b, c))"
   ]
  },
  {
   "cell_type": "code",
   "execution_count": 15,
   "metadata": {},
   "outputs": [
    {
     "data": {
      "text/plain": [
       "[1, 2, 3, 4, 5, 'A', 'B', 'C', 'D', 99, 88, 77]"
      ]
     },
     "execution_count": 15,
     "metadata": {},
     "output_type": "execute_result"
    }
   ],
   "source": [
    "list(chain.from_iterable([a, b, c]))"
   ]
  },
  {
   "cell_type": "code",
   "execution_count": 16,
   "metadata": {},
   "outputs": [
    {
     "data": {
      "text/plain": [
       "[(1, 'A', 99), (2, 'B', 88), (3, 'C', 77)]"
      ]
     },
     "execution_count": 16,
     "metadata": {},
     "output_type": "execute_result"
    }
   ],
   "source": [
    "list(zip(a, b, c))"
   ]
  },
  {
   "cell_type": "code",
   "execution_count": 17,
   "metadata": {},
   "outputs": [
    {
     "data": {
      "text/plain": [
       "[(1, 'A', 99), (2, 'B', 88), (3, 'C', 77), (4, 'D', None), (5, None, None)]"
      ]
     },
     "execution_count": 17,
     "metadata": {},
     "output_type": "execute_result"
    }
   ],
   "source": [
    "list(zip_longest(a, b, c))"
   ]
  },
  {
   "cell_type": "code",
   "execution_count": 18,
   "metadata": {},
   "outputs": [
    {
     "data": {
      "text/plain": [
       "[1, 'A', 99, 2, 'B', 88, 3, 'C', 77]"
      ]
     },
     "execution_count": 18,
     "metadata": {},
     "output_type": "execute_result"
    }
   ],
   "source": [
    "list(interleave(a, b, c))"
   ]
  },
  {
   "cell_type": "code",
   "execution_count": 19,
   "metadata": {},
   "outputs": [
    {
     "data": {
      "text/plain": [
       "[1, 'A', 99, 2, 'B', 88, 3, 'C', 77, 4, 'D', 5]"
      ]
     },
     "execution_count": 19,
     "metadata": {},
     "output_type": "execute_result"
    }
   ],
   "source": [
    "list(interleave_longest(a, b, c))"
   ]
  },
  {
   "cell_type": "markdown",
   "metadata": {},
   "source": [
    "## Combinatorics"
   ]
  },
  {
   "cell_type": "markdown",
   "metadata": {},
   "source": [
    "One of the useful things `itertools` can do is combinatorics on iterators.  In the standard library, this consists of `permutations()`, `combinations()`, Cartesian `product()`, and `combinations_with_replacement()`.  But `more_itertools()` adds a bunch more including (but not limited to) `distinct_permutations()`, `circular_shifts()`, `partitions()`, `set_partitions()`, and `powerset()`.\n",
    "\n",
    "The functions generally consume entire iterators as implemented, and are not suitable for infinite iterators. However, for finite iterators, they provide efficient and *lazy* ways to get arrangements of the source iteration elements."
   ]
  },
  {
   "cell_type": "code",
   "execution_count": 20,
   "metadata": {},
   "outputs": [],
   "source": [
    "a = {1, 2, 3, 4}\n",
    "b = \"ABC\"\n",
    "c = [99, 88]"
   ]
  },
  {
   "cell_type": "markdown",
   "metadata": {},
   "source": [
    "One convenience of Cartesian product is that it can sometimes simplify nested loops."
   ]
  },
  {
   "cell_type": "code",
   "execution_count": 21,
   "metadata": {},
   "outputs": [
    {
     "name": "stdout",
     "output_type": "stream",
     "text": [
      "(1, 'A') (1, 'B') (1, 'C') (2, 'A') (2, 'B') (2, 'C') (3, 'A') (3, 'B') (3, 'C') (4, 'A') (4, 'B') (4, 'C') "
     ]
    }
   ],
   "source": [
    "for prod in product(a, b):\n",
    "    print(prod, end=\" \")"
   ]
  },
  {
   "cell_type": "code",
   "execution_count": 22,
   "metadata": {},
   "outputs": [
    {
     "name": "stdout",
     "output_type": "stream",
     "text": [
      "1A99 1A88 1B99 1B88 1C99 1C88 2A99 2A88 2B99 2B88 2C99 2C88 3A99 3A88 3B99 3B88 3C99 3C88 4A99 4A88 4B99 4B88 4C99 4C88 "
     ]
    }
   ],
   "source": [
    "# Save two nested elements while looking at all combos\n",
    "for i, j, k in product(a, b, c):\n",
    "    print(i, j, k, sep='', end=' ')"
   ]
  },
  {
   "cell_type": "code",
   "execution_count": 23,
   "metadata": {},
   "outputs": [
    {
     "data": {
      "text/plain": [
       "[('A', 'B', 'C'),\n",
       " ('A', 'C', 'B'),\n",
       " ('B', 'A', 'C'),\n",
       " ('B', 'C', 'A'),\n",
       " ('C', 'A', 'B'),\n",
       " ('C', 'B', 'A')]"
      ]
     },
     "execution_count": 23,
     "metadata": {},
     "output_type": "execute_result"
    }
   ],
   "source": [
    "list(permutations(b))"
   ]
  },
  {
   "cell_type": "code",
   "execution_count": 24,
   "metadata": {},
   "outputs": [
    {
     "data": {
      "text/plain": [
       "[('A', 'B'), ('A', 'C'), ('B', 'A'), ('B', 'C'), ('C', 'A'), ('C', 'B')]"
      ]
     },
     "execution_count": 24,
     "metadata": {},
     "output_type": "execute_result"
    }
   ],
   "source": [
    "list(permutations(b, r=2))"
   ]
  },
  {
   "cell_type": "code",
   "execution_count": 25,
   "metadata": {},
   "outputs": [
    {
     "data": {
      "text/plain": [
       "[('A', 'B'), ('A', 'C'), ('B', 'C')]"
      ]
     },
     "execution_count": 25,
     "metadata": {},
     "output_type": "execute_result"
    }
   ],
   "source": [
    "# Not order dependent for distinct combination\n",
    "list(combinations(b, r=2))"
   ]
  },
  {
   "cell_type": "code",
   "execution_count": 26,
   "metadata": {},
   "outputs": [
    {
     "name": "stdout",
     "output_type": "stream",
     "text": [
      "[(), (1,), (2,), (3,), (4,), (1, 2), (1, 3), (1, 4), (2, 3), (2, 4), (3, 4), (1, 2, 3), (1, 2, 4), (1, 3, 4), (2, 3, 4), (1, 2, 3, 4)]\n"
     ]
    }
   ],
   "source": [
    "print(list(powerset(a)))"
   ]
  },
  {
   "cell_type": "markdown",
   "metadata": {},
   "source": [
    "Sometimes you worry about distinctness.  The standard tools only consider distinctness relative to position in an iterator.  Some extra in `more_itertools` also filter by item equality."
   ]
  },
  {
   "cell_type": "code",
   "execution_count": 27,
   "metadata": {},
   "outputs": [
    {
     "name": "stdout",
     "output_type": "stream",
     "text": [
      "60\n"
     ]
    },
    {
     "data": {
      "text/plain": [
       "[('d', 'a', 'v'),\n",
       " ('d', 'a', 'i'),\n",
       " ('d', 'a', 'd'),\n",
       " ('d', 'v', 'a'),\n",
       " ('d', 'v', 'i'),\n",
       " ('d', 'v', 'd'),\n",
       " ('d', 'i', 'a'),\n",
       " ('d', 'i', 'v'),\n",
       " ('d', 'i', 'd'),\n",
       " ('d', 'd', 'a'),\n",
       " ('d', 'd', 'v'),\n",
       " ('d', 'd', 'i'),\n",
       " ('a', 'd', 'v'),\n",
       " ('a', 'd', 'i'),\n",
       " ('a', 'd', 'd'),\n",
       " ('a', 'v', 'd'),\n",
       " ('a', 'v', 'i'),\n",
       " ('a', 'v', 'd'),\n",
       " ('a', 'i', 'd'),\n",
       " ('a', 'i', 'v'),\n",
       " ('a', 'i', 'd'),\n",
       " ('a', 'd', 'd'),\n",
       " ('a', 'd', 'v'),\n",
       " ('a', 'd', 'i'),\n",
       " ('v', 'd', 'a'),\n",
       " ('v', 'd', 'i'),\n",
       " ('v', 'd', 'd'),\n",
       " ('v', 'a', 'd'),\n",
       " ('v', 'a', 'i'),\n",
       " ('v', 'a', 'd'),\n",
       " ('v', 'i', 'd'),\n",
       " ('v', 'i', 'a'),\n",
       " ('v', 'i', 'd'),\n",
       " ('v', 'd', 'd'),\n",
       " ('v', 'd', 'a'),\n",
       " ('v', 'd', 'i'),\n",
       " ('i', 'd', 'a'),\n",
       " ('i', 'd', 'v'),\n",
       " ('i', 'd', 'd'),\n",
       " ('i', 'a', 'd'),\n",
       " ('i', 'a', 'v'),\n",
       " ('i', 'a', 'd'),\n",
       " ('i', 'v', 'd'),\n",
       " ('i', 'v', 'a'),\n",
       " ('i', 'v', 'd'),\n",
       " ('i', 'd', 'd'),\n",
       " ('i', 'd', 'a'),\n",
       " ('i', 'd', 'v'),\n",
       " ('d', 'd', 'a'),\n",
       " ('d', 'd', 'v'),\n",
       " ('d', 'd', 'i'),\n",
       " ('d', 'a', 'd'),\n",
       " ('d', 'a', 'v'),\n",
       " ('d', 'a', 'i'),\n",
       " ('d', 'v', 'd'),\n",
       " ('d', 'v', 'a'),\n",
       " ('d', 'v', 'i'),\n",
       " ('d', 'i', 'd'),\n",
       " ('d', 'i', 'a'),\n",
       " ('d', 'i', 'v')]"
      ]
     },
     "execution_count": 27,
     "metadata": {},
     "output_type": "execute_result"
    }
   ],
   "source": [
    "three_letters = list(permutations('david', r=3))\n",
    "print(len(three_letters))\n",
    "three_letters"
   ]
  },
  {
   "cell_type": "code",
   "execution_count": 28,
   "metadata": {},
   "outputs": [
    {
     "name": "stdout",
     "output_type": "stream",
     "text": [
      "33\n"
     ]
    },
    {
     "data": {
      "text/plain": [
       "[('a', 'd', 'd'),\n",
       " ('a', 'd', 'i'),\n",
       " ('a', 'd', 'v'),\n",
       " ('a', 'i', 'd'),\n",
       " ('a', 'i', 'v'),\n",
       " ('a', 'v', 'd'),\n",
       " ('a', 'v', 'i'),\n",
       " ('d', 'a', 'd'),\n",
       " ('d', 'a', 'i'),\n",
       " ('d', 'a', 'v'),\n",
       " ('d', 'd', 'a'),\n",
       " ('d', 'd', 'i'),\n",
       " ('d', 'd', 'v'),\n",
       " ('d', 'i', 'a'),\n",
       " ('d', 'i', 'd'),\n",
       " ('d', 'i', 'v'),\n",
       " ('d', 'v', 'a'),\n",
       " ('d', 'v', 'd'),\n",
       " ('d', 'v', 'i'),\n",
       " ('i', 'a', 'd'),\n",
       " ('i', 'a', 'v'),\n",
       " ('i', 'd', 'a'),\n",
       " ('i', 'd', 'd'),\n",
       " ('i', 'd', 'v'),\n",
       " ('i', 'v', 'a'),\n",
       " ('i', 'v', 'd'),\n",
       " ('v', 'a', 'd'),\n",
       " ('v', 'a', 'i'),\n",
       " ('v', 'd', 'a'),\n",
       " ('v', 'd', 'd'),\n",
       " ('v', 'd', 'i'),\n",
       " ('v', 'i', 'a'),\n",
       " ('v', 'i', 'd')]"
      ]
     },
     "execution_count": 28,
     "metadata": {},
     "output_type": "execute_result"
    }
   ],
   "source": [
    "three_distinct = list(distinct_permutations('david', r=3))\n",
    "print(len(three_distinct))\n",
    "three_distinct"
   ]
  },
  {
   "cell_type": "markdown",
   "metadata": {},
   "source": [
    "Partitions can also be handy at times (from `more_itertools`):"
   ]
  },
  {
   "cell_type": "code",
   "execution_count": 29,
   "metadata": {},
   "outputs": [
    {
     "name": "stdout",
     "output_type": "stream",
     "text": [
      "mertz : \n",
      "m : ertz : \n",
      "me : rtz : \n",
      "mer : tz : \n",
      "mert : z : \n",
      "m : e : rtz : \n",
      "m : er : tz : \n",
      "m : ert : z : \n",
      "me : r : tz : \n",
      "me : rt : z : \n",
      "mer : t : z : \n",
      "m : e : r : tz : \n",
      "m : e : rt : z : \n",
      "m : er : t : z : \n",
      "me : r : t : z : \n",
      "m : e : r : t : z : \n"
     ]
    }
   ],
   "source": [
    "for part in partitions('mertz'):\n",
    "    for segment in part:\n",
    "        print(''.join(segment), end=' : ')\n",
    "    print()"
   ]
  },
  {
   "cell_type": "markdown",
   "metadata": {},
   "source": [
    "Simple partitions are order preserving, but set partitions can rearrange before partitioning (and hence there are many more)."
   ]
  },
  {
   "cell_type": "code",
   "execution_count": 30,
   "metadata": {},
   "outputs": [
    {
     "name": "stdout",
     "output_type": "stream",
     "text": [
      "mertz : \n",
      "m : ertz : \n",
      "me : rtz : \n",
      "e : mrtz : \n",
      "mer : tz : \n",
      "er : mtz : \n",
      "mr : etz : \n",
      "r : metz : \n",
      "mert : z : \n",
      "ert : mz : \n",
      "mrt : ez : \n",
      "rt : mez : \n",
      "met : rz : \n",
      "et : mrz : \n",
      "mt : erz : \n",
      "t : merz : \n",
      "m : e : rtz : \n",
      "m : er : tz : \n",
      "m : r : etz : \n",
      "m : ert : z : \n",
      "m : rt : ez : \n",
      "m : et : rz : \n",
      "m : t : erz : \n",
      "me : r : tz : \n",
      "e : mr : tz : \n",
      "e : r : mtz : \n",
      "me : rt : z : \n",
      "e : mrt : z : \n",
      "e : rt : mz : \n",
      "me : t : rz : \n",
      "e : mt : rz : \n",
      "e : t : mrz : \n",
      "mer : t : z : \n",
      "er : mt : z : \n",
      "er : t : mz : \n",
      "mr : et : z : \n",
      "r : met : z : \n",
      "r : et : mz : \n",
      "mr : t : ez : \n",
      "r : mt : ez : \n",
      "r : t : mez : \n",
      "m : e : r : tz : \n",
      "m : e : rt : z : \n",
      "m : e : t : rz : \n",
      "m : er : t : z : \n",
      "m : r : et : z : \n",
      "m : r : t : ez : \n",
      "me : r : t : z : \n",
      "e : mr : t : z : \n",
      "e : r : mt : z : \n",
      "e : r : t : mz : \n",
      "m : e : r : t : z : \n"
     ]
    }
   ],
   "source": [
    "for part in set_partitions('mertz'):\n",
    "    for segment in part:\n",
    "        print(''.join(segment), end=' : ')\n",
    "    print()"
   ]
  },
  {
   "cell_type": "code",
   "execution_count": null,
   "metadata": {},
   "outputs": [],
   "source": []
  }
 ],
 "metadata": {
  "kernelspec": {
   "display_name": "Python 3",
   "language": "python",
   "name": "python3"
  },
  "language_info": {
   "codemirror_mode": {
    "name": "ipython",
    "version": 3
   },
   "file_extension": ".py",
   "mimetype": "text/x-python",
   "name": "python",
   "nbconvert_exporter": "python",
   "pygments_lexer": "ipython3",
   "version": "3.8.2"
  }
 },
 "nbformat": 4,
 "nbformat_minor": 4
}
