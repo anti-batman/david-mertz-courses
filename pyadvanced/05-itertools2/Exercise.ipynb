{
 "cells": [
  {
   "cell_type": "markdown",
   "metadata": {},
   "source": [
    "# Description"
   ]
  },
  {
   "cell_type": "markdown",
   "metadata": {},
   "source": [
    "In this exercise, you will utilize `itertools` and the iterator protocol to write generator functions `prime_factors(N)` and `all_factorizations(N)`.  These must be generator functions to yield results incrmentally, not produce lists of complete answers (although the tests here will concretize the iterators).  In your answer to all factorizations, include the number itself, but always exclude 1 from each tuple.\n",
    "\n",
    "As a starting point, the prime generation function and its support function that were presented in an earlier exercise are available in the setup.  Answers should look like the below.  However, you may yield the individual factors or tuples of factors in whatever order you like, the tests will permit a different ordering than shown in this example.\n",
    "\n",
    "\n",
    "```python\n",
    ">>> list(prime_factors(420))\n",
    "[2, 2, 3, 5, 7]\n",
    "\n",
    ">>> list(all_factorizations(420))\n",
    "[(2, 2, 3, 5, 7),\n",
    " (3, 4, 5, 7),\n",
    " (5, 7, 12),\n",
    " (7, 60),\n",
    " (5, 84),\n",
    " (3, 7, 20),\n",
    " (3, 140),\n",
    " (3, 5, 28),\n",
    " (2, 5, 6, 7),\n",
    " (2, 7, 30),\n",
    " (2, 210),\n",
    " (2, 5, 42),\n",
    " (2, 3, 7, 10),\n",
    " (2, 3, 70),\n",
    " (2, 3, 5, 14),\n",
    " (2, 2, 7, 15),\n",
    " (2, 2, 105),\n",
    " (2, 2, 5, 21),\n",
    " (2, 2, 3, 35),\n",
    " (420,)]\n",
    "```"
   ]
  },
  {
   "cell_type": "markdown",
   "metadata": {},
   "source": [
    "# Setup"
   ]
  },
  {
   "cell_type": "code",
   "execution_count": 63,
   "metadata": {},
   "outputs": [],
   "source": [
    "from itertools import *\n",
    "from math import sqrt, ceil\n",
    "\n",
    "def up_to(seq, lim):\n",
    "    for n in seq:\n",
    "        if n <= lim:\n",
    "            yield n\n",
    "        else:\n",
    "            break\n",
    "\n",
    "def get_primes():\n",
    "    \"Pretty good Sieve of Erotosthenes\"\n",
    "    yield 2\n",
    "    candidate = 3\n",
    "    found = []\n",
    "    while True:\n",
    "        lim = int(ceil(sqrt(candidate)))\n",
    "        if all(candidate % prime != 0 for prime in up_to(found, lim)):\n",
    "            yield candidate\n",
    "            found.append(candidate)\n",
    "        candidate += 2\n",
    "        \n",
    "def prime_factors(N: int):\n",
    "    # Correct signature, correct for N=10\n",
    "    yield 2\n",
    "    yield 5\n",
    "    \n",
    "def all_factorizations(N: int):\n",
    "    # Correct signature, correct for N=10\n",
    "    yield (2, 5)\n",
    "    yield (10,)"
   ]
  },
  {
   "cell_type": "markdown",
   "metadata": {},
   "source": [
    "# Solution"
   ]
  },
  {
   "cell_type": "code",
   "execution_count": 66,
   "metadata": {},
   "outputs": [],
   "source": [
    "from functools import reduce\n",
    "from operator import mul\n",
    "\n",
    "def prime_factors(N):\n",
    "    for p in get_primes():\n",
    "        while N % p == 0:\n",
    "            yield p\n",
    "            N //= p\n",
    "        if N == 1:\n",
    "            return\n",
    "\n",
    "def all_factorizations(N):\n",
    "    yielded = set((N,))\n",
    "    for factors in permutations(prime_factors(N)):\n",
    "        prod = 1\n",
    "        for i in range(1, len(factors)):\n",
    "            prod = reduce(mul, factors[:i])\n",
    "            answer = tuple(sorted((prod,) + factors[i:]))\n",
    "            if answer not in yielded:\n",
    "                yield answer\n",
    "            yielded.add(answer)\n",
    "    yield (N,)"
   ]
  },
  {
   "cell_type": "markdown",
   "metadata": {},
   "source": [
    "# Test Cases"
   ]
  },
  {
   "cell_type": "code",
   "execution_count": 17,
   "metadata": {},
   "outputs": [],
   "source": [
    "def test_isgen_prime():\n",
    "    from typing import Iterator\n",
    "    assert isinstance(prime_factors(10), Iterator)\n",
    "    \n",
    "test_isgen_prime()"
   ]
  },
  {
   "cell_type": "code",
   "execution_count": 18,
   "metadata": {},
   "outputs": [],
   "source": [
    "def test_isgen_allfac():\n",
    "    from typing import Iterator\n",
    "    assert isinstance(all_factorizations(10), Iterator)\n",
    "    \n",
    "test_isgen_allfac()"
   ]
  },
  {
   "cell_type": "code",
   "execution_count": 68,
   "metadata": {},
   "outputs": [],
   "source": [
    "def test_prime_facs():\n",
    "    assert set(prime_factors(380)) == {2, 5, 19}\n",
    "    \n",
    "test_prime_facs()"
   ]
  },
  {
   "cell_type": "code",
   "execution_count": 70,
   "metadata": {},
   "outputs": [],
   "source": [
    "def test_all_facs():\n",
    "    correct = {(2, 2, 5, 19), (2, 2, 95), (2, 5, 38), (2, 10, 19), \n",
    "               (2, 190), (4, 5, 19), (5, 76), (19, 20), (380,)}\n",
    "    assert set(all_factorizations(380)) == correct\n",
    "    \n",
    "test_all_facs()"
   ]
  }
 ],
 "metadata": {
  "kernelspec": {
   "display_name": "Python 3",
   "language": "python",
   "name": "python3"
  },
  "language_info": {
   "codemirror_mode": {
    "name": "ipython",
    "version": 3
   },
   "file_extension": ".py",
   "mimetype": "text/x-python",
   "name": "python",
   "nbconvert_exporter": "python",
   "pygments_lexer": "ipython3",
   "version": "3.8.2"
  }
 },
 "nbformat": 4,
 "nbformat_minor": 4
}
