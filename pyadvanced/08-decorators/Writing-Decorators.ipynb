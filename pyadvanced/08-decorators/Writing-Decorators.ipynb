{
 "cells": [
  {
   "cell_type": "markdown",
   "metadata": {},
   "source": [
    "<div style=\"position: relative;\">\n",
    "<img src=\"https://user-images.githubusercontent.com/7065401/98728503-5ab82f80-2378-11eb-9c79-adeb308fc647.png\"></img>\n",
    "\n",
    "<h1 style=\"color: white; position: absolute; top:27%; left:10%;\">\n",
    "     Advanced Python\n",
    "</h1>\n",
    "<h2 style=\"color: white; position: absolute; top:36%; left:10%;\">\n",
    "    Iterators, Generators, Context Managers, and Decorators\n",
    "</h2>\n",
    "\n",
    "\n",
    "<h3 style=\"color: #ef7d22; font-weight: normal; position: absolute; top:58%; left:10%;\">\n",
    "    David Mertz, Ph.D.\n",
    "</h3>\n",
    "\n",
    "<h3 style=\"color: #ef7d22; font-weight: normal; position: absolute; top:63%; left:10%;\">\n",
    "    Data Scientist\n",
    "</h3>\n",
    "</div>"
   ]
  },
  {
   "cell_type": "markdown",
   "metadata": {},
   "source": [
    "# Decorators\n",
    "\n",
    "A decorator, at base, is nothing more than syntax sugar for a callable that takes one function or class as an argument, and returns ... **something**.  Given how deeply introspective Python can be, you can modify functions and classes in pretty much any conceivable way (some take more work than others).  In general, decorators are simply a convenient way of expressing a kind of modification that you will potentially want to apply to many functions or classes.\n",
    "\n",
    "Hopefully without belaboring the matter too much, what a decorator returns really can be *anything*.  Most of the time it is a somewhat modified class or function that performs a largely similar function to the undecorated version.  But the syntax is not so constrained."
   ]
  },
  {
   "cell_type": "code",
   "execution_count": 1,
   "metadata": {},
   "outputs": [
    {
     "name": "stdout",
     "output_type": "stream",
     "text": [
      "42\n"
     ]
    }
   ],
   "source": [
    "def func_to_num(fn):\n",
    "    return 42\n",
    "\n",
    "@func_to_num\n",
    "def fibonacci(max=float('inf'), a=1, b=2):\n",
    "    while a < max:\n",
    "        yield a\n",
    "        a, b = b, a+b\n",
    "        \n",
    "print(fibonacci)"
   ]
  },
  {
   "cell_type": "code",
   "execution_count": 2,
   "metadata": {},
   "outputs": [
    {
     "name": "stdout",
     "output_type": "stream",
     "text": [
      "'int' object is not callable\n"
     ]
    }
   ],
   "source": [
    "try:\n",
    "    fibonacci(999)\n",
    "except Exception as err:\n",
    "    print(err)"
   ]
  },
  {
   "cell_type": "markdown",
   "metadata": {},
   "source": [
    "The decorator `@func_to_num` is a generally terrible decorator with no reasonable purpose.  But it **is** a decorator."
   ]
  },
  {
   "cell_type": "markdown",
   "metadata": {},
   "source": [
    "## Transforming Functions"
   ]
  },
  {
   "cell_type": "markdown",
   "metadata": {},
   "source": [
    "Decorators can be a powerful way of expressing \"cross-cutting\" behavior that you want to apply to different functions. A very simple, but still useless, decorator is the identity decorator.  It simply returns a function that behaves the same way as the function passed into it.  However, the way we write this shows the structure of writing more useful ones."
   ]
  },
  {
   "cell_type": "code",
   "execution_count": 3,
   "metadata": {},
   "outputs": [],
   "source": [
    "def decorate(func):\n",
    "    def new_func(arg):\n",
    "        return func(arg)\n",
    "    return new_func"
   ]
  },
  {
   "cell_type": "markdown",
   "metadata": {},
   "source": [
    "Even without decorators, We could modify the function using `decorate()` and rebind it to the same name."
   ]
  },
  {
   "cell_type": "code",
   "execution_count": 4,
   "metadata": {},
   "outputs": [
    {
     "name": "stdout",
     "output_type": "stream",
     "text": [
      "Original fn1() answer: 6\n",
      "Modified fn1() answer: 6\n"
     ]
    }
   ],
   "source": [
    "def fn1(x):\n",
    "    return x + 1\n",
    "\n",
    "print(\"Original fn1() answer:\", fn1(5))\n",
    "\n",
    "fn1 = decorate(fn1)\n",
    "print(\"Modified fn1() answer:\", fn1(5))"
   ]
  },
  {
   "cell_type": "markdown",
   "metadata": {},
   "source": [
    "It is generally prettier to do a semantically identical thing using a decorator like the following.  Decorators are higher-order functions that modify a function, and then rebind the new function the same name.  Their main advantage is simply that they come at the start of a function definition rather at the end of a long function definition (or elsewhere than that even)."
   ]
  },
  {
   "cell_type": "code",
   "execution_count": 5,
   "metadata": {},
   "outputs": [],
   "source": [
    "def fn2(x):\n",
    "    return x + 1\n",
    "\n",
    "@decorate\n",
    "def fn3(x):\n",
    "    return x + 1"
   ]
  },
  {
   "cell_type": "markdown",
   "metadata": {},
   "source": [
    "The function returned by `@decorate` is bound to the same name `fn3` and replaces the original, decorated function.  In the example above, ```new_func``` becomes the new implementation of ```fn3```. Let's contrast `fn2()` with `fn3()`."
   ]
  },
  {
   "cell_type": "code",
   "execution_count": 6,
   "metadata": {},
   "outputs": [
    {
     "name": "stdout",
     "output_type": "stream",
     "text": [
      "Undecorated: fn2(17) == 18\n",
      "Decorated: new_func(17) == 18\n"
     ]
    }
   ],
   "source": [
    "print(f\"Undecorated: {fn2.__name__}(17) == {fn2(17)}\")\n",
    "print(f\"Decorated: {fn3.__name__}(17) == {fn3(17)}\")"
   ]
  },
  {
   "cell_type": "markdown",
   "metadata": {},
   "source": [
    "### A first useful decorator\n",
    "\n",
    "Let's imagine that we want to allow `fun()` to operate on sequences of numbers, but we only want to define it as an operation on a single number."
   ]
  },
  {
   "cell_type": "code",
   "execution_count": 7,
   "metadata": {},
   "outputs": [],
   "source": [
    "def map_scalar(func):\n",
    "    def map_to_seq(*args):\n",
    "        return list(map(func, args))\n",
    "    return map_to_seq"
   ]
  },
  {
   "cell_type": "code",
   "execution_count": 8,
   "metadata": {},
   "outputs": [],
   "source": [
    "@map_scalar\n",
    "def add_one(x):\n",
    "    return x + 1"
   ]
  },
  {
   "cell_type": "code",
   "execution_count": 9,
   "metadata": {},
   "outputs": [
    {
     "data": {
      "text/plain": [
       "[4]"
      ]
     },
     "execution_count": 9,
     "metadata": {},
     "output_type": "execute_result"
    }
   ],
   "source": [
    "add_one(3)"
   ]
  },
  {
   "cell_type": "code",
   "execution_count": 10,
   "metadata": {},
   "outputs": [
    {
     "data": {
      "text/plain": [
       "[11, 21, 31, 41]"
      ]
     },
     "execution_count": 10,
     "metadata": {},
     "output_type": "execute_result"
    }
   ],
   "source": [
    "add_one(10, 20, 30, 40)"
   ]
  },
  {
   "cell_type": "markdown",
   "metadata": {},
   "source": [
    "## Change behavior on duck-type of arguments"
   ]
  },
  {
   "cell_type": "markdown",
   "metadata": {},
   "source": [
    "A slightly more interesting variant on the above is to turn Python functions into something like NumPy ufuncs.  That is, perhaps we would like them to operate on either scalars or sequences (preserving the sequence type)."
   ]
  },
  {
   "cell_type": "code",
   "execution_count": 11,
   "metadata": {},
   "outputs": [],
   "source": [
    "def elementwise(fn):\n",
    "    \"Transform a function on scalars into a function on collections\"\n",
    "    \n",
    "    def newfn(arg):\n",
    "        \"Inner function of elementwise decorator\"\n",
    "        # Treat a string as scalar even though it is iterable\n",
    "        if isinstance(arg, str):\n",
    "            return fn(arg)        \n",
    "        try:                      # Something iterable\n",
    "            return type(arg)(map(fn, arg))\n",
    "        except TypeError as err:  # Assume it is scalar\n",
    "            return fn(arg)\n",
    "        \n",
    "    return newfn"
   ]
  },
  {
   "cell_type": "code",
   "execution_count": 12,
   "metadata": {},
   "outputs": [],
   "source": [
    "@elementwise\n",
    "def compute(x):\n",
    "    \"Calculate one less than the cube of an input\"\n",
    "    return x**3 - 1"
   ]
  },
  {
   "cell_type": "code",
   "execution_count": 13,
   "metadata": {},
   "outputs": [
    {
     "data": {
      "text/plain": [
       "124"
      ]
     },
     "execution_count": 13,
     "metadata": {},
     "output_type": "execute_result"
    }
   ],
   "source": [
    "compute(5)"
   ]
  },
  {
   "cell_type": "code",
   "execution_count": 14,
   "metadata": {},
   "outputs": [
    {
     "data": {
      "text/plain": [
       "[0, (-47+9j), 29.959144000000002]"
      ]
     },
     "execution_count": 14,
     "metadata": {},
     "output_type": "execute_result"
    }
   ],
   "source": [
    "compute([1, 2+3j, 3.14]) "
   ]
  },
  {
   "cell_type": "code",
   "execution_count": 15,
   "metadata": {},
   "outputs": [
    {
     "data": {
      "text/plain": [
       "{511, 728, 999}"
      ]
     },
     "execution_count": 15,
     "metadata": {},
     "output_type": "execute_result"
    }
   ],
   "source": [
    "compute({8, 9, 10})"
   ]
  },
  {
   "cell_type": "markdown",
   "metadata": {},
   "source": [
    "# Where naïve wrapping goes wrong"
   ]
  },
  {
   "cell_type": "markdown",
   "metadata": {},
   "source": [
    "The simple examples above show a general pattern for creating decorators.  However, they are fragile in the face of object introspection, whether for debugging or other purposes.  Suppose we try to use a function and it goes wrong:"
   ]
  },
  {
   "cell_type": "code",
   "execution_count": 16,
   "metadata": {},
   "outputs": [
    {
     "name": "stdout",
     "output_type": "stream",
     "text": [
      "TypeError(\"unsupported operand type(s) for ** or pow(): 'str' and 'int'\")\n"
     ]
    }
   ],
   "source": [
    "try: \n",
    "    compute(\"Ionesco\")\n",
    "except Exception as err:\n",
    "    print(repr(err))"
   ]
  },
  {
   "cell_type": "markdown",
   "metadata": {},
   "source": [
    "That is not so terrible as an error message, we should try to figure out how we are meant to use the function."
   ]
  },
  {
   "cell_type": "code",
   "execution_count": 17,
   "metadata": {},
   "outputs": [
    {
     "name": "stdout",
     "output_type": "stream",
     "text": [
      "Help on function newfn in module __main__:\n",
      "\n",
      "newfn(arg)\n",
      "    Inner function of elementwise decorator\n",
      "\n"
     ]
    }
   ],
   "source": [
    "help(compute)"
   ]
  },
  {
   "cell_type": "markdown",
   "metadata": {},
   "source": [
    "We provided a docstring for `compute()`, but it got lost when it was decorated!  What we actually have is an instance of the inner function created within the decorator; that one does not have any docstring.  The actual function object only has the generic description of what it does within the decorator."
   ]
  },
  {
   "cell_type": "markdown",
   "metadata": {},
   "source": [
    "## Using `functools.wraps`\n",
    "\n",
    "As we do further introspection of `compute` we become more troubled that it is *not* really the function we created.  Fortunately, the solution here is very simple.  We simply need to use `functools.wraps` to cleanup these details for us."
   ]
  },
  {
   "cell_type": "code",
   "execution_count": 18,
   "metadata": {},
   "outputs": [],
   "source": [
    "import functools\n",
    "\n",
    "def elementwise(fn):\n",
    "    @functools.wraps(fn)  # <-- Add this to the interior function\n",
    "    def newfn(arg):\n",
    "        if isinstance(arg, str):  # string as scalar\n",
    "            return fn(arg)        \n",
    "        try:                      # Something iterable\n",
    "            return type(arg)(map(fn, arg))\n",
    "        except TypeError as err:  # Assume it is scalar\n",
    "            return fn(arg)\n",
    "    return newfn"
   ]
  },
  {
   "cell_type": "code",
   "execution_count": 19,
   "metadata": {},
   "outputs": [
    {
     "data": {
      "text/plain": [
       "(124, (0, 7, 26))"
      ]
     },
     "execution_count": 19,
     "metadata": {},
     "output_type": "execute_result"
    }
   ],
   "source": [
    "@elementwise\n",
    "def compute(x):\n",
    "    \"Calculate one less than the cube of input value(s)\"\n",
    "    return x**3 - 1\n",
    "\n",
    "compute(5), compute((1, 2, 3))"
   ]
  },
  {
   "cell_type": "code",
   "execution_count": 20,
   "metadata": {},
   "outputs": [
    {
     "name": "stdout",
     "output_type": "stream",
     "text": [
      "Help on function compute in module __main__:\n",
      "\n",
      "compute(x)\n",
      "    Calculate one less than the cube of input value(s)\n",
      "\n"
     ]
    }
   ],
   "source": [
    "help(compute)"
   ]
  },
  {
   "cell_type": "code",
   "execution_count": 21,
   "metadata": {},
   "outputs": [
    {
     "data": {
      "text/plain": [
       "'compute'"
      ]
     },
     "execution_count": 21,
     "metadata": {},
     "output_type": "execute_result"
    }
   ],
   "source": [
    "compute.__name__"
   ]
  },
  {
   "cell_type": "markdown",
   "metadata": {},
   "source": [
    "## Combining decorators\n",
    "\n",
    "It is often possible and useful to combine several decorators.  For example, let us make a decorator for logging operations performed."
   ]
  },
  {
   "cell_type": "code",
   "execution_count": 22,
   "metadata": {},
   "outputs": [],
   "source": [
    "from datetime import datetime\n",
    "def log_calls(fn):\n",
    "    # Name logfile after the function name\n",
    "    logfile = open(f\"{fn.__name__}.log\", 'w')\n",
    "    @functools.wraps(fn)\n",
    "    def inner(*args, **kws):\n",
    "        # Inner function accepts arbitrary positional and named args\n",
    "        result = fn(*args, **kws)\n",
    "        # Perform the logging\n",
    "        print(datetime.now().isoformat(), file=logfile, end=\" \")\n",
    "        # To simplify, not logging keyword args in this example\n",
    "        args = map(str, args)\n",
    "        print(f\"{fn.__name__}({','.join(args)}) → {result}\", \n",
    "              file=logfile, flush=True)\n",
    "        return result\n",
    "    return inner"
   ]
  },
  {
   "cell_type": "code",
   "execution_count": 23,
   "metadata": {},
   "outputs": [],
   "source": [
    "@log_calls\n",
    "@elementwise\n",
    "def compute(x):\n",
    "    \"Calculate one less than the cube of input value(s)\"\n",
    "    return x**3 - 1"
   ]
  },
  {
   "cell_type": "code",
   "execution_count": 24,
   "metadata": {},
   "outputs": [],
   "source": [
    "from time import sleep\n",
    "for data in [5, (1, 2, 3), [1, 2+3j, 3.14], {8, 9, 10}]:\n",
    "    compute(data)\n",
    "    sleep(1.2)"
   ]
  },
  {
   "cell_type": "code",
   "execution_count": 25,
   "metadata": {},
   "outputs": [
    {
     "name": "stdout",
     "output_type": "stream",
     "text": [
      "2021-03-03T23:42:49.478722 compute(5) → 124\n",
      "2021-03-03T23:42:50.681899 compute((1, 2, 3)) → (0, 7, 26)\n",
      "2021-03-03T23:42:51.882303 compute([1, (2+3j), 3.14]) → [0, (-47+9j), 29.959144000000002]\n",
      "2021-03-03T23:42:53.083855 compute({8, 9, 10}) → {728, 999, 511}\n"
     ]
    }
   ],
   "source": [
    "!cat compute.log"
   ]
  }
 ],
 "metadata": {
  "kernelspec": {
   "display_name": "Python 3",
   "language": "python",
   "name": "python3"
  },
  "language_info": {
   "codemirror_mode": {
    "name": "ipython",
    "version": 3
   },
   "file_extension": ".py",
   "mimetype": "text/x-python",
   "name": "python",
   "nbconvert_exporter": "python",
   "pygments_lexer": "ipython3",
   "version": "3.8.2"
  }
 },
 "nbformat": 4,
 "nbformat_minor": 4
}
