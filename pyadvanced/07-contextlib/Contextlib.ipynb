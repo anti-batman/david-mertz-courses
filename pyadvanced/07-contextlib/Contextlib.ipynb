{
 "cells": [
  {
   "cell_type": "markdown",
   "metadata": {},
   "source": [
    "<div style=\"position: relative; font-family: proxima-nova, sans-serif\";>\n",
    "<img src=\"https://user-images.githubusercontent.com/7065401/98728503-5ab82f80-2378-11eb-9c79-adeb308fc647.png\"></img>\n",
    "\n",
    "<h1 style=\"color: white; position: absolute; top:27%; left:10%;\">\n",
    "     Advanced Python\n",
    "</h1>\n",
    "<h2 style=\"color: white; position: absolute; top:36%; left:10%;\">\n",
    "    Iterators, Generators, Context Managers, and Decorators\n",
    "</h2>\n",
    "\n",
    "\n",
    "<h3 style=\"color: #ef7d22; font-weight: normal; position: absolute; top:58%; left:10%;\">\n",
    "    David Mertz, Ph.D.\n",
    "</h3>\n",
    "\n",
    "<h3 style=\"color: #ef7d22; font-weight: normal; position: absolute; top:63%; left:10%;\">\n",
    "    Data Scientist\n",
    "</h3>\n",
    "</div>"
   ]
  },
  {
   "cell_type": "markdown",
   "metadata": {},
   "source": [
    "# Contextlib and Advanced Context Managers\n",
    "\n",
    "In the last lesson you saw the Context Manager Protocol.  However, much as with iterators that are usually expressed much more easily as generator functions than as classes, the same it true of context managers.  By using the module `contextlib`, you can express context managers in a compact, flexible, and intuitive manner.\n",
    "\n",
    "As a first simple example, let us replicate the very simple `MyContext()` class from the last lesson, even more simply."
   ]
  },
  {
   "cell_type": "code",
   "execution_count": 2,
   "metadata": {},
   "outputs": [],
   "source": [
    "from contextlib import contextmanager\n",
    "\n",
    "@contextmanager\n",
    "def my_context(val=42):\n",
    "    try:\n",
    "        print(\"Initializing context\")\n",
    "        yield val\n",
    "    except BaseException as err:\n",
    "        print(f\"CM body raised {err.__class__.__name__}({err.args[0]})\")\n",
    "        print(f\"Inspect {err.__traceback__}\")\n",
    "    finally:\n",
    "        print(\"Exiting context\")"
   ]
  },
  {
   "cell_type": "code",
   "execution_count": 3,
   "metadata": {},
   "outputs": [
    {
     "name": "stdout",
     "output_type": "stream",
     "text": [
      "Initializing context\n",
      "The answer is 42\n",
      "Exiting context\n"
     ]
    }
   ],
   "source": [
    "with my_context() as t:\n",
    "    print(\"The answer is\", t)"
   ]
  },
  {
   "cell_type": "code",
   "execution_count": 4,
   "metadata": {},
   "outputs": [
    {
     "name": "stdout",
     "output_type": "stream",
     "text": [
      "Initializing context\n",
      "CM body raised ZeroDivisionError(division by zero)\n",
      "Inspect <traceback object at 0x7f51c0479d00>\n",
      "Exiting context\n"
     ]
    }
   ],
   "source": [
    "with my_context(33) as t:\n",
    "    x = t/0\n",
    "    print(x)"
   ]
  },
  {
   "cell_type": "markdown",
   "metadata": {},
   "source": [
    "## Temporary settings\n",
    "\n",
    "Being able to bind an integer value isn't that impressive.  We could yield any other (i.e. more complex and interesting) context object as well.  But often what we would like to do is set something up and tear it down.  We may not even need any context object to do that."
   ]
  },
  {
   "cell_type": "code",
   "execution_count": 5,
   "metadata": {},
   "outputs": [],
   "source": [
    "# Some global configuration information\n",
    "settings = {'host': \"ine.com\", 'port': 80, \n",
    "            'user': 'JohnColtrane',\n",
    "            'password': 'my_favorite_things'}"
   ]
  },
  {
   "cell_type": "code",
   "execution_count": 6,
   "metadata": {},
   "outputs": [],
   "source": [
    "@contextmanager\n",
    "def configure(**kws):\n",
    "    global settings\n",
    "    try:\n",
    "        old_settings = settings.copy()\n",
    "        settings.update(kws)\n",
    "        yield\n",
    "    finally:\n",
    "        settings = old_settings"
   ]
  },
  {
   "cell_type": "markdown",
   "metadata": {},
   "source": [
    "We can temporarily utilize some different settings.  Notice that here we do not bother binding any context object."
   ]
  },
  {
   "cell_type": "code",
   "execution_count": 7,
   "metadata": {},
   "outputs": [
    {
     "name": "stdout",
     "output_type": "stream",
     "text": [
      "Connecting to host: localhost\n",
      "Using port: 70\n"
     ]
    }
   ],
   "source": [
    "with configure(host='localhost', port=70):\n",
    "    print(\"Connecting to host:\", settings['host'])\n",
    "    print(\"Using port:\", settings['port'])"
   ]
  },
  {
   "cell_type": "code",
   "execution_count": 8,
   "metadata": {},
   "outputs": [
    {
     "data": {
      "text/plain": [
       "{'host': 'ine.com',\n",
       " 'port': 80,\n",
       " 'user': 'JohnColtrane',\n",
       " 'password': 'my_favorite_things'}"
      ]
     },
     "execution_count": 8,
     "metadata": {},
     "output_type": "execute_result"
    }
   ],
   "source": [
    "settings"
   ]
  },
  {
   "cell_type": "markdown",
   "metadata": {},
   "source": [
    "# The \"dual\" of subroutines\n",
    "\n",
    "The most common way users think about context managers is as a way to allocate some resources, run some user code with those resources in place, then guarantee cleanup afterwards.  This use is definitely useful, but context managers are much more general when thought of as a flow-control construct.\n",
    "\n",
    "The fundamental construct of [Structured Programming](https://en.wikipedia.org/wiki/Structured_programming) is organizing flow control in terms of calls to subroutines that contain repeated code (also called `functions` or `procedures` or `methods` by some programming languages).  All modern procedural programming (including object oriented programming) relies on this abstraction.\n",
    "\n",
    "We can think of context managers as another construct that is something like the mathematical <a href=\"https://en.wikipedia.org/wiki/Duality_(mathematics)\">dual</a> of subroutines, and that are in some sense almost as general as a construct."
   ]
  },
  {
   "cell_type": "markdown",
   "metadata": {},
   "source": [
    "## Reusing the middle"
   ]
  },
  {
   "cell_type": "markdown",
   "metadata": {},
   "source": [
    "What a subroutine does is to insert—by named reference—a block of reusable code in the middle of some lines of local-use code.  That local use might live inside a reusable block, but a call is always an encapsulation of functionality relative to the context.  The code we write every day looks something like this:\n",
    "\n",
    "```python\n",
    "def do_some_things(a, b, c, d, e):\n",
    "    \"Some sort of numeric steps to get a result\"\n",
    "    \n",
    "    #---- The Prelude -----#\n",
    "    a1 = a + b * c       # This line only relevant within this function\n",
    "    for i in range(10):  # This whole loop also specific to this context\n",
    "        b1 = b - a * d   \n",
    "        if b1 > 0:\n",
    "            b = e % b1\n",
    "            \n",
    "    #----- The reusable code, suitably parameterized -----#       \n",
    "    x = encapsulated_code(a1, b1, 10)\n",
    "        \n",
    "    #----- The Finalization -----#\n",
    "    w = x + a1 + b\n",
    "    y = math.log(w + x)\n",
    "    z = y**2\n",
    "    return z\n",
    "```"
   ]
  },
  {
   "cell_type": "markdown",
   "metadata": {},
   "source": [
    "We can imagine that the function `encapsulated_code()` has many steps inside of it, similar to `do_some_things()` itself.  It might have assignments, conditionals, branches, operations on values, etc.  But the idea is simply that rather repeating those multiple lines of code within the three branches in the playful example, we can simply call them with a meaningful name.  Moreover, many other functions not shown might equally take advantage of `encapsulated_code()` and whatever calculation it performs.\n",
    "\n",
    "Technically, we also call another function, `math.log()` during the final steps, and obviously that operation incorporates many steps that we would rather not write every time we want the logarithm of a number."
   ]
  },
  {
   "cell_type": "markdown",
   "metadata": {},
   "source": [
    "## Reusing the margins"
   ]
  },
  {
   "cell_type": "markdown",
   "metadata": {},
   "source": [
    "Take this very familiar concept of subroutines, and so-to-speak, \"turn it inside out.\"  Rather than having a block of reusable code that we utilize in the middle of our own local code, imagine that the reusable code acts as a wrapper around the outsides—or *margins*—of the code that we want to write for custom purposes.\n",
    "\n",
    "Clearly all those programming languages that do not have context managers manage to accomplish.  In some cases, something similar can be done with object constructors and destructors.  But more often, programmers simply write their \"prelude\" and \"finalize\" as separate functions and call those at the ends of their local purpose code:\n",
    "\n",
    "```python\n",
    "def enter_and_exit(a, b, c):\n",
    "    prelude(...)\n",
    "    # ... various lines of code for this local purpose\n",
    "    finalize(...)\n",
    "```"
   ]
  },
  {
   "cell_type": "markdown",
   "metadata": {},
   "source": [
    "If various preludes and finalizations might be relevant to \"bookend\" local code, the style shown is exactly what is needed.  However, it often happens that the prelude and finalization are closely tied to each other, and you always want them to match up in bookending your code.  When that occurs, allowing a single construct to define such \"bookend\" code is nice to have."
   ]
  },
  {
   "cell_type": "markdown",
   "metadata": {},
   "source": [
    "## Some moderately real-world numeric code"
   ]
  },
  {
   "cell_type": "markdown",
   "metadata": {},
   "source": [
    "The premise in the below examples are that we might want to do a variety of operations upon 2-D NumPy arrays, but after completing our local operations, we want to \"squeeze\" the results back towards the means of each column of data values.  This exact operation may not have any real world purpose, but the idea of consistent post-processing of arrays across a range of custom transformations is applicable to a variety of tasks.\n",
    "\n",
    "The key here is that we need to determine some derived property of the *original* array to use in applying a transformation to the locally transformed array.  If that derived property and the post-processing are consistently used together, factoring them as a context manager is a good approach."
   ]
  },
  {
   "cell_type": "code",
   "execution_count": 9,
   "metadata": {},
   "outputs": [],
   "source": [
    "import numpy as np\n",
    "from contextlib import contextmanager\n",
    "\n",
    "@contextmanager\n",
    "def squeeze_to_mean(arr):\n",
    "    assert arr.ndim == 2\n",
    "    mean = arr.mean(axis=0)\n",
    "    # This is the thing bound by the 'as'\n",
    "    yield mean\n",
    "    # Your code lives here when used\n",
    "    arr[:] = (arr + mean)/2"
   ]
  },
  {
   "cell_type": "markdown",
   "metadata": {},
   "source": [
    "Within the `squeeze_to_mean` context we do a few operations on our original array, some of which are based on the column means provided by the context manager.  In the examples, we simply add a little bit of random jitter to the values and print off some intermediate array values."
   ]
  },
  {
   "cell_type": "code",
   "execution_count": 10,
   "metadata": {},
   "outputs": [
    {
     "name": "stdout",
     "output_type": "stream",
     "text": [
      "arr:\n",
      "[[ 0.  1.  2.  3.]\n",
      " [ 4.  5.  6.  7.]\n",
      " [ 8.  9. 10. 11.]\n",
      " [12. 13. 14. 15.]\n",
      " [16. 17. 18. 19.]]\n",
      "\n",
      "jittered-only array:\n",
      "[[ 1.69525402  3.71835215  4.51381688  5.49685751]\n",
      " [ 5.1946192   7.40652351  7.68793606 11.4047515 ]\n",
      " [11.35465104 10.22548683 13.45862519 13.40892206]\n",
      " [13.77217824 16.66518487 13.85518029 14.97921115]\n",
      " [15.58087359 20.2467893  21.39078375 23.28506682]]\n",
      "\n",
      "jittered array with outliers set to 10:\n",
      "[[10.         10.         10.         10.        ]\n",
      " [10.          7.40652351  7.68793606 11.4047515 ]\n",
      " [11.35465104 10.22548683 13.45862519 13.40892206]\n",
      " [13.77217824 10.         13.85518029 10.        ]\n",
      " [10.         10.         10.         10.        ]]\n",
      "\n",
      "mean along axis 0:\n",
      "[ 8.  9. 10. 11.]\n",
      "\n",
      "jittered array pulled towards mean:\n",
      "[[ 9.          9.5        10.         10.5       ]\n",
      " [ 9.          8.20326175  8.84396803 11.20237575]\n",
      " [ 9.67732552  9.61274342 11.7293126  12.20446103]\n",
      " [10.88608912  9.5        11.92759015 10.5       ]\n",
      " [ 9.          9.5        10.         10.5       ]]\n"
     ]
    }
   ],
   "source": [
    "np.random.seed(0)\n",
    "arr = np.arange(20, dtype=float).reshape(5, 4)\n",
    "print('arr:')\n",
    "print(arr)\n",
    "\n",
    "with squeeze_to_mean(arr) as mean:\n",
    "    jitter = mean/2 * np.random.random(20).reshape(5,4) - 0.5\n",
    "    arr[:] += jitter\n",
    "    print(\"\\njittered-only array:\")\n",
    "    print(arr)\n",
    "    arr[np.abs(arr-10) >= 4] = 10\n",
    "    print(\"\\njittered array with outliers set to 10:\")\n",
    "    print(arr)\n",
    "\n",
    "print(\"\\nmean along axis 0:\")\n",
    "print(mean)\n",
    "\n",
    "print(\"\\njittered array pulled towards mean:\")\n",
    "print(arr)"
   ]
  }
 ],
 "metadata": {
  "kernelspec": {
   "display_name": "Python 3",
   "language": "python",
   "name": "python3"
  },
  "language_info": {
   "codemirror_mode": {
    "name": "ipython",
    "version": 3
   },
   "file_extension": ".py",
   "mimetype": "text/x-python",
   "name": "python",
   "nbconvert_exporter": "python",
   "pygments_lexer": "ipython3",
   "version": "3.8.2"
  }
 },
 "nbformat": 4,
 "nbformat_minor": 4
}
