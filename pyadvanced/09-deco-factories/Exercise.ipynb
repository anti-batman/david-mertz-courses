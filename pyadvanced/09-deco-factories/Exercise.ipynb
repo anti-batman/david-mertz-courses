{
 "cells": [
  {
   "cell_type": "markdown",
   "metadata": {},
   "source": [
    "# Description"
   ]
  },
  {
   "cell_type": "markdown",
   "metadata": {},
   "source": [
    "Writing parameterized decorators is a powerful way of describing some general cross-cutting behavior that is also partially specialized.  However, in decoratoring a function you have to determine if the \"decorator\" is actually a decorator or a decorator function.  At least you do in the examples in the lessons.\n",
    "\n",
    "A number of widely used decorators in the standard library and in widely-used third-party tools can act as *either* a decorator factory *or* as a decorator directly.  For example:\n",
    "\n",
    "```python\n",
    "from functools import lru_cache\n",
    "\n",
    "@lru_cache\n",
    "def add1(a, b):\n",
    "    return a+b\n",
    "\n",
    "@lru_cache(maxsize=128)\n",
    "def add2(a, b):\n",
    "    return a+b\n",
    "```\n",
    "\n",
    "Both `add1()` and `add2()` are memoized, and in fact have the same maximum cache size.  In the factory variation, you could specify a non-default `maxsize`, of course.\n",
    "\n",
    "For this exercise, you should write your own dual-use decorator.  Your will be called `@orbits` after the style of a Mandelbrot set function which resembles this:\n",
    "\n",
    "```python\n",
    "def mandelbrot(z0:complex, orbits:int=255) -> complex:\n",
    "    z = z0\n",
    "    for n in range(orbits):\n",
    "        z = z**2 + z0\n",
    "    return z\n",
    "```\n",
    "\n",
    "The idea here is that you would like to write a function that only expresses a single transformation of a (complex) number, but when decorated it will repeatedly apply that operation for a number of \"orbits.\"  If not parameterized, it will default to 10 orbits.  As an example, the `m_orbit()` function is defined in the setup."
   ]
  },
  {
   "cell_type": "markdown",
   "metadata": {},
   "source": [
    "# Setup"
   ]
  },
  {
   "cell_type": "code",
   "execution_count": 1,
   "metadata": {},
   "outputs": [
    {
     "data": {
      "text/plain": [
       "(-0.32999999999999996-0.06j)"
      ]
     },
     "execution_count": 1,
     "metadata": {},
     "output_type": "execute_result"
    }
   ],
   "source": [
    "# You may decide to use a class-based version.  \n",
    "# Non-working identity decorator only created as example\n",
    "def orbits(fn):\n",
    "    def inner(z):\n",
    "        return fn(z)\n",
    "    return inner\n",
    "\n",
    "# Definition of a single orbit\n",
    "@orbits\n",
    "def m_orbit(z: complex) -> complex:\n",
    "    return z**2 + z\n",
    "\n",
    "# correct is approx -0.0733106-0.0017179j\n",
    "m_orbit(-0.6+0.3j)    #-> wrong is approx -0.33-0.06j"
   ]
  },
  {
   "cell_type": "markdown",
   "metadata": {},
   "source": [
    "# Solution"
   ]
  },
  {
   "cell_type": "code",
   "execution_count": 2,
   "metadata": {},
   "outputs": [],
   "source": [
    "from types import FunctionType\n",
    "\n",
    "def orbits(fun_or_count):\n",
    "    if isinstance(fun_or_count, FunctionType):\n",
    "        fn = fun_or_count\n",
    "        def inner(z):\n",
    "            for _ in range(10):\n",
    "                z = fn(z)\n",
    "            return z\n",
    "        return inner\n",
    "    \n",
    "    elif isinstance(fun_or_count, int) and fun_or_count >= 0:\n",
    "        n = fun_or_count\n",
    "        def decorator(fn):\n",
    "            def inner(z):\n",
    "                for _ in range(n):\n",
    "                    z = fn(z)\n",
    "                return z\n",
    "            return inner\n",
    "        return decorator\n",
    "    \n",
    "    else:\n",
    "        raise ValueError(\"Number of orbits must be a non-negative integer\")"
   ]
  },
  {
   "cell_type": "markdown",
   "metadata": {},
   "source": [
    "# Test Cases"
   ]
  },
  {
   "cell_type": "code",
   "execution_count": 3,
   "metadata": {},
   "outputs": [],
   "source": [
    "def test_noparam():\n",
    "    from cmath import isclose\n",
    "    c = -0.1+0.65j\n",
    "    @orbits\n",
    "    def j_orbit(z):\n",
    "        return z**2 + c\n",
    "    z = j_orbit(0.1-0.5j)\n",
    "    assert isclose(z, -0.3170447+0.5734000j, abs_tol=1e-7), z\n",
    "    \n",
    "test_noparam()"
   ]
  },
  {
   "cell_type": "code",
   "execution_count": 4,
   "metadata": {},
   "outputs": [],
   "source": [
    "def test_param0():\n",
    "    from cmath import isclose\n",
    "    c = -0.1+0.65j\n",
    "    @orbits(0)\n",
    "    def j_orbit(z):\n",
    "        return z**2 + c\n",
    "    z = j_orbit(0.1-0.5j)    \n",
    "    assert isclose(z, 0.1-0.5j), z\n",
    "    \n",
    "test_param0()"
   ]
  },
  {
   "cell_type": "code",
   "execution_count": 5,
   "metadata": {},
   "outputs": [],
   "source": [
    "def test_param10():\n",
    "    from cmath import isclose\n",
    "    c = -0.1+0.65j\n",
    "    @orbits(10)\n",
    "    def j_orbit(z):\n",
    "        return z**2 + c\n",
    "    z = j_orbit(0.1-0.5j)\n",
    "    assert isclose(z, -0.3170447+0.5734000j, abs_tol=1e-7), z\n",
    "    \n",
    "test_param10()"
   ]
  },
  {
   "cell_type": "code",
   "execution_count": 6,
   "metadata": {},
   "outputs": [],
   "source": [
    "def test_param255():\n",
    "    from cmath import isclose\n",
    "    c = -0.1+0.65j\n",
    "    @orbits(255)\n",
    "    def j_orbit(z):\n",
    "        return z**2 + c\n",
    "    z = j_orbit(0.1-0.5j)\n",
    "    assert isclose(z, -0.0304571+0.1706268j, abs_tol=1e-7), z\n",
    "    \n",
    "test_param255()"
   ]
  },
  {
   "cell_type": "code",
   "execution_count": 7,
   "metadata": {},
   "outputs": [],
   "source": [
    "def test_default():\n",
    "    from cmath import isclose\n",
    "    c = -0.1+0.65j\n",
    "    @orbits(10)\n",
    "    def j1_orbit(z): return z**2 + c\n",
    "    @orbits\n",
    "    def j2_orbit(z): return z**2 + c\n",
    "    assert j1_orbit(0.1-0.5j) == j2_orbit(0.1-0.5j)\n",
    "    \n",
    "test_default()"
   ]
  }
 ],
 "metadata": {
  "kernelspec": {
   "display_name": "Python 3",
   "language": "python",
   "name": "python3"
  },
  "language_info": {
   "codemirror_mode": {
    "name": "ipython",
    "version": 3
   },
   "file_extension": ".py",
   "mimetype": "text/x-python",
   "name": "python",
   "nbconvert_exporter": "python",
   "pygments_lexer": "ipython3",
   "version": "3.8.2"
  }
 },
 "nbformat": 4,
 "nbformat_minor": 4
}
