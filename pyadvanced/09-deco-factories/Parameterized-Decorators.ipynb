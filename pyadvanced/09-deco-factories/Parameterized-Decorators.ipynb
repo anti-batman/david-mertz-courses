{
 "cells": [
  {
   "cell_type": "markdown",
   "metadata": {},
   "source": [
    "<div style=\"position: relative;\">\n",
    "<img src=\"https://user-images.githubusercontent.com/7065401/98728503-5ab82f80-2378-11eb-9c79-adeb308fc647.png\"></img>\n",
    "\n",
    "<h1 style=\"color: white; position: absolute; top:27%; left:10%;\">\n",
    "     Advanced Python\n",
    "</h1>\n",
    "<h2 style=\"color: white; position: absolute; top:36%; left:10%;\">\n",
    "    Iterators, Generators, Context Managers, and Decorators\n",
    "</h2>\n",
    "\n",
    "\n",
    "<h3 style=\"color: #ef7d22; font-weight: normal; position: absolute; top:58%; left:10%;\">\n",
    "    David Mertz, Ph.D.\n",
    "</h3>\n",
    "\n",
    "<h3 style=\"color: #ef7d22; font-weight: normal; position: absolute; top:63%; left:10%;\">\n",
    "    Data Scientist\n",
    "</h3>\n",
    "</div>"
   ]
  },
  {
   "cell_type": "markdown",
   "metadata": {},
   "source": [
    "# Decorator Factories"
   ]
  },
  {
   "cell_type": "markdown",
   "metadata": {},
   "source": [
    "A common pattern is to use *decorator factories* rather than decorators directly.  This allows us to parameterize the decoration of a function in some manner. In order to accept these parameters, we have to wrap our decorator in another function that will accept these.  Let's write a decorator factory that will write the output of a function to a file."
   ]
  },
  {
   "cell_type": "code",
   "execution_count": 1,
   "metadata": {},
   "outputs": [],
   "source": [
    "from functools import wraps\n",
    "from datetime import datetime\n",
    "\n",
    "def log_results(filename):\n",
    "    def decorator(func):\n",
    "        @wraps(func)\n",
    "        def inner(*args, **kws):\n",
    "            result = func(*args, **kws)\n",
    "            with open(filename, 'a') as fh:\n",
    "                now = datetime.utcnow().isoformat()\n",
    "                name = func.__name__\n",
    "                fh.write(f\"{now}\\t{name}\\t{args}\\t{kws}\\t{repr(result)}\\n\")\n",
    "            return result\n",
    "        return inner\n",
    "    return decorator\n",
    "\n",
    "logfile = \"ine-lesson.log\""
   ]
  },
  {
   "cell_type": "code",
   "execution_count": 2,
   "metadata": {},
   "outputs": [],
   "source": [
    "@log_results(logfile)\n",
    "def myfunc(a, b, c=None):\n",
    "    \"Return a formatted display of arguments\"\n",
    "    outstr = f\"a={a}; b={b}; c={c}\"\n",
    "    return outstr"
   ]
  },
  {
   "cell_type": "code",
   "execution_count": 3,
   "metadata": {},
   "outputs": [
    {
     "name": "stdout",
     "output_type": "stream",
     "text": [
      "Help on function myfunc in module __main__:\n",
      "\n",
      "myfunc(a, b, c=None)\n",
      "    Return a formatted display of arguments\n",
      "\n"
     ]
    }
   ],
   "source": [
    "# Make sure the docstring of the decorated function remains\n",
    "help(myfunc)"
   ]
  },
  {
   "cell_type": "code",
   "execution_count": 4,
   "metadata": {},
   "outputs": [
    {
     "data": {
      "text/plain": [
       "'a=3; b=6; c=Flowerpot'"
      ]
     },
     "execution_count": 4,
     "metadata": {},
     "output_type": "execute_result"
    }
   ],
   "source": [
    "myfunc(3, 6, \"Flowerpot\")"
   ]
  },
  {
   "cell_type": "code",
   "execution_count": 5,
   "metadata": {},
   "outputs": [
    {
     "data": {
      "text/plain": [
       "'a=4; b=5; c=Gardenhose'"
      ]
     },
     "execution_count": 5,
     "metadata": {},
     "output_type": "execute_result"
    }
   ],
   "source": [
    "myfunc(4, 5, \"Gardenhose\")"
   ]
  },
  {
   "cell_type": "markdown",
   "metadata": {},
   "source": [
    "We might use the decorator with another function. In this case, it logs to the same file, but a different one is equally possible as a parameter."
   ]
  },
  {
   "cell_type": "code",
   "execution_count": 6,
   "metadata": {},
   "outputs": [],
   "source": [
    "@log_results(logfile)\n",
    "def hypotenuse(a, b):\n",
    "    \"Calculate the hypotenuse of a right triangle\"\n",
    "    from math import sqrt\n",
    "    c = sqrt(a**2 + b**2)\n",
    "    return c"
   ]
  },
  {
   "cell_type": "code",
   "execution_count": 7,
   "metadata": {},
   "outputs": [
    {
     "data": {
      "text/plain": [
       "(5.0, 18.601075237738275)"
      ]
     },
     "execution_count": 7,
     "metadata": {},
     "output_type": "execute_result"
    }
   ],
   "source": [
    "hypotenuse(3, 4), hypotenuse(11, 15)"
   ]
  },
  {
   "cell_type": "code",
   "execution_count": 8,
   "metadata": {},
   "outputs": [
    {
     "name": "stdout",
     "output_type": "stream",
     "text": [
      "2021-03-04T23:08:35.795322\tmyfunc\t(3, 6, 'Flowerpot')\t{}\t'a=3; b=6; c=Flowerpot'\n",
      "2021-03-04T23:08:42.153743\tmyfunc\t(4, 5, 'Gardenhose')\t{}\t'a=4; b=5; c=Gardenhose'\n",
      "2021-03-04T23:09:30.016644\thypotenuse\t(3, 4)\t{}\t5.0\n",
      "2021-03-04T23:09:30.017101\thypotenuse\t(11, 15)\t{}\t18.601075237738275\n",
      "2021-03-04T23:36:25.773006\tmyfunc\t(3, 6, 'Flowerpot')\t{}\t'a=3; b=6; c=Flowerpot'\n",
      "2021-03-04T23:36:26.414269\tmyfunc\t(4, 5, 'Gardenhose')\t{}\t'a=4; b=5; c=Gardenhose'\n",
      "2021-03-04T23:36:27.895755\thypotenuse\t(3, 4)\t{}\t5.0\n",
      "2021-03-04T23:36:27.896583\thypotenuse\t(11, 15)\t{}\t18.601075237738275\n",
      "\n"
     ]
    }
   ],
   "source": [
    "# Lets read the log\n",
    "with open(logfile) as fi:\n",
    "    print(''.join(fi.readlines()))"
   ]
  },
  {
   "cell_type": "markdown",
   "metadata": {},
   "source": [
    "When we use a function based approach, we need to nest several levels.  There is the factory function, inside that is the (parameterized)"
   ]
  },
  {
   "cell_type": "markdown",
   "metadata": {},
   "source": [
    "# Decorator Classes"
   ]
  },
  {
   "cell_type": "markdown",
   "metadata": {},
   "source": [
    "You can use a class to define a decorator factory.  This class will need define the `__call__()` method, and may define any supporting methods that are useful.  Since it is a decorator factory, presumably there should be an `__init__()` method to process the parameterization.  The point to understand is that calling the class produces an instance, and that instance that acts as a decorator (and hence needs to be made callable as something that transforms a function in some manner)."
   ]
  },
  {
   "cell_type": "code",
   "execution_count": 9,
   "metadata": {},
   "outputs": [],
   "source": [
    "from collections import defaultdict\n",
    "\n",
    "class logfile(object):\n",
    "    # Class-level attribute\n",
    "    _logged_funcs = defaultdict(list)\n",
    "    \n",
    "    def __init__(self, filename):\n",
    "        # Keep track of the name of the log file used\n",
    "        self._logfile = filename\n",
    "    \n",
    "    @classmethod\n",
    "    def _note_func(cls, logfile, func):\n",
    "        cls._logged_funcs[logfile].append(func)\n",
    "    \n",
    "    def __call__(self, func):\n",
    "        self._note_func(self._logfile, func)\n",
    "        \n",
    "        @wraps(func)\n",
    "        def inner(*args, **kws):\n",
    "            result = func(*args, **kws)\n",
    "            now = datetime.utcnow().isoformat()\n",
    "            name = func.__name__\n",
    "            with open(self._logfile, 'a') as fh:\n",
    "                fh.write(f\"{now}\\t{name}\\t{args}\\t{kws}\\t{repr(result)}\\n\")\n",
    "            return result\n",
    "        return inner\n",
    "    \n",
    "    @classmethod\n",
    "    def get_registry(cls):\n",
    "        return dict(cls._logged_funcs)"
   ]
  },
  {
   "cell_type": "code",
   "execution_count": 10,
   "metadata": {},
   "outputs": [
    {
     "data": {
      "text/plain": [
       "'hello from function g'"
      ]
     },
     "execution_count": 10,
     "metadata": {},
     "output_type": "execute_result"
    }
   ],
   "source": [
    "@logfile('ine-lesson-en.log')\n",
    "def g():\n",
    "    \"A function that says hello\"\n",
    "    return 'hello from function g'\n",
    "g()"
   ]
  },
  {
   "cell_type": "code",
   "execution_count": 11,
   "metadata": {},
   "outputs": [
    {
     "name": "stdout",
     "output_type": "stream",
     "text": [
      "Help on function g in module __main__:\n",
      "\n",
      "g()\n",
      "    A function that says hello\n",
      "\n"
     ]
    }
   ],
   "source": [
    "help(g)"
   ]
  },
  {
   "cell_type": "code",
   "execution_count": 12,
   "metadata": {},
   "outputs": [
    {
     "data": {
      "text/plain": [
       "{'ine-lesson-en.log': [<function __main__.g()>]}"
      ]
     },
     "execution_count": 12,
     "metadata": {},
     "output_type": "execute_result"
    }
   ],
   "source": [
    "logfile.get_registry()"
   ]
  },
  {
   "cell_type": "code",
   "execution_count": 13,
   "metadata": {},
   "outputs": [
    {
     "data": {
      "text/plain": [
       "'bye from function h'"
      ]
     },
     "execution_count": 13,
     "metadata": {},
     "output_type": "execute_result"
    }
   ],
   "source": [
    "@logfile('ine-lesson-en.log')\n",
    "def h():\n",
    "    return \"bye from function h\"\n",
    "h()"
   ]
  },
  {
   "cell_type": "code",
   "execution_count": 14,
   "metadata": {},
   "outputs": [
    {
     "data": {
      "text/plain": [
       "'Hola de la función i'"
      ]
     },
     "execution_count": 14,
     "metadata": {},
     "output_type": "execute_result"
    }
   ],
   "source": [
    "@logfile('ine-lesson-es.log')\n",
    "def i():\n",
    "    return \"Hola de la función i\"\n",
    "i()"
   ]
  },
  {
   "cell_type": "code",
   "execution_count": 15,
   "metadata": {},
   "outputs": [
    {
     "data": {
      "text/plain": [
       "'Adiós de la función j'"
      ]
     },
     "execution_count": 15,
     "metadata": {},
     "output_type": "execute_result"
    }
   ],
   "source": [
    "@logfile('ine-lesson-es.log')\n",
    "def j():\n",
    "    return \"Adiós de la función j\"\n",
    "j()"
   ]
  },
  {
   "cell_type": "code",
   "execution_count": 16,
   "metadata": {},
   "outputs": [
    {
     "data": {
      "text/plain": [
       "('hello from function g',\n",
       " 'bye from function h',\n",
       " 'Hola de la función i',\n",
       " 'Adiós de la función j')"
      ]
     },
     "execution_count": 16,
     "metadata": {},
     "output_type": "execute_result"
    }
   ],
   "source": [
    "g(), h(), i(), j()"
   ]
  },
  {
   "cell_type": "code",
   "execution_count": 17,
   "metadata": {},
   "outputs": [
    {
     "data": {
      "text/plain": [
       "{'ine-lesson-en.log': [<function __main__.g()>, <function __main__.h()>],\n",
       " 'ine-lesson-es.log': [<function __main__.i()>, <function __main__.j()>]}"
      ]
     },
     "execution_count": 17,
     "metadata": {},
     "output_type": "execute_result"
    }
   ],
   "source": [
    "logfile.get_registry()"
   ]
  },
  {
   "cell_type": "code",
   "execution_count": 18,
   "metadata": {},
   "outputs": [
    {
     "name": "stdout",
     "output_type": "stream",
     "text": [
      "2021-03-04T23:17:19.002112\tg\t()\t{}\t'hello from function g'\n",
      "2021-03-04T23:19:00.472819\th\t()\t{}\t'bye from function h'\n",
      "2021-03-04T23:19:49.045045\tg\t()\t{}\t'hello from function g'\n",
      "2021-03-04T23:19:49.050641\th\t()\t{}\t'bye from function h'\n",
      "2021-03-04T23:36:35.478895\tg\t()\t{}\t'hello from function g'\n",
      "2021-03-04T23:36:37.447330\th\t()\t{}\t'bye from function h'\n",
      "2021-03-04T23:36:40.811252\tg\t()\t{}\t'hello from function g'\n",
      "2021-03-04T23:36:40.812397\th\t()\t{}\t'bye from function h'\n",
      "2021-03-04T23:19:15.430406\ti\t()\t{}\t'Hola de la función i'\n",
      "2021-03-04T23:19:20.179805\tj\t()\t{}\t'Adiós de la función j'\n",
      "2021-03-04T23:19:49.051021\ti\t()\t{}\t'Hola de la función i'\n",
      "2021-03-04T23:19:49.051341\tj\t()\t{}\t'Adiós de la función j'\n",
      "2021-03-04T23:36:38.566427\ti\t()\t{}\t'Hola de la función i'\n",
      "2021-03-04T23:36:39.416805\tj\t()\t{}\t'Adiós de la función j'\n",
      "2021-03-04T23:36:40.812789\ti\t()\t{}\t'Hola de la función i'\n",
      "2021-03-04T23:36:40.812876\tj\t()\t{}\t'Adiós de la función j'\n",
      "2021-03-04T23:08:35.795322\tmyfunc\t(3, 6, 'Flowerpot')\t{}\t'a=3; b=6; c=Flowerpot'\n",
      "2021-03-04T23:08:42.153743\tmyfunc\t(4, 5, 'Gardenhose')\t{}\t'a=4; b=5; c=Gardenhose'\n",
      "2021-03-04T23:09:30.016644\thypotenuse\t(3, 4)\t{}\t5.0\n",
      "2021-03-04T23:09:30.017101\thypotenuse\t(11, 15)\t{}\t18.601075237738275\n",
      "2021-03-04T23:36:25.773006\tmyfunc\t(3, 6, 'Flowerpot')\t{}\t'a=3; b=6; c=Flowerpot'\n",
      "2021-03-04T23:36:26.414269\tmyfunc\t(4, 5, 'Gardenhose')\t{}\t'a=4; b=5; c=Gardenhose'\n",
      "2021-03-04T23:36:27.895755\thypotenuse\t(3, 4)\t{}\t5.0\n",
      "2021-03-04T23:36:27.896583\thypotenuse\t(11, 15)\t{}\t18.601075237738275\n"
     ]
    }
   ],
   "source": [
    "!cat ine-lesson*.log"
   ]
  },
  {
   "cell_type": "markdown",
   "metadata": {},
   "source": [
    "# Memoization"
   ]
  },
  {
   "cell_type": "markdown",
   "metadata": {},
   "source": [
    "Suppose we have a computationally intensive method, ```f()```, that calculates some result (in this case, a number).\n",
    "We have to call this function many times, but do not wait forever to recalculate our result."
   ]
  },
  {
   "cell_type": "code",
   "execution_count": 19,
   "metadata": {},
   "outputs": [],
   "source": [
    "import time\n",
    "\n",
    "def f(a, b):\n",
    "    # <expensive number crunching here>\n",
    "    out = a + b\n",
    "    time.sleep(1.5)\n",
    "    return out"
   ]
  },
  {
   "cell_type": "code",
   "execution_count": 20,
   "metadata": {},
   "outputs": [
    {
     "name": "stdout",
     "output_type": "stream",
     "text": [
      "1.5 s ± 379 µs per loop (mean ± std. dev. of 7 runs, 1 loop each)\n"
     ]
    }
   ],
   "source": [
    "%timeit f(3, 5)"
   ]
  },
  {
   "cell_type": "markdown",
   "metadata": {},
   "source": [
    "Assuming our function is *pure*, it would be nice to cache the results of our previous calls. This was, when `f()` is called again with the same arguments it will simply return the cached result instead of recalculating the answer.\n",
    "\n",
    "This sort of caching is called *memoization*.  Lets define a class decorator that will memoize any function that we decorate. Note that there is a faster, better tested, and more flexible version of this particular decorator available as `functools.lru_cache` in the standard library.  As of Python 3.9, there is also a `functoools.cache()` as well (with slightly different behavior)."
   ]
  },
  {
   "cell_type": "code",
   "execution_count": 21,
   "metadata": {},
   "outputs": [],
   "source": [
    "class Memoizer(object):\n",
    "    def __init__(self, func):\n",
    "        self.cache = {}\n",
    "        self.func = func\n",
    "        \n",
    "    def __call__(self, *args, **kwargs):\n",
    "        # Use sorted tuples because much smaller in memory than frozensets\n",
    "        # Even though frozensets are slightly faster to construct.\n",
    "        # We sort so that we can compare the keyword args.\n",
    "        # We use strings because our args or kwargs may not be hashable.\n",
    "        # Repr should return a unique string for its object\n",
    "        key = (repr(args), repr(tuple(sorted(kwargs.items()))))\n",
    "        if key in self.cache:\n",
    "            return self.cache[key]\n",
    "        self.cache[key] = self.func(*args, **kwargs)\n",
    "        return self.cache[key]"
   ]
  },
  {
   "cell_type": "code",
   "execution_count": 22,
   "metadata": {},
   "outputs": [],
   "source": [
    "import sys\n",
    "\n",
    "@Memoizer\n",
    "def f(a, b, mod=sys.maxsize):\n",
    "    # <expensive number crunching here>\n",
    "    out = (a + b) % mod\n",
    "    time.sleep(1.5)\n",
    "    return out"
   ]
  },
  {
   "cell_type": "code",
   "execution_count": 23,
   "metadata": {},
   "outputs": [
    {
     "name": "stdout",
     "output_type": "stream",
     "text": [
      "CPU times: user 0 ns, sys: 2.01 ms, total: 2.01 ms\n",
      "Wall time: 1.5 s\n"
     ]
    },
    {
     "data": {
      "text/plain": [
       "8"
      ]
     },
     "execution_count": 23,
     "metadata": {},
     "output_type": "execute_result"
    }
   ],
   "source": [
    "%time f(3, 5)"
   ]
  },
  {
   "cell_type": "code",
   "execution_count": 24,
   "metadata": {},
   "outputs": [
    {
     "name": "stdout",
     "output_type": "stream",
     "text": [
      "CPU times: user 0 ns, sys: 3.02 ms, total: 3.02 ms\n",
      "Wall time: 1.5 s\n"
     ]
    },
    {
     "data": {
      "text/plain": [
       "13"
      ]
     },
     "execution_count": 24,
     "metadata": {},
     "output_type": "execute_result"
    }
   ],
   "source": [
    "%time f(6, 7, mod=37)"
   ]
  },
  {
   "cell_type": "code",
   "execution_count": 25,
   "metadata": {},
   "outputs": [
    {
     "name": "stdout",
     "output_type": "stream",
     "text": [
      "CPU times: user 53 µs, sys: 11 µs, total: 64 µs\n",
      "Wall time: 78.7 µs\n"
     ]
    },
    {
     "data": {
      "text/plain": [
       "8"
      ]
     },
     "execution_count": 25,
     "metadata": {},
     "output_type": "execute_result"
    }
   ],
   "source": [
    "%time f(3, 5)"
   ]
  },
  {
   "cell_type": "code",
   "execution_count": 26,
   "metadata": {},
   "outputs": [
    {
     "name": "stdout",
     "output_type": "stream",
     "text": [
      "CPU times: user 68 µs, sys: 0 ns, total: 68 µs\n",
      "Wall time: 84.2 µs\n"
     ]
    },
    {
     "data": {
      "text/plain": [
       "13"
      ]
     },
     "execution_count": 26,
     "metadata": {},
     "output_type": "execute_result"
    }
   ],
   "source": [
    "%time f(6, 7, mod=37)"
   ]
  },
  {
   "cell_type": "code",
   "execution_count": 27,
   "metadata": {},
   "outputs": [
    {
     "name": "stdout",
     "output_type": "stream",
     "text": [
      "CPU times: user 3.76 ms, sys: 0 ns, total: 3.76 ms\n",
      "Wall time: 1.5 s\n"
     ]
    },
    {
     "data": {
      "text/plain": [
       "13"
      ]
     },
     "execution_count": 27,
     "metadata": {},
     "output_type": "execute_result"
    }
   ],
   "source": [
    "%time f(6, 7, mod=111)"
   ]
  },
  {
   "cell_type": "code",
   "execution_count": 28,
   "metadata": {},
   "outputs": [
    {
     "data": {
      "text/plain": [
       "{('(3, 5)', '()'): 8,\n",
       " ('(6, 7)', \"(('mod', 37),)\"): 13,\n",
       " ('(6, 7)', \"(('mod', 111),)\"): 13}"
      ]
     },
     "execution_count": 28,
     "metadata": {},
     "output_type": "execute_result"
    }
   ],
   "source": [
    "f.cache"
   ]
  },
  {
   "cell_type": "code",
   "execution_count": null,
   "metadata": {},
   "outputs": [],
   "source": []
  }
 ],
 "metadata": {
  "kernelspec": {
   "display_name": "Python 3",
   "language": "python",
   "name": "python3"
  },
  "language_info": {
   "codemirror_mode": {
    "name": "ipython",
    "version": 3
   },
   "file_extension": ".py",
   "mimetype": "text/x-python",
   "name": "python",
   "nbconvert_exporter": "python",
   "pygments_lexer": "ipython3",
   "version": "3.8.2"
  }
 },
 "nbformat": 4,
 "nbformat_minor": 4
}
