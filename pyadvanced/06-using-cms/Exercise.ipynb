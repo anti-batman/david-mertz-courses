{
 "cells": [
  {
   "cell_type": "markdown",
   "metadata": {},
   "source": [
    "# Description"
   ]
  },
  {
   "cell_type": "markdown",
   "metadata": {},
   "source": [
    "The Python `timeit` module provides very good quality timing of operations, with statistics, disabling of garbage collection, and options to run separate setup versus timing code.  Within Jupyter or IPython, the `%time` and `%timeit` magics offer similar bundled capability.\n",
    "\n",
    "In this exercise, you will create something less sophisticated than that, but still useful.  You should develop a custom context manager called `Timer` that will run code multiple times, and save both the result from each run and the time it took.  For example, using the `slow_random_normal()` function provided in the Setup:\n",
    "\n",
    "```python\n",
    ">>> with Timer(slow_random_normal, loops=5) as fn:\n",
    "...     fn.run(-3, stdev=5)\n",
    "\n",
    ">>> print(\"Timers:\", fn.timers)\n",
    "Timers: [0.0501605, 0.0502064, 0.0501945, 0.0502957, 0.0501452]\n",
    ">>> print(\"Results:\", fn.results)\n",
    "Results: [-0.2525025, -1.4776930, -2.4067729, -1.3618136, -0.6298354]\n",
    "```\n",
    "\n",
    "Note that the test cases assume `slow_random_normal()` retains the same implementation provided."
   ]
  },
  {
   "cell_type": "markdown",
   "metadata": {},
   "source": [
    "# Setup"
   ]
  },
  {
   "cell_type": "code",
   "execution_count": 1,
   "metadata": {},
   "outputs": [],
   "source": [
    "from time import sleep\n",
    "from random import random\n",
    "\n",
    "def slow_random_normal(mean=0, stdev=1):\n",
    "    sleep(0.05)\n",
    "    r = mean + stdev*random()\n",
    "    return r\n",
    "\n",
    "class Timer:\n",
    "    \"Implementation here\""
   ]
  },
  {
   "cell_type": "markdown",
   "metadata": {},
   "source": [
    "# Solution"
   ]
  },
  {
   "cell_type": "code",
   "execution_count": 2,
   "metadata": {},
   "outputs": [],
   "source": [
    "from time import perf_counter\n",
    "\n",
    "class Timer:\n",
    "    def __init__(self, fn=lambda *args, **kws: None, loops=1):\n",
    "        self.loops = loops\n",
    "        self.fn = fn\n",
    "        self.timers = list()\n",
    "        self.results = list()\n",
    "        \n",
    "    def __enter__(self):\n",
    "        return self\n",
    "    \n",
    "    def __exit__(self, type_, value, tb):\n",
    "        pass\n",
    "    \n",
    "    def run(self, *args, **kws):\n",
    "        for _ in range(self.loops):\n",
    "            start = perf_counter()\n",
    "            result = self.fn(*args, **kws)\n",
    "            self.timers.append(perf_counter() - start)\n",
    "            self.results.append(result)       "
   ]
  },
  {
   "cell_type": "markdown",
   "metadata": {},
   "source": [
    "# Test Cases"
   ]
  },
  {
   "cell_type": "code",
   "execution_count": 3,
   "metadata": {},
   "outputs": [],
   "source": [
    "def test_is_cm():\n",
    "    assert hasattr(Timer, '__enter__')\n",
    "    assert hasattr(Timer, '__exit__')\n",
    "    \n",
    "test_is_cm()"
   ]
  },
  {
   "cell_type": "code",
   "execution_count": 5,
   "metadata": {},
   "outputs": [],
   "source": [
    "def test_is_timing():\n",
    "    from math import isclose\n",
    "    from statistics import mean\n",
    "    with Timer(slow_random_normal, loops=100) as fn:\n",
    "        fn.run(-5, stdev=0.1)\n",
    "    assert len(fn.timers) == len(fn.results) == 100\n",
    "    assert isclose(mean(fn.timers), 0.05, abs_tol=0.01)\n",
    "    assert isclose(mean(fn.results), -5, abs_tol=0.1)\n",
    "    \n",
    "test_is_timing()"
   ]
  }
 ],
 "metadata": {
  "kernelspec": {
   "display_name": "Python 3",
   "language": "python",
   "name": "python3"
  },
  "language_info": {
   "codemirror_mode": {
    "name": "ipython",
    "version": 3
   },
   "file_extension": ".py",
   "mimetype": "text/x-python",
   "name": "python",
   "nbconvert_exporter": "python",
   "pygments_lexer": "ipython3",
   "version": "3.8.2"
  }
 },
 "nbformat": 4,
 "nbformat_minor": 4
}
