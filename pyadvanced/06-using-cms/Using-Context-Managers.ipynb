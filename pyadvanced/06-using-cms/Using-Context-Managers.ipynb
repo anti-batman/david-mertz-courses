{
 "cells": [
  {
   "cell_type": "markdown",
   "metadata": {},
   "source": [
    "<div style=\"position: relative;\">\n",
    "<img src=\"https://user-images.githubusercontent.com/7065401/98728503-5ab82f80-2378-11eb-9c79-adeb308fc647.png\"></img>\n",
    "\n",
    "<h1 style=\"color: white; position: absolute; top:27%; left:10%;\">\n",
    "     Advanced Python\n",
    "</h1>\n",
    "<h2 style=\"color: white; position: absolute; top:36%; left:10%;\">\n",
    "    Iterators, Generators, Context Managers, and Decorators\n",
    "</h2>\n",
    "\n",
    "\n",
    "<h3 style=\"color: #ef7d22; font-weight: normal; position: absolute; top:58%; left:10%;\">\n",
    "    David Mertz, Ph.D.\n",
    "</h3>\n",
    "\n",
    "<h3 style=\"color: #ef7d22; font-weight: normal; position: absolute; top:63%; left:10%;\">\n",
    "    Data Scientist\n",
    "</h3>\n",
    "</div>"
   ]
  },
  {
   "cell_type": "markdown",
   "metadata": {},
   "source": [
    "# Context Managers\n",
    "\n",
    "A context manager, as the name suggests, provides a certain *context* to a series of operations in Python.  Whenever you use the `with` statement in Python, that introduces a context manager.  The idea in a context manager is that some initial setup is performed to prepare for your custom code.  A context object is often provided to your code that incorporates something about that context, and provides a name for you to utilize.  After the block of code nested under `with` complete, some cleanup actions can be performed.  For example, file handles and socket connections can be closed, or configuration settings can be restored to their defaults."
   ]
  },
  {
   "cell_type": "markdown",
   "metadata": {},
   "source": [
    "# Standard library context managers\n",
    "\n",
    "There are many context managers you are already using as part of your typical Python programs. Let us look at a few examples as a reminder."
   ]
  },
  {
   "cell_type": "code",
   "execution_count": 1,
   "metadata": {},
   "outputs": [
    {
     "name": "stdout",
     "output_type": "stream",
     "text": [
      "Hello\n"
     ]
    }
   ],
   "source": [
    "# Create a scratch dirctory\n",
    "from pathlib import Path\n",
    "Path('tmp').mkdir(exist_ok=True)\n",
    "\n",
    "# Preferred as the style of file access in modern Python\n",
    "with open('tmp/advPython_test', 'w') as fw:\n",
    "    fw.write(\"Hello\")\n",
    "\n",
    "with open('tmp/advPython_test', 'r') as fr:\n",
    "    print(fr.read())"
   ]
  },
  {
   "cell_type": "code",
   "execution_count": 2,
   "metadata": {},
   "outputs": [],
   "source": [
    "fh = open('tmp/advPython_test')\n",
    "fh.close()"
   ]
  },
  {
   "cell_type": "markdown",
   "metadata": {},
   "source": [
    "If `open()` did not provide a context manager (as indeed it did not in early versions of Python), we would have to write slightly more code; but more importantly, it is code that is easy to forget or to get subtly wrong when more is going on inside the code block in the context manager."
   ]
  },
  {
   "cell_type": "markdown",
   "metadata": {},
   "source": [
    "```python\n",
    "with open('tmp/advPython_test', 'w') as fi:\n",
    "    fi.write(\"Hello\")\n",
    "```\n",
    "\n",
    "versus:\n",
    "\n",
    "```python\n",
    "try:\n",
    "    fi = open('tmp/advPython_test', 'w')\n",
    "    fi.write(\"Hello\")\n",
    "finally:\n",
    "    fi.close()\n",
    "```"
   ]
  },
  {
   "cell_type": "markdown",
   "metadata": {},
   "source": [
    "Many other standard Python objects and classes likewise make themselves available as context managers.  The classes `zipfile.ZipFiles`, `subprocess.Popen`, `tarfile.TarFile`, `telnetlib.Telnet`, and `pathlib.Path` can be used as context managers. Or, for example, `urllib`:"
   ]
  },
  {
   "cell_type": "code",
   "execution_count": 3,
   "metadata": {},
   "outputs": [],
   "source": [
    "import os\n",
    "os.environ['SSL_CERT_DIR'] = '/etc/ssl/certs'"
   ]
  },
  {
   "cell_type": "code",
   "execution_count": 4,
   "metadata": {},
   "outputs": [
    {
     "name": "stdout",
     "output_type": "stream",
     "text": [
      "b'<!DOCTYPE html>\\n<html lang=\"en\">\\n   <head>\\n  '\n"
     ]
    }
   ],
   "source": [
    "from urllib.request import urlopen\n",
    "url = \"https://courses.ine.com/area/data-science/\"\n",
    "with urlopen(url) as page:\n",
    "    print(page.read(45))"
   ]
  },
  {
   "cell_type": "markdown",
   "metadata": {},
   "source": [
    "The `threading` module defines a variety of objects that may be used as context managers.  The simplest is a basic lock."
   ]
  },
  {
   "cell_type": "code",
   "execution_count": 6,
   "metadata": {},
   "outputs": [
    {
     "name": "stdout",
     "output_type": "stream",
     "text": [
      "0 10 20 1 11 30 40 2 12 31 41 3 21 13 22 4 32 23 14  +\n",
      "42 33 24  +\n",
      "34 43  +\n",
      "44  +\n",
      " +\n"
     ]
    }
   ],
   "source": [
    "# Print several counts with different starting points in several threads\n",
    "import threading\n",
    "\n",
    "def worker(start):\n",
    "    # Some large, parallelizable computation might live here\n",
    "    for n in range(start, start+5):\n",
    "        print(\"%d \" % n, end='', flush=True)   \n",
    "    print(' +\\n', end='', flush=True)\n",
    "    # Some additional large, parallelizable computation here\n",
    "\n",
    "    \n",
    "for i in range(0, 50, 10):\n",
    "    t = threading.Thread(target=worker, args=(i,))\n",
    "    t.start()"
   ]
  },
  {
   "cell_type": "markdown",
   "metadata": {},
   "source": [
    "The non-lock version is not wrong per-se, but suppose you'd like deterministic order to the outputs:"
   ]
  },
  {
   "cell_type": "code",
   "execution_count": 8,
   "metadata": {},
   "outputs": [
    {
     "name": "stdout",
     "output_type": "stream",
     "text": [
      "0 1 2 3 4  +\n",
      "10 11 12 13 14  +\n",
      "20 21 22 23 24  +\n",
      "30 31 32 33 34  +\n",
      "40 41 42 43 44  +\n"
     ]
    }
   ],
   "source": [
    "lock = threading.Lock()\n",
    "\n",
    "def worker(start):\n",
    "    # Some large, parallelizable computation might live here\n",
    "    with lock:\n",
    "        for n in range(start, start+5):\n",
    "            print(\"%d \" % n, end='', flush=True)\n",
    "    print(' +\\n', end='', flush=True)\n",
    "    # Some additional large, parallelizable computation here\n",
    "    \n",
    "for i in range(0, 50, 10):\n",
    "    t = threading.Thread(target=worker, args=(i,))\n",
    "    t.start()"
   ]
  },
  {
   "cell_type": "markdown",
   "metadata": {},
   "source": [
    "# Writing context managers"
   ]
  },
  {
   "cell_type": "markdown",
   "metadata": {},
   "source": [
    "Much as Python provides an Iterator Protocol, it provides a Context Manager Protocol.  \n",
    "\n",
    "A context managers is simply a class with two magic methods: `.__enter__()` and `.__exit__()`.  The purpose of these managers is to factor out often used try/finally clauses to make the code more readable.  As we have seen from several examples in the standard library, these same classes may also offer many other methods to exercise their capabilities in ways other than via context managers. In fact, `.__enter__()` and `.__exit__()` are often simply synonyms for more conventionally named methods like `.open()` and `.close()`."
   ]
  },
  {
   "cell_type": "code",
   "execution_count": 9,
   "metadata": {},
   "outputs": [],
   "source": [
    "class MyContext(object):\n",
    "    def __init__(self, val=42):\n",
    "        self.val = val\n",
    "        print(\"Initializing context\")\n",
    "        \n",
    "    def __enter__(self):\n",
    "        print(\"Entering context\")\n",
    "        # return value is bound to 'as' variable\n",
    "        return self.val\n",
    "        \n",
    "    def __exit__(self, exctype, value, tb):\n",
    "        # Potentially handle an exception in the body\n",
    "        if exctype is not None:\n",
    "            print(f\"CM body raised {exctype.__name__}({value})\")\n",
    "            print(f\"Inspect {tb}\")\n",
    "        # Suppress propagation of exception by returning True\n",
    "        print(\"Exiting context\")\n",
    "        return True"
   ]
  },
  {
   "cell_type": "code",
   "execution_count": 10,
   "metadata": {},
   "outputs": [
    {
     "name": "stdout",
     "output_type": "stream",
     "text": [
      "Initializing context\n",
      "Entering context\n",
      "The answer is 42\n",
      "Exiting context\n"
     ]
    }
   ],
   "source": [
    "with MyContext() as t:\n",
    "    print(\"The answer is\", t)"
   ]
  },
  {
   "cell_type": "code",
   "execution_count": 11,
   "metadata": {},
   "outputs": [
    {
     "name": "stdout",
     "output_type": "stream",
     "text": [
      "Initializing context\n",
      "Entering context\n",
      "CM body raised ZeroDivisionError(division by zero)\n",
      "Inspect <traceback object at 0x7fc7807996c0>\n",
      "Exiting context\n"
     ]
    }
   ],
   "source": [
    "with MyContext(33) as t:\n",
    "    x = t/0\n",
    "    print(x)"
   ]
  },
  {
   "cell_type": "markdown",
   "metadata": {},
   "source": [
    "Although `MyContext` simply returns a value as the context object (in the example, an integer), a very common pattern is to `return self` and provide other APIs of the class instance as methods of the context object.  For example, `open()` file handles do this, and thereby also implement other protocols, such as the Iterator Protocol."
   ]
  }
 ],
 "metadata": {
  "kernelspec": {
   "display_name": "Python 3",
   "language": "python",
   "name": "python3"
  },
  "language_info": {
   "codemirror_mode": {
    "name": "ipython",
    "version": 3
   },
   "file_extension": ".py",
   "mimetype": "text/x-python",
   "name": "python",
   "nbconvert_exporter": "python",
   "pygments_lexer": "ipython3",
   "version": "3.8.2"
  }
 },
 "nbformat": 4,
 "nbformat_minor": 4
}
