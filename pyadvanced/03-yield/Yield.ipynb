{
 "cells": [
  {
   "cell_type": "markdown",
   "metadata": {},
   "source": [
    "<div style=\"position: relative;\">\n",
    "<img src=\"https://user-images.githubusercontent.com/7065401/98728503-5ab82f80-2378-11eb-9c79-adeb308fc647.png\"></img>\n",
    "\n",
    "<h1 style=\"color: white; position: absolute; top:27%; left:10%;\">\n",
    "     Advanced Python\n",
    "</h1>\n",
    "<h2 style=\"color: white; position: absolute; top:36%; left:10%;\">\n",
    "    Iterators, Generators, Context Managers, and Decorators\n",
    "</h2>\n",
    "\n",
    "\n",
    "<h3 style=\"color: #ef7d22; font-weight: normal; position: absolute; top:58%; left:10%;\">\n",
    "    David Mertz, Ph.D.\n",
    "</h3>\n",
    "\n",
    "<h3 style=\"color: #ef7d22; font-weight: normal; position: absolute; top:63%; left:10%;\">\n",
    "    Data Scientist\n",
    "</h3>\n",
    "</div>"
   ]
  },
  {
   "cell_type": "markdown",
   "metadata": {},
   "source": [
    "## Generator Functions\n",
    "\n",
    "Class-based iterables and iterators can be a powerful approach, but it is often much more compact to write iterables using *generator functions*.  A generator function looks much like a regular function, merely containing somewhere inside it at least one `yield` statement rather than `return` statements (technically, a final `return` is permitted as a way of raising `StopIteration`)."
   ]
  },
  {
   "cell_type": "markdown",
   "metadata": {},
   "source": [
    "Let us look a completely trivial example quickly:"
   ]
  },
  {
   "cell_type": "code",
   "execution_count": 1,
   "metadata": {},
   "outputs": [],
   "source": [
    "from typing import Iterable, Iterator\n",
    "\n",
    "def genfunc():\n",
    "    yield 1\n",
    "    yield 2\n",
    "    return 3\n",
    "    yield 4\n",
    "\n",
    "nums = genfunc()"
   ]
  },
  {
   "cell_type": "code",
   "execution_count": 2,
   "metadata": {},
   "outputs": [
    {
     "name": "stdout",
     "output_type": "stream",
     "text": [
      "Type of `genfunc`: <class 'function'>\n",
      "Type of `genfunc()`: <class 'generator'>\n",
      "Is genfunc() an iterable? True\n",
      "Is genfunc() an iterator? True\n"
     ]
    }
   ],
   "source": [
    "print(\"Type of `genfunc`:\", type(genfunc))\n",
    "print(\"Type of `genfunc()`:\", type(nums))\n",
    "print(\"Is genfunc() an iterable?\", isinstance(nums, Iterable))\n",
    "print(\"Is genfunc() an iterator?\", isinstance(nums, Iterator))"
   ]
  },
  {
   "cell_type": "markdown",
   "metadata": {},
   "source": [
    "Let's use our iterable/iterator.  Notice that the `return` statement, no matter what value it \"returns\" actually only stops iteration."
   ]
  },
  {
   "cell_type": "code",
   "execution_count": 3,
   "metadata": {},
   "outputs": [
    {
     "name": "stdout",
     "output_type": "stream",
     "text": [
      "1\n",
      "2\n"
     ]
    }
   ],
   "source": [
    "for n in nums:\n",
    "    print(n)"
   ]
  },
  {
   "cell_type": "markdown",
   "metadata": {},
   "source": [
    "<img src=\"primes-vs-composites.png\" align=\"right\"/>\n",
    "\n",
    "## A non-trivial generator\n",
    "\n",
    "It may be a bit cliche to use, but an iterable over all the prime numbers still provides a nice example of an infinite iterable.  Notably, of course, it is simply not possible to put infinitely many items in a concrete collection like a list.  In fact, we construct this using a supporting generator function, which illustrates how they often combine nicely.\n",
    "\n",
    "Here we implement the [Sieve of Eratosthenes](https://en.wikipedia.org/wiki/Sieve_of_Eratosthenes), which works by successively striking out each multiple of a prime from the infinite sequence of all the natural numbers.  The *statefulness* of this generator involves keeping an internal list of discovered primes, so memory usage *will* grow as the iterator produces values."
   ]
  },
  {
   "cell_type": "code",
   "execution_count": 4,
   "metadata": {},
   "outputs": [],
   "source": [
    "from math import sqrt, ceil\n",
    "\n",
    "def up_to(seq, lim):\n",
    "    \"Elements of an iterable not exceeding a limit\"\n",
    "    for n in seq:\n",
    "        if n <= lim:\n",
    "            yield n\n",
    "        else:\n",
    "            break\n",
    "                \n",
    "def get_primes():\n",
    "    \"Pretty good Sieve of Eratosthenes\"\n",
    "    # Skip the even nums, stop at sqrt(candidate)\n",
    "    yield 2\n",
    "    candidate = 3\n",
    "    found = []\n",
    "    while True:\n",
    "        lim = int(ceil(sqrt(candidate)))\n",
    "        if all(candidate % prime != 0 for prime in up_to(found, lim)):\n",
    "            yield candidate\n",
    "            found.append(candidate)\n",
    "        candidate += 2"
   ]
  },
  {
   "cell_type": "markdown",
   "metadata": {},
   "source": [
    "One thing to keep in mind about an iterable is that it only goes in one direction.  Once we have yielded a particular item, it is not necessarily possible to find the last one again.  In many contexts, such as a stream of data from an external source, this is the most that can be possible.  Of course, you are free to cache previous elements in your own code, if that is needed.\n",
    "\n",
    "Let's read a few primes, then read a few more after that to illustrate."
   ]
  },
  {
   "cell_type": "code",
   "execution_count": 5,
   "metadata": {},
   "outputs": [],
   "source": [
    "# All infinitely many prime numbers\n",
    "primes = get_primes()"
   ]
  },
  {
   "cell_type": "code",
   "execution_count": 6,
   "metadata": {},
   "outputs": [
    {
     "name": "stdout",
     "output_type": "stream",
     "text": [
      "Sequence 1; Prime=2\n",
      "Sequence 2; Prime=3\n",
      "Sequence 3; Prime=5\n",
      "Sequence 4; Prime=7\n"
     ]
    }
   ],
   "source": [
    "n = 1\n",
    "while n < 5:\n",
    "    p = next(primes)\n",
    "    print(f\"Sequence {n}; Prime={p}\")\n",
    "    n += 1"
   ]
  },
  {
   "cell_type": "markdown",
   "metadata": {},
   "source": [
    "We can keep looking for more primes, but the ones we have seen are \"used up.\""
   ]
  },
  {
   "cell_type": "code",
   "execution_count": 7,
   "metadata": {},
   "outputs": [
    {
     "name": "stdout",
     "output_type": "stream",
     "text": [
      "Sequence 5; Prime=11\n",
      "Sequence 6; Prime=13\n",
      "Sequence 7; Prime=17\n",
      "Sequence 8; Prime=19\n",
      "Sequence 9; Prime=23\n"
     ]
    }
   ],
   "source": [
    "while n < 10:\n",
    "    p = next(primes)\n",
    "    print(f\"Sequence {n}; Prime={p}\")\n",
    "    n += 1  "
   ]
  },
  {
   "cell_type": "markdown",
   "metadata": {},
   "source": [
    "Creating a new copy of \"all the primes\" is as easy as calling the generator function again.  Of course, in some cases, the underlying stream may have changed, so making a new copy will not necessarily produce the same answers.\n",
    "\n",
    "We need to take care not to iterate dirctly over infinite iterators without an \"escape hatch.\"  Various approaches are possible, but if you do not include one, your program will not terminate until you manually kill it."
   ]
  },
  {
   "cell_type": "code",
   "execution_count": 8,
   "metadata": {},
   "outputs": [
    {
     "name": "stdout",
     "output_type": "stream",
     "text": [
      "2 3 5 7 11 13 17 19 23 29 31 37 41 43 47 53 59 61 67 71 73 79 83 89 97 "
     ]
    }
   ],
   "source": [
    "for p in get_primes():\n",
    "    if p > 100:\n",
    "        break\n",
    "    print(p, end=' ')"
   ]
  },
  {
   "cell_type": "markdown",
   "metadata": {},
   "source": [
    "Of course, we actually already provided a good way to escape with the `up_to()` generator function defined above."
   ]
  },
  {
   "cell_type": "code",
   "execution_count": 9,
   "metadata": {},
   "outputs": [
    {
     "name": "stdout",
     "output_type": "stream",
     "text": [
      "2 3 5 7 11 13 17 19 23 29 31 37 41 43 47 53 59 61 67 71 73 79 83 89 97 "
     ]
    }
   ],
   "source": [
    "for p in up_to(get_primes(), 100):\n",
    "    print(p, end=' ')"
   ]
  },
  {
   "cell_type": "markdown",
   "metadata": {},
   "source": [
    "<img src=\"click-counter.jpg\" align=\"right\"/>\n",
    "\n",
    "## Injecting data\n",
    "\n",
    "As well as maintaining internal state between yields, a generator function can have state injected into it.  This also uses the `yield` statement, but combines it with an assignment within the function body.  \n",
    "\n",
    "This course will not delve into it, but allowing values to be injected into generators, enables an easy way to construct *coroutines* in Python.  That is, one generator can suspend at a certain yield, and another generator can take over execution, perhaps with data that became available via the first generator.  Over several Python versions, and about a decade, this capability evolved into the `asyncio` standard library module and the introduction of the `async` and `await` keywords to enable a full-fledged coroutine framework.  But that is a different INE course.\n",
    "\n",
    "For a simple example, let's emulate in Python one of those physical clickers used by attendants to measure occupancy during concerts and other events.  Often we want a single click to indicate one person entered, but sometimes we would like to mark that a group of several people entered at once.  This iterator will become exhausted once we reach a maximum occupancy (by default, the largest 64-bit integer, around 9 quintillian). This is not an *infinite* iterator, but it can be a very, very long sequence."
   ]
  },
  {
   "cell_type": "code",
   "execution_count": 10,
   "metadata": {},
   "outputs": [],
   "source": [
    "import sys\n",
    "\n",
    "def counter(max_occupancy=sys.maxsize):\n",
    "    \"Counter for positive stepwise accumulation\"\n",
    "    count=0\n",
    "    while True:   # loop forever\n",
    "        add = yield count\n",
    "        if add is not None:\n",
    "            if not isinstance(add, int) or add <= 0:\n",
    "                print(f\"Count by positive amount, not {add}\", file=sys.stderr)\n",
    "            else:\n",
    "                count += add\n",
    "        if count >= max_occupancy:\n",
    "            yield count\n",
    "            print(f\"Maximum occupancy exceeded: {count}\")\n",
    "            return"
   ]
  },
  {
   "cell_type": "markdown",
   "metadata": {},
   "source": [
    "Let's count."
   ]
  },
  {
   "cell_type": "code",
   "execution_count": 11,
   "metadata": {},
   "outputs": [
    {
     "data": {
      "text/plain": [
       "0"
      ]
     },
     "execution_count": 11,
     "metadata": {},
     "output_type": "execute_result"
    }
   ],
   "source": [
    "audience = counter(75)  # the theater holds 75\n",
    "next(audience)"
   ]
  },
  {
   "cell_type": "markdown",
   "metadata": {},
   "source": [
    "We can inquire as to the number currently seated with `next()` as much as we like. This inquiry does not itself change the count."
   ]
  },
  {
   "cell_type": "code",
   "execution_count": 12,
   "metadata": {},
   "outputs": [
    {
     "name": "stdout",
     "output_type": "stream",
     "text": [
      "0 0 0 0 0 "
     ]
    }
   ],
   "source": [
    "for _ in range(5):\n",
    "    print(next(audience), end=' ')"
   ]
  },
  {
   "cell_type": "markdown",
   "metadata": {},
   "source": [
    "The interface does *some* error checking."
   ]
  },
  {
   "cell_type": "code",
   "execution_count": 13,
   "metadata": {},
   "outputs": [
    {
     "name": "stderr",
     "output_type": "stream",
     "text": [
      "Count by positive amount, not -1\n"
     ]
    },
    {
     "data": {
      "text/plain": [
       "1"
      ]
     },
     "execution_count": 13,
     "metadata": {},
     "output_type": "execute_result"
    }
   ],
   "source": [
    "audience.send(-1)\n",
    "audience.send(1)"
   ]
  },
  {
   "cell_type": "markdown",
   "metadata": {},
   "source": [
    "Let's allow a few people in one-by-one."
   ]
  },
  {
   "cell_type": "code",
   "execution_count": 14,
   "metadata": {},
   "outputs": [
    {
     "name": "stdout",
     "output_type": "stream",
     "text": [
      "1 2 3 4 5 6 7 8 9 10 "
     ]
    }
   ],
   "source": [
    "for seated in audience:\n",
    "    print(seated, end=\" \")\n",
    "    if seated >= 10:\n",
    "        break    \n",
    "    audience.send(1)"
   ]
  },
  {
   "cell_type": "markdown",
   "metadata": {},
   "source": [
    "Let's let in a group of 5 people."
   ]
  },
  {
   "cell_type": "code",
   "execution_count": 15,
   "metadata": {},
   "outputs": [
    {
     "name": "stdout",
     "output_type": "stream",
     "text": [
      "Currently seated: 15\n"
     ]
    }
   ],
   "source": [
    "seated = audience.send(5)\n",
    "print(\"Currently seated:\", seated)"
   ]
  },
  {
   "cell_type": "markdown",
   "metadata": {},
   "source": [
    "We will start letting in small groups of various sizes."
   ]
  },
  {
   "cell_type": "code",
   "execution_count": 16,
   "metadata": {},
   "outputs": [
    {
     "name": "stdout",
     "output_type": "stream",
     "text": [
      "Currently seated: 15\n",
      "Currently seated: 16\n",
      "Currently seated: 21\n",
      "Currently seated: 24\n",
      "Currently seated: 27\n",
      "Currently seated: 32\n",
      "Currently seated: 33\n",
      "Currently seated: 38\n",
      "Currently seated: 41\n",
      "Currently seated: 42\n",
      "Currently seated: 49\n",
      "Currently seated: 56\n",
      "Currently seated: 61\n",
      "Currently seated: 66\n",
      "Currently seated: 67\n",
      "Currently seated: 68\n",
      "Currently seated: 73\n",
      "Maximum occupancy exceeded: 80\n"
     ]
    }
   ],
   "source": [
    "from random import choice\n",
    "for seated in audience:\n",
    "    group_size = choice([1, 3, 5, 7])\n",
    "    print(\"Currently seated:\", seated)\n",
    "    audience.send(group_size)"
   ]
  }
 ],
 "metadata": {
  "kernelspec": {
   "display_name": "Python 3",
   "language": "python",
   "name": "python3"
  },
  "language_info": {
   "codemirror_mode": {
    "name": "ipython",
    "version": 3
   },
   "file_extension": ".py",
   "mimetype": "text/x-python",
   "name": "python",
   "nbconvert_exporter": "python",
   "pygments_lexer": "ipython3",
   "version": "3.8.2"
  }
 },
 "nbformat": 4,
 "nbformat_minor": 4
}
