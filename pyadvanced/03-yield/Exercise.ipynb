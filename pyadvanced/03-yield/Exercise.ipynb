{
 "cells": [
  {
   "cell_type": "markdown",
   "metadata": {},
   "source": [
    "# Description"
   ]
  },
  {
   "cell_type": "markdown",
   "metadata": {},
   "source": [
    "This exercise is similar to the prior one in that you need to create an iterable over all the leaves of a `BinTree`.  The difference here is that you should write this as a generator function called `walk_tree()` that takes as an argument the tree you wish to walk, and creates a generator yielding the node values.\n",
    "\n",
    "You are free to walk the nodes in whatever order you prefer, but all nodes must be reached exactly once each.\n",
    "\n",
    "<img src=\"bintree.png\" width=\"25%\"/>"
   ]
  },
  {
   "cell_type": "markdown",
   "metadata": {},
   "source": [
    "# Setup"
   ]
  },
  {
   "cell_type": "code",
   "execution_count": null,
   "metadata": {},
   "outputs": [],
   "source": [
    "class BinTree:\n",
    "    def __init__(self, val):\n",
    "        self.val = val\n",
    "        self.left = None\n",
    "        self.right = None\n",
    "        \n",
    "    def set_children(self, leftval, rightval):\n",
    "        self.left = type(self)(leftval)\n",
    "        self.right = type(self)(rightval)\n",
    "        \n",
    "tree = BinTree('A')\n",
    "tree.set_children('B', 'F')\n",
    "tree.left.set_children('D', 'E')\n",
    "tree.right.set_children('C', 'I')\n",
    "tree.left.right.set_children('G', 'H')\n",
    "tree.left.right.right.set_children('J', 'K')\n",
    "\n",
    "def walk_tree(tree):\n",
    "    return ['A', 'B']"
   ]
  },
  {
   "cell_type": "markdown",
   "metadata": {},
   "source": [
    "# Solution"
   ]
  },
  {
   "cell_type": "code",
   "execution_count": null,
   "metadata": {},
   "outputs": [],
   "source": [
    "def walk_tree(tree):\n",
    "    yield tree.val\n",
    "    if tree.left is not None:\n",
    "        for val in walk_tree(tree.left):\n",
    "            yield val\n",
    "        for val in walk_tree(tree.right):\n",
    "            yield val"
   ]
  },
  {
   "cell_type": "markdown",
   "metadata": {},
   "source": [
    "# Test Cases"
   ]
  },
  {
   "cell_type": "code",
   "execution_count": null,
   "metadata": {},
   "outputs": [],
   "source": [
    "def test_isgen():\n",
    "    from types import GeneratorType\n",
    "    g = walk_tree(tree)\n",
    "    assert isinstance(g, GeneratorType), f\"Incorrect type {type(g)}\"\n",
    "    \n",
    "test_isgen()"
   ]
  },
  {
   "cell_type": "code",
   "execution_count": null,
   "metadata": {},
   "outputs": [],
   "source": [
    "def test_vals():\n",
    "    vals = set(walk_tree(tree))\n",
    "    correct = {'A', 'B', 'C', 'D', 'E', 'F', 'G', 'H', 'I', 'J', 'K'}\n",
    "    assert vals == correct, f\"Incorrect values {vals}\"\n",
    "\n",
    "test_vals()"
   ]
  },
  {
   "cell_type": "code",
   "execution_count": null,
   "metadata": {},
   "outputs": [],
   "source": [
    "def test_len():\n",
    "    n = len(list(walk_tree(tree)))\n",
    "    assert n == 11, f\"Should have 11 elements not {n}\"\n",
    "    \n",
    "test_len()"
   ]
  }
 ],
 "metadata": {
  "kernelspec": {
   "display_name": "Python 3",
   "language": "python",
   "name": "python3"
  },
  "language_info": {
   "codemirror_mode": {
    "name": "ipython",
    "version": 3
   },
   "file_extension": ".py",
   "mimetype": "text/x-python",
   "name": "python",
   "nbconvert_exporter": "python",
   "pygments_lexer": "ipython3",
   "version": "3.8.2"
  }
 },
 "nbformat": 4,
 "nbformat_minor": 4
}
