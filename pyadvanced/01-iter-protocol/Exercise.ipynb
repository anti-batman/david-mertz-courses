{
 "cells": [
  {
   "cell_type": "markdown",
   "metadata": {},
   "source": [
    "# Description"
   ]
  },
  {
   "cell_type": "markdown",
   "metadata": {},
   "source": [
    "Some Python objects—that you work with, every time you code—are iterators. Others are iterables.  Many are both. Some are neither.  In the below setup, a number of objects are defined, you need to characterize their behavior correctly for each of them.  Everyting is characterized wrongly in the setup; fix that."
   ]
  },
  {
   "cell_type": "markdown",
   "metadata": {},
   "source": [
    "# Setup"
   ]
  },
  {
   "cell_type": "code",
   "execution_count": null,
   "metadata": {},
   "outputs": [],
   "source": [
    "# Define names for the possible answers.\n",
    "from collections import namedtuple\n",
    "from enum import Enum\n",
    "class Kind(Enum):\n",
    "    ITERATOR, ITERABLE, BOTH, NEITHER, WRONG = range(5)\n",
    "\n",
    "things = dict(\n",
    "    a = [range(10), Kind.WRONG],\n",
    "    b = [open('tmp-file', 'r+b'), Kind.WRONG],\n",
    "    c = [[1, 2, 3, 4], Kind.WRONG],\n",
    "    d = [(1, 2, 3, 4), Kind.WRONG],\n",
    "    e = [123.45, Kind.WRONG],\n",
    "    f = [\"12345\", Kind.WRONG],\n",
    "    g = [zip(\"abc\", \"def\"), Kind.WRONG],\n",
    "    h = [lambda n: range(n), Kind.WRONG],\n",
    "    i = [{1, 2, 3, 4}, Kind.WRONG],\n",
    "    j = [{1: 2, 3: 4, 5: 6}, Kind.WRONG],\n",
    "    k = [namedtuple(\"Thing\", \"a b c\"), Kind.WRONG],\n",
    "    l = [namedtuple(\"Thing\", \"a b c\")(1, 2, 3), Kind.WRONG],\n",
    "    m = [(n for n in range(10)), Kind.WRONG]\n",
    ")"
   ]
  },
  {
   "cell_type": "markdown",
   "metadata": {},
   "source": [
    "# Solution 1"
   ]
  },
  {
   "cell_type": "code",
   "execution_count": null,
   "metadata": {},
   "outputs": [],
   "source": [
    "from collections.abc import Iterable, Iterator\n",
    "\n",
    "def kind(o):\n",
    "    if isinstance(o, Iterable):\n",
    "        if isinstance(o, Iterator):\n",
    "            return Kind.BOTH\n",
    "        else:\n",
    "            return Kind.ITERABLE\n",
    "    elif isinstance(o, Iterator):\n",
    "        return Kind.ITERATOR\n",
    "    else:\n",
    "        return Kind.NEITHER\n",
    "    \n",
    "for k, v in things.items():\n",
    "    v[1] = kind(v[0])"
   ]
  },
  {
   "cell_type": "markdown",
   "metadata": {},
   "source": [
    "# Solution 2"
   ]
  },
  {
   "cell_type": "code",
   "execution_count": null,
   "metadata": {},
   "outputs": [],
   "source": [
    "# This solution is somewhat coarser since it can consume elements\n",
    "# also subtly wrong about write-only files, and a few other things\n",
    "def kind(o):\n",
    "    try:\n",
    "        iter(o)\n",
    "        try:\n",
    "            next(o)\n",
    "            return Kind.BOTH\n",
    "        except StopIteration:\n",
    "            # An exhausted iterator is an iterator\n",
    "            return Kind.BOTH\n",
    "        except:\n",
    "            return Kind.ITERABLE\n",
    "    except:\n",
    "        try:\n",
    "            next(o)\n",
    "            return Kind.Iterator\n",
    "        except StopIteration:\n",
    "            return Kind.Iterator\n",
    "        except:\n",
    "            return Kind.NEITHER\n",
    "    \n",
    "for k, v in things.items():\n",
    "    v[1] = kind(v[0])        "
   ]
  },
  {
   "cell_type": "markdown",
   "metadata": {},
   "source": [
    "# Test Cases"
   ]
  },
  {
   "cell_type": "code",
   "execution_count": null,
   "metadata": {},
   "outputs": [],
   "source": [
    "def test_kinds():\n",
    "    kinds = [v[1] for v in things.values()]\n",
    "    correct = {'a': Kind.ITERABLE,\n",
    "               'b': Kind.BOTH,\n",
    "               'c': Kind.ITERABLE,\n",
    "               'd': Kind.ITERABLE,\n",
    "               'e': Kind.NEITHER,\n",
    "               'f': Kind.ITERABLE,\n",
    "               'g': Kind.BOTH,\n",
    "               'h': Kind.NEITHER,\n",
    "               'i': Kind.ITERABLE,\n",
    "               'j': Kind.ITERABLE,\n",
    "               'k': Kind.NEITHER,\n",
    "               'l': Kind.ITERABLE,\n",
    "               'm': Kind.BOTH}\n",
    "    for n, k in enumerate(correct):\n",
    "        assert correct[k] == kinds[n], f\"{k} is {correct[k]}\"\n",
    "    \n",
    "test_kinds()"
   ]
  }
 ],
 "metadata": {
  "kernelspec": {
   "display_name": "Python 3",
   "language": "python",
   "name": "python3"
  },
  "language_info": {
   "codemirror_mode": {
    "name": "ipython",
    "version": 3
   },
   "file_extension": ".py",
   "mimetype": "text/x-python",
   "name": "python",
   "nbconvert_exporter": "python",
   "pygments_lexer": "ipython3",
   "version": "3.8.10"
  }
 },
 "nbformat": 4,
 "nbformat_minor": 4
}
