{
 "cells": [
  {
   "cell_type": "markdown",
   "metadata": {},
   "source": [
    "# Description"
   ]
  },
  {
   "cell_type": "markdown",
   "metadata": {},
   "source": [
    "In this exercise, you should create an iterable over `BinTree` that will return the values of nodes in **breadth-first** order.  In the lesson, we created two variations on *depth-first* iteration, but we want to modify that order in the new iterable/iterator.  The name for your iterable should be `tree`, it can be an instance of whatever class you find convenient, but it must be an iterable and must follow the \"BinTree API\".\n",
    "\n",
    "```python\n",
    ">>> from typing import Iterable, Iterator\n",
    ">>> isinstance(tree, Iterable)\n",
    "True\n",
    ">>> isinstance(iter(tree), Iterator)\n",
    "True\n",
    ">>> for node in tree:\n",
    "...     print(node, end=' ')\n",
    "A B F D E C I G H J K\n",
    "```"
   ]
  },
  {
   "cell_type": "markdown",
   "metadata": {},
   "source": [
    "# Setup"
   ]
  },
  {
   "cell_type": "code",
   "execution_count": 1,
   "metadata": {},
   "outputs": [],
   "source": [
    "from typing import Iterable, Iterator\n",
    "\n",
    "class BinTree:\n",
    "    def __init__(self, val):\n",
    "        self.val = val\n",
    "        self.left = None\n",
    "        self.right = None\n",
    "        \n",
    "    def set_children(self, leftval, rightval):\n",
    "        self.left = type(self)(leftval)\n",
    "        self.right = type(self)(rightval)\n",
    "        \n",
    "a = BinTree('A')\n",
    "a.set_children('B', 'F')\n",
    "a.left.set_children('D', 'E')\n",
    "a.right.set_children('C', 'I')\n",
    "a.left.right.set_children('G', 'H')\n",
    "a.left.right.right.set_children('J', 'K')"
   ]
  },
  {
   "cell_type": "markdown",
   "metadata": {},
   "source": [
    "# Solution"
   ]
  },
  {
   "cell_type": "markdown",
   "metadata": {},
   "source": [
    "<img src=\"bintree.png\" width=\"25%\"/>"
   ]
  },
  {
   "cell_type": "code",
   "execution_count": 2,
   "metadata": {},
   "outputs": [],
   "source": [
    "class TreeIter:\n",
    "    def __init__(self, tree):\n",
    "        self.tree = tree\n",
    "        self.val = tree.val\n",
    "        self.left = tree.left\n",
    "        self.right = tree.right\n",
    "        self.pos = -1\n",
    "        self.vals = [tree.val]\n",
    "        todo = [tree.left, tree.right]\n",
    "        while todo:\n",
    "            node, todo = todo[0], todo[1:]\n",
    "            if node is not None:\n",
    "                self.vals.append(node.val)\n",
    "                if node.left is not None:\n",
    "                    todo.append(node.left)\n",
    "                    todo.append(node.right)\n",
    "        \n",
    "    def __iter__(self):\n",
    "        return self\n",
    "    \n",
    "    def __next__(self):\n",
    "        self.pos += 1\n",
    "        if self.pos >= len(self.vals):\n",
    "            raise StopIteration\n",
    "        return self.vals[self.pos]\n",
    "    \n",
    "tree = TreeIter(a)"
   ]
  },
  {
   "cell_type": "markdown",
   "metadata": {},
   "source": [
    "# Test Cases"
   ]
  },
  {
   "cell_type": "code",
   "execution_count": 3,
   "metadata": {},
   "outputs": [],
   "source": [
    "def test_iterable():\n",
    "    assert isinstance(tree, Iterable)\n",
    "    \n",
    "test_iterable()"
   ]
  },
  {
   "cell_type": "code",
   "execution_count": 4,
   "metadata": {},
   "outputs": [],
   "source": [
    "def test_iterator():\n",
    "    assert isinstance(iter(tree), Iterator)\n",
    "    \n",
    "test_iterator()"
   ]
  },
  {
   "cell_type": "code",
   "execution_count": 5,
   "metadata": {},
   "outputs": [],
   "source": [
    "def test_breadth():\n",
    "    correct = ['A', 'B', 'F', 'D', 'E', 'C', 'I', 'G', 'H', 'J', 'K']\n",
    "    seq = list(tree)\n",
    "    assert seq == correct, f\"Incorrect order: {seq}\"\n",
    "    \n",
    "test_breadth()"
   ]
  },
  {
   "cell_type": "code",
   "execution_count": 6,
   "metadata": {},
   "outputs": [],
   "source": [
    "def test_tree():\n",
    "    assert tree.left.right.right.left.val == \"J\"\n",
    "    \n",
    "test_tree()"
   ]
  }
 ],
 "metadata": {
  "kernelspec": {
   "display_name": "Python 3",
   "language": "python",
   "name": "python3"
  },
  "language_info": {
   "codemirror_mode": {
    "name": "ipython",
    "version": 3
   },
   "file_extension": ".py",
   "mimetype": "text/x-python",
   "name": "python",
   "nbconvert_exporter": "python",
   "pygments_lexer": "ipython3",
   "version": "3.8.2"
  }
 },
 "nbformat": 4,
 "nbformat_minor": 4
}
