{
 "cells": [
  {
   "cell_type": "markdown",
   "metadata": {},
   "source": [
    "<div style=\"position: relative;\">\n",
    "<img src=\"https://user-images.githubusercontent.com/7065401/98728503-5ab82f80-2378-11eb-9c79-adeb308fc647.png\"></img>\n",
    "\n",
    "<h1 style=\"color: white; position: absolute; top:27%; left:10%;\">\n",
    "     Advanced Python\n",
    "</h1>\n",
    "<h2 style=\"color: white; position: absolute; top:36%; left:10%;\">\n",
    "    Iterators, Generators, Context Managers, and Decorators\n",
    "</h2>\n",
    "\n",
    "\n",
    "<h3 style=\"color: #ef7d22; font-weight: normal; position: absolute; top:58%; left:10%;\">\n",
    "    David Mertz, Ph.D.\n",
    "</h3>\n",
    "\n",
    "<h3 style=\"color: #ef7d22; font-weight: normal; position: absolute; top:63%; left:10%;\">\n",
    "    Data Scientist\n",
    "</h3>\n",
    "</div>"
   ]
  },
  {
   "cell_type": "markdown",
   "metadata": {},
   "source": [
    "# Class-Based Iterators\n",
    "\n",
    "In this lesson we will create some more practially useful iterators than the formal demonstration of the protocol we saw in the first lesson.\n",
    "\n",
    "Most of the toy examples you will see in most tutorials take something that is already an iterable, and create a custom class that simply iterates over that underlying iterable.  However, wrapping a list, or a file handle, or the range object, is underwhelming.  Let us pick an example that uses a little bit more original code; the first pass will still qualify as \"toy\" but heading in a more practical direction."
   ]
  },
  {
   "cell_type": "markdown",
   "metadata": {},
   "source": [
    "## A random number generator\n",
    "\n",
    "The Python `random` module internally uses a kind of generator called the Mersenne Twister.  Like all pseudo-random number generators, it contains internal state, but based on that will produce a completely deterministic sequence of numbers.  *Eventually* this internal state will repeat and the numbers will cycle.  However, the scale involved in this cycling is much longer than the lifetime of the universe, so it is not a practical problem.\n",
    "\n",
    "Let us create a much worse, but independent, random number generator with this same general property of using a finite amount of internal state.  Like Python's `random`, we may optionally seed this random number generator for repeatable results.\n",
    "\n",
    "This class will be both iterable and an iterator; it does so by using a very common trick of having it's `.__iter__()` method simply return `self`.  Our iterator will produce numbers between 0 and 1, but will terminate iteration when a cycle is reached."
   ]
  },
  {
   "cell_type": "code",
   "execution_count": null,
   "metadata": {},
   "outputs": [],
   "source": [
    "class Random:\n",
    "    \"Cyclical pseudo-random numbers. May be seeded with a list of integers\"\n",
    "    def __init__(self, seed=[907, 911, 919, 929, 937], scale=500):\n",
    "        if not isinstance(seed, list) or not all(isinstance(n, int) for n in seed):\n",
    "            raise ValueError(\"Seed must list of integers\")\n",
    "        self._seed = seed\n",
    "        self._scale = scale\n",
    "        # What internal states has the generator seen\n",
    "        self._num = 0\n",
    "        self._seed_pos = 0\n",
    "        self._states = {(self._num, self._seed_pos)}\n",
    "        \n",
    "    def __iter__(self):\n",
    "        return self\n",
    "    \n",
    "    def advance(self):\n",
    "        self._num = (self._num + 13*self._seed[self._seed_pos]) % self._scale\n",
    "        self._seed_pos = (self._seed_pos+1) % len(self._seed)\n",
    "        if (self._num, self._seed_pos) in self._states:\n",
    "            raise StopIteration\n",
    "        self._states.add((self._num, self._seed_pos))\n",
    "    \n",
    "    def __next__(self):\n",
    "        self.advance()\n",
    "        return self._num/self._scale"
   ]
  },
  {
   "cell_type": "markdown",
   "metadata": {},
   "source": [
    "We can do all of our iterator and iterable things with a `Random` instance."
   ]
  },
  {
   "cell_type": "code",
   "execution_count": null,
   "metadata": {},
   "outputs": [],
   "source": [
    "rnd = Random([220, 231, 456, 789, 502])\n",
    "next(rnd)"
   ]
  },
  {
   "cell_type": "code",
   "execution_count": null,
   "metadata": {},
   "outputs": [],
   "source": [
    "for n, r in enumerate(rnd):\n",
    "    print(r, end=' ')\n",
    "    if n > 15:\n",
    "        break"
   ]
  },
  {
   "cell_type": "markdown",
   "metadata": {},
   "source": [
    "Notice that we get different cylce lengths with different seeds."
   ]
  },
  {
   "cell_type": "code",
   "execution_count": null,
   "metadata": {},
   "outputs": [],
   "source": [
    "rnd = Random([220, 231, 456, 789, 502])\n",
    "len(list(rnd))"
   ]
  },
  {
   "cell_type": "code",
   "execution_count": null,
   "metadata": {},
   "outputs": [],
   "source": [
    "rnd = Random([321, 231, 456, 789, 502])\n",
    "len((list(rnd)))"
   ]
  },
  {
   "cell_type": "markdown",
   "metadata": {},
   "source": [
    "And different sequences."
   ]
  },
  {
   "cell_type": "code",
   "execution_count": null,
   "metadata": {},
   "outputs": [],
   "source": [
    "rnd0 = Random([220, 231, 456, 789, 502])\n",
    "rnd1 = Random([321, 231, 456, 789, 502])\n",
    "rnd2 = Random()\n",
    "list(rnd0)[:10], list(rnd1)[:10], list(rnd2)[:10]"
   ]
  },
  {
   "cell_type": "markdown",
   "metadata": {},
   "source": [
    "## An iterable data structure"
   ]
  },
  {
   "cell_type": "markdown",
   "metadata": {},
   "source": [
    "Python does not have a binary tree data in its standard library.  It is easy to write one, and sometimes a powerful data structure.  For illustration, a simple one is shown; this particular one is neither balanced nor sorted, although those are commonly properties one designs for specific use cases.\n",
    "\n",
    "<img src=\"bintree.png\" width=\"25%\"/>\n",
    "\n",
    "A fairly bare-bones binary tree requires very little code.  Even the `.__str__()` method is completely optional."
   ]
  },
  {
   "cell_type": "code",
   "execution_count": null,
   "metadata": {},
   "outputs": [],
   "source": [
    "class BinTree:\n",
    "    def __init__(self, val, _depth=0):\n",
    "        self.val = val\n",
    "        self.left = None\n",
    "        self.right = None\n",
    "        self._depth = _depth # Internal, not part of actual API\n",
    "        \n",
    "    def set_children(self, leftval, rightval):\n",
    "        self.left = type(self)(leftval, _depth=self._depth+1)\n",
    "        self.right = type(self)(rightval, _depth=self._depth+1)\n",
    "        \n",
    "    def __str__(self):\n",
    "        if self.left is not None:   # Assume symmetry, i.e.: `self.right is not None`\n",
    "            children = f\"\\n{self.left}{self.right}\"\n",
    "        else:\n",
    "            children = \"\\n\"\n",
    "        return f\"{'  '*self._depth}{self.__class__.__name__}({self.val}){children}\"     "
   ]
  },
  {
   "cell_type": "markdown",
   "metadata": {},
   "source": [
    "We can create the same tree as in the diagram."
   ]
  },
  {
   "cell_type": "code",
   "execution_count": null,
   "metadata": {},
   "outputs": [],
   "source": [
    "a = BinTree('A')\n",
    "a.set_children('B', 'F')\n",
    "a.left.set_children('D', 'E')\n",
    "a.right.set_children('C', 'I')\n",
    "a.left.right.set_children('G', 'H')\n",
    "a.left.right.right.set_children('J', 'K')"
   ]
  },
  {
   "cell_type": "markdown",
   "metadata": {},
   "source": [
    "And print it off, leveraging the `.__str__()` method we included."
   ]
  },
  {
   "cell_type": "code",
   "execution_count": null,
   "metadata": {},
   "outputs": [],
   "source": [
    "print(a)"
   ]
  },
  {
   "cell_type": "code",
   "execution_count": null,
   "metadata": {},
   "outputs": [],
   "source": [
    "print(a.left.right)"
   ]
  },
  {
   "cell_type": "markdown",
   "metadata": {},
   "source": [
    "### Looping\n",
    "\n",
    "One thing we **cannot** yet do is iterate over the nodes of these trees.  We have a decision.  We could definitely make a class that was a dual iterator/iterable as we did with `Random`, and have its `.__iter__()` return `self`.  However, this is a case where separating the two protocols makes sense.  One concern is that there are different ways to \"walk\" a tree: notably *depth-first* and *breadth-first*.  Perhaps we would like flexibility to decide that question later."
   ]
  },
  {
   "cell_type": "code",
   "execution_count": null,
   "metadata": {},
   "outputs": [],
   "source": [
    "class IterBinTree(BinTree):\n",
    "    def __init__(self, val, _depth=0, walker=None):\n",
    "        if walker is None:\n",
    "            walker = lambda _: iter([val, ...])\n",
    "        self.walker = walker\n",
    "        super().__init__(val, _depth)\n",
    "        \n",
    "    def __iter__(self):\n",
    "        return self.walker(self)"
   ]
  },
  {
   "cell_type": "code",
   "execution_count": null,
   "metadata": {},
   "outputs": [],
   "source": [
    "a = IterBinTree('A')\n",
    "a.set_children('B', 'F')\n",
    "a.left.set_children('D', 'E')\n",
    "a.right.set_children('C', 'I')\n",
    "a.left.right.set_children('G', 'H')\n",
    "a.left.right.right.set_children('J', 'K')"
   ]
  },
  {
   "cell_type": "code",
   "execution_count": null,
   "metadata": {},
   "outputs": [],
   "source": [
    "print(a)"
   ]
  },
  {
   "cell_type": "markdown",
   "metadata": {},
   "source": [
    "So far, we have an iterable tree already.  However, it doesn't descend, just loop over the top node's value, then an ellipsis.  We have followed the full *iterable* protocol already."
   ]
  },
  {
   "cell_type": "code",
   "execution_count": null,
   "metadata": {},
   "outputs": [],
   "source": [
    "for node in a:\n",
    "    print(node, end=' ')"
   ]
  },
  {
   "cell_type": "markdown",
   "metadata": {},
   "source": [
    "Now let us create a more useful *iterator* for a tree."
   ]
  },
  {
   "cell_type": "code",
   "execution_count": null,
   "metadata": {},
   "outputs": [],
   "source": [
    "class TreeWalker:\n",
    "    def __init__(self, tree):\n",
    "        self.seq = [tree.val]\n",
    "        if tree.left is not None:\n",
    "            tree.left.walker = type(self)\n",
    "            for val in tree.left:\n",
    "                self.seq.append(val)\n",
    "        if tree.right is not None:\n",
    "            tree.right.walker = type(self)\n",
    "            for val in tree.right:\n",
    "                self.seq.append(val)\n",
    "        self.pos = -1\n",
    "        \n",
    "    def __next__(self):\n",
    "        self.pos += 1\n",
    "        if self.pos >= len(self.seq):\n",
    "            raise StopIteration\n",
    "        return self.seq[self.pos]"
   ]
  },
  {
   "cell_type": "code",
   "execution_count": null,
   "metadata": {},
   "outputs": [],
   "source": [
    "a = IterBinTree('A', walker=TreeWalker)\n",
    "a.set_children('B', 'F')\n",
    "a.left.set_children('D', 'E')\n",
    "a.right.set_children('C', 'I')\n",
    "a.left.right.set_children('G', 'H')\n",
    "a.left.right.right.set_children('J', 'K')"
   ]
  },
  {
   "cell_type": "code",
   "execution_count": null,
   "metadata": {},
   "outputs": [],
   "source": [
    "print(a)"
   ]
  },
  {
   "cell_type": "code",
   "execution_count": null,
   "metadata": {},
   "outputs": [],
   "source": [
    "for node in a:\n",
    "    print(node, end=' ')"
   ]
  },
  {
   "cell_type": "markdown",
   "metadata": {},
   "source": [
    "Since a new \"walker\" iterator is created whenever we enter a new loop or other constructions using an iterable, if the underlying tree changes, the iterator will change accordingly."
   ]
  },
  {
   "cell_type": "code",
   "execution_count": null,
   "metadata": {},
   "outputs": [],
   "source": [
    "# A \".remove_childen()\" method might be better API\n",
    "e = a.left.right\n",
    "e.left = e.right = None\n",
    "print(a)"
   ]
  },
  {
   "cell_type": "code",
   "execution_count": null,
   "metadata": {},
   "outputs": [],
   "source": [
    "' '.join(list(a))"
   ]
  },
  {
   "cell_type": "markdown",
   "metadata": {},
   "source": [
    "## Dynamic iterator"
   ]
  },
  {
   "cell_type": "markdown",
   "metadata": {},
   "source": [
    "One strength of the design here is that we could substitute in a different kind of iterator if we want to walk the tree differently.  Here we would rather read right-to-left rather than left-to-write."
   ]
  },
  {
   "cell_type": "code",
   "execution_count": null,
   "metadata": {},
   "outputs": [],
   "source": [
    "class RightToLeftWalker(TreeWalker):\n",
    "    def __init__(self, tree):\n",
    "        self.seq = [tree.val]\n",
    "        if tree.right is not None:\n",
    "            tree.right.walker = type(self)\n",
    "            for val in tree.right:\n",
    "                self.seq.append(val)\n",
    "        if tree.left is not None:\n",
    "            tree.left.walker = type(self)\n",
    "            for val in tree.left:\n",
    "                self.seq.append(val)\n",
    "        self.pos = -1"
   ]
  },
  {
   "cell_type": "code",
   "execution_count": null,
   "metadata": {},
   "outputs": [],
   "source": [
    "a.walker = RightToLeftWalker\n",
    "' '.join(list(a))"
   ]
  }
 ],
 "metadata": {
  "kernelspec": {
   "display_name": "Python 3",
   "language": "python",
   "name": "python3"
  },
  "language_info": {
   "codemirror_mode": {
    "name": "ipython",
    "version": 3
   },
   "file_extension": ".py",
   "mimetype": "text/x-python",
   "name": "python",
   "nbconvert_exporter": "python",
   "pygments_lexer": "ipython3",
   "version": "3.8.2"
  }
 },
 "nbformat": 4,
 "nbformat_minor": 4
}
