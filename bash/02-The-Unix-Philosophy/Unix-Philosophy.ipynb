{
 "cells": [
  {
   "cell_type": "markdown",
   "metadata": {},
   "source": [
    "<div style=\"position: relative;\">\n",
    "<img src=\"https://user-images.githubusercontent.com/7065401/98728503-5ab82f80-2378-11eb-9c79-adeb308fc647.png\"></img>\n",
    "\n",
    "<h1 style=\"color: white; position: absolute; top:30%; left:10%;\">\n",
    "    Bash Scripting for Data Scientists\n",
    "</h1>\n",
    "\n",
    "<h3 style=\"color: #ef7d22; font-weight: normal; position: absolute; top:48%; left:10%;\">\n",
    "    David Mertz, Ph.D.\n",
    "</h3>\n",
    "\n",
    "<h3 style=\"color: #ef7d22; font-weight: normal; position: absolute; top:55%; left:10%;\">\n",
    "    Data Scientist\n",
    "</h3>\n",
    "</div>\n",
    "<br/>"
   ]
  },
  {
   "cell_type": "markdown",
   "metadata": {},
   "source": [
    "Almost all commands have many switches.  You can always ask about these using `<cmd> --help` or `man <cmd>`."
   ]
  },
  {
   "cell_type": "markdown",
   "metadata": {},
   "source": [
    "# The Unix philosophy\n",
    "\n",
    "The so-called \"Unix philosophy\" was described by Doug McIlroy in 1978, and it stands up well still:\n",
    "\n",
    "* Make each program do one thing well. To do a new job, build afresh rather than complicate old programs by adding new \"features\".\n",
    "* Expect the output of every program to become the input to another, as yet unknown, program. Don't clutter output with extraneous information. Avoid stringently columnar or binary input formats. Don't insist on interactive input.\n",
    "* Design and build software, even operating systems, to be tried early, ideally within weeks. Don't hesitate to throw away the clumsy parts and rebuild them.\n",
    "* Use tools in preference to unskilled help to lighten a programming task, even if you have to detour to build the tools and expect to throw some of them out after you've finished using them."
   ]
  },
  {
   "cell_type": "markdown",
   "metadata": {},
   "source": [
    "## Small tools, each doing one job well\n",
    "\n",
    "* Constrast with e.g. `mc`.\n",
    "* Tools and commands (e.g. `cd` vs `pwd`)\n",
    "* Switch conventions (e.g. single versus double dash)\n",
    "* Many files, target last\n",
    "* Glob patterns\n",
    "* Quoting and escaping"
   ]
  },
  {
   "cell_type": "markdown",
   "metadata": {},
   "source": [
    "## “Everything is a file”\n",
    "\n",
    "* pipes\n",
    "* redirect\n",
    "* command substitution\n",
    "* pseudo-files"
   ]
  },
  {
   "cell_type": "markdown",
   "metadata": {},
   "source": [
    "## Special files\n",
    "\n",
    "\"File\"      | Description\n",
    "------------|:--------------------------------------------------\n",
    " /dev/null  | null - data sink\n",
    " /dev/zero  | zero - data sink\n",
    " STDIN      | stdin - standard I/O streams\n",
    " STDOUT     | stdout - standard I/O streams\n",
    " STDERR     | stderr - standard I/O streams"
   ]
  },
  {
   "cell_type": "markdown",
   "metadata": {},
   "source": [
    "## Composition\n",
    "\n",
    "Command   | Manpage summary line\n",
    "----------|:--------------------------------------------------\n",
    " xargs    | build and execute command lines from standard input\n",
    " parallel | build and execute shell command lines from standard input in parallel"
   ]
  },
  {
   "cell_type": "markdown",
   "metadata": {},
   "source": [
    "## Permissions\n",
    "\n",
    "Command   | Manpage summary line\n",
    "----------|:--------------------------------------------------\n",
    " sudo     | execute a command as another user\n",
    " su       | run a command with substitute user and group ID\n",
    " chown    | change file owner and group\n",
    " chgrp    | change group ownership"
   ]
  }
 ],
 "metadata": {
  "kernelspec": {
   "display_name": "Bash",
   "language": "bash",
   "name": "bash"
  },
  "language_info": {
   "codemirror_mode": "shell",
   "file_extension": ".sh",
   "mimetype": "text/x-sh",
   "name": "bash"
  }
 },
 "nbformat": 4,
 "nbformat_minor": 4
}
