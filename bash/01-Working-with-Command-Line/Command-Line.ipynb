{
 "cells": [
  {
   "cell_type": "markdown",
   "metadata": {},
   "source": [
    "<div style=\"position: relative;\">\n",
    "<img src=\"https://user-images.githubusercontent.com/7065401/98728503-5ab82f80-2378-11eb-9c79-adeb308fc647.png\"></img>\n",
    "\n",
    "<h1 style=\"color: white; position: absolute; top:30%; left:10%;\">\n",
    "    Bash Scripting for Data Scientists\n",
    "</h1>\n",
    "\n",
    "<h3 style=\"color: #ef7d22; font-weight: normal; position: absolute; top:48%; left:10%;\">\n",
    "    David Mertz, Ph.D.\n",
    "</h3>\n",
    "\n",
    "<h3 style=\"color: #ef7d22; font-weight: normal; position: absolute; top:55%; left:10%;\">\n",
    "    Data Scientist\n",
    "</h3>\n",
    "</div>\n",
    "<br/>"
   ]
  },
  {
   "cell_type": "markdown",
   "metadata": {},
   "source": [
    "# Becoming familiar with the command line\n",
    "\n",
    "In this course, the specific command shell we will use is known as the \"Bourne Again Shell\", or `bash`.  The wordplay in the name indicates that bash is a superset of the earlier Bourne Shell (`sh`).  \n",
    "\n",
    "In parallel with bash being created, other derivatives of `sh` have also been created, enhancing features in somewhat different ways.  Some of these include KornShell (`ksh`), C shell (`csh` and later `tcsh`), Z shell (`zsh`), `fish`, and `xonsh` (an IPython successor).\n",
    "\n",
    "While there are many different command shells, offering some differences in syntax and capabilities, the large majority of Linux distributions, Mac OSX, and Windows Subsystem for Linux, use `bash` as their default shell.  Most of this course will apply if you choose other shells, but for beginners, sticking with `bash` is the easiest approach."
   ]
  },
  {
   "cell_type": "markdown",
   "metadata": {},
   "source": [
    "## Basic file operations\n",
    "\n",
    "Command | Manpage summary line\n",
    "--------|:--------------------------------------------------\n",
    " cd     | change the shell working directory\n",
    " ls     | list directory contents (`-l` for \"long format\")\n",
    " cp     | copy files and directories\n",
    " chmod  | change file mode bits\n",
    " mkdir  | make directories\n",
    " rmdir  | remove empty directories\n",
    " mv     | move (rename) files\n",
    " tree   | list contents of directories in a tree-like format\n",
    " touch  | change file timestamps\n",
    " rm     | remove files or directories\n",
    " wc     | print newline, word, and byte counts for each file"
   ]
  },
  {
   "cell_type": "markdown",
   "metadata": {},
   "source": [
    "## Terminal operations\n",
    "\n",
    "Command | Manpage summary line\n",
    "--------|:--------------------------------------------------\n",
    " LC_ALL | configure the locale\n",
    " TERM   | configure the terminal type\n",
    " PS1    | configure the shell prompt \n",
    " clear  | clear the terminal screen\n",
    " less   | opposite of more (file perusal filter for crt viewing)\n",
    " man    | an interface to the system reference manuals\n",
    " whoami | print effective userid\n",
    " pwd    | print name of current/working directory\n",
    " which  | locate a command\n",
    " echo   | display a line of text\n",
    " cat    | concatenate files and print on the standard output"
   ]
  },
  {
   "cell_type": "markdown",
   "metadata": {},
   "source": [
    "## Affordances\n",
    "\n",
    "* history\n",
    "* command completion\n",
    "* command editing\n",
    "* shortcuts (`~`, `-`)\n",
    "* `.bashrc`"
   ]
  },
  {
   "cell_type": "markdown",
   "metadata": {},
   "source": [
    "## Process control\n",
    "\n",
    "Command | Manpage summary line\n",
    "--------|:--------------------------------------------------\n",
    " bg     | move jobs to the background\n",
    " jobs   | display status of jobs\n",
    " fg     | ove job to the foreground\n",
    " ps     | report a snapshot of the current processes\n",
    " top    | display Linux processes\n",
    " htop   | interactive process viewer"
   ]
  }
 ],
 "metadata": {
  "kernelspec": {
   "display_name": "Bash",
   "language": "bash",
   "name": "bash"
  },
  "language_info": {
   "codemirror_mode": "shell",
   "file_extension": ".sh",
   "mimetype": "text/x-sh",
   "name": "bash"
  }
 },
 "nbformat": 4,
 "nbformat_minor": 4
}
