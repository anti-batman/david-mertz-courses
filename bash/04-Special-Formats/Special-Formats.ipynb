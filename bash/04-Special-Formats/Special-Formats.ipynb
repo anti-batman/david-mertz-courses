{
 "cells": [
  {
   "cell_type": "markdown",
   "metadata": {},
   "source": [
    "<div style=\"position: relative;\">\n",
    "<img src=\"https://user-images.githubusercontent.com/7065401/98728503-5ab82f80-2378-11eb-9c79-adeb308fc647.png\"></img>\n",
    "\n",
    "<h1 style=\"color: white; position: absolute; top:30%; left:10%;\">\n",
    "    Bash Scripting for Data Scientists\n",
    "</h1>\n",
    "\n",
    "<h3 style=\"color: #ef7d22; font-weight: normal; position: absolute; top:48%; left:10%;\">\n",
    "    David Mertz, Ph.D.\n",
    "</h3>\n",
    "\n",
    "<h3 style=\"color: #ef7d22; font-weight: normal; position: absolute; top:55%; left:10%;\">\n",
    "    Data Scientist\n",
    "</h3>\n",
    "</div>\n",
    "<br/>"
   ]
  },
  {
   "cell_type": "markdown",
   "metadata": {},
   "source": [
    "Almost all commands have many switches.  You can always ask about these using `<cmd> --help` or `man <cmd>`"
   ]
  },
  {
   "cell_type": "markdown",
   "metadata": {},
   "source": [
    "# Internet and special formats\n",
    "\n",
    "Command-line tools exist to retrieve or upload remote data files, and for working with many special formats.  These tools are designed to interact easily and consistently with the many tools we have looked at for pipelines and text manipulation."
   ]
  },
  {
   "cell_type": "markdown",
   "metadata": {},
   "source": [
    "## Retrieving data from the internet\n",
    "\n",
    "Command   | Manpage summary line\n",
    "----------|:--------------------------------------------------\n",
    " wget     | non-interactive network downloader.\n",
    " curl     | transfer a URL\n",
    " lynx     | text based web browser\n",
    " links    | lynx-like alternative character mode WWW browser\n",
    " scp      | OpenSSH secure file copy\n",
    " rsync    | a fast, versatile, remote (and local) file-copying tool\n",
    " ping     | send ICMP ECHO_REQUEST to network hosts"
   ]
  },
  {
   "cell_type": "markdown",
   "metadata": {},
   "source": [
    "## Data formats\n",
    "\n",
    "Command   | Manpage summary line\n",
    "----------|:--------------------------------------------------\n",
    " jq       | Command-line JSON processor\n",
    " csvkit   | tools for converting to and working with CSV\n",
    " file     | determine file type\n",
    " hexdump  | display file contents in hexadecimal, decimal, octal, or ascii\n",
    " nbdime   | diffing and merging of Jupyter Notebooks"
   ]
  },
  {
   "cell_type": "markdown",
   "metadata": {},
   "source": [
    "## Software packaging\n",
    "\n",
    "Command   | Manpage summary line\n",
    "----------|:--------------------------------------------------\n",
    " pip      | Python installer and package manager\n",
    " conda    | Manage and deploy applications, environments and packages\n",
    " npm      | Javascript package manager\n",
    " apt      | Debian-based system package manager\n",
    " yum      | RPM-based system package manager\n",
    " brew     | Homebrew (Mac OPX) software package manager\n",
    " yarn     | Javascript package and project manager"
   ]
  }
 ],
 "metadata": {
  "kernelspec": {
   "display_name": "Bash",
   "language": "bash",
   "name": "bash"
  },
  "language_info": {
   "codemirror_mode": "shell",
   "file_extension": ".sh",
   "mimetype": "text/x-sh",
   "name": "bash"
  }
 },
 "nbformat": 4,
 "nbformat_minor": 4
}
