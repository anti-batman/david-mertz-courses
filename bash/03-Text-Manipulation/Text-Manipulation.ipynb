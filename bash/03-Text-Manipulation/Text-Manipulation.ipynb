{
 "cells": [
  {
   "cell_type": "markdown",
   "metadata": {},
   "source": [
    "<div style=\"position: relative;\">\n",
    "<img src=\"https://user-images.githubusercontent.com/7065401/98728503-5ab82f80-2378-11eb-9c79-adeb308fc647.png\"></img>\n",
    "\n",
    "<h1 style=\"color: white; position: absolute; top:30%; left:10%;\">\n",
    "    Bash Scripting for Data Scientists\n",
    "</h1>\n",
    "\n",
    "<h3 style=\"color: #ef7d22; font-weight: normal; position: absolute; top:48%; left:10%;\">\n",
    "    David Mertz, Ph.D.\n",
    "</h3>\n",
    "\n",
    "<h3 style=\"color: #ef7d22; font-weight: normal; position: absolute; top:55%; left:10%;\">\n",
    "    Data Scientist\n",
    "</h3>\n",
    "</div>\n",
    "<br/>"
   ]
  },
  {
   "cell_type": "markdown",
   "metadata": {},
   "source": [
    "# Tools for Text Manipulation\n",
    "\n",
    "Unix-like systems have a broad range of tools for working with textual data.  A few of them are part of bash itself, but a much larger number are separate tools that are usually installed along with your operating system.  Many of these are part of the GNU Coreutils, specifically the tools that used to be distributed in the separate Textutils project.\n",
    "\n",
    "Whether or not your system provides you with these tools in their GNU versions, or for example as BSD equivalents or an combined tool like Busybox, nearly any system with `bash` will also have installed almost all of the tools discussed here.  Others can be installed as extra tools easily using a system-level package manager.\n",
    "\n",
    "Almost all commands have many switches.  You can always ask about these using `<cmd> --help` or `man <cmd>`"
   ]
  },
  {
   "cell_type": "markdown",
   "metadata": {},
   "source": [
    "## Searching\n",
    "\n",
    "To understand the search patterns used by `grep` and `ag`, the INE course *Regular Expressions with Python* is a good reference. The majority of that course concerns regular expressions themselves, rather than Python specifics.\n",
    "\n",
    "Command   | Manpage summary line\n",
    "----------|:--------------------------------------------------\n",
    " find     | search for files in a directory hierarchy\n",
    " locate   | find files by name\n",
    " grep     | print lines that match patterns\n",
    " ag       | recursively search for PATTERN in PATH."
   ]
  },
  {
   "cell_type": "markdown",
   "metadata": {},
   "source": [
    "## Filtering\n",
    "\n",
    "Command   | Manpage summary line\n",
    "----------|:--------------------------------------------------\n",
    " head     | output the first part of files\n",
    " tail     | output the last part of files\n",
    " cat      | concatenate files and print on the standard output\n",
    " tac      | concatenate and print files in reverse\n",
    " cut      | remove sections from each line of files\n",
    " paste    | merge lines of files\n",
    " join     | join lines of two files on a common field\n",
    " shuf     | generate random permutations"
   ]
  },
  {
   "cell_type": "markdown",
   "metadata": {},
   "source": [
    "## Archiving and compression\n",
    "\n",
    "Command   | Manpage summary line\n",
    "----------|:--------------------------------------------------\n",
    " zip      | package and compress (archive) files\n",
    " unzip    | unarchive or view zip archives\n",
    " gzip     | gzip, gunzip, zcat - compress or expand files\n",
    " bzip2    | a block-sorting file compressor; bzcat-decompresses to stdout\n",
    " xz       | xz, unxz, xzcat - compress or decompress .xz and .lzma files\n",
    " tar      | an archiving utility"
   ]
  },
  {
   "cell_type": "markdown",
   "metadata": {},
   "source": [
    "## Modification\n",
    "\n",
    "Command   | Manpage summary line\n",
    "----------|:--------------------------------------------------\n",
    " sort     | sort lines of text files\n",
    " uniq     | report or omit repeated lines\n",
    " tr       | translate or delete characters\n",
    " sed      | stream editor for filtering and transforming text\n",
    " awk      | pattern scanning and processing language"
   ]
  }
 ],
 "metadata": {
  "kernelspec": {
   "display_name": "Bash",
   "language": "bash",
   "name": "bash"
  },
  "language_info": {
   "codemirror_mode": "shell",
   "file_extension": ".sh",
   "mimetype": "text/x-sh",
   "name": "bash"
  }
 },
 "nbformat": 4,
 "nbformat_minor": 4
}
