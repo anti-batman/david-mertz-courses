{
 "cells": [
  {
   "cell_type": "markdown",
   "id": "sound-heading",
   "metadata": {},
   "source": [
    "<div style=\"position: relative;\">\n",
    "<img src=\"https://user-images.githubusercontent.com/7065401/98728503-5ab82f80-2378-11eb-9c79-adeb308fc647.png\"></img>\n",
    "\n",
    "<h1 style=\"color: white; position: absolute; top:27%; left:10%;\">\n",
    "     Secure RESTful APIs using Python\n",
    "</h1>\n",
    "\n",
    "<h3 style=\"color: #ef7d22; font-weight: normal; position: absolute; top:56%; left:10%;\">\n",
    "    David Mertz, Ph.D.\n",
    "</h3>\n",
    "\n",
    "<h3 style=\"color: #ef7d22; font-weight: normal; position: absolute; top:63%; left:10%;\">\n",
    "    Data Scientist\n",
    "</h3>\n",
    "</div>"
   ]
  },
  {
   "cell_type": "markdown",
   "id": "cellular-memphis",
   "metadata": {},
   "source": [
    "# Authentication\n",
    "\n",
    "In the last lesson we looked at the need to make HTTP connections **private** in the sense that their content cannot be read by anyone other than the connecting parties.  It is also often desirable to control **permissions** to make certain requests.  \n",
    "\n",
    "In a very simple case, there may be a limited number of entities (e.g. other microservices) that should be able to utilize a service.  In more stratified situations, services may respond differently based on the credentials of a requester.  Let's look first at the simpler case.  \n",
    "\n",
    "There are a couple models we might follow for authentication.  One option is to require credentials upon every request.  Another, which will lead into packaged protocols like JSON Web Tokens (JWT) is to use a token that encodes a previous authentication.  Cookies could be used to maintain such a cookie, or it could be included within requests along with other details."
   ]
  },
  {
   "cell_type": "markdown",
   "id": "accessory-liverpool",
   "metadata": {},
   "source": [
    "## Setting cookies\n",
    "\n",
    "We can arrange a service so that it will require an initial call to a path like `/login` with credentials, but later calls to other methods will succeed once that method succeeds.  Let's look at (part of) the server that will generate random secure tokens and both set client cookes and store those cookies on the server for later comparison.  \n",
    "\n",
    "```python\n",
    "#!/usr/bin/env python\n",
    "import secrets\n",
    "from datetime import datetime\n",
    "from flask import Flask, request, make_response, jsonify\n",
    "app = Flask(__name__)\n",
    "\n",
    "# User/password pairs\n",
    "authorized = {'Alice': 'alice_pw', 'Bob': 'bob_pw', 'Carlos': 'carlos_pw'}\n",
    "auth_tokens = dict()\n",
    "\n",
    "@app.route('/login', methods =['POST'])\n",
    "def login():\n",
    "    username = request.form.get('username')\n",
    "    password = request.form.get('password')\n",
    "\n",
    "    # Fail in slightly different ways under different bad logins\n",
    "    if not username or not password:\n",
    "        hdr = {'WWW-Authenticate' : 'Basic realm=\"Login required\"'}\n",
    "        return make_response('Verification failed', 401, hdr)\n",
    "    \n",
    "    elif username not in authorized:\n",
    "        hdr = {'WWW-Authenticate' : 'Basic realm=\"No such user\"'}\n",
    "        return make_response('Verification failed', 401, hdr)\n",
    "    \n",
    "    elif password != authorized[username]:\n",
    "        hdr = {'WWW-Authenticate' : 'Basic realm=\"Password incorrect\"'}\n",
    "        return make_response('Verification failed', 403, hdr)\n",
    "    \n",
    "    else:\n",
    "        token = secrets.token_urlsafe(16)\n",
    "        auth_tokens[username] = token\n",
    "        resp = make_response(\"Logged in\", 200)\n",
    "        resp.set_cookie('app1-username', username)\n",
    "        resp.set_cookie('app1-token', token)\n",
    "        resp.set_cookie('app1-login-timestamp', datetime.now().isoformat())\n",
    "        return resp\n",
    "    \n",
    "if __name__ == \"__main__\":\n",
    "    app.run(ssl_context=('pubkey.pem', 'private.pem'), port=5001)\n",
    "```"
   ]
  },
  {
   "cell_type": "markdown",
   "id": "recognized-summary",
   "metadata": {},
   "source": [
    "Obviously, the management of users and credentials is greatly simplified for this lesson.  In a production micro-service they would not be hard-coded into the server itself, but stored in some kind of database.  Moreover, the server \"cookie jar\" should likewise use some persistence mechanism that does not rely on the service running continuously.  But in concept, these are the general data you need to maintain on a service in this design."
   ]
  },
  {
   "cell_type": "code",
   "execution_count": 1,
   "id": "motivated-august",
   "metadata": {},
   "outputs": [],
   "source": [
    "import requests\n",
    "requests.packages.urllib3.disable_warnings()\n",
    "cookies = dict()"
   ]
  },
  {
   "cell_type": "code",
   "execution_count": 2,
   "id": "wicked-madness",
   "metadata": {},
   "outputs": [
    {
     "name": "stdout",
     "output_type": "stream",
     "text": [
      "WWW-Authenticate: Basic realm=\"Password incorrect\"\n",
      "Content-Type: text/html; charset=utf-8\n",
      "Content-Length: 19\n",
      "Server: Werkzeug/1.0.1 Python/3.8.2\n",
      "Date: Mon, 19 Apr 2021 02:52:58 GMT\n",
      "\n",
      "403 Verification failed\n",
      "<RequestsCookieJar[]>\n"
     ]
    }
   ],
   "source": [
    "resp = requests.post(\"https://localhost:5001/login\", verify='pubkey.pem',\n",
    "                     data=dict(username=\"Alice\", password=\"wrong_pw\"))\n",
    "\n",
    "for k, v in resp.headers.items():\n",
    "    print(f\"{k}: {v}\")\n",
    "print()\n",
    "print(resp.status_code, resp.text)\n",
    "print(resp.cookies)"
   ]
  },
  {
   "cell_type": "code",
   "execution_count": 3,
   "id": "waiting-letters",
   "metadata": {},
   "outputs": [
    {
     "name": "stdout",
     "output_type": "stream",
     "text": [
      "Content-Type: text/html; charset=utf-8\n",
      "Content-Length: 9\n",
      "Set-Cookie: app1-username=Alice; Path=/, app1-token=GGTo57n11xqe9cGqo7mzlA; Path=/, app1-login-timestamp=2021-04-18T22:54:04.387689; Path=/\n",
      "Server: Werkzeug/1.0.1 Python/3.8.2\n",
      "Date: Mon, 19 Apr 2021 02:54:04 GMT\n",
      "\n",
      "200 Logged in\n",
      "<RequestsCookieJar[<Cookie app1-login-timestamp=2021-04-18T22:54:04.387689 for localhost.local/>, <Cookie app1-token=GGTo57n11xqe9cGqo7mzlA for localhost.local/>, <Cookie app1-username=Alice for localhost.local/>]>\n"
     ]
    }
   ],
   "source": [
    "resp = requests.post(\"https://localhost:5001/login\", verify='pubkey.pem',\n",
    "                     data=dict(username=\"Alice\", password=\"alice_pw\"))\n",
    "\n",
    "for k, v in resp.headers.items():\n",
    "    print(f\"{k}: {v}\")\n",
    "print()\n",
    "print(resp.status_code, resp.text)\n",
    "print(resp.cookies)"
   ]
  },
  {
   "cell_type": "code",
   "execution_count": 4,
   "id": "together-watershed",
   "metadata": {},
   "outputs": [
    {
     "data": {
      "text/plain": [
       "{'app1-login-timestamp': '2021-04-18T22:54:04.387689',\n",
       " 'app1-token': 'GGTo57n11xqe9cGqo7mzlA',\n",
       " 'app1-username': 'Alice'}"
      ]
     },
     "execution_count": 4,
     "metadata": {},
     "output_type": "execute_result"
    }
   ],
   "source": [
    "cookies.update(resp.cookies)\n",
    "cookies"
   ]
  },
  {
   "cell_type": "markdown",
   "id": "silent-comparative",
   "metadata": {},
   "source": [
    "## Utilizing a token\n",
    "\n",
    "At this point, the server and client have synchronized in agreeing on a token stored as a cookie.  Or rather, really the cookie was merely used as a sideband to the message exchange.  If you like, you can manage cookies more automatically using requests in a manner similar to:\n",
    "\n",
    "```python\n",
    "session = requests.Session() \n",
    "session.post('https://...', verify='pubkey.pem', data=payload)\n",
    "answer = some_decoder(session.content)\n",
    "```\n",
    "\n",
    "Since we merely store cookies in a local variable, we will need to pass it back explicitly instead.  This is still easy."
   ]
  },
  {
   "cell_type": "code",
   "execution_count": 5,
   "id": "rental-fluid",
   "metadata": {},
   "outputs": [
    {
     "name": "stdout",
     "output_type": "stream",
     "text": [
      "{'Secret-number': 42}\n"
     ]
    }
   ],
   "source": [
    "import json\n",
    "resp = requests.get('https://localhost:5001/get-info', \n",
    "                    verify='pubkey.pem', cookies=cookies)\n",
    "print(json.loads(resp.text))"
   ]
  },
  {
   "cell_type": "markdown",
   "id": "latin-knock",
   "metadata": {},
   "source": [
    "If we do not have correct cookie information that matches the service's database, the action will fail."
   ]
  },
  {
   "cell_type": "code",
   "execution_count": 6,
   "id": "abroad-reasoning",
   "metadata": {},
   "outputs": [
    {
     "name": "stdout",
     "output_type": "stream",
     "text": [
      "403 Bob denied access to resource\n"
     ]
    }
   ],
   "source": [
    "cookies['app1-username'] = \"Bob\"\n",
    "import json\n",
    "resp = requests.get('https://localhost:5001/get-info', \n",
    "                    verify='pubkey.pem', cookies=cookies)\n",
    "print(resp.status_code, resp.text)"
   ]
  },
  {
   "cell_type": "markdown",
   "id": "documentary-masters",
   "metadata": {},
   "source": [
    "The verification performed on the server is quite simple.\n",
    "\n",
    "```python\n",
    "@app.route('/get-info')\n",
    "def get_info():\n",
    "    username = request.cookies.get('app1-username')\n",
    "    token = request.cookies.get('app1-token')\n",
    "    if token != auth_tokens.get(username):\n",
    "        return make_response(f\"{username} denied access to resource\", 403)\n",
    "    \n",
    "    return jsonify({\"Secret-number\": 42})\n",
    "```\n",
    "\n",
    "Obviously, a real-life route will perform some more interesting action, optionally utilizing the cookie data for its specification (and probably POSTing some interesting data to process rather than only using a GET with no query parameters)."
   ]
  },
  {
   "cell_type": "markdown",
   "id": "further-cylinder",
   "metadata": {},
   "source": [
    "Let's let requests manage the cookiejar for us, which will simplify the code even more."
   ]
  },
  {
   "cell_type": "code",
   "execution_count": 7,
   "id": "automatic-scanner",
   "metadata": {},
   "outputs": [
    {
     "name": "stdout",
     "output_type": "stream",
     "text": [
      "Content-Type: text/html; charset=utf-8\n",
      "Content-Length: 9\n",
      "Set-Cookie: app1-username=Bob; Path=/, app1-token=96rCFbBgVl2NL_tbR8C_pg; Path=/, app1-login-timestamp=2021-04-18T23:01:28.825530; Path=/\n",
      "Server: Werkzeug/1.0.1 Python/3.8.2\n",
      "Date: Mon, 19 Apr 2021 03:01:28 GMT\n",
      "\n",
      "200 Logged in\n"
     ]
    }
   ],
   "source": [
    "session = requests.Session()\n",
    "resp = session.post(\"https://localhost:5001/login\", verify='pubkey.pem',\n",
    "                     data=dict(username=\"Bob\", password=\"bob_pw\"))\n",
    "\n",
    "for k, v in resp.headers.items():\n",
    "    print(f\"{k}: {v}\")\n",
    "print()\n",
    "print(resp.status_code, resp.text)"
   ]
  },
  {
   "cell_type": "code",
   "execution_count": 8,
   "id": "bacterial-liberty",
   "metadata": {},
   "outputs": [
    {
     "name": "stdout",
     "output_type": "stream",
     "text": [
      "{'Secret-number': 42}\n"
     ]
    }
   ],
   "source": [
    "resp = session.get('https://localhost:5001/get-info', verify='pubkey.pem')\n",
    "print(json.loads(resp.text))"
   ]
  },
  {
   "cell_type": "markdown",
   "id": "systematic-yesterday",
   "metadata": {},
   "source": [
    "## Next: Authentication protocols\n",
    "\n",
    "What you have seen already is completely adequate for most web services.  However, sometimes more formal protocols like JSON Web Tokens are used to formalize so-called \"claims\" between two parties (i.e. client/service or microservice pairs).  If we use that, it also becomes easier to use a private key cryptographic approach rather than a token-based approach.  There are advantages and disadvantages of tokens versus private keys; we look at that in the next lesson."
   ]
  }
 ],
 "metadata": {
  "kernelspec": {
   "display_name": "Python 3",
   "language": "python",
   "name": "python3"
  },
  "language_info": {
   "codemirror_mode": {
    "name": "ipython",
    "version": 3
   },
   "file_extension": ".py",
   "mimetype": "text/x-python",
   "name": "python",
   "nbconvert_exporter": "python",
   "pygments_lexer": "ipython3",
   "version": "3.8.8"
  }
 },
 "nbformat": 4,
 "nbformat_minor": 5
}
