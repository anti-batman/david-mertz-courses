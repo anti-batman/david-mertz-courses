{
 "cells": [
  {
   "cell_type": "markdown",
   "id": "fresh-estonia",
   "metadata": {},
   "source": [
    "<div style=\"position: relative;\">\n",
    "<img src=\"https://user-images.githubusercontent.com/7065401/98728503-5ab82f80-2378-11eb-9c79-adeb308fc647.png\"></img>\n",
    "\n",
    "<h1 style=\"color: white; position: absolute; top:27%; left:10%;\">\n",
    "     Secure RESTful APIs using Python\n",
    "</h1>\n",
    "\n",
    "<h3 style=\"color: #ef7d22; font-weight: normal; position: absolute; top:56%; left:10%;\">\n",
    "    David Mertz, Ph.D.\n",
    "</h3>\n",
    "\n",
    "<h3 style=\"color: #ef7d22; font-weight: normal; position: absolute; top:63%; left:10%;\">\n",
    "    Data Scientist\n",
    "</h3>\n",
    "</div>"
   ]
  },
  {
   "cell_type": "markdown",
   "id": "federal-lesson",
   "metadata": {},
   "source": [
    "# Services\n",
    "\n",
    "Suppose that you have written a few functions, and you would like to expose them for other people in your work team to use.  The examples here will process images in a few ways, but any other domain or task could pose a similar design issue.  It is certainly *possible* to bundle your functions into a module or library, and distribute it.  However, another option is simply to **expose** the capabilities as micro-services.\n",
    "\n",
    "Let's load again one of the images we saw in the last lesson."
   ]
  },
  {
   "cell_type": "code",
   "execution_count": null,
   "id": "temporal-british",
   "metadata": {},
   "outputs": [],
   "source": [
    "import numpy as np\n",
    "from PIL import Image\n",
    "img = Image.open('1.jpg')\n",
    "img"
   ]
  },
  {
   "cell_type": "markdown",
   "id": "detected-practitioner",
   "metadata": {},
   "source": [
    "## Functions\n",
    "\n",
    "A few functions can be useful in analyzing or manipulating images.  For example, perhaps we would like to identify what colors regions are most prominent in a photograph."
   ]
  },
  {
   "cell_type": "code",
   "execution_count": null,
   "id": "assured-jonathan",
   "metadata": {},
   "outputs": [],
   "source": [
    "from collections import Counter\n",
    "from sklearn.cluster import KMeans\n",
    "\n",
    "def prominent_colors(img, k=6):\n",
    "    \"Identify `k` centroids and pixel counts in colorspace of an image\"\n",
    "    pixels = np.asarray(img).reshape(-1, 3)\n",
    "    model = KMeans(n_clusters=k)\n",
    "    model.fit_predict(pixels)\n",
    "    freqs = Counter(model.labels_)\n",
    "    colors = np.rint(model.cluster_centers_).astype(np.uint8)\n",
    "    return colors, freqs"
   ]
  },
  {
   "cell_type": "markdown",
   "id": "preceding-official",
   "metadata": {},
   "source": [
    "It takes a non-trivial time for this to run on a large image.  If we were processing thousands of images, this could be significant."
   ]
  },
  {
   "cell_type": "code",
   "execution_count": null,
   "id": "dressed-installation",
   "metadata": {},
   "outputs": [],
   "source": [
    "%%time\n",
    "colors, freqs = prominent_colors(img)\n",
    "colors, freqs.most_common()"
   ]
  },
  {
   "cell_type": "markdown",
   "id": "dental-swimming",
   "metadata": {},
   "source": [
    "---\n",
    "\n",
    "Perhaps we would like to see these colors as HTML hex color codes."
   ]
  },
  {
   "cell_type": "code",
   "execution_count": null,
   "id": "detailed-canal",
   "metadata": {},
   "outputs": [],
   "source": [
    "def rgb2hex(rgbs):\n",
    "    \"Convert a NumPy array of RBB colors into their HTML hexcodes\"\n",
    "    assert rgbs.shape[1] == 3\n",
    "    hexcodes = []\n",
    "    for rgb in rgbs:\n",
    "        r, g, b = rgb\n",
    "        hexcodes.append(f\"#{r:02x}{g:02x}{b:02x}\")\n",
    "    return hexcodes"
   ]
  },
  {
   "cell_type": "code",
   "execution_count": null,
   "id": "arbitrary-criterion",
   "metadata": {},
   "outputs": [],
   "source": [
    "rgb2hex(colors)"
   ]
  },
  {
   "cell_type": "markdown",
   "id": "secondary-services",
   "metadata": {},
   "source": [
    "---\n",
    "\n",
    "Perhaps we would like to create an image showing a pie chart of prominent colors."
   ]
  },
  {
   "cell_type": "code",
   "execution_count": null,
   "id": "amended-thong",
   "metadata": {},
   "outputs": [],
   "source": [
    "from matplotlib import pyplot as plt\n",
    "from tempfile import NamedTemporaryFile\n",
    "\n",
    "def plot_centroids(colors, counts):\n",
    "    with NamedTemporaryFile() as imgfile:\n",
    "        plt.pie(counts, labels=colors, colors=colors)\n",
    "        plt.axis('equal')\n",
    "        plt.savefig(imgfile)\n",
    "        return Image.open(imgfile.name)    "
   ]
  },
  {
   "cell_type": "code",
   "execution_count": null,
   "id": "waiting-voluntary",
   "metadata": {},
   "outputs": [],
   "source": [
    "counts = [c[1] for c in sorted(freqs.items())]\n",
    "hexcolors = rgb2hex(colors)\n",
    "pie = plot_centroids(hexcolors, counts)"
   ]
  },
  {
   "cell_type": "markdown",
   "id": "mathematical-permit",
   "metadata": {},
   "source": [
    "## Converting to micro-services\n",
    "\n",
    "Each of these functions above can easily, and sensibly, be converted into web services.  As in the last lesson, this lesson contains a small Flask server that you can launch with:\n",
    "\n",
    "```bash\n",
    "FLASK_APP=app.py flask run\n",
    "```\n",
    "\n",
    "The heart of this script begins with:\n",
    "\n",
    "```python\n",
    "from flask import Flask, request, send_file, jsonify, abort\n",
    "app = Flask(__name__)\n",
    "```\n",
    "\n",
    "A variety of imports shown earlier and the bodies of the functions already shown are also contained in the `app.py` file.  We can configure the URL details here for calling with `requests`."
   ]
  },
  {
   "cell_type": "code",
   "execution_count": null,
   "id": "average-florida",
   "metadata": {},
   "outputs": [],
   "source": [
    "from json import loads, dumps\n",
    "import requests\n",
    "host, port = 'localhost', 5000"
   ]
  },
  {
   "cell_type": "markdown",
   "id": "starting-claim",
   "metadata": {},
   "source": [
    "Let's start with the `prominent_colors()`.  In this case, we modify nothing whatsoever about the prior function, merely put a little bit of wrapper to provide it as a micro-service:\n",
    "\n",
    "```python\n",
    "@app.route('/prominent-colors', methods=['POST'])\n",
    "def cluster():\n",
    "    img = Image.open(request.files['image'])\n",
    "    k = int(request.form.get('k', 6))\n",
    "    colors, freqs = prominent_colors(img, k)\n",
    "    # Fixup: labels are NumPy ints rather than Python ints\n",
    "    freqs = {int(k):v for k, v in freqs.items()}\n",
    "    return jsonify([colors.tolist(), freqs])\n",
    "```\n",
    "\n",
    "A few things can be noted here.  The decorator `@app.route` gives what URL path the function below will respond to.  However, the actual function can be called anything at all.  Often the same name as the final portion of the path is used, but as here, it can be something different."
   ]
  },
  {
   "cell_type": "markdown",
   "id": "specified-allen",
   "metadata": {},
   "source": [
    "In the code, we take an uploaded file and read it into the variable `img` and a form field into `k`.  These are separately given in the `requests` arguments `files` and `data` since the latter needs large binary data.  Beyond that, we simply call the function `prominent_colors()` with the parameters provided, and return a JSON version of the response.  A slight fixup is needed for `freqs` because the labels are actually `numpy.int32` values rather than Python ints that we can convert to JSON directly.\n",
    "\n",
    "Let's make a \"call\" to the service."
   ]
  },
  {
   "cell_type": "code",
   "execution_count": null,
   "id": "leading-glenn",
   "metadata": {},
   "outputs": [],
   "source": [
    "%%time\n",
    "r = requests.post(f'http://{host}:{port}/prominent-colors', \n",
    "                  files={'image': open('1.jpg', 'rb')},\n",
    "                  data={'k': 6})\n",
    "colors, freqs = loads(r.text)\n",
    "colors"
   ]
  },
  {
   "cell_type": "markdown",
   "id": "blind-funds",
   "metadata": {},
   "source": [
    "No extra time was needed to connect on the local machine; in fact, it seems to run a few milliseconds faster on my system, probably because the service is already running in a separate thread."
   ]
  },
  {
   "cell_type": "markdown",
   "id": "parliamentary-emphasis",
   "metadata": {},
   "source": [
    "For the next function, we create a very slight modification as a microservice.  We cannot directly send a NumPy array, but would require serialization, either using JSON, Python pickles, or some other approach.  A list-of-lists—which is what we actually got back from the prior request, is easier.\n",
    "\n",
    "```python\n",
    "@app.route('/rgb2hex', methods=['POST'])\n",
    "def rgb2hex():\n",
    "    \"Convert a list-of-lists of RBB colors into their HTML hexcodes\"\n",
    "    rgbs = loads(request.form.get('rgbs', '[]'))\n",
    "    hexcodes = []\n",
    "    for rgb in rgbs:\n",
    "        r, g, b = rgb\n",
    "        hexcodes.append(f\"#{r:02x}{g:02x}{b:02x}\")\n",
    "    return jsonify(hexcodes)\n",
    "```\n",
    "\n",
    "Not much to this.  We do not check for array dimension, and we make sure to `jsonify()` the return value, and get the arguments from the form rather than as formal arguments.  The underlying logic is the same."
   ]
  },
  {
   "cell_type": "code",
   "execution_count": null,
   "id": "opened-peninsula",
   "metadata": {},
   "outputs": [],
   "source": [
    "r = requests.post(f'http://{host}:{port}/rgb2hex', \n",
    "                  data={'rgbs': dumps(colors)})\n",
    "loads(r.text)"
   ]
  },
  {
   "cell_type": "markdown",
   "id": "neural-bulgarian",
   "metadata": {},
   "source": [
    "The final micro-service we create is for rendering the pie chart of the various colors and their relative frequencies.  Again the underlying logic is the same, but we change a few minor details of parsing parameters.\n",
    "\n",
    "```python\n",
    "@app.route('/centroids', methods=['POST'])\n",
    "def centroids():\n",
    "    try:\n",
    "        with NamedTemporaryFile() as imgfile:\n",
    "            colors = loads(request.form['colors'])\n",
    "            counts = loads(request.form['counts'])\n",
    "            plt.pie(counts, labels=colors, colors=colors)\n",
    "            plt.axis('equal')\n",
    "            plt.savefig(imgfile, dpi=75)\n",
    "            imgfile.flush()\n",
    "            return send_file(imgfile.name, mimetype='image/png')\n",
    "    except:\n",
    "        abort(503)\n",
    "```\n",
    "\n",
    "Let's walk through using all of the micro-services with some slightly different options."
   ]
  },
  {
   "cell_type": "code",
   "execution_count": null,
   "id": "cubic-pocket",
   "metadata": {},
   "outputs": [],
   "source": [
    "# Image 3, central 4  colors\n",
    "r1 = requests.post(f'http://{host}:{port}/prominent-colors', \n",
    "                  files={'image': open('3.jpg', 'rb')},\n",
    "                  data={'k': 4})\n",
    "colors, freqs = loads(r1.text)"
   ]
  },
  {
   "cell_type": "code",
   "execution_count": null,
   "id": "found-weekly",
   "metadata": {},
   "outputs": [],
   "source": [
    "# Get the hex color codes\n",
    "r2 = requests.post(f'http://{host}:{port}/rgb2hex', \n",
    "                   data={'rgbs': dumps(colors)})\n",
    "# Still a JSON string here\n",
    "hexcolors = r2.text"
   ]
  },
  {
   "cell_type": "code",
   "execution_count": null,
   "id": "committed-jacket",
   "metadata": {},
   "outputs": [],
   "source": [
    "# Calculate the plot and return it as image\n",
    "import io\n",
    "counts = dumps([c[1] for c in sorted(freqs.items())])\n",
    "r3 = requests.post(f'http://{host}:{port}/centroids', \n",
    "                   data={'colors': hexcolors, 'counts': counts})\n",
    "\n",
    "Image.open(io.BytesIO(r3.content))"
   ]
  },
  {
   "cell_type": "code",
   "execution_count": null,
   "id": "worldwide-store",
   "metadata": {},
   "outputs": [],
   "source": [
    "Image.open('3.jpg').resize((540, 360))"
   ]
  }
 ],
 "metadata": {
  "kernelspec": {
   "display_name": "Python 3",
   "language": "python",
   "name": "python3"
  },
  "language_info": {
   "codemirror_mode": {
    "name": "ipython",
    "version": 3
   },
   "file_extension": ".py",
   "mimetype": "text/x-python",
   "name": "python",
   "nbconvert_exporter": "python",
   "pygments_lexer": "ipython3",
   "version": "3.8.2"
  }
 },
 "nbformat": 4,
 "nbformat_minor": 5
}
