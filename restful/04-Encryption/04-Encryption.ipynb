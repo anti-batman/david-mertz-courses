{
 "cells": [
  {
   "cell_type": "markdown",
   "id": "missing-vaccine",
   "metadata": {},
   "source": [
    "<div style=\"position: relative;\">\n",
    "<img src=\"https://user-images.githubusercontent.com/7065401/98728503-5ab82f80-2378-11eb-9c79-adeb308fc647.png\"></img>\n",
    "\n",
    "<h1 style=\"color: white; position: absolute; top:27%; left:10%;\">\n",
    "     Secure RESTful APIs using Python\n",
    "</h1>\n",
    "\n",
    "<h3 style=\"color: #ef7d22; font-weight: normal; position: absolute; top:56%; left:10%;\">\n",
    "    David Mertz, Ph.D.\n",
    "</h3>\n",
    "\n",
    "<h3 style=\"color: #ef7d22; font-weight: normal; position: absolute; top:63%; left:10%;\">\n",
    "    Data Scientist\n",
    "</h3>\n",
    "</div>"
   ]
  },
  {
   "cell_type": "markdown",
   "id": "prime-sleeping",
   "metadata": {},
   "source": [
    "# Encrypted connections\n",
    "\n",
    "Security comes in layers. Before we can discuss authentication with JSON Web Tokens or HTTP Signatures, we need to talk about SSL security.  The goal of SSL, or actually of TLS which has superceded it to fix some weaknesses, is to have clients and servers communicate only encrypted messages.  This way, if anyone listens on the publicly routed TCP packets, all they see are random bytes that they cannot interpret.  When you use the HTTPS protocol, the \"S\" means that SSL encryption is used for the connection.  Ordinary web browsers usually add some sort of icon or coloring to indicate that secure URLs and connections are being used."
   ]
  },
  {
   "cell_type": "markdown",
   "id": "veterinary-stadium",
   "metadata": {},
   "source": [
    "Let's look at a quick example of where private information could be exposed.  A very simple server, `app0.py` is running on port 5000 on my system.  This server uses plain HTTP protocol—as have those in the prior lesson.  After this, we will start using only encrypted HTTPS URLs in future examples.  \n",
    "\n",
    "Imagine you wanted to make a request to this server.  Here it is on `localhost`, but it could equally be at a publicly accessible domain name.  In order to make this illustration simpler, the request will indicate the `identity` encoding so that compression of responses is not used.  However, keep in mind that compression is not encryption.  It can make text hard to read with the naked eye, but no harder for compression libraries, such as Python's `gzip` to expose the content."
   ]
  },
  {
   "cell_type": "code",
   "execution_count": 1,
   "id": "competent-radio",
   "metadata": {},
   "outputs": [
    {
     "data": {
      "text/plain": [
       "'Secret Message!'"
      ]
     },
     "execution_count": 1,
     "metadata": {},
     "output_type": "execute_result"
    }
   ],
   "source": [
    "import requests\n",
    "headers = {\"Accept-Encoding\": \"identity\",}\n",
    "resp = requests.get(\"http://localhost:5000/\", headers=headers)\n",
    "resp.text"
   ]
  },
  {
   "cell_type": "markdown",
   "id": "unusual-cambodia",
   "metadata": {},
   "source": [
    "The problem is that unbeknownst to us, someone was monitoring the TCP packets.  For example, I ran this command to see what was being communicated (various other tools can do the same thing, and can do it on any intermediate routers between me and a server).\n",
    "\n",
    "```bash\n",
    "% sudo tcpdump -i any -Aq src port 5000\n",
    "```\n",
    "\n",
    "The captured content of this server to client communication looks like:\n",
    "\n",
    "```\n",
    "`......@...................................p....Dm..P.......\n",
    "E..<..@.@.<..................5.......0.........\n",
    "E..4Z.@.@....................5.y.....(.....\n",
    "{.0.{.0.\n",
    "E..EZ.@.@....................5.y.....9.....\n",
    "{.0.{.0.HTTP/1.0 200 OK\n",
    "\n",
    "E...Z.@.@..@.................5.y...........\n",
    "{.0.{.0.Content-Type: text/html; charset=utf-8\n",
    "Content-Length: 15\n",
    "Server: Werkzeug/1.0.1 Python/3.8.2\n",
    "Date: Sun, 18 Apr 2021 05:54:02 GMT\n",
    "\n",
    "E..CZ.@.@..................\\.5.y.....7.....\n",
    "{.0.{.0.Secret Message!\n",
    "E..4Z.@.@..................k.5.y.....(.....\n",
    "{.0.{.0.\n",
    "E..4Z.@.@..................l.5.z.....(.....\n",
    "{.0.{.0.\n",
    "```\n",
    "\n",
    "Some of that is not obvious, especially seeing the dots for non-ASCII bytes.  But it is easy to see the HTTP response header, and crucially also the plaintext \"Secret Message.\"  Let's fix that going forward."
   ]
  },
  {
   "cell_type": "markdown",
   "id": "level-worst",
   "metadata": {},
   "source": [
    "## TLS Certificates\n",
    "\n",
    "The general topic of generating, signing, and managing TLS certificates (formerly SSL certificates) is outside the scope of this course, but is discussed in other INE courses.  This process involves obtaining (i.e. paying) a Certificate Authority to validate public and private keys.  In very brief overview, a system of public key cryptography with trusted \"root certificates\" is used in order to allow clients and servers to communicate in a way that does not use \"plaintext\" messages to each other.\n",
    "\n",
    "For illustration, however, we can generate a public and private key to use by the servers in this course.  The lifetime of these keys is set to be short, and will probably be expired by the time you watch this.  You can generate your own as shown below.  The server needs to have both keys, but the public key, as the name suggests, can be widely distributed to anyone.  That's all the client needs for the encrypted communication."
   ]
  },
  {
   "cell_type": "markdown",
   "id": "severe-embassy",
   "metadata": {},
   "source": [
    "```bash\n",
    "% openssl req -x509 -newkey rsa:4096 -nodes -out pubkey.pem -keyout private.pem -days 30\n",
    "Generating a RSA private key\n",
    "..........++++\n",
    ".......................................++++\n",
    "writing new private key to 'private.pem'\n",
    "-----\n",
    "You are about to be asked to enter information that will be incorporated\n",
    "into your certificate request.\n",
    "What you are about to enter is what is called a Distinguished Name or a DN.\n",
    "There are quite a few fields but you can leave some blank\n",
    "For some fields there will be a default value,\n",
    "If you enter '.', the field will be left blank.\n",
    "-----\n",
    "Country Name (2 letter code) [AU]:US\n",
    "State or Province Name (full name) [Some-State]:.\n",
    "Locality Name (eg, city) []:.\n",
    "Organization Name (eg, company) [Internet Widgits Pty Ltd]:INE\n",
    "Organizational Unit Name (eg, section) []:.\n",
    "Common Name (e.g. server FQDN or YOUR name) []:localhost\n",
    "Email Address []:.\n",
    "```"
   ]
  },
  {
   "cell_type": "markdown",
   "id": "rising-discharge",
   "metadata": {},
   "source": [
    "With the keys created, we can run this server `app1.py`, differing from `app0.py` only in the last line which uses port 5001 and configures these keys.\n",
    "\n",
    "```python\n",
    "#!/usr/bin/env python\n",
    "from flask import Flask\n",
    "app = Flask(__name__)\n",
    "\n",
    "@app.route(\"/\")\n",
    "def hello():\n",
    "    return \"Secret Message!\"\n",
    "\n",
    "if __name__ == \"__main__\":\n",
    "    app.run(ssl_context=('pubkey.pem', 'private.pem'), port=5001)\n",
    "```"
   ]
  },
  {
   "cell_type": "markdown",
   "id": "advanced-recommendation",
   "metadata": {},
   "source": [
    "Now let's call the server.  Here we not only can, but must, call it using HTTPS.  For the moment, let's still insist that  no compression is used by specifying `Accept-Encoding` as above."
   ]
  },
  {
   "cell_type": "code",
   "execution_count": 3,
   "id": "damaged-david",
   "metadata": {},
   "outputs": [
    {
     "data": {
      "text/plain": [
       "'Secret Message!'"
      ]
     },
     "execution_count": 3,
     "metadata": {},
     "output_type": "execute_result"
    }
   ],
   "source": [
    "requests.packages.urllib3.disable_warnings()\n",
    "resp = requests.get(\"https://localhost:5001/\", \n",
    "                    headers=headers, verify='pubkey.pem')\n",
    "resp.text"
   ]
  },
  {
   "cell_type": "markdown",
   "id": "indie-entity",
   "metadata": {},
   "source": [
    "In this case capturing the output contains no plaintext to make sense of, and no one other than the two ends has the temporary symmetric key generated to encrypt the connection.\n",
    "\n",
    "```\n",
    "% sudo tcpdump -i any -Aq src port 5001 -c8 | grep -v localhost\n",
    "`.N....@...................................Z......=.P.......\n",
    "E..<..@.@.<...............ym.$.......0.........\n",
    "}c.I}c.I....\n",
    "E..4k.@.@.................yn.$./.....(.....\n",
    "}c.J}c.J\n",
    "E...k.@.@.................yn.$./...........\n",
    "}c.Q}c.J....z...v..V.-%=.#..u$.D^...MH...J.......1. .=:}...',...s./.....O..E...)        ........+.....3.$... /.;5......'.....&..+..V.P.S.`G.5..............'.L{..@\n",
    ":.....b..CO'....a.oqSt.......Q.....C...p.H2.......M.&....ni..d.7.g.%;....../.,...{M.....A....M.[[..WkY} ...g...I\\......G.b.-.w.7...T..G`.X..$g7....(......... .B.P'......f..).Z.T...\\n.;.I@.......Y.|.=.q<..f..e..jH.?.+. .7..d......?...SI.,.C..........f...........=_...1..Fql.RC..m.^O#-.m/.._H5.......s.L.\\b.b........^<.....5..\n",
    "nd..=+K....K.T^>...|..W70.M.......]>..Xs...p{....   .....0........3N.o.P..dv.2..#.e\n",
    "8..Mc!..../...=.r...V.F.............r..-.....NV{...u....p..Z}....i9.%..w.........>.'..v.6=s:...j..ZL...A\n",
    "...>J<rY}|,.ZnNaD.J....pL.\n",
    "```\n",
    "\n",
    "The bytes transmitted are indistinguishable from random noise to anyone other than the connecting ends."
   ]
  },
  {
   "cell_type": "markdown",
   "id": "refined-geneva",
   "metadata": {},
   "source": [
    "## Different security concerns\n",
    "\n",
    "What TLS accomplishes is keeping the content of a connection private.  However, it does not provide any authentication of specific users.  TLS cannot, in itself, prevent anyone with the same URL from accessing the same content or service.  For that we need additional protocols."
   ]
  }
 ],
 "metadata": {
  "kernelspec": {
   "display_name": "Python 3",
   "language": "python",
   "name": "python3"
  },
  "language_info": {
   "codemirror_mode": {
    "name": "ipython",
    "version": 3
   },
   "file_extension": ".py",
   "mimetype": "text/x-python",
   "name": "python",
   "nbconvert_exporter": "python",
   "pygments_lexer": "ipython3",
   "version": "3.8.2"
  }
 },
 "nbformat": 4,
 "nbformat_minor": 5
}
