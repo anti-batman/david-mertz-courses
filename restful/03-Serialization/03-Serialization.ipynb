{
 "cells": [
  {
   "cell_type": "markdown",
   "id": "impossible-cisco",
   "metadata": {},
   "source": [
    "<div style=\"position: relative;\">\n",
    "<img src=\"https://user-images.githubusercontent.com/7065401/98728503-5ab82f80-2378-11eb-9c79-adeb308fc647.png\"></img>\n",
    "\n",
    "<h1 style=\"color: white; position: absolute; top:27%; left:10%;\">\n",
    "     Secure RESTful APIs using Python\n",
    "</h1>\n",
    "\n",
    "<h3 style=\"color: #ef7d22; font-weight: normal; position: absolute; top:56%; left:10%;\">\n",
    "    David Mertz, Ph.D.\n",
    "</h3>\n",
    "\n",
    "<h3 style=\"color: #ef7d22; font-weight: normal; position: absolute; top:63%; left:10%;\">\n",
    "    Data Scientist\n",
    "</h3>\n",
    "</div>"
   ]
  },
  {
   "cell_type": "markdown",
   "id": "cheap-buffer",
   "metadata": {},
   "source": [
    "# Serialization formats\n",
    "\n",
    "In the web services or micro-services we have constructed so far, data has been returned in several formats.  These were indicated by their media types (formerly known as \"MIME types\") in the responses.  We will see in this lesson that we can use other types than those shown; and also how it can be useful to specify a media type of data being POST'ed to services; not only for responses received."
   ]
  },
  {
   "cell_type": "markdown",
   "id": "ruled-procedure",
   "metadata": {},
   "source": [
    "### Common formats received\n",
    "\n",
    "For example, let us look again at a slightly modified version of the server written for lesson one.  I show the entire script here since it illustrates a few constructs we did not use in lesson two.\n",
    "\n",
    "To launch this, we have included a block to run it as an executable rather than via the `flask` command:\n",
    "\n",
    "```bash\n",
    "./app1.py\n",
    "```"
   ]
  },
  {
   "cell_type": "markdown",
   "id": "streaming-fairy",
   "metadata": {},
   "source": [
    "The entire server, with multiple routes, looks like the below.\n",
    "\n",
    "```python\n",
    "#!/usr/bin/env python\n",
    "from flask import Flask, request, send_file, jsonify, abort\n",
    "app = Flask(__name__)\n",
    "\n",
    "@app.route('/')\n",
    "def root():\n",
    "    page = \"\"\"<html><body><table>\n",
    "        <tr><th>Path</th><th>Parameters</th></tr>\n",
    "        <tr><td>/text</td><td>N/A</td></tr>\n",
    "        <tr><td>/image</td><td>JPEG filename</td></tr>\n",
    "        <tr><td>/json</td><td>Echo all</td></tr>\n",
    "    </table></body></html>\n",
    "    \"\"\"\n",
    "    r = make_response(page)\n",
    "    r.mimetype = 'text/html'\n",
    "    r.headers['X-INE-Course'] = \"RESTful APIs\"\n",
    "    return r\n",
    "\n",
    "@app.route('/text')\n",
    "def text():\n",
    "    r = make_response(\"Hello student!\")\n",
    "    r.mimetype = 'text/plain'\n",
    "    return r\n",
    "\n",
    "@app.route('/image')\n",
    "def image():\n",
    "    default = 'rainbow-butterfly-unicorn-kitten'\n",
    "    fname = f\"{request.args.get('name', default)}.jpg\"\n",
    "    try:\n",
    "        return send_file(fname, mimetype='image/jpeg')\n",
    "    except:\n",
    "        abort(404)\n",
    "        \n",
    "@app.route('/json', methods=[\"GET\", \"POST\", \"PUT\"])\n",
    "def json():\n",
    "    if request.method in {\"PUT\", \"POST\"}: \n",
    "        resp = dict(request.form)\n",
    "    else:\n",
    "        resp = dict(request.args)\n",
    "    resp['Server'] = \"Test Server #1\"\n",
    "    return jsonify(resp)\n",
    "\n",
    "if __name__ == '__main__':\n",
    "      # Expose to all external-facing IP addresses\n",
    "      app.run(host='0.0.0.0', port=2525)\n",
    "```"
   ]
  },
  {
   "cell_type": "markdown",
   "id": "dirty-floating",
   "metadata": {},
   "source": [
    "As we did in lesson one, let us call this service with a few different routes."
   ]
  },
  {
   "cell_type": "code",
   "execution_count": null,
   "id": "charged-palmer",
   "metadata": {},
   "outputs": [],
   "source": [
    "from IPython.display import Image, HTML\n",
    "import json\n",
    "import requests\n",
    "\n",
    "r = requests.get(f'http://localhost:2525/text')\n",
    "print(r.headers['Content-Type'])\n",
    "r.text"
   ]
  },
  {
   "cell_type": "markdown",
   "id": "speaking-message",
   "metadata": {},
   "source": [
    "In this route, we manually set the `.mimetype` attribute on the response before returning it.  Similarly, for other routes:"
   ]
  },
  {
   "cell_type": "code",
   "execution_count": null,
   "id": "organized-microwave",
   "metadata": {},
   "outputs": [],
   "source": [
    "r = requests.get(f'http://localhost:2525/json')\n",
    "print(r.headers['Content-Type'])\n",
    "json.loads(r.text)"
   ]
  },
  {
   "cell_type": "markdown",
   "id": "interstate-rabbit",
   "metadata": {},
   "source": [
    "Notice that in the Flask code, returning something wrapped in `jsonify()` sets the Content-Type automatically.  Likewise, if we use the `send_file()` function to wrap the response content, it gives us a chance to set a mimetype appropriately."
   ]
  },
  {
   "cell_type": "code",
   "execution_count": null,
   "id": "younger-annotation",
   "metadata": {},
   "outputs": [],
   "source": [
    "r = requests.get(f'http://localhost:2525/image')\n",
    "print(r.headers['Content-Type'])\n",
    "Image(r.content)"
   ]
  },
  {
   "cell_type": "markdown",
   "id": "invalid-skiing",
   "metadata": {},
   "source": [
    "## Additional formats\n",
    "\n",
    "There are thousands of media/MIME types defined by the IANA.  You can browse through them at:\n",
    "\n",
    "> https://www.iana.org/assignments/media-types/media-types.xhtml\n",
    "\n",
    "These fall into a few broad categories in the first part of the type.  For example: `text`, `image`, `application`, `video`.  Within each major type, there are many specialized subtypes.  \n",
    "\n",
    "You might upload some bytes representing UTF-8 text, but the clients or servers might process it very differently if it were `text/csv`, versus `text/rtf`, versus `text/xml`.  JSON is a special type in the sense that you might assume it belongs in the `text/` general type—JSON is indeed a textual format—but because it is so widely used for general exchange of structured data, it is categorized as `application/json`.\n",
    "\n",
    "Some subtypes are not public standards, but rather are created by particular vendors who wish to register a type.  This does not necessarily mean the format is proprietary, merely that it is associated with and determined by a project or a company rather than by standards.  When these types are named, they are given the prefix `vnd.`, such as `text/vnd.curl`, `text/vnd.graphviz`, or `text/vnd.debian.copyright`.\n",
    "\n",
    "Generally, if you are sending binary data, it will be in some format registered with IANA.  Technically, micro-services and clients are free to use arbitrary content types.  For example, I could write a micro-service that received or sent `application/vnd.ine.mertz.data` in the `Content-Type` header.  This might be useful for an in-house service, but will obviously not be known generically by possible consumers of the data.\n",
    "\n",
    "A special binary type is completely generic, called `application/octet-stream`.  If you are transmitting binary data but do not want the request or response to give any more specific description of the meaning of the data, this is the type to use."
   ]
  },
  {
   "cell_type": "markdown",
   "id": "breathing-union",
   "metadata": {},
   "source": [
    "## Server sensitive to Content-Type\n",
    "\n",
    "Let's look at a service that will behave differently—but in a related way—depending on the kind of data the client puts in a request.  This toy example will count the number of times the word \"butterfly\" occurs in a document, but the document may also be one of several types that need to be decoded to process.  This service will run simulteously with the one we launched above; it will use a different port, but when implemented in production might live on an entirely different server or cluster.\n",
    "\n",
    "\n",
    "```python\n",
    "#!/usr/bin/env python\n",
    "from flask import Flask, request, jsonify, abort\n",
    "from bs4 import BeautifulSoup\n",
    "from striprtf.striprtf import rtf_to_text\n",
    "app = Flask(__name__)\n",
    "\n",
    "@app.route('/count-butterflies', methods=[\"POST\"])\n",
    "def butterfly():\n",
    "    \"Count how many times the word 'butterfly' appears in document\"\n",
    "    document = request.data.decode()  # Make bytes into text\n",
    "    if request.content_type == 'text/plain':\n",
    "        text, decoder = document, None\n",
    "    elif request.content_type == 'text/html':\n",
    "        soup = BeautifulSoup(document)\n",
    "        text, decoder = soup.text, \"BeautifulSoup\"\n",
    "    elif request.content_type == 'text/rtf':\n",
    "        text, decoder = rtf_to_text(document), \"striprtf\"\n",
    "    else:\n",
    "        abort(400)  # 400 Bad Request\n",
    "\n",
    "    count = text.lower().count('butterfly')\n",
    "    return jsonify({\"count\": count, \"decoder\": decoder})\n",
    "\n",
    "if __name__ == '__main__':\n",
    "      # Expose to all external-facing IP addresses\n",
    "      app.run(host='0.0.0.0', port=2526)\n",
    "```"
   ]
  },
  {
   "cell_type": "markdown",
   "id": "knowing-financing",
   "metadata": {},
   "source": [
    "Let's open up a few different kinds of documents that we might want to use with this service.  All of these are versions of the 1922 book <u>Butterflies Worth Knowing</u>, by Clarence Moores Weed (https://www.gutenberg.org/ebooks/37009).  The plain text and HTML versions I downloaded directly, the RTF version I created myself based on the HTML.  We can see that all are *textual* but not all plain text."
   ]
  },
  {
   "cell_type": "code",
   "execution_count": null,
   "id": "hundred-eleven",
   "metadata": {},
   "outputs": [],
   "source": [
    "htm  = open('37009.html').read()\n",
    "print(htm[:160])"
   ]
  },
  {
   "cell_type": "code",
   "execution_count": null,
   "id": "grand-region",
   "metadata": {},
   "outputs": [],
   "source": [
    "rtf = open('37009.rtf').read()\n",
    "print(rtf[:160])"
   ]
  },
  {
   "cell_type": "code",
   "execution_count": null,
   "id": "sound-hindu",
   "metadata": {},
   "outputs": [],
   "source": [
    "txt = open('pg37009.txt').read()\n",
    "print(txt[:160])"
   ]
  },
  {
   "cell_type": "markdown",
   "id": "bottom-beauty",
   "metadata": {},
   "source": [
    "### Calling the service\n",
    "\n",
    "We might try calling the service with a little bit of binary text.  Communication with the server always transmits binary data, even if it is intended to represent text."
   ]
  },
  {
   "cell_type": "code",
   "execution_count": null,
   "id": "immune-respect",
   "metadata": {},
   "outputs": [],
   "source": [
    "url = 'http://localhost:2526/count-butterflies'\n",
    "r = requests.post(url, data=b'Rainbox butterfly unicorn kitten')\n",
    "print(r.status_code)\n",
    "HTML(r.text)"
   ]
  },
  {
   "cell_type": "markdown",
   "id": "thick-stranger",
   "metadata": {},
   "source": [
    "No Content-Type was specified, so the server simply has a `None` for that attribute of the `request` object.  Let's improve that."
   ]
  },
  {
   "cell_type": "code",
   "execution_count": null,
   "id": "opened-nepal",
   "metadata": {},
   "outputs": [],
   "source": [
    "r = requests.post(url, data=b'Rainbox butterfly unicorn kitten', \n",
    "                  headers={'Content-Type': 'text/plain'})\n",
    "json.loads(r.text)"
   ]
  },
  {
   "cell_type": "markdown",
   "id": "attractive-establishment",
   "metadata": {},
   "source": [
    "This worked for our short fragment of text.  We can try sending the longer documents.  Notice that we need to `.encode()` the texts as binary before attaching them to the request.  We could also have simply opened and read their content as binary to start with instead."
   ]
  },
  {
   "cell_type": "code",
   "execution_count": null,
   "id": "anticipated-fever",
   "metadata": {},
   "outputs": [],
   "source": [
    "r = requests.post(url, data=txt.encode(), \n",
    "                  headers={'Content-Type': 'text/plain'})\n",
    "json.loads(r.text)"
   ]
  },
  {
   "cell_type": "code",
   "execution_count": null,
   "id": "inside-isolation",
   "metadata": {},
   "outputs": [],
   "source": [
    "r = requests.post(url, data=htm.encode(), \n",
    "                  headers={'Content-Type': 'text/html'})\n",
    "json.loads(r.text)"
   ]
  },
  {
   "cell_type": "code",
   "execution_count": null,
   "id": "communist-preference",
   "metadata": {},
   "outputs": [],
   "source": [
    "r = requests.post(url, data=rtf.encode(), \n",
    "                  headers={'Content-Type': 'text/rtf'})\n",
    "json.loads(r.text)"
   ]
  },
  {
   "cell_type": "markdown",
   "id": "colored-chart",
   "metadata": {},
   "source": [
    "Something seems to be flawed either in my conversion of the document to RTF or in the `striprtf` library.  In any case, we see that we get a different (wrong) answer if we attempt to interpret it as a different format."
   ]
  },
  {
   "cell_type": "code",
   "execution_count": null,
   "id": "flush-conversion",
   "metadata": {},
   "outputs": [],
   "source": [
    "r = requests.post(url, data=rtf.encode(), \n",
    "                  headers={'Content-Type': 'text/html'})\n",
    "json.loads(r.text)"
   ]
  },
  {
   "cell_type": "markdown",
   "id": "expected-driver",
   "metadata": {},
   "source": [
    "## Custom binary data\n",
    "\n",
    "Sometimes the data we wish to work with does not fit neatly into a MIME type.  For example, NumPy arrays are structures we often work with in data science and numeric computing.  Perhaps we would like a micro-service to process these somehow.  Let's create one for the examples."
   ]
  },
  {
   "cell_type": "code",
   "execution_count": null,
   "id": "freelance-induction",
   "metadata": {},
   "outputs": [],
   "source": [
    "import pickle\n",
    "import io\n",
    "import numpy as np\n",
    "arr = np.random.normal(size=(2, 3, 4))\n",
    "arr"
   ]
  },
  {
   "cell_type": "markdown",
   "id": "periodic-device",
   "metadata": {},
   "source": [
    "The quandary here is that although we wish to process data in this efficient format, it is very Python-specific.  A web-service that utilizes NumPy arrays as such will not be able to talk with clients—or other micro-services—that are written in other programming languages.\n",
    "\n",
    "A common approach is to serialize the data into a more generic format, such as `application/json`, at one end, then deserialize it back to NumPy at the other end.  However, this adds time overhead in the format conversion, potentially loses some metadata or other features, and might result in larger payloads.  Moreover, such conversions are likely to require a certain amount of custom code to perform (for example, `json.dumps()` will not directly handle a NumPy array)."
   ]
  },
  {
   "cell_type": "markdown",
   "id": "broad-blues",
   "metadata": {},
   "source": [
    "For purpose of the following example, we assume that you are happy with a Python-centric approach to your micro-services.  We can serialize NumPy arrays in a couple ways that are very efficient.  The function `numpy.save()` is very efficient. It adds a short header, but in the main simply directly copies the in-memory layout of bytes.  Using Python `pickle` is very similar in this case, since the bulk of what is saved is simply the NumPy serialization format, with somewhat larger header metadata.  Let's take a look."
   ]
  },
  {
   "cell_type": "code",
   "execution_count": null,
   "id": "intended-improvement",
   "metadata": {},
   "outputs": [],
   "source": [
    "buffer = io.BytesIO()\n",
    "np.save(buffer, arr)\n",
    "npy = buffer.getvalue()\n",
    "npy[:80]"
   ]
  },
  {
   "cell_type": "code",
   "execution_count": null,
   "id": "beneficial-tennis",
   "metadata": {},
   "outputs": [],
   "source": [
    "pkl = pickle.dumps(arr)\n",
    "pkl[:80]"
   ]
  },
  {
   "cell_type": "markdown",
   "id": "subjective-impossible",
   "metadata": {},
   "source": [
    "### Sending the data\n",
    "\n",
    "The server or micro-service that processes these formats is very similar to ones we have seen.  It is running on a different port than the prior two (which are also still running).\n",
    "\n",
    "```python\n",
    "#!/usr/bin/env python\n",
    "import numpy as np\n",
    "import pickle, io\n",
    "from flask import Flask, request, abort, make_response\n",
    "app = Flask(__name__)\n",
    "\n",
    "@app.route('/add100', methods=[\"POST\"])\n",
    "def add100():\n",
    "    if (request.content_type == 'application/octet-stream' \n",
    "            and request.headers['X-INE-type'] == \"pickle\"):\n",
    "        arr = pickle.loads(request.data)\n",
    "        arr += 100\n",
    "        resp = make_response(pickle.dumps(arr))\n",
    "        resp.mimetype = 'application/octet-stream'\n",
    "        resp.headers['X-INE-type'] = \"pickle\"\n",
    "        return resp\n",
    "    elif request.content_type == 'application/vnd.ine.numpy':\n",
    "        arr = np.load(io.BytesIO(request.data))\n",
    "        arr += 100\n",
    "        buffer = io.BytesIO()\n",
    "        np.save(buffer, arr)\n",
    "        resp = make_response(buffer.getvalue())\n",
    "        resp.mimetype = 'application/vnd.ine.numpy'\n",
    "        return resp        \n",
    "    else:\n",
    "        abort(400)  # 400 Bad Request\n",
    "\n",
    "if __name__ == '__main__':\n",
    "      # Expose to all external-facing IP addresses\n",
    "      app.run(host='0.0.0.0', port=2527)\n",
    "```"
   ]
  },
  {
   "cell_type": "code",
   "execution_count": null,
   "id": "alpha-tribute",
   "metadata": {},
   "outputs": [],
   "source": [
    "url = 'http://localhost:2527/add100'\n",
    "r = requests.post(url, data=npy, \n",
    "                  headers={'Content-Type': 'application/vnd.ine.numpy'})\n",
    "np.load(io.BytesIO(r.content))"
   ]
  },
  {
   "cell_type": "code",
   "execution_count": null,
   "id": "popular-innocent",
   "metadata": {},
   "outputs": [],
   "source": [
    "headers = {'Content-Type': 'application/octet-stream', \n",
    "           'X-INE-type': 'pickle'}\n",
    "r = requests.post(url, data=pkl, headers=headers)\n",
    "pickle.loads(r.content)"
   ]
  }
 ],
 "metadata": {
  "kernelspec": {
   "display_name": "Python 3",
   "language": "python",
   "name": "python3"
  },
  "language_info": {
   "codemirror_mode": {
    "name": "ipython",
    "version": 3
   },
   "file_extension": ".py",
   "mimetype": "text/x-python",
   "name": "python",
   "nbconvert_exporter": "python",
   "pygments_lexer": "ipython3",
   "version": "3.8.2"
  }
 },
 "nbformat": 4,
 "nbformat_minor": 5
}
