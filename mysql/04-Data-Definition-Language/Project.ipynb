{
 "cells": [
  {
   "cell_type": "markdown",
   "metadata": {},
   "source": [
    "![ine-divider](https://user-images.githubusercontent.com/7065401/92672068-398e8080-f2ee-11ea-82d6-ad53f7feb5c0.png)\n",
    "<hr>\n",
    "\n",
    "### MySQL and MariaDB for Python Developers\n",
    "# Fine tunining table data definitions\n",
    "\n",
    "In this project, we will use the MySQL data definition language to optimize the airline tweets that we moved into MySQL in an earlier project.\n",
    "\n",
    "You will need access to a MySQL installation where you have superuser permissions. If you do not have such access elsewhere, installing to your personal workstation is a good idea.  Alternately, you might wish to use a Docker container for a self-contained installation.  See ` https://hub.docker.com/_/mysql` for details on that option.\n",
    "\n",
    "![orange-divider](https://user-images.githubusercontent.com/7065401/92672455-187a5f80-f2ef-11ea-890c-40be9474f7b7.png)"
   ]
  },
  {
   "cell_type": "markdown",
   "metadata": {},
   "source": [
    "## Part 1\n",
    "\n",
    "**Refactoring a database (enumerations)**\n",
    "\n",
    "The table describing airline tweets was created in a prior project.  Your solution may not be identical to the sample solution, but most of these issues are likely to apply.  A solution is available in the file `make_psql.py` in this projects.\n",
    "\n",
    "A number of columns were probably created as CHAR or TEXT fields, but have only a small number of distinct values.  Those would be more efficiently and descriptively stored as enumerations.  You can create one within a particular database using code similar to (example from MySQL documentation):\n",
    "\n",
    "```sql\n",
    "CREATE TABLE shirts (\n",
    "    name VARCHAR(40),\n",
    "    size ENUM('x-small', 'small', 'medium', 'large', 'x-large')\n",
    ");\n",
    "```\n",
    "\n",
    "Such an enumeration would be useful, for example, for `airline_sentiment`:\n",
    "\n",
    "```sql\n",
    "ine=# SELECT DISTINCT airline_sentiment FROM Tweets;\n",
    " airline_sentiment\n",
    "-------------------\n",
    " negative\n",
    " positive\n",
    " neutral\n",
    "(3 rows)\n",
    "```"
   ]
  },
  {
   "cell_type": "markdown",
   "metadata": {},
   "source": [
    "Create enumerated types for every column where it is relevant, and update the table `Tweets` appropriately.  You may want to create a copy of the `Tweets` table to work with instead."
   ]
  },
  {
   "cell_type": "markdown",
   "metadata": {},
   "source": [
    "![orange-divider](https://user-images.githubusercontent.com/7065401/92672455-187a5f80-f2ef-11ea-890c-40be9474f7b7.png)\n",
    "\n",
    "## Part 2\n",
    "\n",
    "**Adding foreign keys**\n",
    "\n",
    "The columns `user_timezone` and `airline` feel like entities about which we would like to be able to store additional information.  For example, what is the UTC offset and daylight savings change schedule at a given timezone?  What is the contact information for a given airline, and what airports do they service?\n",
    "\n",
    "The this task you need to complete two parts.  First you should create tables `timezones` and `airlines`, and populate them with the values currently existing for the foreign key column.  In each case, simply add a second text column called `description` (although more specific fields would clearly be needed for a production use).\n",
    "\n",
    "Second, create a foreign key constraint between the `Tweets` table and these new tables that provide information about the entitities. You may want to create a copy of the `Tweets` table to work with instead."
   ]
  },
  {
   "cell_type": "markdown",
   "metadata": {},
   "source": [
    "![orange-divider](https://user-images.githubusercontent.com/7065401/92672455-187a5f80-f2ef-11ea-890c-40be9474f7b7.png)"
   ]
  }
 ],
 "metadata": {
  "kernelspec": {
   "display_name": "Python 3",
   "language": "python",
   "name": "python3"
  },
  "language_info": {
   "codemirror_mode": {
    "name": "ipython",
    "version": 3
   },
   "file_extension": ".py",
   "mimetype": "text/x-python",
   "name": "python",
   "nbconvert_exporter": "python",
   "pygments_lexer": "ipython3",
   "version": "3.8.2"
  }
 },
 "nbformat": 4,
 "nbformat_minor": 4
}
