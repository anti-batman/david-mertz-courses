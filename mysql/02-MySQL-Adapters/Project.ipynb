{
 "cells": [
  {
   "cell_type": "markdown",
   "metadata": {},
   "source": [
    "![ine-divider](https://user-images.githubusercontent.com/7065401/92672068-398e8080-f2ee-11ea-82d6-ad53f7feb5c0.png)\n",
    "<hr>\n",
    "\n",
    "### MySQL and MariaDB for Python Developers\n",
    "# Timing and comparing adapter performance\n",
    "\n",
    "In this project, you will work with multiple different MySQL adapters for Python.\n",
    "\n",
    "You will need access to a MySQL installation where you have superuser permissions. If you do not have such access elsewhere, installing to your personal workstation is a good idea.  Alternately, you might wish to use a Docker container for a self-contained installation.  See `https://hub.docker.com/_/mysql` for details on that option. \n",
    "\n",
    "![orange-divider](https://user-images.githubusercontent.com/7065401/92672455-187a5f80-f2ef-11ea-890c-40be9474f7b7.png)"
   ]
  },
  {
   "cell_type": "markdown",
   "metadata": {},
   "source": [
    "## Part 1\n",
    "\n",
    "**Create the sample table**\n",
    "\n",
    "This task is not particularly dependent upon the choice of adapter.  You simply want to load in the same sample data that was discussed in the lesson, located in this repository as `census-zipcodes-2018.tsv.bz2`.  It is compressed here to make the repository smaller.  Consult the Python `bz2` module or use command line tools to expand it.\n",
    "\n",
    "The next part will work with this table.  Only the fields that exist in the tab-separated file are necessary; we will not use the geometric type that this lesson showed.  As well, you only need to include the square mile measures, which are the canonical ones from the census.  You may wish to use more ordinary names that the codes in the source data, but the columns may be called whatever you like.  Call your table `project_zipcode_geography`.\n",
    "\n",
    "In this part, you should also install all of the adapters discussed in this lesson.  If you wish to try out `trio_mysql` or `tormysql` that is great practice as well.  But at the least, install one asynchronous (e.g. `aiomysql`) and one synchronous adapter (`mysql.connector` or `PyMySQL`)."
   ]
  },
  {
   "cell_type": "markdown",
   "metadata": {},
   "source": [
    "![orange-divider](https://user-images.githubusercontent.com/7065401/92672455-187a5f80-f2ef-11ea-890c-40be9474f7b7.png)\n",
    "\n",
    "## Part 2\n",
    "\n",
    "**Timing different adapters**\n",
    "\n",
    "For the small data we are working with, all adapters will be very fast.  The speed advantages of asynchronous adapters will not be shown strongly until you work with much larger data sets than this. And especially once you have many queries \"in flight* at the same time. However, your task is to time differences in performance of a relatively expensive query that utilizes nested subqueries.\n",
    "\n",
    "Are you able to measure better performance using `PyMySQL` or `mysql.connector` versus `aiomysql` for this query? Does multi-threading make a difference within syncrhonous adapters? You may wish to write and time scripts at the command line, since within Jupyter, you need to use the trick discussed to nest an asyncio loop within Jupyter's own loop.  More adventurous students should try much larger data sets and more complex queries that they have access to. "
   ]
  },
  {
   "cell_type": "code",
   "execution_count": 4,
   "metadata": {},
   "outputs": [],
   "source": [
    "sql_nested = \"\"\"\n",
    "SELECT zipcode\n",
    "FROM project_zipcode_geography \n",
    "WHERE 10*water_area > (\n",
    "    SELECT avg(land_area) FROM project_zipcode_geography )\n",
    "AND 2*land_area > (\n",
    "    SELECT avg(water_area) FROM project_zipcode_geography )\n",
    "ORDER BY land_area + water_area;\n",
    "\"\"\"\n",
    "\n",
    "# We need this if we stay inside Jupyter\n",
    "import nest_asyncio\n",
    "nest_asyncio.apply()"
   ]
  },
  {
   "cell_type": "markdown",
   "metadata": {},
   "source": [
    "![orange-divider](https://user-images.githubusercontent.com/7065401/92672455-187a5f80-f2ef-11ea-890c-40be9474f7b7.png)"
   ]
  }
 ],
 "metadata": {
  "kernelspec": {
   "display_name": "Python 3",
   "language": "python",
   "name": "python3"
  },
  "language_info": {
   "codemirror_mode": {
    "name": "ipython",
    "version": 3
   },
   "file_extension": ".py",
   "mimetype": "text/x-python",
   "name": "python",
   "nbconvert_exporter": "python",
   "pygments_lexer": "ipython3",
   "version": "3.8.2"
  }
 },
 "nbformat": 4,
 "nbformat_minor": 4
}
