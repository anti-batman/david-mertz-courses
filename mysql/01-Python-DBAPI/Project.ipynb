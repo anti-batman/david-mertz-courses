{
 "cells": [
  {
   "cell_type": "markdown",
   "metadata": {},
   "source": [
    "![ine-divider](https://user-images.githubusercontent.com/7065401/92672068-398e8080-f2ee-11ea-82d6-ad53f7feb5c0.png)\n",
    "<hr>\n",
    "\n",
    "### MySQL and MariaDB for Python Developers\n",
    "# Working with the Python DBA and MySQL\n",
    "\n",
    "In this project, you will practice using Python's DB-API to access MySQL (or MariaDB).\n",
    "\n",
    "You will need access to a MySQL installation where you have superuser permissions. If you do not have such access elsewhere, installing to your personal workstation is a good idea.  Alternately, you might wish to use a Docker container for a self-contained installation.  See `https://hub.docker.com/_/mysql` for details on that option.  \n",
    "\n",
    "![orange-divider](https://user-images.githubusercontent.com/7065401/92672455-187a5f80-f2ef-11ea-890c-40be9474f7b7.png)"
   ]
  },
  {
   "cell_type": "markdown",
   "metadata": {},
   "source": [
    "## Part 1\n",
    "\n",
    "**Move data into MySQL**\n",
    "\n",
    "In this respository, there is an SQLite database called `Airline-Tweets.sqlite`.  The lesson briefly mentioned `sqlite3` as a module in the standard library that will interact with single-file relational databases.  In particular, `sqlite3`, like `mysql.connector` generally follows the DB-API.  Although more specifics of the MySQL data definition language (DDL) are discussed in a later lesson, we assume you have a basic familiarity with the the SQL `CREATE TABLE` command for this purpose.\n",
    "\n",
    "The scenario posed in this problem is that you have some data in a different database (SQLite), and you wish to transfer all contents to MySQL.  Moreover, you wish to do this *entirely* within Python and using the DB-API.  You will need to determine the structure and data types of the SQLite data, create an appropriate MySQL table, and transfer all rows into MySQL.  This particular SQLite data file contains only one table, named `Tweets` (about customer ratings of airlines).\n",
    "\n",
    "To get a partial view of the kind of data we are transferring, this is a query performed within the `sqlite` command shell, which is generally similar to the `mysql` command shell that is discussed in later lessons.  However, you should perform all your work in Python for this project (the example does **not** list all the columns).\n",
    "\n",
    "```\n",
    "$ sqlite Airline-Tweets.sqlite\n",
    "SQLite version 3.33.0 2020-08-14 13:23:32\n",
    "Enter \".help\" for usage hints.\n",
    "sqlite> SELECT tweet_id, airline, airline_sentiment, tweet_created FROM Tweets LIMIT 5;\n",
    "tweet_id            airline    airline_sentiment  tweet_created\n",
    "------------------  ---------  -----------------  -------------------------\n",
    "567588278875213824  Delta      neutral            2015-02-16 23:36:05 -0800\n",
    "567590027375702016  Delta      negative           2015-02-16 23:43:02 -0800\n",
    "567591480085463040  United     negative           2015-02-16 23:48:48 -0800\n",
    "567592368451248130  United     negative           2015-02-16 23:52:20 -0800\n",
    "567594449874587648  Southwest  negative           2015-02-17 00:00:36 -0800\n",
    "```"
   ]
  },
  {
   "cell_type": "code",
   "execution_count": 1,
   "metadata": {},
   "outputs": [],
   "source": [
    "import mysql.connector\n",
    "import sqlite3\n",
    "# ... your code here ..."
   ]
  },
  {
   "cell_type": "markdown",
   "metadata": {},
   "source": [
    "**Hint**\n",
    "\n",
    "Unfortunately, the `cursor.description` in `sqlite3` isn't as informative as one might like.  For guidance, you can look at this:\n",
    "\n",
    "```\n",
    "sqlite> pragma table_info('Tweets');\n",
    "cid  name                          type     notnull  dflt_value  pk\n",
    "---  ----------------------------  -------  -------  ----------  --\n",
    "0    tweet_id                      INTEGER  0                    1\n",
    "1    airline_sentiment             TEXT     0                    0\n",
    "2    airline_sentiment_confidence  NUMERIC  0                    0\n",
    "3    negativereason                TEXT     0                    0\n",
    "4    negativereason_confidence     NUMERIC  0                    0\n",
    "5    airline                       TEXT     0                    0\n",
    "6    airline_sentiment_gold        TEXT     0                    0\n",
    "7    name                          TEXT     0                    0\n",
    "8    negativereason_gold           TEXT     0                    0\n",
    "9    retweet_count                 INTEGER  0                    0\n",
    "10   text                          TEXT     0                    0\n",
    "11   tweet_coord                   TEXT     0                    0\n",
    "12   tweet_created                 TEXT     0                    0\n",
    "13   tweet_location                TEXT     0                    0\n",
    "14   user_timezone                 TEXT     0                    0\n",
    "```\n",
    "\n",
    "It is wise also to examine some sample rows to decide the best MySQL data types.  SQLite is more generic than MySQL about data types."
   ]
  },
  {
   "cell_type": "markdown",
   "metadata": {},
   "source": [
    "![orange-divider](https://user-images.githubusercontent.com/7065401/92672455-187a5f80-f2ef-11ea-890c-40be9474f7b7.png)\n",
    "\n",
    "## Part 2\n",
    "\n",
    "**Skipping problem data when loading**\n",
    "\n",
    "For this task, we will largely repeat the steps fo the first task.  However, you probably encountered certain problems with the data transfer that you had to manually remediate using Python code.  Rather than \"fix up\" the data in Python, for this version you should simply transfer the unproblematic data, but create another table called `data_issues` where you store the unique `tweet_id` of the problem row, and the error message that occurred.\n",
    "\n",
    "In your solution, **some** data will transfer without remediation, and other data will be marked for later processing in this manner."
   ]
  },
  {
   "cell_type": "code",
   "execution_count": 7,
   "metadata": {},
   "outputs": [],
   "source": [
    "import mysql.connector\n",
    "import sqlite3\n",
    "# ... your code here ..."
   ]
  },
  {
   "cell_type": "markdown",
   "metadata": {},
   "source": [
    "![orange-divider](https://user-images.githubusercontent.com/7065401/92672455-187a5f80-f2ef-11ea-890c-40be9474f7b7.png)"
   ]
  }
 ],
 "metadata": {
  "kernelspec": {
   "display_name": "Python 3",
   "language": "python",
   "name": "python3"
  },
  "language_info": {
   "codemirror_mode": {
    "name": "ipython",
    "version": 3
   },
   "file_extension": ".py",
   "mimetype": "text/x-python",
   "name": "python",
   "nbconvert_exporter": "python",
   "pygments_lexer": "ipython3",
   "version": "3.8.2"
  }
 },
 "nbformat": 4,
 "nbformat_minor": 4
}
