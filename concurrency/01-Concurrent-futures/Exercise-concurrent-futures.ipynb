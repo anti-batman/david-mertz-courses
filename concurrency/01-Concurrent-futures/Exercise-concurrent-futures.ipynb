{
 "cells": [
  {
   "cell_type": "markdown",
   "metadata": {},
   "source": [
    "# Description\n",
    "\n",
    "For this exercise you will parallelize a toy problem to show the pattern of `concurrent.futures` use.  For this task, a simple serial approach will be faster than thread creation overhead.  However, it is easy to imagine reading much larger files where disk I/O time was significant enough to change this balance.\n",
    "\n",
    "The code in the Setup generates 1000 files, each of which contains 20 integer, one per line.  You with read each file, and multiply together the numbers on lines 3 and 17 (one-based indexing of line-number).  In turn, you want the sum of all these multiplications as the return value of your function.\n",
    "\n",
    "For the task, use however many workers you think is most appropriate (pretending the files were much larger and the disk much slower).  The function `sum_of_products()` should return the computed answer, calculated in a multi-threaded manner.\n",
    "\n",
    "A hint when writing this.  Later lessons talk about race conditions, but just as advice, it is unsafe to put multiple partial results in a list from different threads.  However, doing so with a `collections.deque` is safe, and uses the same `.append()` method to add things."
   ]
  },
  {
   "cell_type": "markdown",
   "metadata": {},
   "source": [
    "# Setup"
   ]
  },
  {
   "cell_type": "code",
   "execution_count": 1,
   "metadata": {},
   "outputs": [],
   "source": [
    "from concurrent.futures import ThreadPoolExecutor\n",
    "from collections import deque\n",
    "\n",
    "from random import sample, seed, randint\n",
    "from string import ascii_letters\n",
    "from time import time\n",
    "\n",
    "def create_files(random_state=0):\n",
    "    seed(random_state)\n",
    "    for _files in range(1000):\n",
    "        name = \"\".join(sample(ascii_letters, 5))\n",
    "        with open(f\"tmp-{name}.numbers\", 'w') as fh:\n",
    "            for _lines in range(20):\n",
    "                print(randint(1, 99), file=fh)\n",
    "    return time()\n",
    "\n",
    "created = create_files()\n",
    "    \n",
    "def sum_of_products():\n",
    "    ThreadPoolExecutor  # Use this for something\n",
    "    return 2481234"
   ]
  },
  {
   "cell_type": "markdown",
   "metadata": {},
   "source": [
    "# Solution"
   ]
  },
  {
   "cell_type": "code",
   "execution_count": 2,
   "metadata": {},
   "outputs": [],
   "source": [
    "def sum_of_products():\n",
    "    from glob import glob\n",
    "    def getsum(fname):\n",
    "        nums = [int(n) for n in open(fname)]\n",
    "        return nums[2] * nums[16]\n",
    "\n",
    "    with ThreadPoolExecutor(max_workers=64) as ex:\n",
    "        final = sum(ex.map(getsum, glob('tmp-*.numbers')))\n",
    "\n",
    "    return final"
   ]
  },
  {
   "cell_type": "markdown",
   "metadata": {},
   "source": [
    "# Test Cases"
   ]
  },
  {
   "cell_type": "code",
   "execution_count": 3,
   "metadata": {},
   "outputs": [],
   "source": [
    "def test_final():\n",
    "    assert sum_of_products() == 2483973, f\"Wrong total computed\"\n",
    "    \n",
    "test_final()"
   ]
  },
  {
   "cell_type": "code",
   "execution_count": 4,
   "metadata": {},
   "outputs": [],
   "source": [
    "def test_files_touched():\n",
    "    import os\n",
    "    for id_ in \"uTHni AgwYn yiQnJ nlrgE wzXTs\".split():\n",
    "        assert os.stat(f\"tmp-{id_}.numbers\").st_atime > created, \\\n",
    "                \"Files not read after creation\"\n",
    "\n",
    "test_files_touched()"
   ]
  }
 ],
 "metadata": {
  "kernelspec": {
   "display_name": "Python 3",
   "language": "python",
   "name": "python3"
  },
  "language_info": {
   "codemirror_mode": {
    "name": "ipython",
    "version": 3
   },
   "file_extension": ".py",
   "mimetype": "text/x-python",
   "name": "python",
   "nbconvert_exporter": "python",
   "pygments_lexer": "ipython3",
   "version": "3.8.2"
  }
 },
 "nbformat": 4,
 "nbformat_minor": 4
}
