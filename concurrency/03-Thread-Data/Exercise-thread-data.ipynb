{
 "cells": [
  {
   "cell_type": "markdown",
   "metadata": {},
   "source": [
    "# Description\n",
    "\n",
    "Continuing the theme of the last two lesson exercises, we again work with a collection of 1000 files, each of which contain 20 integers, one per line.  As in the earlier exercise, the threaded style on these small files is unlikely to prove faster than a purely serial approach (but with larger files or slower reads, the balance could change).\n",
    "\n",
    "You should operate on all the data using 20 threads.  The calculation we make in this exercise is a bit different than prior ones.  Considering the data files in strictly alphabetical order, we want to perform a thousand operations; but this will be 4 basic operations, repeated on a cummulative result after each 5 numbers (i.e. 250 times for the exercise).\n",
    "\n",
    "The sequence will be add, multiply, exponentiate, then modulo.  For example, for each file listed in the header\n",
    "\n",
    "| Line# | AA | BB | (+)    | CC | (\\*)   | DD  | (\\*\\*)      | EE | (%)    | FF  | (+)    | GG  | (\\*)\n",
    "|-------|----|----|--------|----|--------|-----|-------------|----|--------|-----|--------|-----|------\n",
    "|  _1_  |  7 |  8 | **15** |  5 | **45** |  4  | **4100625** | 13 | **9**  | 3   | **12** | ... | ...\n",
    "|  _2_  |  2 |  2 | **4**  |  3 | **12** |  2  | **144**     | 99 | **45** | 5   | **50** | ... | ...\n",
    "|  _3_  | ...| ...| ...    | ...| ...    | ... | ...         | ...| ...    | ... | ...    | ... | ...\n",
    "\n",
    "Notice that since the first repetition of 4 binary operations takes 5 numbers, but each subsequent repetition works on that accumlated result, we do not wish to perform the final modulo operation for which we do not have a modulus.\n",
    "\n",
    "Each of the 20 threads should do this calculation for the 1000 numbers taken from corresponding lines of each file.  The results need to be stored in a global list whose order correctly corresponds to the line numbers of each calculation.  The trick, obviously, is that you do not want multiple threads to cause a race condition on that global list, and yet you also want the calculations to happen concurrently."
   ]
  },
  {
   "cell_type": "markdown",
   "metadata": {},
   "source": [
    "# Setup\n",
    "\n"
   ]
  },
  {
   "cell_type": "code",
   "execution_count": 2,
   "metadata": {},
   "outputs": [],
   "source": [
    "from threading import Thread, Lock\n",
    "from generate import create_files\n",
    "\n",
    "create_files('lesson-3')\n",
    "\n",
    "results_list = []\n",
    "\n",
    "# Use additional shared state as needed\n",
    "other_global_var = ...\n",
    "\n",
    "def calculate():\n",
    "    results_list.append(4100625)\n",
    "\n",
    "# After running all threads, `results_list` should contain right answers\n",
    "threads = [Thread(target=calculate) for _ in range(20)]"
   ]
  },
  {
   "cell_type": "markdown",
   "metadata": {},
   "source": [
    "# Solution"
   ]
  },
  {
   "cell_type": "code",
   "execution_count": 3,
   "metadata": {},
   "outputs": [],
   "source": [
    "from glob import glob\n",
    "from time import sleep\n",
    "\n",
    "locks = [Lock() for _ in range(20)]\n",
    "results_list = []\n",
    "\n",
    "def file_reader():\n",
    "    global results_list\n",
    "    results_list = [None for _ in range(20)]\n",
    "    \n",
    "    # Lock all the data lines until we read numbers\n",
    "    [lock.acquire() for lock in locks]\n",
    "    numbers = [open(nums).readlines() \n",
    "               for nums in sorted(glob('tmp-*.numbers'))]\n",
    "    for i in range(20):\n",
    "        line_across = [int(seq[i]) for seq in numbers]\n",
    "        # Get the ith element of each sequence in line_across\n",
    "        # Put in results_list, then release lock on that offset\n",
    "        results_list[i] = line_across\n",
    "        locks[i].release() \n",
    "        \n",
    "def calculate(i):\n",
    "    # Perform calculation on ith line of data\n",
    "    # Block until that ith line is released by file_reader\n",
    "    sleep(0.001)  # Be EXTRA sure file_reader gets lock first\n",
    "    with locks[i]:\n",
    "        # Here's a trick: the final modulus is something larger\n",
    "        # than largest possible value accumulated\n",
    "        largest = ((99 + 99) * 99) ** 99\n",
    "        my_data = results_list[i] + [largest]\n",
    "        # After calculation put single integer in results_list[i]\n",
    "        assert isinstance(my_data, list)\n",
    "        # Start accumulator with first number\n",
    "        accum = my_data[0]\n",
    "        # Get each chunk of 4 new values\n",
    "        for j in range(1, len(my_data), 4):\n",
    "            b, c, d, e = my_data[j:j+4]\n",
    "            accum = (((accum + b) * c) ** d) % e\n",
    "        results_list[i] = accum\n",
    "        \n",
    "threads = [Thread(target=file_reader)]\n",
    "for i in range(20):\n",
    "    threads.append(Thread(target=calculate, args=(i,)))"
   ]
  },
  {
   "cell_type": "markdown",
   "metadata": {},
   "source": [
    "# Test Cases"
   ]
  },
  {
   "cell_type": "code",
   "execution_count": 4,
   "metadata": {},
   "outputs": [],
   "source": [
    "def test_thread_count():\n",
    "    assert len(threads) >= 20\n",
    "    \n",
    "test_thread_count()"
   ]
  },
  {
   "cell_type": "code",
   "execution_count": 5,
   "metadata": {},
   "outputs": [],
   "source": [
    "def test_threads():\n",
    "    [t.start() for t in threads]\n",
    "    [t.join() for t in threads]\n",
    "    correct = [int(n) for n in open('answers.txt').readlines()]\n",
    "    for i in range(20):\n",
    "        assert results_list[i] == correct[i], f\"Mismatch on line {i+1}\"\n",
    "        \n",
    "test_threads()"
   ]
  }
 ],
 "metadata": {
  "kernelspec": {
   "display_name": "Python 3",
   "language": "python",
   "name": "python3"
  },
  "language_info": {
   "codemirror_mode": {
    "name": "ipython",
    "version": 3
   },
   "file_extension": ".py",
   "mimetype": "text/x-python",
   "name": "python",
   "nbconvert_exporter": "python",
   "pygments_lexer": "ipython3",
   "version": "3.8.2"
  }
 },
 "nbformat": 4,
 "nbformat_minor": 4
}
