{
 "cells": [
  {
   "cell_type": "markdown",
   "id": "bf332e2b-02c6-4289-bb7f-86876b30c7cd",
   "metadata": {},
   "source": [
    "# Description"
   ]
  },
  {
   "cell_type": "markdown",
   "id": "f5b0e333-8a7d-41d3-952b-d06d8a2980b1",
   "metadata": {},
   "source": [
    "In this exercise, you will need to construct a function that communicates with a locally running server.  This repeats the earlier exercise where you were asked to construct this interaction using the low level `telnetlib`.  In particular, you will connect to port 2552 on `localhost`, and to the resource path `/json`.  As the name suggests, this path will return JSON responses; however, your function should return a Python dictionary derived from that. \n",
    "\n",
    "A trick to this exercise is that the server path does not accept GET requests, only POST or PUT.  You will write three solutions to this exercise.  All will behave the same, but one should use `http.server`, another `urllib.request`, and the final one `requests`.\n",
    "\n",
    "A correct implementation of the function will behave like this:\n",
    "\n",
    "```python\n",
    ">>> get_response_VERSION('David', 'Instructor')\n",
    "{'Server': '77851768', 'name': 'David', 'title': 'Instructor'}\n",
    "```"
   ]
  },
  {
   "cell_type": "markdown",
   "id": "ded57f39-1795-4176-80d8-43df8d630242",
   "metadata": {},
   "source": [
    "# Setup"
   ]
  },
  {
   "cell_type": "code",
   "execution_count": null,
   "id": "74ecbd9d-c5cd-41bc-aa88-c1631e5f6e14",
   "metadata": {},
   "outputs": [],
   "source": [
    "import http\n",
    "import urllib\n",
    "import requests\n",
    "import json\n",
    "from urllib.parse import urlencode\n",
    "\n",
    "from exercise_server import start\n",
    "start()\n",
    "\n",
    "def get_response_http_client(name, title):\n",
    "    # http.server.somefunc(...)\n",
    "    path = '/json'\n",
    "    return {\"Server\": \"Test Server\"}\n",
    "\n",
    "def get_response_urllib(name, title):\n",
    "    # urllib.request.somefunc(...)\n",
    "    path = '/json'\n",
    "    return {\"Server\": \"Test Server\"}\n",
    "\n",
    "def get_response_requests(name, title):\n",
    "    # requests.somefunc(...)\n",
    "    path = '/json'\n",
    "    return {\"Server\": \"Test Server\"}"
   ]
  },
  {
   "cell_type": "markdown",
   "id": "c914376b-e482-4367-847c-e11bd53bd5c7",
   "metadata": {},
   "source": [
    "# Solution"
   ]
  },
  {
   "cell_type": "code",
   "execution_count": null,
   "id": "ca169293-70dc-44dd-9abd-446af9f3e3c4",
   "metadata": {},
   "outputs": [],
   "source": [
    "def get_response_http_client(name, title):\n",
    "    query = urlencode({'name': name, 'title': title})\n",
    "    qlen = len(query)    \n",
    "    headers = {'Content-Type': 'application/x-www-form-urlencoded',\n",
    "               'Content-Length': qlen}\n",
    "    conn = http.client.HTTPConnection('localhost', port=2552)\n",
    "    conn.request(\"PUT\", \"/json\", headers=headers, body=query)\n",
    "    resp = conn.getresponse()\n",
    "    return json.loads(resp.read().decode())"
   ]
  },
  {
   "cell_type": "code",
   "execution_count": null,
   "id": "dd58fcdd-7027-485e-87f3-1cc5accbe5ca",
   "metadata": {},
   "outputs": [],
   "source": [
    "def get_response_urllib(name, title):\n",
    "    url = 'http://localhost:2552/json'\n",
    "    args = dict(name=name, title=title)\n",
    "    data = urlencode(args).encode()\n",
    "    req = urllib.request.Request(url, data=data, method='POST')\n",
    "    with urllib.request.urlopen(req) as resp:\n",
    "        return json.loads(resp.read().decode())"
   ]
  },
  {
   "cell_type": "code",
   "execution_count": null,
   "id": "4d8afcca-9bf1-4222-96cb-e1eac9bd6af4",
   "metadata": {},
   "outputs": [],
   "source": [
    "def get_response_requests(name, title):\n",
    "    resp = requests.put('http://localhost:2552/json', \n",
    "                        data=dict(name=name, title=title),\n",
    "                        headers={})\n",
    "    return json.loads(resp.text)"
   ]
  },
  {
   "cell_type": "markdown",
   "id": "82c3ea49-e499-415f-935c-8accae5b960e",
   "metadata": {},
   "source": [
    "# Test Cases"
   ]
  },
  {
   "cell_type": "code",
   "execution_count": null,
   "id": "edccfac7-2a7b-485e-a072-dafa49e20098",
   "metadata": {},
   "outputs": [],
   "source": [
    "from itertools import product\n",
    "\n",
    "answers = [\n",
    "    {'Server': '9b5cd93e', 'name': 'Alice', 'title': 'Doctor'},\n",
    "    {'Server': '19ca4792', 'name': 'Alice', 'title': 'Lawyer'},\n",
    "    {'Server': '02ee2159', 'name': 'Alice', 'title': 'Baker'},\n",
    "    {'Server': 'c008bfa7', 'name': 'Bob', 'title': 'Doctor'},\n",
    "    {'Server': 'bc249b9f', 'name': 'Bob', 'title': 'Lawyer'},\n",
    "    {'Server': '6ce5faf4', 'name': 'Bob', 'title': 'Baker'},\n",
    "    {'Server': 'd9a5babe', 'name': 'Charlie', 'title': 'Doctor'},\n",
    "    {'Server': '709d2d4d', 'name': 'Charlie', 'title': 'Lawyer'},\n",
    "    {'Server': 'e6a5106b', 'name': 'Charlie', 'title': 'Baker'},\n",
    "]"
   ]
  },
  {
   "cell_type": "code",
   "execution_count": null,
   "id": "012fc766-41ed-48eb-8854-23741c844ff6",
   "metadata": {},
   "outputs": [],
   "source": [
    "def test_responses_http_client():\n",
    "    names = ['Alice', 'Bob', 'Charlie']\n",
    "    titles = ['Doctor', 'Lawyer', 'Baker']\n",
    "    for i, (name, title) in enumerate(product(names, titles)):\n",
    "        maybe = get_response_http_client(name, title)\n",
    "        correct = answers[i]\n",
    "        assert maybe == correct, f'{maybe} / {correct}'\n",
    "    \n",
    "test_responses_http_client()"
   ]
  },
  {
   "cell_type": "code",
   "execution_count": null,
   "id": "a8e57481-1e8e-4ec5-82b2-7d34e20224d7",
   "metadata": {},
   "outputs": [],
   "source": [
    "def test_responses_urllib():\n",
    "    names = ['Alice', 'Bob', 'Charlie']\n",
    "    titles = ['Doctor', 'Lawyer', 'Baker']\n",
    "    for i, (name, title) in enumerate(product(names, titles)):\n",
    "        maybe = get_response_urllib(name, title)\n",
    "        correct = answers[i]\n",
    "        assert maybe == correct, f'{maybe} / {correct}'\n",
    "\n",
    "test_responses_urllib()"
   ]
  },
  {
   "cell_type": "code",
   "execution_count": null,
   "id": "bbf9af91-f4d3-42de-9be5-fbb919b5387c",
   "metadata": {},
   "outputs": [],
   "source": [
    "def test_responses_requests():\n",
    "    names = ['Alice', 'Bob', 'Charlie']\n",
    "    titles = ['Doctor', 'Lawyer', 'Baker']\n",
    "    for i, (name, title) in enumerate(product(names, titles)):\n",
    "        maybe = get_response_requests(name, title)\n",
    "        correct = answers[i]\n",
    "        assert maybe == correct, f'{maybe} / {correct}'\n",
    "    \n",
    "test_responses_requests()"
   ]
  }
 ],
 "metadata": {
  "kernelspec": {
   "display_name": "Python 3",
   "language": "python",
   "name": "python3"
  },
  "language_info": {
   "codemirror_mode": {
    "name": "ipython",
    "version": 3
   },
   "file_extension": ".py",
   "mimetype": "text/x-python",
   "name": "python",
   "nbconvert_exporter": "python",
   "pygments_lexer": "ipython3",
   "version": "3.8.10"
  }
 },
 "nbformat": 4,
 "nbformat_minor": 5
}
