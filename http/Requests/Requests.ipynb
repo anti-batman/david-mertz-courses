{
 "cells": [
  {
   "cell_type": "markdown",
   "id": "a24fd57f-aabb-4044-8706-ffedf2942ad2",
   "metadata": {},
   "source": [
    "<div style=\"position: relative;\">\n",
    "<img src=\"https://user-images.githubusercontent.com/7065401/98728503-5ab82f80-2378-11eb-9c79-adeb308fc647.png\"></img>\n",
    "\n",
    "<h1 style=\"color: white; position: absolute; top:27%; left:10%;\">\n",
    "    Introduction to HTTP using Python\n",
    "</h1>\n",
    "\n",
    "<h3 style=\"color: #ef7d22; font-weight: normal; position: absolute; top:56%; left:10%;\">\n",
    "    David Mertz, Ph.D.\n",
    "</h3>\n",
    "\n",
    "<h3 style=\"color: #ef7d22; font-weight: normal; position: absolute; top:63%; left:10%;\">\n",
    "    Data Scientist\n",
    "</h3>\n",
    "</div>"
   ]
  },
  {
   "cell_type": "markdown",
   "id": "80ee9196-80d9-4c05-8a93-18beb1a5a9c8",
   "metadata": {},
   "source": [
    "# Requests\n",
    "\n",
    "The library called `requests` is widely used in Python as an HTTP client, but is not part of the Python standard libary.  The standard libary module `urllib.request` is capable of performing the same actions, but the API for `requests` is simply cleaner, more robust, and more modern. \n",
    "\n",
    "As an organizational or project matter, the `requests` project remains separate from Python itself to allow a different and more rapid schedule for improvements to the library.  However, Python distributions such as Anaconda always include `requests`, and it is easy to install with `pip` or `conda`."
   ]
  },
  {
   "cell_type": "markdown",
   "id": "4f5b677d-1b08-47f1-a02a-a12816ffc154",
   "metadata": {},
   "source": [
    "We look briefly at different levels of abstraction available in different modules, but the main of this section will discuss the interfaces for `requests`.\n",
    "\n",
    "For backwards compatiblity, the standard library provides interfaces that are compatible back to Python 1.x even, so even **very** old code can run on modern Python versions with minimal changes."
   ]
  },
  {
   "cell_type": "markdown",
   "id": "eabfc9b6-35d5-406b-99ae-3d14e1d13207",
   "metadata": {},
   "source": [
    "## Module: `http`\n",
    "\n",
    "In the standard library, at a level slightly higher than `telnetlib` is a collection of interfaces in `http`.  This is still very basic, and the documentation warns that you will rarely wish to use this module directly.  However, in an abstraction beyond `telnetlib`, it supports both HTTP and HTTPS, and also has an interface that shows some HTTP specificity."
   ]
  },
  {
   "cell_type": "code",
   "execution_count": 1,
   "id": "79b48e69-1856-4ddb-ae2f-6fafe3676421",
   "metadata": {},
   "outputs": [],
   "source": [
    "import http\n",
    "host = 'popbox.kdm.local'\n",
    "port = 2502"
   ]
  },
  {
   "cell_type": "markdown",
   "id": "e2a75d30-4d2d-432c-aa88-f4e086337270",
   "metadata": {},
   "source": [
    "A small server is running locally that produces a new CSV file each time it is called."
   ]
  },
  {
   "cell_type": "code",
   "execution_count": 4,
   "id": "d475a814-38d2-4455-a008-4664fcc91e46",
   "metadata": {},
   "outputs": [
    {
     "name": "stdout",
     "output_type": "stream",
     "text": [
      "200 OK\n",
      "\n",
      "GREETING,NUMBER,VALUE\n",
      "God dag,678,63.25352978291776\n",
      "Nǐ hǎo,88,16.25814579556293\n",
      "Cześć,338,99.25874597513292\n",
      "Ahlan,730,1.3803433119996544\n",
      "Hei,32,59.23039588230479\n",
      "Anyoung haseyo,206,23.040065196890914\n",
      "Halo,286,47.42533996871001\n",
      "Habari,750,51.99738661469423\n",
      "Salve,974,11.956373483746086\n",
      "Olá,200,71.71176779208518\n",
      "Hi,825,33.15209826369285\n",
      "Helo,419,9.590077105133354\n",
      "Ciao,499,34.678828533429495\n",
      "Yassas,999,98.35161322448815\n",
      "Hei,486,47.773038874504\n",
      "\n"
     ]
    }
   ],
   "source": [
    "conn = http.client.HTTPConnection(host, port=port)\n",
    "conn.request(\"GET\", \"/data\")\n",
    "resp = conn.getresponse()\n",
    "print(resp.status, resp.reason, end='\\n\\n')\n",
    "print(resp.read().decode())"
   ]
  },
  {
   "cell_type": "markdown",
   "id": "e3cfab54-e2fc-4920-ad58-8c7398e6a07e",
   "metadata": {},
   "source": [
    "As long as your Python executable was compiled with SSL/TLS support, the module `http` can support encrypted connections.  This is done by instantiating a difference class than for plain HTTP connections."
   ]
  },
  {
   "cell_type": "code",
   "execution_count": 5,
   "id": "29609347-5366-4632-a9f3-7fe72dfece06",
   "metadata": {},
   "outputs": [
    {
     "name": "stdout",
     "output_type": "stream",
     "text": [
      "200 OK\n",
      "\n",
      "<!DOCTYPE html>\n",
      "\n",
      "<html xmlns=\"http://www.w3.org/1999/xhtml\">\n",
      "  <head>\n",
      "    <meta charset=\"utf-8\" />\n",
      "    <title>http.client — HTTP protocol client &#8212; Python 3.9.5 documentation</title>\n",
      "    <link rel=\"stylesheet\" href=\"../_static/pydoctheme.css\" type=\"text/css\" />\n",
      "    <link rel=\"stylesheet\" href=\"../_static/pygments.css\" type=\"text/css\" />\n",
      "    \n",
      "    <script id=\"documentation_options\" data-url_root=\"../\" src=\"../_static/documentation_options.js\"></script>\n",
      "    <script src=\"../_static/jquery.js\">\n",
      "\n",
      "<!-- LOTS MORE -->\n",
      "\n",
      " <br />\n",
      "\n",
      "    Last updated on Jun 09, 2021.\n",
      "    <a href=\"https://docs.python.org/3/bugs.html\">Found a bug</a>?\n",
      "    <br />\n",
      "\n",
      "    Created using <a href=\"https://www.sphinx-doc.org/\">Sphinx</a> 2.4.4.\n",
      "    </div>\n",
      "\n",
      "    <script type=\"text/javascript\" src=\"../_static/switchers.js\"></script>\n",
      "  </body>\n",
      "</html>\n"
     ]
    }
   ],
   "source": [
    "conn = http.client.HTTPSConnection('docs.python.org', port=443)\n",
    "conn.request(\"GET\", \"/3/library/http.client.html\")\n",
    "resp = conn.getresponse()\n",
    "data = resp.read().decode()\n",
    "\n",
    "print(resp.status, resp.reason)\n",
    "print(data[:500])\n",
    "print('\\n<!-- LOTS MORE -->\\n')\n",
    "print(data[-300:])"
   ]
  },
  {
   "cell_type": "markdown",
   "id": "46baa4f4-92dc-44b8-ad5c-12779068efd2",
   "metadata": {},
   "source": [
    "At this level, the module does not handle contingencies automatically.  For example, if your page is redirected, you would need to write code to handle that yourself (perhaps in your own higher-level module or library)."
   ]
  },
  {
   "cell_type": "code",
   "execution_count": 6,
   "id": "86e8053a-9094-4e8b-8ea6-0c8c6f3d4540",
   "metadata": {},
   "outputs": [
    {
     "name": "stdout",
     "output_type": "stream",
     "text": [
      "301 MOVED PERMANENTLY\n",
      "Content-Type: text/html; charset=utf-8\n",
      "Content-Length: 244\n",
      "Location: http://kdm.training\n",
      "Server: Werkzeug/2.0.0 Python/3.8.10\n",
      "Date: Thu, 10 Jun 2021 00:56:58 GMT\n",
      "\n",
      "<!DOCTYPE HTML PUBLIC \"-//W3C//DTD HTML 3.2 Final//EN\">\n",
      "<title>Redirecting...</title>\n",
      "<h1>Redirecting...</h1>\n",
      "<p>You should be redirected automatically to target URL: <a href=\"http://kdm.training\">http://kdm.training</a>. If not click the link.\n"
     ]
    }
   ],
   "source": [
    "conn = http.client.HTTPConnection(host, port)\n",
    "conn.request(\"GET\", \"/redirect\")\n",
    "resp = conn.getresponse()\n",
    "print(resp.status, resp.reason)\n",
    "print(resp.headers, end='')\n",
    "print(resp.read().decode())"
   ]
  },
  {
   "cell_type": "markdown",
   "id": "29b6c78b-b31e-4aa4-a1fb-925c4128f1ee",
   "metadata": {},
   "source": [
    "It is not too difficult to use the provided header field `Location` along with the status code to try a new URL for the resource.  However, in this case, even doing that would not be the end of your journey.  Multiple redirects are not uncommon among real-world web pages."
   ]
  },
  {
   "cell_type": "code",
   "execution_count": 7,
   "id": "873834c5-9d0e-4ead-be49-8c307121a498",
   "metadata": {},
   "outputs": [
    {
     "name": "stdout",
     "output_type": "stream",
     "text": [
      "302 Found\n",
      "Location: http://www.gnosis.cx/kdm/\n",
      "Date: Thu, 10 Jun 2021 00:58:47 GMT\n",
      "Content-Type: text/html; charset=UTF-8\n",
      "Server: ghs\n",
      "Content-Length: 222\n",
      "X-XSS-Protection: 0\n",
      "X-Frame-Options: SAMEORIGIN\n",
      "\n",
      "<HTML><HEAD><meta http-equiv=\"content-type\" content=\"text/html;charset=utf-8\">\n",
      "<TITLE>302 Moved</TITLE></HEAD><BODY>\n",
      "<H1>302 Moved</H1>\n",
      "The document has moved\n",
      "<A HREF=\"http://www.gnosis.cx/kdm/\">here</A>.\n",
      "</BODY></HTML>\n",
      "\n"
     ]
    }
   ],
   "source": [
    "conn = http.client.HTTPConnection('kdm.training')\n",
    "conn.request(\"GET\", \"/\")\n",
    "resp = conn.getresponse()\n",
    "print(resp.status, resp.reason)\n",
    "print(resp.headers, end='')\n",
    "print(resp.read().decode())"
   ]
  },
  {
   "cell_type": "markdown",
   "id": "affd07ed-23af-4a9a-a5bb-fa66a537ba5e",
   "metadata": {},
   "source": [
    "## Module `urllib.request`\n",
    "\n",
    "Moving up in abstraction, the standard library contains a fairly high-level interface as `urllib.request`.  If `requests` is not available for you, this is a reasonable level of abstraction for communicating with HTTP servers as a client.  Moroever, a function called `urlopen()` has been a feature of Python since 1.x days, with a backward compatible interface.  The namespace where the function liveds has changed, but its basic functionality has not."
   ]
  },
  {
   "cell_type": "code",
   "execution_count": 9,
   "id": "9f84c307-db6b-4030-91f0-bd63577e071c",
   "metadata": {},
   "outputs": [
    {
     "name": "stdout",
     "output_type": "stream",
     "text": [
      "Content-Type: text/csv; charset=utf-8\n",
      "Content-Length: 519\n",
      "X-INE-Course: HTTP using Python\n",
      "Server: Werkzeug/2.0.0 Python/3.8.10\n",
      "Date: Thu, 10 Jun 2021 01:25:10 GMT\n",
      "\n",
      "GREETING,NUMBER,VALUE\n",
      "Hej,15,18.072358757516692\n",
      "Hej,749,78.5879823181439\n",
      "Yā,587,52.40747930679911\n",
      "Asalaam alaikum,375,43.50397292753433\n",
      "God dag,461,20.555109155721286\n",
      "Tjena,408,22.659251102871657\n",
      "Zdravstvuyte,634,55.465223711850456\n",
      "Salut,331,18.361883493688435\n",
      "Selam,334,1.5244974003879475\n",
      "Halo,902,1.3263046788196342\n",
      "Hej,2,24.313384029364617\n",
      "Merhaba,777,66.97691374555943\n",
      "Hej,30,62.43334079549031\n",
      "Nǐn hǎo,66,52.3790590960114\n",
      "Hola,378,91.02782106855184\n",
      "Nǐn hǎo,636,11.889578738986806\n",
      "Yassas,424,54.708859936012374\n",
      "\n"
     ]
    }
   ],
   "source": [
    "from urllib.request import urlopen, Request\n",
    "\n",
    "resp = urlopen('http://popbox.kdm.local:2502/data')\n",
    "print(resp.headers, end='')\n",
    "csv = resp.read()\n",
    "print(csv.decode())"
   ]
  },
  {
   "cell_type": "markdown",
   "id": "b0577108-f883-4d1a-9dd7-13c1609b5147",
   "metadata": {},
   "source": [
    "With the CSV we now have in a local variable, let's perform a small calculation; i.e. the sum of the third column."
   ]
  },
  {
   "cell_type": "code",
   "execution_count": 10,
   "id": "329789d3-bd4a-4edc-9051-a8eb7676fc4c",
   "metadata": {},
   "outputs": [
    {
     "data": {
      "text/plain": [
       "676.19302026331"
      ]
     },
     "execution_count": 10,
     "metadata": {},
     "output_type": "execute_result"
    }
   ],
   "source": [
    "sum(float(line.split(',')[2]) for line in csv.decode().splitlines()[1:])"
   ]
  },
  {
   "cell_type": "markdown",
   "id": "b5d10cf0-8e9e-4402-a0f6-ee8255a95493",
   "metadata": {},
   "source": [
    "The server running has a path that will perform this same sum of an uploaded CSV file.  This lets us illustrate another HTTP method other than GET.  Either PUT or POST would make sense here, we choose the latter.  When this request is made, the request line indicates the POST method, then the request header is followed by a body that has additional content that the server will operate on.\n",
    "\n",
    "This path on the server returns an answer with the content type `text/plain`, but others like `application/json` are also plausible for more structured return data."
   ]
  },
  {
   "cell_type": "code",
   "execution_count": 11,
   "id": "72f2adfc-12c5-4f1f-aef3-5739411f41c9",
   "metadata": {},
   "outputs": [
    {
     "name": "stdout",
     "output_type": "stream",
     "text": [
      "Content-Type: text/plain; charset=utf-8\n",
      "Content-Length: 15\n",
      "Server: Werkzeug/2.0.0 Python/3.8.10\n",
      "Date: Thu, 10 Jun 2021 01:28:32 GMT\n",
      "\n",
      "676.19302026331\n"
     ]
    }
   ],
   "source": [
    "req = Request(url='http://popbox.kdm.local:2502/add', data=csv, method='POST')\n",
    "with urlopen(req) as resp:\n",
    "    print(resp.headers, end='')\n",
    "    print(resp.read().decode())"
   ]
  },
  {
   "cell_type": "markdown",
   "id": "8f289aa2-2930-46d7-b06e-7abfa0f4fb22",
   "metadata": {},
   "source": [
    "Let's also try to access that URL that gave us redirect messages earlier, from the low-level `http` module."
   ]
  },
  {
   "cell_type": "code",
   "execution_count": 12,
   "id": "84b41a11-d666-43c6-a55a-78e58d301643",
   "metadata": {},
   "outputs": [
    {
     "name": "stdout",
     "output_type": "stream",
     "text": [
      "HTTP Error 403: Forbidden\n"
     ]
    }
   ],
   "source": [
    "try:\n",
    "    resp = urlopen('http://popbox.kdm.local:2502/redirect')\n",
    "except Exception as err:\n",
    "    print(err)"
   ]
  },
  {
   "cell_type": "markdown",
   "id": "c8ca0c74-4702-45a2-ad38-799fd21ba6a6",
   "metadata": {},
   "source": [
    "Let us look at the full and ugly traceback to try to understand where `urlopen()` went wrong."
   ]
  },
  {
   "cell_type": "code",
   "execution_count": 13,
   "id": "647f6cb4-15ee-44bb-955a-aa661c1be47b",
   "metadata": {},
   "outputs": [
    {
     "ename": "HTTPError",
     "evalue": "HTTP Error 403: Forbidden",
     "output_type": "error",
     "traceback": [
      "\u001b[0;31m---------------------------------------------------------------------------\u001b[0m",
      "\u001b[0;31mHTTPError\u001b[0m                                 Traceback (most recent call last)",
      "\u001b[0;32m<ipython-input-13-f7aacedfb3d6>\u001b[0m in \u001b[0;36m<module>\u001b[0;34m\u001b[0m\n\u001b[0;32m----> 1\u001b[0;31m \u001b[0murlopen\u001b[0m\u001b[0;34m(\u001b[0m\u001b[0;34m'http://popbox.kdm.local:2502/redirect'\u001b[0m\u001b[0;34m)\u001b[0m\u001b[0;34m\u001b[0m\u001b[0;34m\u001b[0m\u001b[0m\n\u001b[0m",
      "\u001b[0;32m~/miniconda3/envs/INE/lib/python3.8/urllib/request.py\u001b[0m in \u001b[0;36murlopen\u001b[0;34m(url, data, timeout, cafile, capath, cadefault, context)\u001b[0m\n\u001b[1;32m    220\u001b[0m     \u001b[0;32melse\u001b[0m\u001b[0;34m:\u001b[0m\u001b[0;34m\u001b[0m\u001b[0;34m\u001b[0m\u001b[0m\n\u001b[1;32m    221\u001b[0m         \u001b[0mopener\u001b[0m \u001b[0;34m=\u001b[0m \u001b[0m_opener\u001b[0m\u001b[0;34m\u001b[0m\u001b[0;34m\u001b[0m\u001b[0m\n\u001b[0;32m--> 222\u001b[0;31m     \u001b[0;32mreturn\u001b[0m \u001b[0mopener\u001b[0m\u001b[0;34m.\u001b[0m\u001b[0mopen\u001b[0m\u001b[0;34m(\u001b[0m\u001b[0murl\u001b[0m\u001b[0;34m,\u001b[0m \u001b[0mdata\u001b[0m\u001b[0;34m,\u001b[0m \u001b[0mtimeout\u001b[0m\u001b[0;34m)\u001b[0m\u001b[0;34m\u001b[0m\u001b[0;34m\u001b[0m\u001b[0m\n\u001b[0m\u001b[1;32m    223\u001b[0m \u001b[0;34m\u001b[0m\u001b[0m\n\u001b[1;32m    224\u001b[0m \u001b[0;32mdef\u001b[0m \u001b[0minstall_opener\u001b[0m\u001b[0;34m(\u001b[0m\u001b[0mopener\u001b[0m\u001b[0;34m)\u001b[0m\u001b[0;34m:\u001b[0m\u001b[0;34m\u001b[0m\u001b[0;34m\u001b[0m\u001b[0m\n",
      "\u001b[0;32m~/miniconda3/envs/INE/lib/python3.8/urllib/request.py\u001b[0m in \u001b[0;36mopen\u001b[0;34m(self, fullurl, data, timeout)\u001b[0m\n\u001b[1;32m    529\u001b[0m         \u001b[0;32mfor\u001b[0m \u001b[0mprocessor\u001b[0m \u001b[0;32min\u001b[0m \u001b[0mself\u001b[0m\u001b[0;34m.\u001b[0m\u001b[0mprocess_response\u001b[0m\u001b[0;34m.\u001b[0m\u001b[0mget\u001b[0m\u001b[0;34m(\u001b[0m\u001b[0mprotocol\u001b[0m\u001b[0;34m,\u001b[0m \u001b[0;34m[\u001b[0m\u001b[0;34m]\u001b[0m\u001b[0;34m)\u001b[0m\u001b[0;34m:\u001b[0m\u001b[0;34m\u001b[0m\u001b[0;34m\u001b[0m\u001b[0m\n\u001b[1;32m    530\u001b[0m             \u001b[0mmeth\u001b[0m \u001b[0;34m=\u001b[0m \u001b[0mgetattr\u001b[0m\u001b[0;34m(\u001b[0m\u001b[0mprocessor\u001b[0m\u001b[0;34m,\u001b[0m \u001b[0mmeth_name\u001b[0m\u001b[0;34m)\u001b[0m\u001b[0;34m\u001b[0m\u001b[0;34m\u001b[0m\u001b[0m\n\u001b[0;32m--> 531\u001b[0;31m             \u001b[0mresponse\u001b[0m \u001b[0;34m=\u001b[0m \u001b[0mmeth\u001b[0m\u001b[0;34m(\u001b[0m\u001b[0mreq\u001b[0m\u001b[0;34m,\u001b[0m \u001b[0mresponse\u001b[0m\u001b[0;34m)\u001b[0m\u001b[0;34m\u001b[0m\u001b[0;34m\u001b[0m\u001b[0m\n\u001b[0m\u001b[1;32m    532\u001b[0m \u001b[0;34m\u001b[0m\u001b[0m\n\u001b[1;32m    533\u001b[0m         \u001b[0;32mreturn\u001b[0m \u001b[0mresponse\u001b[0m\u001b[0;34m\u001b[0m\u001b[0;34m\u001b[0m\u001b[0m\n",
      "\u001b[0;32m~/miniconda3/envs/INE/lib/python3.8/urllib/request.py\u001b[0m in \u001b[0;36mhttp_response\u001b[0;34m(self, request, response)\u001b[0m\n\u001b[1;32m    638\u001b[0m         \u001b[0;31m# request was successfully received, understood, and accepted.\u001b[0m\u001b[0;34m\u001b[0m\u001b[0;34m\u001b[0m\u001b[0;34m\u001b[0m\u001b[0m\n\u001b[1;32m    639\u001b[0m         \u001b[0;32mif\u001b[0m \u001b[0;32mnot\u001b[0m \u001b[0;34m(\u001b[0m\u001b[0;36m200\u001b[0m \u001b[0;34m<=\u001b[0m \u001b[0mcode\u001b[0m \u001b[0;34m<\u001b[0m \u001b[0;36m300\u001b[0m\u001b[0;34m)\u001b[0m\u001b[0;34m:\u001b[0m\u001b[0;34m\u001b[0m\u001b[0;34m\u001b[0m\u001b[0m\n\u001b[0;32m--> 640\u001b[0;31m             response = self.parent.error(\n\u001b[0m\u001b[1;32m    641\u001b[0m                 'http', request, response, code, msg, hdrs)\n\u001b[1;32m    642\u001b[0m \u001b[0;34m\u001b[0m\u001b[0m\n",
      "\u001b[0;32m~/miniconda3/envs/INE/lib/python3.8/urllib/request.py\u001b[0m in \u001b[0;36merror\u001b[0;34m(self, proto, *args)\u001b[0m\n\u001b[1;32m    561\u001b[0m             \u001b[0mhttp_err\u001b[0m \u001b[0;34m=\u001b[0m \u001b[0;36m0\u001b[0m\u001b[0;34m\u001b[0m\u001b[0;34m\u001b[0m\u001b[0m\n\u001b[1;32m    562\u001b[0m         \u001b[0margs\u001b[0m \u001b[0;34m=\u001b[0m \u001b[0;34m(\u001b[0m\u001b[0mdict\u001b[0m\u001b[0;34m,\u001b[0m \u001b[0mproto\u001b[0m\u001b[0;34m,\u001b[0m \u001b[0mmeth_name\u001b[0m\u001b[0;34m)\u001b[0m \u001b[0;34m+\u001b[0m \u001b[0margs\u001b[0m\u001b[0;34m\u001b[0m\u001b[0;34m\u001b[0m\u001b[0m\n\u001b[0;32m--> 563\u001b[0;31m         \u001b[0mresult\u001b[0m \u001b[0;34m=\u001b[0m \u001b[0mself\u001b[0m\u001b[0;34m.\u001b[0m\u001b[0m_call_chain\u001b[0m\u001b[0;34m(\u001b[0m\u001b[0;34m*\u001b[0m\u001b[0margs\u001b[0m\u001b[0;34m)\u001b[0m\u001b[0;34m\u001b[0m\u001b[0;34m\u001b[0m\u001b[0m\n\u001b[0m\u001b[1;32m    564\u001b[0m         \u001b[0;32mif\u001b[0m \u001b[0mresult\u001b[0m\u001b[0;34m:\u001b[0m\u001b[0;34m\u001b[0m\u001b[0;34m\u001b[0m\u001b[0m\n\u001b[1;32m    565\u001b[0m             \u001b[0;32mreturn\u001b[0m \u001b[0mresult\u001b[0m\u001b[0;34m\u001b[0m\u001b[0;34m\u001b[0m\u001b[0m\n",
      "\u001b[0;32m~/miniconda3/envs/INE/lib/python3.8/urllib/request.py\u001b[0m in \u001b[0;36m_call_chain\u001b[0;34m(self, chain, kind, meth_name, *args)\u001b[0m\n\u001b[1;32m    500\u001b[0m         \u001b[0;32mfor\u001b[0m \u001b[0mhandler\u001b[0m \u001b[0;32min\u001b[0m \u001b[0mhandlers\u001b[0m\u001b[0;34m:\u001b[0m\u001b[0;34m\u001b[0m\u001b[0;34m\u001b[0m\u001b[0m\n\u001b[1;32m    501\u001b[0m             \u001b[0mfunc\u001b[0m \u001b[0;34m=\u001b[0m \u001b[0mgetattr\u001b[0m\u001b[0;34m(\u001b[0m\u001b[0mhandler\u001b[0m\u001b[0;34m,\u001b[0m \u001b[0mmeth_name\u001b[0m\u001b[0;34m)\u001b[0m\u001b[0;34m\u001b[0m\u001b[0;34m\u001b[0m\u001b[0m\n\u001b[0;32m--> 502\u001b[0;31m             \u001b[0mresult\u001b[0m \u001b[0;34m=\u001b[0m \u001b[0mfunc\u001b[0m\u001b[0;34m(\u001b[0m\u001b[0;34m*\u001b[0m\u001b[0margs\u001b[0m\u001b[0;34m)\u001b[0m\u001b[0;34m\u001b[0m\u001b[0;34m\u001b[0m\u001b[0m\n\u001b[0m\u001b[1;32m    503\u001b[0m             \u001b[0;32mif\u001b[0m \u001b[0mresult\u001b[0m \u001b[0;32mis\u001b[0m \u001b[0;32mnot\u001b[0m \u001b[0;32mNone\u001b[0m\u001b[0;34m:\u001b[0m\u001b[0;34m\u001b[0m\u001b[0;34m\u001b[0m\u001b[0m\n\u001b[1;32m    504\u001b[0m                 \u001b[0;32mreturn\u001b[0m \u001b[0mresult\u001b[0m\u001b[0;34m\u001b[0m\u001b[0;34m\u001b[0m\u001b[0m\n",
      "\u001b[0;32m~/miniconda3/envs/INE/lib/python3.8/urllib/request.py\u001b[0m in \u001b[0;36mhttp_error_302\u001b[0;34m(self, req, fp, code, msg, headers)\u001b[0m\n\u001b[1;32m    753\u001b[0m         \u001b[0mfp\u001b[0m\u001b[0;34m.\u001b[0m\u001b[0mclose\u001b[0m\u001b[0;34m(\u001b[0m\u001b[0;34m)\u001b[0m\u001b[0;34m\u001b[0m\u001b[0;34m\u001b[0m\u001b[0m\n\u001b[1;32m    754\u001b[0m \u001b[0;34m\u001b[0m\u001b[0m\n\u001b[0;32m--> 755\u001b[0;31m         \u001b[0;32mreturn\u001b[0m \u001b[0mself\u001b[0m\u001b[0;34m.\u001b[0m\u001b[0mparent\u001b[0m\u001b[0;34m.\u001b[0m\u001b[0mopen\u001b[0m\u001b[0;34m(\u001b[0m\u001b[0mnew\u001b[0m\u001b[0;34m,\u001b[0m \u001b[0mtimeout\u001b[0m\u001b[0;34m=\u001b[0m\u001b[0mreq\u001b[0m\u001b[0;34m.\u001b[0m\u001b[0mtimeout\u001b[0m\u001b[0;34m)\u001b[0m\u001b[0;34m\u001b[0m\u001b[0;34m\u001b[0m\u001b[0m\n\u001b[0m\u001b[1;32m    756\u001b[0m \u001b[0;34m\u001b[0m\u001b[0m\n\u001b[1;32m    757\u001b[0m     \u001b[0mhttp_error_301\u001b[0m \u001b[0;34m=\u001b[0m \u001b[0mhttp_error_303\u001b[0m \u001b[0;34m=\u001b[0m \u001b[0mhttp_error_307\u001b[0m \u001b[0;34m=\u001b[0m \u001b[0mhttp_error_302\u001b[0m\u001b[0;34m\u001b[0m\u001b[0;34m\u001b[0m\u001b[0m\n",
      "\u001b[0;32m~/miniconda3/envs/INE/lib/python3.8/urllib/request.py\u001b[0m in \u001b[0;36mopen\u001b[0;34m(self, fullurl, data, timeout)\u001b[0m\n\u001b[1;32m    529\u001b[0m         \u001b[0;32mfor\u001b[0m \u001b[0mprocessor\u001b[0m \u001b[0;32min\u001b[0m \u001b[0mself\u001b[0m\u001b[0;34m.\u001b[0m\u001b[0mprocess_response\u001b[0m\u001b[0;34m.\u001b[0m\u001b[0mget\u001b[0m\u001b[0;34m(\u001b[0m\u001b[0mprotocol\u001b[0m\u001b[0;34m,\u001b[0m \u001b[0;34m[\u001b[0m\u001b[0;34m]\u001b[0m\u001b[0;34m)\u001b[0m\u001b[0;34m:\u001b[0m\u001b[0;34m\u001b[0m\u001b[0;34m\u001b[0m\u001b[0m\n\u001b[1;32m    530\u001b[0m             \u001b[0mmeth\u001b[0m \u001b[0;34m=\u001b[0m \u001b[0mgetattr\u001b[0m\u001b[0;34m(\u001b[0m\u001b[0mprocessor\u001b[0m\u001b[0;34m,\u001b[0m \u001b[0mmeth_name\u001b[0m\u001b[0;34m)\u001b[0m\u001b[0;34m\u001b[0m\u001b[0;34m\u001b[0m\u001b[0m\n\u001b[0;32m--> 531\u001b[0;31m             \u001b[0mresponse\u001b[0m \u001b[0;34m=\u001b[0m \u001b[0mmeth\u001b[0m\u001b[0;34m(\u001b[0m\u001b[0mreq\u001b[0m\u001b[0;34m,\u001b[0m \u001b[0mresponse\u001b[0m\u001b[0;34m)\u001b[0m\u001b[0;34m\u001b[0m\u001b[0;34m\u001b[0m\u001b[0m\n\u001b[0m\u001b[1;32m    532\u001b[0m \u001b[0;34m\u001b[0m\u001b[0m\n\u001b[1;32m    533\u001b[0m         \u001b[0;32mreturn\u001b[0m \u001b[0mresponse\u001b[0m\u001b[0;34m\u001b[0m\u001b[0;34m\u001b[0m\u001b[0m\n",
      "\u001b[0;32m~/miniconda3/envs/INE/lib/python3.8/urllib/request.py\u001b[0m in \u001b[0;36mhttp_response\u001b[0;34m(self, request, response)\u001b[0m\n\u001b[1;32m    638\u001b[0m         \u001b[0;31m# request was successfully received, understood, and accepted.\u001b[0m\u001b[0;34m\u001b[0m\u001b[0;34m\u001b[0m\u001b[0;34m\u001b[0m\u001b[0m\n\u001b[1;32m    639\u001b[0m         \u001b[0;32mif\u001b[0m \u001b[0;32mnot\u001b[0m \u001b[0;34m(\u001b[0m\u001b[0;36m200\u001b[0m \u001b[0;34m<=\u001b[0m \u001b[0mcode\u001b[0m \u001b[0;34m<\u001b[0m \u001b[0;36m300\u001b[0m\u001b[0;34m)\u001b[0m\u001b[0;34m:\u001b[0m\u001b[0;34m\u001b[0m\u001b[0;34m\u001b[0m\u001b[0m\n\u001b[0;32m--> 640\u001b[0;31m             response = self.parent.error(\n\u001b[0m\u001b[1;32m    641\u001b[0m                 'http', request, response, code, msg, hdrs)\n\u001b[1;32m    642\u001b[0m \u001b[0;34m\u001b[0m\u001b[0m\n",
      "\u001b[0;32m~/miniconda3/envs/INE/lib/python3.8/urllib/request.py\u001b[0m in \u001b[0;36merror\u001b[0;34m(self, proto, *args)\u001b[0m\n\u001b[1;32m    561\u001b[0m             \u001b[0mhttp_err\u001b[0m \u001b[0;34m=\u001b[0m \u001b[0;36m0\u001b[0m\u001b[0;34m\u001b[0m\u001b[0;34m\u001b[0m\u001b[0m\n\u001b[1;32m    562\u001b[0m         \u001b[0margs\u001b[0m \u001b[0;34m=\u001b[0m \u001b[0;34m(\u001b[0m\u001b[0mdict\u001b[0m\u001b[0;34m,\u001b[0m \u001b[0mproto\u001b[0m\u001b[0;34m,\u001b[0m \u001b[0mmeth_name\u001b[0m\u001b[0;34m)\u001b[0m \u001b[0;34m+\u001b[0m \u001b[0margs\u001b[0m\u001b[0;34m\u001b[0m\u001b[0;34m\u001b[0m\u001b[0m\n\u001b[0;32m--> 563\u001b[0;31m         \u001b[0mresult\u001b[0m \u001b[0;34m=\u001b[0m \u001b[0mself\u001b[0m\u001b[0;34m.\u001b[0m\u001b[0m_call_chain\u001b[0m\u001b[0;34m(\u001b[0m\u001b[0;34m*\u001b[0m\u001b[0margs\u001b[0m\u001b[0;34m)\u001b[0m\u001b[0;34m\u001b[0m\u001b[0;34m\u001b[0m\u001b[0m\n\u001b[0m\u001b[1;32m    564\u001b[0m         \u001b[0;32mif\u001b[0m \u001b[0mresult\u001b[0m\u001b[0;34m:\u001b[0m\u001b[0;34m\u001b[0m\u001b[0;34m\u001b[0m\u001b[0m\n\u001b[1;32m    565\u001b[0m             \u001b[0;32mreturn\u001b[0m \u001b[0mresult\u001b[0m\u001b[0;34m\u001b[0m\u001b[0;34m\u001b[0m\u001b[0m\n",
      "\u001b[0;32m~/miniconda3/envs/INE/lib/python3.8/urllib/request.py\u001b[0m in \u001b[0;36m_call_chain\u001b[0;34m(self, chain, kind, meth_name, *args)\u001b[0m\n\u001b[1;32m    500\u001b[0m         \u001b[0;32mfor\u001b[0m \u001b[0mhandler\u001b[0m \u001b[0;32min\u001b[0m \u001b[0mhandlers\u001b[0m\u001b[0;34m:\u001b[0m\u001b[0;34m\u001b[0m\u001b[0;34m\u001b[0m\u001b[0m\n\u001b[1;32m    501\u001b[0m             \u001b[0mfunc\u001b[0m \u001b[0;34m=\u001b[0m \u001b[0mgetattr\u001b[0m\u001b[0;34m(\u001b[0m\u001b[0mhandler\u001b[0m\u001b[0;34m,\u001b[0m \u001b[0mmeth_name\u001b[0m\u001b[0;34m)\u001b[0m\u001b[0;34m\u001b[0m\u001b[0;34m\u001b[0m\u001b[0m\n\u001b[0;32m--> 502\u001b[0;31m             \u001b[0mresult\u001b[0m \u001b[0;34m=\u001b[0m \u001b[0mfunc\u001b[0m\u001b[0;34m(\u001b[0m\u001b[0;34m*\u001b[0m\u001b[0margs\u001b[0m\u001b[0;34m)\u001b[0m\u001b[0;34m\u001b[0m\u001b[0;34m\u001b[0m\u001b[0m\n\u001b[0m\u001b[1;32m    503\u001b[0m             \u001b[0;32mif\u001b[0m \u001b[0mresult\u001b[0m \u001b[0;32mis\u001b[0m \u001b[0;32mnot\u001b[0m \u001b[0;32mNone\u001b[0m\u001b[0;34m:\u001b[0m\u001b[0;34m\u001b[0m\u001b[0;34m\u001b[0m\u001b[0m\n\u001b[1;32m    504\u001b[0m                 \u001b[0;32mreturn\u001b[0m \u001b[0mresult\u001b[0m\u001b[0;34m\u001b[0m\u001b[0;34m\u001b[0m\u001b[0m\n",
      "\u001b[0;32m~/miniconda3/envs/INE/lib/python3.8/urllib/request.py\u001b[0m in \u001b[0;36mhttp_error_302\u001b[0;34m(self, req, fp, code, msg, headers)\u001b[0m\n\u001b[1;32m    753\u001b[0m         \u001b[0mfp\u001b[0m\u001b[0;34m.\u001b[0m\u001b[0mclose\u001b[0m\u001b[0;34m(\u001b[0m\u001b[0;34m)\u001b[0m\u001b[0;34m\u001b[0m\u001b[0;34m\u001b[0m\u001b[0m\n\u001b[1;32m    754\u001b[0m \u001b[0;34m\u001b[0m\u001b[0m\n\u001b[0;32m--> 755\u001b[0;31m         \u001b[0;32mreturn\u001b[0m \u001b[0mself\u001b[0m\u001b[0;34m.\u001b[0m\u001b[0mparent\u001b[0m\u001b[0;34m.\u001b[0m\u001b[0mopen\u001b[0m\u001b[0;34m(\u001b[0m\u001b[0mnew\u001b[0m\u001b[0;34m,\u001b[0m \u001b[0mtimeout\u001b[0m\u001b[0;34m=\u001b[0m\u001b[0mreq\u001b[0m\u001b[0;34m.\u001b[0m\u001b[0mtimeout\u001b[0m\u001b[0;34m)\u001b[0m\u001b[0;34m\u001b[0m\u001b[0;34m\u001b[0m\u001b[0m\n\u001b[0m\u001b[1;32m    756\u001b[0m \u001b[0;34m\u001b[0m\u001b[0m\n\u001b[1;32m    757\u001b[0m     \u001b[0mhttp_error_301\u001b[0m \u001b[0;34m=\u001b[0m \u001b[0mhttp_error_303\u001b[0m \u001b[0;34m=\u001b[0m \u001b[0mhttp_error_307\u001b[0m \u001b[0;34m=\u001b[0m \u001b[0mhttp_error_302\u001b[0m\u001b[0;34m\u001b[0m\u001b[0;34m\u001b[0m\u001b[0m\n",
      "\u001b[0;32m~/miniconda3/envs/INE/lib/python3.8/urllib/request.py\u001b[0m in \u001b[0;36mopen\u001b[0;34m(self, fullurl, data, timeout)\u001b[0m\n\u001b[1;32m    529\u001b[0m         \u001b[0;32mfor\u001b[0m \u001b[0mprocessor\u001b[0m \u001b[0;32min\u001b[0m \u001b[0mself\u001b[0m\u001b[0;34m.\u001b[0m\u001b[0mprocess_response\u001b[0m\u001b[0;34m.\u001b[0m\u001b[0mget\u001b[0m\u001b[0;34m(\u001b[0m\u001b[0mprotocol\u001b[0m\u001b[0;34m,\u001b[0m \u001b[0;34m[\u001b[0m\u001b[0;34m]\u001b[0m\u001b[0;34m)\u001b[0m\u001b[0;34m:\u001b[0m\u001b[0;34m\u001b[0m\u001b[0;34m\u001b[0m\u001b[0m\n\u001b[1;32m    530\u001b[0m             \u001b[0mmeth\u001b[0m \u001b[0;34m=\u001b[0m \u001b[0mgetattr\u001b[0m\u001b[0;34m(\u001b[0m\u001b[0mprocessor\u001b[0m\u001b[0;34m,\u001b[0m \u001b[0mmeth_name\u001b[0m\u001b[0;34m)\u001b[0m\u001b[0;34m\u001b[0m\u001b[0;34m\u001b[0m\u001b[0m\n\u001b[0;32m--> 531\u001b[0;31m             \u001b[0mresponse\u001b[0m \u001b[0;34m=\u001b[0m \u001b[0mmeth\u001b[0m\u001b[0;34m(\u001b[0m\u001b[0mreq\u001b[0m\u001b[0;34m,\u001b[0m \u001b[0mresponse\u001b[0m\u001b[0;34m)\u001b[0m\u001b[0;34m\u001b[0m\u001b[0;34m\u001b[0m\u001b[0m\n\u001b[0m\u001b[1;32m    532\u001b[0m \u001b[0;34m\u001b[0m\u001b[0m\n\u001b[1;32m    533\u001b[0m         \u001b[0;32mreturn\u001b[0m \u001b[0mresponse\u001b[0m\u001b[0;34m\u001b[0m\u001b[0;34m\u001b[0m\u001b[0m\n",
      "\u001b[0;32m~/miniconda3/envs/INE/lib/python3.8/urllib/request.py\u001b[0m in \u001b[0;36mhttp_response\u001b[0;34m(self, request, response)\u001b[0m\n\u001b[1;32m    638\u001b[0m         \u001b[0;31m# request was successfully received, understood, and accepted.\u001b[0m\u001b[0;34m\u001b[0m\u001b[0;34m\u001b[0m\u001b[0;34m\u001b[0m\u001b[0m\n\u001b[1;32m    639\u001b[0m         \u001b[0;32mif\u001b[0m \u001b[0;32mnot\u001b[0m \u001b[0;34m(\u001b[0m\u001b[0;36m200\u001b[0m \u001b[0;34m<=\u001b[0m \u001b[0mcode\u001b[0m \u001b[0;34m<\u001b[0m \u001b[0;36m300\u001b[0m\u001b[0;34m)\u001b[0m\u001b[0;34m:\u001b[0m\u001b[0;34m\u001b[0m\u001b[0;34m\u001b[0m\u001b[0m\n\u001b[0;32m--> 640\u001b[0;31m             response = self.parent.error(\n\u001b[0m\u001b[1;32m    641\u001b[0m                 'http', request, response, code, msg, hdrs)\n\u001b[1;32m    642\u001b[0m \u001b[0;34m\u001b[0m\u001b[0m\n",
      "\u001b[0;32m~/miniconda3/envs/INE/lib/python3.8/urllib/request.py\u001b[0m in \u001b[0;36merror\u001b[0;34m(self, proto, *args)\u001b[0m\n\u001b[1;32m    567\u001b[0m         \u001b[0;32mif\u001b[0m \u001b[0mhttp_err\u001b[0m\u001b[0;34m:\u001b[0m\u001b[0;34m\u001b[0m\u001b[0;34m\u001b[0m\u001b[0m\n\u001b[1;32m    568\u001b[0m             \u001b[0margs\u001b[0m \u001b[0;34m=\u001b[0m \u001b[0;34m(\u001b[0m\u001b[0mdict\u001b[0m\u001b[0;34m,\u001b[0m \u001b[0;34m'default'\u001b[0m\u001b[0;34m,\u001b[0m \u001b[0;34m'http_error_default'\u001b[0m\u001b[0;34m)\u001b[0m \u001b[0;34m+\u001b[0m \u001b[0morig_args\u001b[0m\u001b[0;34m\u001b[0m\u001b[0;34m\u001b[0m\u001b[0m\n\u001b[0;32m--> 569\u001b[0;31m             \u001b[0;32mreturn\u001b[0m \u001b[0mself\u001b[0m\u001b[0;34m.\u001b[0m\u001b[0m_call_chain\u001b[0m\u001b[0;34m(\u001b[0m\u001b[0;34m*\u001b[0m\u001b[0margs\u001b[0m\u001b[0;34m)\u001b[0m\u001b[0;34m\u001b[0m\u001b[0;34m\u001b[0m\u001b[0m\n\u001b[0m\u001b[1;32m    570\u001b[0m \u001b[0;34m\u001b[0m\u001b[0m\n\u001b[1;32m    571\u001b[0m \u001b[0;31m# XXX probably also want an abstract factory that knows when it makes\u001b[0m\u001b[0;34m\u001b[0m\u001b[0;34m\u001b[0m\u001b[0;34m\u001b[0m\u001b[0m\n",
      "\u001b[0;32m~/miniconda3/envs/INE/lib/python3.8/urllib/request.py\u001b[0m in \u001b[0;36m_call_chain\u001b[0;34m(self, chain, kind, meth_name, *args)\u001b[0m\n\u001b[1;32m    500\u001b[0m         \u001b[0;32mfor\u001b[0m \u001b[0mhandler\u001b[0m \u001b[0;32min\u001b[0m \u001b[0mhandlers\u001b[0m\u001b[0;34m:\u001b[0m\u001b[0;34m\u001b[0m\u001b[0;34m\u001b[0m\u001b[0m\n\u001b[1;32m    501\u001b[0m             \u001b[0mfunc\u001b[0m \u001b[0;34m=\u001b[0m \u001b[0mgetattr\u001b[0m\u001b[0;34m(\u001b[0m\u001b[0mhandler\u001b[0m\u001b[0;34m,\u001b[0m \u001b[0mmeth_name\u001b[0m\u001b[0;34m)\u001b[0m\u001b[0;34m\u001b[0m\u001b[0;34m\u001b[0m\u001b[0m\n\u001b[0;32m--> 502\u001b[0;31m             \u001b[0mresult\u001b[0m \u001b[0;34m=\u001b[0m \u001b[0mfunc\u001b[0m\u001b[0;34m(\u001b[0m\u001b[0;34m*\u001b[0m\u001b[0margs\u001b[0m\u001b[0;34m)\u001b[0m\u001b[0;34m\u001b[0m\u001b[0;34m\u001b[0m\u001b[0m\n\u001b[0m\u001b[1;32m    503\u001b[0m             \u001b[0;32mif\u001b[0m \u001b[0mresult\u001b[0m \u001b[0;32mis\u001b[0m \u001b[0;32mnot\u001b[0m \u001b[0;32mNone\u001b[0m\u001b[0;34m:\u001b[0m\u001b[0;34m\u001b[0m\u001b[0;34m\u001b[0m\u001b[0m\n\u001b[1;32m    504\u001b[0m                 \u001b[0;32mreturn\u001b[0m \u001b[0mresult\u001b[0m\u001b[0;34m\u001b[0m\u001b[0;34m\u001b[0m\u001b[0m\n",
      "\u001b[0;32m~/miniconda3/envs/INE/lib/python3.8/urllib/request.py\u001b[0m in \u001b[0;36mhttp_error_default\u001b[0;34m(self, req, fp, code, msg, hdrs)\u001b[0m\n\u001b[1;32m    647\u001b[0m \u001b[0;32mclass\u001b[0m \u001b[0mHTTPDefaultErrorHandler\u001b[0m\u001b[0;34m(\u001b[0m\u001b[0mBaseHandler\u001b[0m\u001b[0;34m)\u001b[0m\u001b[0;34m:\u001b[0m\u001b[0;34m\u001b[0m\u001b[0;34m\u001b[0m\u001b[0m\n\u001b[1;32m    648\u001b[0m     \u001b[0;32mdef\u001b[0m \u001b[0mhttp_error_default\u001b[0m\u001b[0;34m(\u001b[0m\u001b[0mself\u001b[0m\u001b[0;34m,\u001b[0m \u001b[0mreq\u001b[0m\u001b[0;34m,\u001b[0m \u001b[0mfp\u001b[0m\u001b[0;34m,\u001b[0m \u001b[0mcode\u001b[0m\u001b[0;34m,\u001b[0m \u001b[0mmsg\u001b[0m\u001b[0;34m,\u001b[0m \u001b[0mhdrs\u001b[0m\u001b[0;34m)\u001b[0m\u001b[0;34m:\u001b[0m\u001b[0;34m\u001b[0m\u001b[0;34m\u001b[0m\u001b[0m\n\u001b[0;32m--> 649\u001b[0;31m         \u001b[0;32mraise\u001b[0m \u001b[0mHTTPError\u001b[0m\u001b[0;34m(\u001b[0m\u001b[0mreq\u001b[0m\u001b[0;34m.\u001b[0m\u001b[0mfull_url\u001b[0m\u001b[0;34m,\u001b[0m \u001b[0mcode\u001b[0m\u001b[0;34m,\u001b[0m \u001b[0mmsg\u001b[0m\u001b[0;34m,\u001b[0m \u001b[0mhdrs\u001b[0m\u001b[0;34m,\u001b[0m \u001b[0mfp\u001b[0m\u001b[0;34m)\u001b[0m\u001b[0;34m\u001b[0m\u001b[0;34m\u001b[0m\u001b[0m\n\u001b[0m\u001b[1;32m    650\u001b[0m \u001b[0;34m\u001b[0m\u001b[0m\n\u001b[1;32m    651\u001b[0m \u001b[0;32mclass\u001b[0m \u001b[0mHTTPRedirectHandler\u001b[0m\u001b[0;34m(\u001b[0m\u001b[0mBaseHandler\u001b[0m\u001b[0;34m)\u001b[0m\u001b[0;34m:\u001b[0m\u001b[0;34m\u001b[0m\u001b[0;34m\u001b[0m\u001b[0m\n",
      "\u001b[0;31mHTTPError\u001b[0m: HTTP Error 403: Forbidden"
     ]
    }
   ],
   "source": [
    "urlopen('http://popbox.kdm.local:2502/redirect')"
   ]
  },
  {
   "cell_type": "markdown",
   "id": "d9218de8-5b0a-4539-9aad-42a5e423e9cc",
   "metadata": {},
   "source": [
    "## Library: `requests`\n",
    "\n",
    "The library `requests` handle many details for us in a higher-level, friendlier, and more robust way than does `http.client`."
   ]
  },
  {
   "cell_type": "markdown",
   "id": "1075a94e-db94-4ee6-8e6c-0b9c5e5a6699",
   "metadata": {},
   "source": [
    "## Robust redirects\n",
    "\n",
    "For example, let's try the redirected URL that failed to resolve properly before.  The `requests.get()` call manages to sort through all the redirections among reverse proxy servers, switching from HTTP to HTTPS over the redirects, and so on."
   ]
  },
  {
   "cell_type": "code",
   "execution_count": 14,
   "id": "40c1184a-e8c4-463d-8d77-1d06020800e7",
   "metadata": {},
   "outputs": [
    {
     "name": "stdout",
     "output_type": "stream",
     "text": [
      "200 OK\n",
      "Date: Thu, 10 Jun 2021 01:36:12 GMT\n",
      "Content-Type: text/html\n",
      "Transfer-Encoding: chunked\n",
      "Connection: keep-alive\n",
      "Last-Modified: Tue, 23 Oct 2018 16:02:22 GMT\n",
      "Vary: Accept-Encoding\n",
      "CF-Cache-Status: DYNAMIC\n",
      "cf-request-id: 0a95291aa9000010a5340e1000000001\n",
      "Expect-CT: max-age=604800, report-uri=\"https://report-uri.cloudflare.com/cdn-cgi/beacon/expect-ct\"\n",
      "Report-To: {\"endpoints\":[{\"url\":\"https:\\/\\/a.nel.cloudflare.com\\/report\\/v2?s=GvHpm%2B9lXH7KmuhcMhMT0Fs%2B%2F4EOvj%2FmvezMTHwQQHPMgneiuNqiHC90aeCbHrpJvT%2BDf13%2BhT8mOYYnYccoO15cZXPxSh8H%2FUM5vlJ2OR2LVOvLSeYgxZJ7Fw%3D%3D\"}],\"group\":\"cf-nel\",\"max_age\":604800}\n",
      "NEL: {\"report_to\":\"cf-nel\",\"max_age\":604800}\n",
      "Server: cloudflare\n",
      "CF-RAY: 65cede0a989010a5-ORD\n",
      "Content-Encoding: gzip\n",
      "alt-svc: h3-27=\":443\"; ma=86400, h3-28=\":443\"; ma=86400, h3-29=\":443\"; ma=86400, h3=\":443\"; ma=86400\n"
     ]
    }
   ],
   "source": [
    "import requests\n",
    "respA = requests.get('http://popbox.kdm.local:2502/redirect')\n",
    "print(respA.status_code, respA.reason)\n",
    "for k, v in respA.headers.items():\n",
    "    print(f'{k}: {v}')"
   ]
  },
  {
   "cell_type": "code",
   "execution_count": 15,
   "id": "08c1fc8d-d666-4fab-a004-7d130aafdc70",
   "metadata": {},
   "outputs": [
    {
     "name": "stdout",
     "output_type": "stream",
     "text": [
      "<!DOCTYPE html>\n",
      "<html lang=\"en\">\n",
      "<head>\n",
      "<title>KDM Training</title>\n",
      "<link rel=\"icon\" type=\"image/png\" href=\"https://gnosis.cx/kdm/favicon.png\">\n",
      "</head>\n",
      "<meta charset=\"utf-8\">\n",
      "<meta name=\"viewport\" content=\"width=device-width, initial-scale=1, shrink-to-fit=no\">\n",
      "<meta name=\"description\" content=\"Description of KDM Training services and principals\">\n",
      "<meta name=\"author\" content=\"David Mertz\">\n",
      "\n",
      "<link href=\"vendor/bootstrap/css/bootstrap.min.css\" rel=\"stylesheet\">\n"
     ]
    }
   ],
   "source": [
    "print(respA.content.decode()[:463])"
   ]
  },
  {
   "cell_type": "markdown",
   "id": "e59c23d8-25ac-44b3-bdf8-a19a2e3fa2c8",
   "metadata": {},
   "source": [
    "## Response attributes and methods\n",
    "\n",
    "Let's connect to a resource that starts out as HTTPS."
   ]
  },
  {
   "cell_type": "code",
   "execution_count": 16,
   "id": "03a7c9ab-9502-4b84-a14d-3266d0dc97ed",
   "metadata": {},
   "outputs": [
    {
     "name": "stdout",
     "output_type": "stream",
     "text": [
      "200 OK\n",
      "Connection: keep-alive\n",
      "Content-Length: 26739\n",
      "Server: nginx\n",
      "Content-Type: text/html\n",
      "Last-Modified: Wed, 09 Jun 2021 18:45:42 GMT\n",
      "ETag: \"60c10c56-2d950\"\n",
      "X-Clacks-Overhead: GNU Terry Pratchett\n",
      "Strict-Transport-Security: max-age=315360000; includeSubDomains; preload\n",
      "Content-Encoding: gzip\n",
      "Via: 1.1 varnish, 1.1 varnish\n",
      "Accept-Ranges: bytes\n",
      "Date: Thu, 10 Jun 2021 01:59:18 GMT\n",
      "Age: 25980\n",
      "X-Served-By: cache-lga21982-LGA, cache-mdw17347-MDW\n",
      "X-Cache: MISS, HIT\n",
      "X-Cache-Hits: 0, 1\n",
      "X-Timer: S1623290358.011437,VS0,VE1\n",
      "Vary: Accept-Encoding\n"
     ]
    }
   ],
   "source": [
    "url = 'https://docs.python.org/3/library/urllib.request.html'\n",
    "respB = requests.get(url)\n",
    "print(respB.status_code, respB.reason)\n",
    "for k, v in respB.headers.items():\n",
    "    print(f'{k}: {v}')"
   ]
  },
  {
   "cell_type": "code",
   "execution_count": 17,
   "id": "ed3a2d14-62ff-472c-9045-e40c4fef3179",
   "metadata": {},
   "outputs": [
    {
     "name": "stdout",
     "output_type": "stream",
     "text": [
      "\n",
      "<!DOCTYPE html>\n",
      "\n",
      "<html xmlns=\"http://www.w3.org/1999/xhtml\">\n",
      "  <head>\n",
      "    <meta charset=\"utf-8\" />\n",
      "    <title>urllib.request â Extensible library for opening URLs &#8212; Python 3.9.5 documentation</title>\n",
      "    <link rel=\"stylesheet\" href=\"../_static/pydoctheme.css\" type=\"text/css\" />\n",
      "    <link rel=\"stylesheet\" href=\"../_static/pygments.css\" type=\"text/css\" />\n",
      "    \n",
      "    <script id=\"documentation_options\" data-url_root=\"../\" src=\"../_static/documentation_options.js\"></script>\n",
      "    <script src=\"..\n",
      "\n",
      "<!-- LOTS MORE -->\n",
      "\n",
      " <br />\n",
      "\n",
      "    Last updated on Jun 09, 2021.\n",
      "    <a href=\"https://docs.python.org/3/bugs.html\">Found a bug</a>?\n",
      "    <br />\n",
      "\n",
      "    Created using <a href=\"https://www.sphinx-doc.org/\">Sphinx</a> 2.4.4.\n",
      "    </div>\n",
      "\n",
      "    <script type=\"text/javascript\" src=\"../_static/switchers.js\"></script>\n",
      "  </body>\n",
      "</html>\n"
     ]
    }
   ],
   "source": [
    "print(respB.text[:500])\n",
    "print('\\n<!-- LOTS MORE -->\\n')\n",
    "print(respB.text[-300:])"
   ]
  },
  {
   "cell_type": "markdown",
   "id": "854b0604-c336-48f6-ad5b-ce75f1e213fb",
   "metadata": {},
   "source": [
    "The response object is quite rich.  The last cell used the `.text` attribute for the decoded binary content.  But, for example, we also still have the body as binary content available.  If the body could not be decoded as text—e.g. if it is binary data—the `.text` attribute would simply not have content, nothing would fail."
   ]
  },
  {
   "cell_type": "code",
   "execution_count": 18,
   "id": "797a16e7-f0ea-4ff1-9642-d0dbb6d555f5",
   "metadata": {},
   "outputs": [
    {
     "data": {
      "text/plain": [
       "'\\n<!DOCTYPE html>\\n\\n<html xmlns=\"http://www.w3.org/1999/xhtml\">\\n  <head>\\n    <meta charset=\"utf-8\" />\\n    <title>urllib.request — Extensible library for opening URLs &#8212; Python 3.9.5 documentation</title>\\n '"
      ]
     },
     "execution_count": 18,
     "metadata": {},
     "output_type": "execute_result"
    }
   ],
   "source": [
    "respB.content[:210].decode()"
   ]
  },
  {
   "cell_type": "markdown",
   "id": "bba6b2af-7d42-4230-a51e-e7989eb95203",
   "metadata": {},
   "source": [
    "A nice capability is that URL remains an attribute of the response object.  In the case where that is identical the URL provided, this doesn't matter so much; but in other cases it may reflect the resolution of multiple redirects."
   ]
  },
  {
   "cell_type": "code",
   "execution_count": 19,
   "id": "8f4e02eb-bee7-44e4-995d-f5eeb4499a0f",
   "metadata": {},
   "outputs": [
    {
     "data": {
      "text/plain": [
       "'https://docs.python.org/3/library/urllib.request.html'"
      ]
     },
     "execution_count": 19,
     "metadata": {},
     "output_type": "execute_result"
    }
   ],
   "source": [
    "respB.url"
   ]
  },
  {
   "cell_type": "code",
   "execution_count": 20,
   "id": "7028bfee-71fd-490b-8918-8ea9f34edd0e",
   "metadata": {},
   "outputs": [
    {
     "data": {
      "text/plain": [
       "'https://www.gnosis.cx/kdm/'"
      ]
     },
     "execution_count": 20,
     "metadata": {},
     "output_type": "execute_result"
    }
   ],
   "source": [
    "respA.url"
   ]
  },
  {
   "cell_type": "markdown",
   "id": "4a2c4e1b-c1ec-4024-b9e6-8910d066c5c4",
   "metadata": {},
   "source": [
    "## Cookies and sessions\n",
    "\n",
    "A variety of other mechanisms for HTTP interactions are common.  For example, \"cookies\" are a mechanism by which a server can ask a client to store some state about the relationship between the ends.  This information is communicated in a header called `Set-Cookie` from the server, and may be provided by the client in a header called `Cookie`.  Let's look at an example:"
   ]
  },
  {
   "cell_type": "code",
   "execution_count": 21,
   "id": "a9f1177a-c284-4adf-b93e-0e96b160959d",
   "metadata": {},
   "outputs": [
    {
     "name": "stdout",
     "output_type": "stream",
     "text": [
      "       _landing_page: %2F\n",
      "      _orig_referrer: \n",
      "                  _s: 5b0a4414-1d56-4082-8a55-b19940b23a2e\n",
      "          _shopify_s: 5b0a4414-1d56-4082-8a55-b19940b23a2e\n",
      "          _shopify_y: b04ad885-ff54-4ba1-8500-ee246573f67a\n",
      "                  _y: b04ad885-ff54-4ba1-8500-ee246573f67a\n",
      "       cart_currency: USD\n",
      " secure_customer_sig: \n"
     ]
    }
   ],
   "source": [
    "respC = requests.get('https://ine.com')\n",
    "for cookie, val in respC.cookies.items():\n",
    "    print(f'{cookie:>20}: {val}')"
   ]
  },
  {
   "cell_type": "markdown",
   "id": "e32d6283-4ea0-41d4-93de-459a9a80ac38",
   "metadata": {},
   "source": [
    "Sometimes cookies are human-interpretable values, such as \"USD\" in the INE example.  Very often they are UUIDs or other random-like values that simply identify the client as the same one across interactions.  Web browsers often maintain cookies for particular sites, which allows a continuity of the relationship, even if the web browser or entire computer is shut down.\n",
    "\n",
    "Within a standardized use of HTTP headers, cookies consist of mandatory values and optional modifiers, separated by semicolons.  Multiple `Set-Cookie` headers can be used, but if they are, `requests` concatenates them in one field, separated by commas.  Many servers also provide this comma separated format in the responses.  Let's look at what INE sent in raw form."
   ]
  },
  {
   "cell_type": "code",
   "execution_count": 22,
   "id": "5cf49d30-6304-44cf-8a69-f1caeee83be9",
   "metadata": {},
   "outputs": [
    {
     "data": {
      "text/plain": [
       "'secure_customer_sig=; path=/; expires=Fri, 10 Jun 2022 02:06:49 GMT; secure; HttpOnly, cart_currency=USD; path=/; expires=Thu, 24 Jun 2021 02:06:49 GMT, _orig_referrer=; Expires=Thu, 24-Jun-21 02:06:49 GMT; Domain=ine.com; Path=/; HttpOnly; SameSite=Lax, _landing_page=%2F; Expires=Thu, 24-Jun-21 02:06:49 GMT; Domain=ine.com; Path=/; HttpOnly; SameSite=Lax, _y=b04ad885-ff54-4ba1-8500-ee246573f67a; Expires=Fri, 10-Jun-22 02:06:49 GMT; Domain=ine.com; Path=/; SameSite=Lax, _s=5b0a4414-1d56-4082-8a55-b19940b23a2e; Expires=Thu, 10-Jun-21 02:36:49 GMT; Domain=ine.com; Path=/; SameSite=Lax, _shopify_y=b04ad885-ff54-4ba1-8500-ee246573f67a; Expires=Fri, 10-Jun-22 02:06:49 GMT; Domain=ine.com; Path=/; SameSite=Lax, _shopify_s=5b0a4414-1d56-4082-8a55-b19940b23a2e; Expires=Thu, 10-Jun-21 02:36:49 GMT; Domain=ine.com; Path=/; SameSite=Lax'"
      ]
     },
     "execution_count": 22,
     "metadata": {},
     "output_type": "execute_result"
    }
   ],
   "source": [
    "respC.headers['Set-Cookie']"
   ]
  },
  {
   "cell_type": "markdown",
   "id": "787da34c-0394-4961-9c75-57549a9e196e",
   "metadata": {},
   "source": [
    "This format is a bit cumbersome to work with manually, since commas can both separate cookies and occur within some date formats for the `expires` modifer.  Happily, `requests` does this for you, as we see above."
   ]
  },
  {
   "cell_type": "code",
   "execution_count": 23,
   "id": "19187f47-59da-43f2-88bf-6e9e8d74c9cb",
   "metadata": {},
   "outputs": [
    {
     "name": "stdout",
     "output_type": "stream",
     "text": [
      "_landing_page: %2F\n",
      "  expires: 1624500409, expired False\n",
      "_orig_referrer: \n",
      "  expires: 1624500409, expired False\n",
      "_s: 5b0a4414-1d56-4082-8a55-b19940b23a2e\n",
      "  expires: 1623292609, expired False\n",
      "_shopify_s: 5b0a4414-1d56-4082-8a55-b19940b23a2e\n",
      "  expires: 1623292609, expired False\n",
      "_shopify_y: b04ad885-ff54-4ba1-8500-ee246573f67a\n",
      "  expires: 1654826809, expired False\n",
      "_y: b04ad885-ff54-4ba1-8500-ee246573f67a\n",
      "  expires: 1654826809, expired False\n",
      "cart_currency: USD\n",
      "  expires: 1624500409, expired False\n",
      "secure_customer_sig: \n",
      "  expires: 1654826809, expired False\n"
     ]
    }
   ],
   "source": [
    "for cookie in respC.cookies:\n",
    "    print(f'{cookie.name}: {cookie.value}')\n",
    "    print(f'  expires: {cookie.expires}, expired {cookie.is_expired()}')"
   ]
  },
  {
   "cell_type": "markdown",
   "id": "84b85b5b-0a88-4f25-a2e4-cb1bd0763147",
   "metadata": {},
   "source": [
    "Let's say we'd like to change the currency used to BTC (not actually supported by INE).  Unfortunately, just indexing to the relevant key gives us the string rather than the richer data structure carrying modifiers.  For quick access to values, this is better, but it makes modification a litle bit more roundabout."
   ]
  },
  {
   "cell_type": "code",
   "execution_count": 24,
   "id": "11466289-0969-40a1-a153-11a4243f2d46",
   "metadata": {},
   "outputs": [
    {
     "data": {
      "text/plain": [
       "'USD'"
      ]
     },
     "execution_count": 24,
     "metadata": {},
     "output_type": "execute_result"
    }
   ],
   "source": [
    "respC.cookies['cart_currency']"
   ]
  },
  {
   "cell_type": "code",
   "execution_count": 25,
   "id": "d140ba7a-7e2e-400e-bc9d-4fb93507bdb2",
   "metadata": {},
   "outputs": [
    {
     "data": {
      "text/plain": [
       "Cookie(version=0, name='cart_currency', value='USD', port=None, port_specified=False, domain='ine.com', domain_specified=False, domain_initial_dot=False, path='/', path_specified=True, secure=False, expires=1624500409, discard=False, comment=None, comment_url=None, rest={}, rfc2109=False)"
      ]
     },
     "execution_count": 25,
     "metadata": {},
     "output_type": "execute_result"
    }
   ],
   "source": [
    "currency = [c for c in respC.cookies if c.name == 'cart_currency'][0]\n",
    "currency"
   ]
  },
  {
   "cell_type": "code",
   "execution_count": 26,
   "id": "ad952da4-6ed0-4372-a39f-89bfb51d3c2a",
   "metadata": {},
   "outputs": [
    {
     "data": {
      "text/plain": [
       "Cookie(version=0, name='cart_currency', value='BTC', port=None, port_specified=False, domain='ine.com', domain_specified=False, domain_initial_dot=False, path='/', path_specified=True, secure=False, expires=1624500409, discard=False, comment=None, comment_url=None, rest={}, rfc2109=False)"
      ]
     },
     "execution_count": 26,
     "metadata": {},
     "output_type": "execute_result"
    }
   ],
   "source": [
    "currency.value = 'BTC'\n",
    "currency"
   ]
  },
  {
   "cell_type": "markdown",
   "id": "fac2110e-eebd-46c8-bc55-acdc8bc00054",
   "metadata": {},
   "source": [
    "Now we might make a new request to INE—perhaps to a different page within the site—sending back the (partially modified) cookies we got from the server."
   ]
  },
  {
   "cell_type": "code",
   "execution_count": 27,
   "id": "882313e0-b86c-4612-86ed-b61ece8bea12",
   "metadata": {},
   "outputs": [
    {
     "name": "stdout",
     "output_type": "stream",
     "text": [
      "<Response [200]> 11\n",
      "Date: Thu, 10 Jun 2021 02:16:41 GMT\n",
      "Content-Type: text/html; charset=utf-8\n",
      "Transfer-Encoding: chunked\n",
      "Connection: keep-alive\n",
      "X-Sorting-Hat-PodId: 59\n",
      "X-Sorting-Hat-ShopId: 17217507\n",
      "X-Storefront-Renderer-Rendered: 1\n",
      "Set-Cookie: secure_customer_sig=; path=/; expires=Fri, 10 Jun 2022 02:16:41 GMT; secure; HttpOnly, cart_currency=USD; path=/; expires=Thu, 24 Jun 2021 02:16:41 GMT, _y=b04ad885-ff54-4ba1-8500-ee246573f67a; Expires=Fri, 10-Jun-22 02:16:41 GMT; Domain=ine.com; Path=/; SameSite=Lax, _s=5b0a4414-1d56-4082-8a55-b19940b23a2e; Expires=Thu, 10-Jun-21 02:46:41 GMT; Domain=ine.com; Path=/; SameSite=Lax, _shopify_y=b04ad885-ff54-4ba1-8500-ee246573f67a; Expires=Fri, 10-Jun-22 02:16:41 GMT; Domain=ine.com; Path=/; SameSite=Lax, _shopify_s=5b0a4414-1d56-4082-8a55-b19940b23a2e; Expires=Thu, 10-Jun-21 02:46:41 GMT; Domain=ine.com; Path=/; SameSite=Lax\n",
      "Link: <https://cdn.shopify.com>; rel=preconnect, <https://cdn.shopify.com>; rel=preconnect; crossorigin\n",
      "ETag: cacheable:37669a3d8cbe7794716d75ab2d696114\n",
      "X-Alternate-Cache-Key: cacheable:ce8cf3b373c42ed4ecead2706c12fa2d\n",
      "Content-Encoding: gzip\n",
      "X-Cache: miss\n",
      "Content-Security-Policy: block-all-mixed-content; frame-ancestors *; upgrade-insecure-requests;\n",
      "Access-Control-Allow-Origin: *\n",
      "Strict-Transport-Security: max-age=7889238\n",
      "X-ShopId: 17217507\n",
      "X-ShardId: 59\n",
      "Vary: Accept\n",
      "Content-Language: en\n",
      "X-Shopify-Stage: production\n",
      "X-Dc: gcp-us-central1,gcp-us-central1,gcp-us-central1\n",
      "X-Request-ID: 3578a822-e376-40af-a560-159a23f87cab\n",
      "X-Download-Options: noopen\n",
      "X-Content-Type-Options: nosniff\n",
      "X-Permitted-Cross-Domain-Policies: none\n",
      "X-XSS-Protection: 1; mode=block\n",
      "NEL: {\"report_to\":\"network-errors\",\"max_age\":2592000,\"success_fraction\":0.0001}\n",
      "Report-To: {\"group\":\"network-errors\",\"max_age\":2592000,\"endpoints\":[{\"url\":\"https://monorail-edge.shopifysvc.com/v1/reports/nel/20190325/shopify\"}]}\n",
      "CF-Cache-Status: DYNAMIC\n",
      "cf-request-id: 0a954e2c7700006134178fa000000001\n",
      "Expect-CT: max-age=604800, report-uri=\"https://report-uri.cloudflare.com/cdn-cgi/beacon/expect-ct\"\n",
      "Server: cloudflare\n",
      "CF-RAY: 65cf195a5fa26134-ORD\n",
      "alt-svc: h3-27=\":443\"; ma=86400, h3-28=\":443\"; ma=86400, h3-29=\":443\"; ma=86400, h3=\":443\"; ma=86400\n"
     ]
    }
   ],
   "source": [
    "respD = requests.get('https://ine.com/pages/plans', cookies=respC.cookies)\n",
    "print(respD, respD.raw.version)  # Funny HTTP/1.1 representation\n",
    "for k, v in respD.headers.items():\n",
    "    print(f'{k}: {v}')"
   ]
  },
  {
   "cell_type": "markdown",
   "id": "e33efbc3-630f-480f-9c0d-5387c44ce8ce",
   "metadata": {},
   "source": [
    "Often when a client interacts with a server repeatedly, the cookies are carried around in each request.  It is certainly feasible to pass a `cookie=` parameter to each new request, but a concept called *sessions* make this somewhat easier and more automatic."
   ]
  },
  {
   "cell_type": "code",
   "execution_count": 28,
   "id": "120e06a0-3d51-4339-9362-3a1f9b2bf955",
   "metadata": {},
   "outputs": [
    {
     "data": {
      "text/plain": [
       "<Response [200]>"
      ]
     },
     "execution_count": 28,
     "metadata": {},
     "output_type": "execute_result"
    }
   ],
   "source": [
    "session = requests.Session()\n",
    "# Use the session rather than the requests module\n",
    "respE = session.get('https://ine.com/')\n",
    "respE"
   ]
  },
  {
   "cell_type": "markdown",
   "id": "659e1bfe-cbbb-4aa7-9aed-b50a1b8aa0cb",
   "metadata": {},
   "source": [
    "The session maintains cookies across requests. For example:"
   ]
  },
  {
   "cell_type": "code",
   "execution_count": 29,
   "id": "bbf7df8d-53e6-495d-8c7e-eca2c3e923e0",
   "metadata": {},
   "outputs": [
    {
     "data": {
      "text/plain": [
       "'2b8ba258-8dcd-409c-a8e0-6d16a14d5bd1'"
      ]
     },
     "execution_count": 29,
     "metadata": {},
     "output_type": "execute_result"
    }
   ],
   "source": [
    "session.cookies['_s']"
   ]
  },
  {
   "cell_type": "code",
   "execution_count": 30,
   "id": "bf47d9e0-581e-4f2c-a1cf-0b8fffeaef6e",
   "metadata": {},
   "outputs": [
    {
     "data": {
      "text/plain": [
       "<Response [200]>"
      ]
     },
     "execution_count": 30,
     "metadata": {},
     "output_type": "execute_result"
    }
   ],
   "source": [
    "respF = session.get('https://ine.com/pages/plans')\n",
    "respF"
   ]
  },
  {
   "cell_type": "code",
   "execution_count": 31,
   "id": "49ab560d-58de-4e18-89e8-7f9ffd8b3741",
   "metadata": {},
   "outputs": [
    {
     "data": {
      "text/plain": [
       "'2b8ba258-8dcd-409c-a8e0-6d16a14d5bd1'"
      ]
     },
     "execution_count": 31,
     "metadata": {},
     "output_type": "execute_result"
    }
   ],
   "source": [
    "respF.cookies['_s']"
   ]
  },
  {
   "cell_type": "markdown",
   "id": "1af44614-ae4b-4c8e-9802-b295ad1c9b04",
   "metadata": {},
   "source": [
    "### Forms\n",
    "\n",
    "A common way of interacting with web pages is by filling in forms.  This can be done within a web browser, of course, but it can also be done programmatically in `requests`.  \n",
    "\n",
    "Notice that in `requests` using an alternate HTTP method is reflected in the function name rather than as an argument (`requests.post()` is also available, for example)."
   ]
  },
  {
   "cell_type": "code",
   "execution_count": 32,
   "id": "62dd8cbb-156b-42d5-9a7b-c8589cea5947",
   "metadata": {},
   "outputs": [
    {
     "data": {
      "text/html": [
       "\n",
       "        <html>\n",
       "          <head>\n",
       "            <title>INE Student Summary</title>\n",
       "          </head>\n",
       "          <body>\n",
       "            <h3>HTTP using Python</h3>\n",
       "            <dl>\n",
       "              <dt>Name</dt><dd>David</dd>\n",
       "              <dt>Favorite Color</dt><dd>Stygian Blue</dd>\n",
       "              <dt>Birthday</dt><dd>September 12</dd>\n",
       "            </dl>\n",
       "          </body>\n",
       "        </html>\n",
       "    "
      ],
      "text/plain": [
       "<IPython.core.display.HTML object>"
      ]
     },
     "execution_count": 32,
     "metadata": {},
     "output_type": "execute_result"
    }
   ],
   "source": [
    "from IPython.core.display import HTML\n",
    "\n",
    "info = {'name': 'David', 'color': 'Stygian Blue', 'bday': 'September 12'}\n",
    "resp = requests.put('http://popbox.kdm.local:2502/form', data=info)\n",
    "HTML(resp.text)"
   ]
  },
  {
   "cell_type": "code",
   "execution_count": 33,
   "id": "2ffdbb02-57d8-4c40-9dd7-21c9c6788635",
   "metadata": {
    "tags": []
   },
   "outputs": [
    {
     "data": {
      "text/html": [
       "\n",
       "        <html>\n",
       "          <head>\n",
       "            <title>INE Student Summary</title>\n",
       "          </head>\n",
       "          <body>\n",
       "            <h3>HTTP using Python</h3>\n",
       "            <dl>\n",
       "              <dt>Name</dt><dd>Marjorie</dd>\n",
       "              <dt>Favorite Color</dt><dd>Blood Red</dd>\n",
       "              <dt>Birthday</dt><dd>June 31</dd>\n",
       "            </dl>\n",
       "          </body>\n",
       "        </html>\n",
       "    "
      ],
      "text/plain": [
       "<IPython.core.display.HTML object>"
      ]
     },
     "execution_count": 33,
     "metadata": {},
     "output_type": "execute_result"
    }
   ],
   "source": [
    "info = {'name': 'Marjorie', 'color': 'Blood Red', 'bday': 'June 31'}\n",
    "resp = requests.put('http://popbox.kdm.local:2502/form', data=info)\n",
    "HTML(resp.text)"
   ]
  },
  {
   "cell_type": "markdown",
   "id": "7b0afc73-d120-4ea2-943b-cde3853876a4",
   "metadata": {},
   "source": [
    "## Streaming"
   ]
  },
  {
   "cell_type": "markdown",
   "id": "db215507-1808-4884-8223-1e6c54ecb6e6",
   "metadata": {},
   "source": [
    "In an earlier lesson, we streamed slowly arriving HTTP data using the raw telnet interface.  Using `request` makes this easier; the essential element is just to indicate `stream=True` in the request.\n",
    "\n",
    "The example below also presents a good manner of arranging `requests` code, using a context manager to handle the life of the connection. This could be used in all the other examples; the current example would work fine in the prior `resp = requests.get(...)` style also."
   ]
  },
  {
   "cell_type": "code",
   "execution_count": 34,
   "id": "7cbd7318-bae9-45a6-b8f1-087a7a58f2f6",
   "metadata": {},
   "outputs": [
    {
     "name": "stdout",
     "output_type": "stream",
     "text": [
      "00.1s: God dag\n",
      "02.0s: Ahlan\n",
      "05.0s: Witaj\n",
      "06.6s: Hej\n",
      "08.3s: Halløj\n",
      "10.1s: Hej\n",
      "12.6s: Hujambo\n",
      "13.9s: Yā\n",
      "16.8s: Hi\n",
      "17.2s: Oi\n"
     ]
    }
   ],
   "source": [
    "from time import time\n",
    "\n",
    "start = time()\n",
    "with requests.get('http://popbox.kdm.local:2502/stream', stream=True) as respS:\n",
    "    for line in respS.iter_lines(chunk_size=1):\n",
    "        if line:\n",
    "            print(f'{time()-start:04.1f}s: {line.decode()}')"
   ]
  },
  {
   "cell_type": "markdown",
   "id": "56d526ea-ffbf-48d6-ace1-7efac4c71dc4",
   "metadata": {},
   "source": [
    "## Authentication\n",
    "\n",
    "The `requests` libary can handle authentication using Basic Authentication, Digest Authentication, OAuth 1, and OAuth 2 (OpenID).  The architecture is designed to allow additional methods, and third-party plugins exist for some, including Kerberos and NTLM.  Let's demonstrate one login.  First we attempt to get a protected resource without authentication."
   ]
  },
  {
   "cell_type": "code",
   "execution_count": 35,
   "id": "e130df99-b112-4123-a58b-a22b1330d626",
   "metadata": {},
   "outputs": [
    {
     "data": {
      "text/plain": [
       "<Response [401]>"
      ]
     },
     "execution_count": 35,
     "metadata": {},
     "output_type": "execute_result"
    }
   ],
   "source": [
    "resp = requests.get('http://popbox.kdm.local:2502/secure')\n",
    "resp"
   ]
  },
  {
   "cell_type": "markdown",
   "id": "493ea3ee-2fb6-4258-b328-f955a351ba76",
   "metadata": {},
   "source": [
    "We try again, but with incorrect credentials."
   ]
  },
  {
   "cell_type": "code",
   "execution_count": 36,
   "id": "89a0e632-86a6-48c8-9506-5a4b311f0de2",
   "metadata": {},
   "outputs": [
    {
     "data": {
      "text/plain": [
       "<Response [401]>"
      ]
     },
     "execution_count": 36,
     "metadata": {},
     "output_type": "execute_result"
    }
   ],
   "source": [
    "from requests.auth import HTTPBasicAuth\n",
    "resp = requests.get('http://popbox.kdm.local:2502/secure', \n",
    "                    auth=HTTPBasicAuth('David', 'badpass'))\n",
    "resp"
   ]
  },
  {
   "cell_type": "code",
   "execution_count": 37,
   "id": "ab213f0d-1612-4cd1-b0e0-44072037aa43",
   "metadata": {},
   "outputs": [
    {
     "data": {
      "text/plain": [
       "(<Response [200]>, 'Hello, David!')"
      ]
     },
     "execution_count": 37,
     "metadata": {},
     "output_type": "execute_result"
    }
   ],
   "source": [
    "resp = requests.get('http://popbox.kdm.local:2502/secure', \n",
    "                    auth=HTTPBasicAuth('David', '4bYaDZCFsTY4'))\n",
    "resp, resp.text"
   ]
  },
  {
   "cell_type": "markdown",
   "id": "d05ed5e1-685a-4e74-a2dd-6175afbadee0",
   "metadata": {},
   "source": [
    "## Wrapping up\n",
    "\n",
    "This section first looked at some lower-level Python standard library modules for client-side operations with HTTP. Then we turned to the third-party `requests` module which has rich and friendly capabilities.  Given the option, `requests` will be your *go to* tool for client-side HTTP.  There may be situations where you will need only to use the standard library.\n",
    "\n",
    "As was mentioned in earlier lessons, some details of programmatic HTTP services are addressed in in more depth in the course *Secure RESTful APIs using Python*. For example, we have used several `Content-Type` headers, and received several different status codes, but those are discussed at greater length there.\n",
    "\n",
    "In the last section of this course, we look at writing servers, including those that clients have communicated with in the last several lessons."
   ]
  }
 ],
 "metadata": {
  "kernelspec": {
   "display_name": "Python 3",
   "language": "python",
   "name": "python3"
  },
  "language_info": {
   "codemirror_mode": {
    "name": "ipython",
    "version": 3
   },
   "file_extension": ".py",
   "mimetype": "text/x-python",
   "name": "python",
   "nbconvert_exporter": "python",
   "pygments_lexer": "ipython3",
   "version": "3.8.10"
  }
 },
 "nbformat": 4,
 "nbformat_minor": 5
}
