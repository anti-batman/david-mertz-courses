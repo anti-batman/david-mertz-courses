{
 "cells": [
  {
   "cell_type": "markdown",
   "id": "bf332e2b-02c6-4289-bb7f-86876b30c7cd",
   "metadata": {},
   "source": [
    "# Description"
   ]
  },
  {
   "cell_type": "markdown",
   "id": "f5b0e333-8a7d-41d3-952b-d06d8a2980b1",
   "metadata": {},
   "source": [
    "In this exercise, you will need to construct a function that communicates with a locally running server.  This repeats the earlier exercise where you were asked to construct this interaction using the low level `telnetlib`.  In particular, you will connect to port 2552 on `localhost`, and to the resource path `/stream` that may be queried with a GET method.  \n",
    "\n",
    "As in the example shown in the lesson, data will arrive relatively slowly as lines; but in the server running for this exercise, it will continue infinitely.  You wish to terminate the session from the client side after a greeting longer than 20 characters is encountered. This will take a variable number of lines, since the greetings are randomized. Moreover, your function should itself be a generator function that will basically proxy the server's response.\n",
    "\n",
    "You will write three solutions to this exercise.  All will behave the same, but one should use `http.server`, another `urllib.request`, and the final one `requests`.\n",
    "\n",
    "A correct implementation of the function will behave like this (but with various greeting lines of similar format):\n",
    "\n",
    "```python\n",
    ">>> for data in short_greetings_VERSION():\n",
    "...     print(data)\n",
    "\n",
    "(18, 'Zdravstvuyte Mary!')\n",
    "(13, 'Hej Jennifer!')\n",
    "(18, 'Zdravstvuyte Mary!')\n",
    "(13, 'Namaste Mary!')\n",
    "(16, 'Hujambo Michael!')\n",
    "(13, 'Hoi Jennifer!')\n",
    "(15, 'Nǐ hǎo Michael!')\n",
    "(13, 'Halløj Nancy!')\n",
    "(21, 'Shikamoo Christopher!')\n",
    "```"
   ]
  },
  {
   "cell_type": "markdown",
   "id": "ded57f39-1795-4176-80d8-43df8d630242",
   "metadata": {},
   "source": [
    "# Setup"
   ]
  },
  {
   "cell_type": "code",
   "execution_count": null,
   "id": "74ecbd9d-c5cd-41bc-aa88-c1631e5f6e14",
   "metadata": {},
   "outputs": [],
   "source": [
    "import http\n",
    "import urllib\n",
    "import requests\n",
    "\n",
    "from exercise_server import start\n",
    "start()\n",
    "\n",
    "def short_greetings_http_client():\n",
    "    # http.server.somefunc(...)\n",
    "    path = '/stream'\n",
    "    for _ in range(10):\n",
    "        greeting = \"Hello David!\"\n",
    "        yield (len(greeting), greeting)\n",
    "        \n",
    "def short_greetings_urllib():\n",
    "    # urllib.request.somefunc(...)\n",
    "    path = '/stream'\n",
    "    for _ in range(10):\n",
    "        greeting = \"Hello David!\"\n",
    "        yield (len(greeting), greeting)\n",
    "        \n",
    "def short_greetings_requests():\n",
    "    # requests.somefunc(...)\n",
    "    path = '/stream'\n",
    "    for _ in range(10):\n",
    "        greeting = \"Hello David!\"\n",
    "        yield (len(greeting), greeting)"
   ]
  },
  {
   "cell_type": "markdown",
   "id": "c914376b-e482-4367-847c-e11bd53bd5c7",
   "metadata": {},
   "source": [
    "# Solution"
   ]
  },
  {
   "cell_type": "code",
   "execution_count": null,
   "id": "a1598e66-daed-48f4-bd91-1332de02b1b8",
   "metadata": {},
   "outputs": [],
   "source": [
    "def short_greetings_http_client():\n",
    "    conn = http.client.HTTPConnection('localhost', port=2552)\n",
    "    conn.request(\"GET\", \"/stream\")\n",
    "    resp = conn.getresponse()\n",
    "    greet = b''\n",
    "    while True:\n",
    "        b = resp.read(1)\n",
    "        greet += b\n",
    "        if b == b'!':\n",
    "            _greet = greet.decode()\n",
    "            yield (len(_greet), _greet)\n",
    "            if len(_greet) > 20:\n",
    "                break\n",
    "            greet = b''"
   ]
  },
  {
   "cell_type": "code",
   "execution_count": null,
   "id": "66f57f93-b469-4d59-bbc4-3917cc11a360",
   "metadata": {},
   "outputs": [],
   "source": [
    "def short_greetings_urllib():\n",
    "    url = 'http://localhost:2552/stream'\n",
    "    with urllib.request.urlopen(url) as f:\n",
    "        greet = b''\n",
    "        while True:\n",
    "            b = f.read(1)\n",
    "            greet += b\n",
    "            if b == b'!':\n",
    "                _greet = greet.decode()\n",
    "                yield (len(_greet), _greet)\n",
    "                if len(_greet) > 20:\n",
    "                    break\n",
    "                greet = b''"
   ]
  },
  {
   "cell_type": "code",
   "execution_count": null,
   "id": "e9c970a0-14e7-458d-b742-e36444d9f05b",
   "metadata": {},
   "outputs": [],
   "source": [
    "def short_greetings_requests():\n",
    "    with requests.get('http://localhost:2552/stream', stream=True) as respS:\n",
    "        for line in respS.iter_lines(chunk_size=1, decode_unicode=True, delimiter='!'):\n",
    "            if line:\n",
    "                yield (len(line), line)\n",
    "            if len(line) > 20:\n",
    "                break"
   ]
  },
  {
   "cell_type": "markdown",
   "id": "82c3ea49-e499-415f-935c-8accae5b960e",
   "metadata": {},
   "source": [
    "# Test Cases"
   ]
  },
  {
   "cell_type": "code",
   "execution_count": null,
   "id": "bbf9af91-f4d3-42de-9be5-fbb919b5387c",
   "metadata": {},
   "outputs": [],
   "source": [
    "from itertools import product\n",
    "\n",
    "def test_greeting_http_client():\n",
    "    seen_long = False\n",
    "    for length, phrase in short_greetings_http_client():\n",
    "        assert len(phrase) == length, \"Length of phrase incorrect\"\n",
    "        if length > 20:\n",
    "            seen_long = True\n",
    "        else:\n",
    "            assert length <= 20 or not seen_long, \"Phrase neither short nor final\"\n",
    "    assert seen_long, \"No long greeting was encountered!\"\n",
    "    \n",
    "test_greeting_http_client()"
   ]
  },
  {
   "cell_type": "code",
   "execution_count": null,
   "id": "3b7167b6-6382-4155-bc93-f9dd469226ee",
   "metadata": {},
   "outputs": [],
   "source": [
    "def test_greeting_urllib():\n",
    "    seen_long = False\n",
    "    for length, phrase in short_greetings_urllib():\n",
    "        assert len(phrase) == length, \"Length of phrase incorrect\"\n",
    "        if length > 20:\n",
    "            seen_long = True\n",
    "        else:\n",
    "            assert length <= 20 or not seen_long, \"Phrase neither short nor final\"\n",
    "    assert seen_long, \"No long greeting was encountered!\"\n",
    "    \n",
    "test_greeting_urllib()"
   ]
  },
  {
   "cell_type": "code",
   "execution_count": null,
   "id": "b89ac7bc-57f8-40c2-ac1b-f7e116978c21",
   "metadata": {},
   "outputs": [],
   "source": [
    "def test_greeting_requests():\n",
    "    seen_long = False\n",
    "    for length, phrase in short_greetings_requests():\n",
    "        assert len(phrase) == length, \"Length of phrase incorrect\"\n",
    "        if length > 20:\n",
    "            seen_long = True\n",
    "        else:\n",
    "            assert length <= 20 or not seen_long, \"Phrase neither short nor final\"\n",
    "    assert seen_long, \"No long greeting was encountered!\"\n",
    "    \n",
    "test_greeting_requests()"
   ]
  },
  {
   "cell_type": "code",
   "execution_count": null,
   "id": "44c52642-2c45-4899-a18a-d9031f4ea9be",
   "metadata": {},
   "outputs": [],
   "source": []
  }
 ],
 "metadata": {
  "kernelspec": {
   "display_name": "Python 3",
   "language": "python",
   "name": "python3"
  },
  "language_info": {
   "codemirror_mode": {
    "name": "ipython",
    "version": 3
   },
   "file_extension": ".py",
   "mimetype": "text/x-python",
   "name": "python",
   "nbconvert_exporter": "python",
   "pygments_lexer": "ipython3",
   "version": "3.8.10"
  }
 },
 "nbformat": 4,
 "nbformat_minor": 5
}
