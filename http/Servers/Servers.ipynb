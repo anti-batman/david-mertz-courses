{
 "cells": [
  {
   "cell_type": "markdown",
   "id": "aacf7d45-9850-4421-bfd9-a8c248ec12d5",
   "metadata": {},
   "source": [
    "<div style=\"position: relative;\">\n",
    "<img src=\"https://user-images.githubusercontent.com/7065401/98728503-5ab82f80-2378-11eb-9c79-adeb308fc647.png\"></img>\n",
    "\n",
    "<h1 style=\"color: white; position: absolute; top:27%; left:10%;\">\n",
    "    Introduction to HTTP using Python\n",
    "</h1>\n",
    "\n",
    "<h3 style=\"color: #ef7d22; font-weight: normal; position: absolute; top:56%; left:10%;\">\n",
    "    David Mertz, Ph.D.\n",
    "</h3>\n",
    "\n",
    "<h3 style=\"color: #ef7d22; font-weight: normal; position: absolute; top:63%; left:10%;\">\n",
    "    Data Scientist\n",
    "</h3>\n",
    "</div>"
   ]
  },
  {
   "cell_type": "markdown",
   "id": "70b49728-3426-42c7-8a16-a3ad1070f6ac",
   "metadata": {},
   "source": [
    "# HTTP Servers\n",
    "\n",
    "This section will somewhat parallel the prior one.  We look at the very simple server in the Python standard library, then move up to the widely use third-party library Flask. \n",
    "\n",
    "The nomenclature of Python web servers can be somewhat confusing.  Actual **servers** focus on the underlying sockets, i.e. servicing connections efficiently and in a scalable way.  However, the actual processing of HTTP headers and bodies, both in receiving requests and generating responses, is usually passed to an HTTP **framework**.  These different bits of code usually communicate over an interface called WSGI (Web Services Gateway Interface).\n",
    "\n",
    "The nomenclature is fuzzy, however.  \"Servers\" such as Gunicorn, Nginx, Tornado, Twisted, or indeed the well-established Apache, all themselves include the ability to serve basic pages with no framework, or in a sense include a basic framework.  \"Frameworks\" such as Flask, Django, web2py, or TurboGears (or *many others*) also include a basic development server in their package.\n",
    "\n",
    "At opposite ends of the spectrum of frameworks are Django and Flask.  The others fall somewhere in the middle. Django includes everything you can imagine, and many things you cannot, related to *web development*, from a MVC (model-view-controller) architecture, to its own database object-relational mapper (ORM), to an elaborate templating system, to an integrated administration interface, to an embedded framework of metaclasses, to many other elements.\n",
    "\n",
    "Flask, in contrast, does as little as possible, in as simple a way as possible.  If you wish to do those many other web development tasks, it does not get in the way of you using other tools for each task, but it does not prescribe particular choices, nor include them in the library itself.\n",
    "\n",
    "A week long bootcamp might scratch the surface on *some* of the corners of Django; an hour of video presentation in this course (perhaps with a couple more hours in the related course, *Secure RESTful APIs using Python*) will cover most of what Flask does."
   ]
  },
  {
   "cell_type": "markdown",
   "id": "ffe09ab9-82e5-48fc-8c91-fbf622f02dad",
   "metadata": {},
   "source": [
    "## The Standard Library\n",
    "\n",
    "Python's standard library contains a simple HTTP server called `http.server`.  If all you wish to do is match the original intention of the HTTP protocol—i.e. make local resources navigable and available remotely—this server does that.  For illustration, we use the Jupyter `HTML` and `Image` display objects to render content, but we could look at the raw bodies if we preferred.\n",
    "\n",
    "In order to get this server running, I simply ran the following in the local directory:\n",
    "\n",
    "```bash\n",
    "python -m http.server 2503\n",
    "```\n",
    "\n",
    "This generates and HTML version of the directory listing by the server."
   ]
  },
  {
   "cell_type": "code",
   "execution_count": null,
   "id": "9e72706d-41f7-4231-b44b-013fa6817913",
   "metadata": {},
   "outputs": [],
   "source": [
    "from IPython.core.display import HTML, Image\n",
    "import requests\n",
    "\n",
    "resp = requests.get('http://popbox.kdm.local:2503')\n",
    "print(resp.status_code, resp.reason)\n",
    "for k, v in resp.headers.items():\n",
    "    print(f'{k}: {v}')\n",
    "\n",
    "HTML(resp.text)"
   ]
  },
  {
   "cell_type": "markdown",
   "id": "5307504a-4577-4c40-85d3-0e430c0d77c4",
   "metadata": {},
   "source": [
    "This also provides paths to those files that are present, served over HTTP.  Content type is inferred from extension."
   ]
  },
  {
   "cell_type": "code",
   "execution_count": null,
   "id": "eb559826-00c5-40aa-8046-958644f12c56",
   "metadata": {},
   "outputs": [],
   "source": [
    "resp = requests.get('http://popbox.kdm.local:2503/greetings.txt')\n",
    "print(resp.status_code, resp.reason)\n",
    "for k, v in resp.headers.items():\n",
    "    print(f'{k}: {v}')\n",
    "\n",
    "print()\n",
    "print(resp.content.decode()[:75])"
   ]
  },
  {
   "cell_type": "code",
   "execution_count": null,
   "id": "6040294c-1ca5-4e59-ba9c-41e7888538f3",
   "metadata": {},
   "outputs": [],
   "source": [
    "resp = requests.get('http://popbox.kdm.local:2503/no-such-file.txt')\n",
    "print(resp.status_code, resp.reason)\n",
    "print()\n",
    "print(resp.text)"
   ]
  },
  {
   "cell_type": "markdown",
   "id": "39ed568f-ea3b-44c6-947b-b51c0527d6af",
   "metadata": {},
   "source": [
    "The Jupyter widget properly renders pages, including referenced resources."
   ]
  },
  {
   "cell_type": "code",
   "execution_count": null,
   "id": "2a9bce49-f528-402c-9611-df6434f5e645",
   "metadata": {},
   "outputs": [],
   "source": [
    "resp = requests.get('http://popbox.kdm.local:2503/hello.html')\n",
    "print(resp.status_code, resp.reason)\n",
    "for k, v in resp.headers.items():\n",
    "    print(f'{k}: {v}')\n",
    "\n",
    "HTML(resp.text)"
   ]
  },
  {
   "cell_type": "code",
   "execution_count": null,
   "id": "1a300843-fa9e-4949-b110-2a3821cbcc58",
   "metadata": {},
   "outputs": [],
   "source": [
    "print(resp.text)"
   ]
  },
  {
   "cell_type": "markdown",
   "id": "1a878b0e-3e95-49e9-8d3a-55dd5ce3a7b9",
   "metadata": {},
   "source": [
    "---"
   ]
  },
  {
   "cell_type": "code",
   "execution_count": null,
   "id": "caf43e52-db15-4c5a-9348-cb14963374a1",
   "metadata": {},
   "outputs": [],
   "source": [
    "resp = requests.get('http://popbox.kdm.local:2503/psf-logo.png')\n",
    "print(resp.status_code, resp.reason)\n",
    "for k, v in resp.headers.items():\n",
    "    print(f'{k}: {v}')\n",
    "print()\n",
    "\n",
    "Image(resp.content)"
   ]
  },
  {
   "cell_type": "markdown",
   "id": "d3fcd903-7900-45fc-bb63-cba349237736",
   "metadata": {},
   "source": [
    "---\n",
    "\n",
    "Of course, quite likely you might like a server to do something beyond sharing files on disk.  This is possible in `http.server` by defining a class with methods `.do_GET()`, `do_POST()` and so on.  Let's first look at an interaction with a customized server:"
   ]
  },
  {
   "cell_type": "code",
   "execution_count": null,
   "id": "84ea4ee0-5fbf-4088-a0d8-80dad45531f5",
   "metadata": {},
   "outputs": [],
   "source": [
    "resp = requests.get('http://popbox.kdm.local:2504/some-file.txt')\n",
    "print(resp.status_code, resp.reason)\n",
    "for k, v in resp.headers.items():\n",
    "    print(f'{k}: {v}')\n",
    "\n",
    "HTML(resp.text)"
   ]
  },
  {
   "cell_type": "markdown",
   "id": "105328c8-d70d-425c-b66d-4b0e76120d9a",
   "metadata": {},
   "source": [
    "---\n",
    "\n",
    "This server simply indicates the path requested by the client.  It is free to do what it likes with that information, or indeed with any of the header information provided.  The subclass `SimpleHTTPRequestHandler` was used when we simply ran the module itsef. It decided to examine those HTTP paths, and return 404 if they do not correspond local file, but otherwise return the file content with a header indicating an appropriate `Content-Type`.\n",
    "\n",
    "A server we write ourselves may not take paths as corresponding to files, but it would be free to check the filesystem if that is relevant.  Alternately, it might perform calculations, query databases, or take other actions appropriate to the path and/or query parameters provided in the request."
   ]
  },
  {
   "cell_type": "markdown",
   "id": "6d1a5011-9eca-4430-9359-7f3cf1900692",
   "metadata": {},
   "source": [
    "The code that makes up this server is not complex, and it illustrates how you might customize it.  However, the style of coding is distinctly \"old fashioned\", as will become more evident in comparison to `requests`.\n",
    "\n",
    "```python\n",
    "#!/usr/bin/env python\n",
    "from http.server import BaseHTTPRequestHandler, HTTPServer\n",
    "from time import asctime\n",
    "\n",
    "class Server(BaseHTTPRequestHandler):\n",
    "    def do_GET(self):\n",
    "        self.send_response(200)\n",
    "        self.send_header('X-INE-Course', 'HTTP using Python')\n",
    "        self.end_headers()\n",
    "        self.wfile.write(f\"<h3>Request details:</h3>\\n\".encode())\n",
    "        self.wfile.write(f\"<p>You accessed path: {self.path}</p>\\n\".encode())\n",
    "        self.wfile.write(b\"<blockquote><pre>\\n\")\n",
    "        self.wfile.write(f\"{self.requestline}\\n{self.headers}\".encode())\n",
    "        self.wfile.write(b\"</pre></blockquote>\\n\")\n",
    "\n",
    "host, port = \"0.0.0.0\", 2504\n",
    "server = HTTPServer((host, port), Server)\n",
    "\n",
    "print(f\"{asctime()} Server Start: ({host}:{port})\")\n",
    "try:\n",
    "    server.serve_forever()\n",
    "except KeyboardInterrupt:\n",
    "    server.server_close()\n",
    "print(f\"{asctime()} Server Stop\")\n",
    "```"
   ]
  },
  {
   "cell_type": "markdown",
   "id": "8c4430d0-33e5-49d8-8c7d-d6773521aaa1",
   "metadata": {},
   "source": [
    "When run at the command line, we can cancel the server with Ctrl-C.  For example:\n",
    "\n",
    "```\n",
    "% ./server4.py\n",
    "Thu Jun 10 21:21:01 2021 Server Start: (0.0.0.0:2504)\n",
    "192.168.50.11 - - [10/Jun/2021 21:21:03] \"GET / HTTP/1.1\" 200 -\n",
    "192.168.50.11 - - [10/Jun/2021 21:21:31] \"GET /some-file.txt HTTP/1.1\" 200 -\n",
    "^CThu Jun 10 21:23:03 2021 Server Stop\n",
    "```"
   ]
  },
  {
   "cell_type": "markdown",
   "id": "0092853e-20d0-42a8-95a4-dea04e6626a0",
   "metadata": {},
   "source": [
    "## Modern HTTP with Flask\n",
    "\n",
    "Flask provides a flexible, robust, and modern API for writing HTTP servers. It cooperates easily with high-performance web servers, when desired.  The examples in this course will use the \"Werkzeug\" development server that is included in Flask. However, the exact same framework code can be used for different underlying servers.\n",
    "\n",
    "For example, I might launch one of the servers provided in the repository for this course with, e.g.:\n",
    "\n",
    "```bash\n",
    "$ FLASK_APP=myserver.py flask run\n",
    "```\n",
    "\n",
    "In practice, I include a main block in the files to launch them as executable files, as you will see.  But if I configured a production system, I might instead launch the very same server using, e.g.:\n",
    "\n",
    "```bash\n",
    "$ gunicorn -w 4 -b 127.0.0.1:2510 myserver:app\n",
    "$ uwsgi --http 127.0.0.1:2511 --module myserver:app\n",
    "$ twistd -n web --port tcp:2512 --wsgi myserver.app\n",
    "```\n",
    "\n",
    "The command-line switches are slightly different, but those lines would launch the same web application, `myserver.py` on ports 2501, 2511, 2512, served by different servers.  Other servers are similar as well; some may require a half dozen, or fewer, lines to launch the identical Flask application rather than only a command line.\n",
    "\n"
   ]
  },
  {
   "cell_type": "markdown",
   "id": "0b1fe7cc-1115-4cd4-8145-9030ffe95e86",
   "metadata": {},
   "source": [
    "## Example servers\n",
    "\n",
    "Let's take a look at some servers implemented for this course first; then we will look at a few other capabilities.  In the first few lessons, we used `server1.py` to provide a `/greeting` path.  That was done with the following:\n",
    "\n",
    "```python\n",
    "from flask import Flask, request, make_response\n",
    "app = Flask(__name__)\n",
    "\n",
    "@app.route('/greeting')\n",
    "def greeting():\n",
    "    lang = request.args.get('lang', 'en')\n",
    "    greet = {'en': 'Hello', 'zh': 'Nǐn hǎo', 'fr': 'Bonjour'}[lang]\n",
    "    who = request.headers.get('X-INE-Student', 'Student')\n",
    "    page = f\"\"\"\n",
    "      <html>\n",
    "        <head>\n",
    "          <title>Test Page</title>\n",
    "        </head>\n",
    "        <body>\n",
    "          <p>{greet} {who}!</p>\n",
    "        </body>\n",
    "      </html>\n",
    "    \"\"\"\n",
    "    resp = make_response(page)\n",
    "    resp.mimetype = 'text/html'\n",
    "    resp.headers['X-INE-Course'] = \"HTTP using Python\"\n",
    "    return resp\n",
    "```"
   ]
  },
  {
   "cell_type": "markdown",
   "id": "8f4e8402-7041-4b4a-b478-af6118c0e3b5",
   "metadata": {},
   "source": [
    "This typical of a simple server.  A few objects are imported from the `flask` package itself.  We utilize the `request` object to find features of the request made, such as its query parameters or the header fields.  Based on those, we make some decisions about what to put in the response; in the body, in this case and most.  Both `.args` and `.headers` are dictionary like objects that support indexing by key and the `.get()` method.\n",
    "\n",
    "The function `make_response()` is used to create a response object other than a plain Python string.  This is needed when we want to modify headers.  The `.mimetype` attribute controls the first component of the `Content-Type` header.  Using `.headers` directly lets us insert a custom header."
   ]
  },
  {
   "cell_type": "markdown",
   "id": "e8985360-bc29-4429-9c73-39a770d2685a",
   "metadata": {},
   "source": [
    "## Simplest possible\n",
    "\n",
    "In an absolutely minimal case, the only object you need is `Flask` which is instantiated to create the `app` object that is used by various servers, including by the development server.  An even simpler web application could be:\n",
    "\n",
    "```python\n",
    "from flask import Flask\n",
    "app = Flask(__name__)\n",
    "\n",
    "@app.route('/hello')\n",
    "def hello():\n",
    "    return \"Hello\"\n",
    "```\n",
    "\n",
    "We can use this, but it's slightly imperfect, but usable keeping Postel's Law in mind."
   ]
  },
  {
   "cell_type": "code",
   "execution_count": 2,
   "id": "3eaf6e04-ebe2-4de8-9a35-5df6905199b0",
   "metadata": {},
   "outputs": [
    {
     "name": "stdout",
     "output_type": "stream",
     "text": [
      "200 OK\n",
      "Content-Type: text/html; charset=utf-8\n",
      "Content-Length: 5\n",
      "Server: Werkzeug/2.0.0 Python/3.8.10\n",
      "Date: Sun, 13 Jun 2021 01:04:03 GMT\n",
      "\n",
      "Hello\n"
     ]
    }
   ],
   "source": [
    "import requests\n",
    "resp = requests.get('http://popbox.kdm.local:2505/hello')\n",
    "print(resp.status_code, resp.reason)\n",
    "for k, v in resp.headers.items():\n",
    "    print(f'{k}: {v}')\n",
    "\n",
    "print()\n",
    "print(resp.text)"
   ]
  },
  {
   "cell_type": "markdown",
   "id": "73362257-d51e-43f0-b089-3864a30aed63",
   "metadata": {},
   "source": [
    "The only real problem here is that the response claims to have content type `text/html` but it's actually `text/plain`."
   ]
  },
  {
   "cell_type": "markdown",
   "id": "af21662c-96a6-431a-8725-dfcbe9f24874",
   "metadata": {},
   "source": [
    "### Streaming\n",
    "\n",
    "Within both `server1.py` and `server2.py` are slightly different implementations of the `/stream` path.  Flask is able to use a generator to incrementally return response data as it becomes available.  Let's look at one version:\n",
    "\n",
    "```python\n",
    "from random import random, choice\n",
    "from time import sleep\n",
    "from flask import Response\n",
    "\n",
    "greetings = Path('greetings.txt').read_text().splitlines()\n",
    "\n",
    "@app.route('/stream')\n",
    "def streamed_response():\n",
    "    def generate():\n",
    "        for _ in range(10):\n",
    "            greet = choice(greetings)\n",
    "            yield greet\n",
    "            yield '\\n'\n",
    "            sleep(random()*3)\n",
    "    return Response(generate(), mimetype='text/plain')\n",
    "```\n",
    "\n",
    "As well as the structure of a generator constructing a `Response` instance, this example illustrates using a global variable that makes the server stateful.  In this case, we only read from the list of greetings; but in principle it is a mutable object that could be modified during processing requests.  In more robust and production-ready servers, we are likely to store data in a database or similar, but globals may certainly be used for mutable state as well."
   ]
  },
  {
   "cell_type": "markdown",
   "id": "05fae00b-05ce-4d10-a69e-e4b112de0755",
   "metadata": {},
   "source": [
    "### Special responses\n",
    "\n",
    "One special response type we saw was a redirect.  The status code defaults to 302, but for our purposes we wished to use a `301 Moved Permanently`.\n",
    "\n",
    "```python\n",
    "from flask import redirect\n",
    "\n",
    "@app.route('/redirect')\n",
    "def to_kdm():\n",
    "    return redirect(\"http://kdm.training\", code=301)\n",
    "```\n",
    "\n",
    "Another special function is best to use with 4xx or 5xx status codes.  For example:\n",
    "\n",
    "```python\n",
    "from flask import abort\n",
    "\n",
    "@app.route('/notfound')\n",
    "def notfound():\n",
    "    return abort(404)\n",
    "```"
   ]
  },
  {
   "cell_type": "code",
   "execution_count": 3,
   "id": "01f020fc-7b95-44fc-828b-41ddef7c8b8f",
   "metadata": {},
   "outputs": [
    {
     "name": "stdout",
     "output_type": "stream",
     "text": [
      "404 NOT FOUND\n",
      "Content-Type: text/html; charset=utf-8\n",
      "Content-Length: 232\n",
      "Server: Werkzeug/2.0.0 Python/3.8.10\n",
      "Date: Sun, 13 Jun 2021 01:11:42 GMT\n",
      "\n",
      "<!DOCTYPE HTML PUBLIC \"-//W3C//DTD HTML 3.2 Final//EN\">\n",
      "<title>404 Not Found</title>\n",
      "<h1>Not Found</h1>\n",
      "<p>The requested URL was not found on the server. If you entered the URL manually please check your spelling and try again.</p>\n",
      "\n"
     ]
    }
   ],
   "source": [
    "resp = requests.get('http://popbox.kdm.local:2505/notfound')\n",
    "print(resp.status_code, resp.reason)\n",
    "for k, v in resp.headers.items():\n",
    "    print(f'{k}: {v}')\n",
    "\n",
    "print()\n",
    "print(resp.text)"
   ]
  },
  {
   "cell_type": "markdown",
   "id": "5b07246a-4ccf-4cd1-9145-4e3d94ca7d0c",
   "metadata": {},
   "source": [
    "In a practical application, when the route is used you will presumably perform conditional checks to determine whether `abort()` or returning another response is appropriate."
   ]
  },
  {
   "cell_type": "markdown",
   "id": "c6aa49dd-4c86-4444-9288-d8fb21b4555f",
   "metadata": {},
   "source": [
    "### Utilizing forms\n",
    "\n",
    "Commonly on both web pages and with automated services, it is useful to include structured data within a request.  It is also common to return JSON content as a structured response.  Browsers can process data within their embedded JavaScript, but other clients can equally process JSON as a useful data format.\n",
    "\n",
    "```python\n",
    "from flask import jsonify\n",
    "\n",
    "@app.route('/json', methods=[\"GET\", \"POST\", \"PUT\"])\n",
    "def json():\n",
    "    if request.method in {\"PUT\", \"POST\"}: \n",
    "        resp = dict(request.form)\n",
    "    else:\n",
    "        resp = dict(request.args)\n",
    "    resp['Server'] = \"Test Server\"\n",
    "    return jsonify(resp)\n",
    "```\n",
    "\n",
    "In this example, the same route will look at any form data from a PUT or POST request, but will look at query parameters from a GET request.  In whichever case, it will return a JSON representation of that structured request.  Obviously, real world responses will return derived data instead, but using JSON format will still be relevant."
   ]
  },
  {
   "cell_type": "code",
   "execution_count": 4,
   "id": "8bc5cfa3-725c-4e63-bcf2-b7430abe2bc9",
   "metadata": {},
   "outputs": [
    {
     "name": "stdout",
     "output_type": "stream",
     "text": [
      "200 OK\n",
      "Content-Type: application/json\n",
      "Content-Length: 61\n",
      "Server: Werkzeug/2.0.0 Python/3.8.10\n",
      "Date: Sun, 13 Jun 2021 01:15:56 GMT\n",
      "\n",
      "{\"Server\":\"Test Server\",\"name\":\"David\",\"title\":\"Instructor\"}\n",
      "\n"
     ]
    }
   ],
   "source": [
    "resp = requests.get('http://popbox.kdm.local:2505/json?name=David&title=Instructor')\n",
    "print(resp.status_code, resp.reason)\n",
    "for k, v in resp.headers.items():\n",
    "    print(f'{k}: {v}')\n",
    "\n",
    "print()\n",
    "print(resp.text)"
   ]
  },
  {
   "cell_type": "markdown",
   "id": "3111b283-7dbe-4bbc-a305-f6ddfd896ce9",
   "metadata": {},
   "source": [
    "If we process the body of PUT/POST requests instead we get the same kind of response, which we probably want to treat as Python native data."
   ]
  },
  {
   "cell_type": "code",
   "execution_count": 5,
   "id": "0e7e28b1-11e5-49a8-b094-be7441bf010b",
   "metadata": {},
   "outputs": [
    {
     "name": "stdout",
     "output_type": "stream",
     "text": [
      "200 OK\n",
      "Content-Type: application/json\n",
      "Content-Length: 65\n",
      "Server: Werkzeug/2.0.0 Python/3.8.10\n",
      "Date: Sun, 13 Jun 2021 01:17:33 GMT\n",
      "\n",
      "{'Server': 'Test Server', 'name': 'David', 'title': 'Data Scientist'}\n"
     ]
    }
   ],
   "source": [
    "import json\n",
    "\n",
    "data = {'name': 'David', 'title': 'Data Scientist'}\n",
    "resp = requests.post('http://popbox.kdm.local:2505/json', data=data)\n",
    "print(resp.status_code, resp.reason)\n",
    "for k, v in resp.headers.items():\n",
    "    print(f'{k}: {v}')\n",
    "\n",
    "print()\n",
    "print(json.loads(resp.text))"
   ]
  },
  {
   "cell_type": "markdown",
   "id": "45e16fce-fd5a-4cb7-a339-0f2d6afcc1cf",
   "metadata": {},
   "source": [
    "### Authorization\n",
    "\n",
    "We utilized Basic Authentication in an earlier lesson.  Let's see how that was implemented by the server.  This requires having installed a Flask extension called Flask-HTTPAuth.  The module contains other authentication methods as well, but HTTPBasicAuth is easy to illustrate.\n",
    "\n",
    "```python\n",
    "from flask_httpauth import HTTPBasicAuth\n",
    "from werkzeug.security import generate_password_hash, check_password_hash\n",
    "\n",
    "auth = HTTPBasicAuth()\n",
    "\n",
    "users = {\n",
    "    \"David\": generate_password_hash(\"4bYaDZCFsTY4\"),\n",
    "}\n",
    "\n",
    "@auth.verify_password\n",
    "def verify_password(username, password):\n",
    "    if username in users and \\\n",
    "            check_password_hash(users.get(username), password):\n",
    "        return username\n",
    "\n",
    "@app.route('/secure')\n",
    "@auth.login_required\n",
    "def secure():\n",
    "    return f\"Hello, {auth.current_user()}!\"\n",
    "```"
   ]
  },
  {
   "cell_type": "code",
   "execution_count": 6,
   "id": "ea0a4ff4-f5b3-4a4a-84c8-8e10caf349f9",
   "metadata": {},
   "outputs": [
    {
     "data": {
      "text/plain": [
       "(<Response [200]>, 'Hello, David!')"
      ]
     },
     "execution_count": 6,
     "metadata": {},
     "output_type": "execute_result"
    }
   ],
   "source": [
    "from requests.auth import HTTPBasicAuth\n",
    "resp = requests.get('http://popbox.kdm.local:2502/secure', \n",
    "                    auth=HTTPBasicAuth('David', '4bYaDZCFsTY4'))\n",
    "resp, resp.text"
   ]
  },
  {
   "cell_type": "code",
   "execution_count": 7,
   "id": "0c3c3d80-013d-4413-8e3b-a1dc022a53d6",
   "metadata": {},
   "outputs": [
    {
     "data": {
      "text/plain": [
       "(<Response [401]>, 'Unauthorized Access')"
      ]
     },
     "execution_count": 7,
     "metadata": {},
     "output_type": "execute_result"
    }
   ],
   "source": [
    "from requests.auth import HTTPBasicAuth\n",
    "resp = requests.get('http://popbox.kdm.local:2502/secure', \n",
    "                    auth=HTTPBasicAuth('David', 'badpass'))\n",
    "resp, resp.text"
   ]
  }
 ],
 "metadata": {
  "kernelspec": {
   "display_name": "Python 3",
   "language": "python",
   "name": "python3"
  },
  "language_info": {
   "codemirror_mode": {
    "name": "ipython",
    "version": 3
   },
   "file_extension": ".py",
   "mimetype": "text/x-python",
   "name": "python",
   "nbconvert_exporter": "python",
   "pygments_lexer": "ipython3",
   "version": "3.8.10"
  }
 },
 "nbformat": 4,
 "nbformat_minor": 5
}
