{
 "cells": [
  {
   "cell_type": "markdown",
   "id": "aacf7d45-9850-4421-bfd9-a8c248ec12d5",
   "metadata": {},
   "source": [
    "<div style=\"position: relative;\">\n",
    "<img src=\"https://user-images.githubusercontent.com/7065401/98728503-5ab82f80-2378-11eb-9c79-adeb308fc647.png\"></img>\n",
    "\n",
    "<h1 style=\"color: white; position: absolute; top:27%; left:10%;\">\n",
    "    Introduction to HTTP using Python\n",
    "</h1>\n",
    "\n",
    "<h3 style=\"color: #ef7d22; font-weight: normal; position: absolute; top:56%; left:10%;\">\n",
    "    David Mertz, Ph.D.\n",
    "</h3>\n",
    "\n",
    "<h3 style=\"color: #ef7d22; font-weight: normal; position: absolute; top:63%; left:10%;\">\n",
    "    Data Scientist\n",
    "</h3>\n",
    "</div>"
   ]
  },
  {
   "cell_type": "markdown",
   "id": "70b49728-3426-42c7-8a16-a3ad1070f6ac",
   "metadata": {},
   "source": [
    "# HTTP Servers\n",
    "\n",
    "This section will somewhat parallel the prior one.  We look at the very simple server in the Python standard library, then move up to the widely use third-party library Flask. \n",
    "\n",
    "The nomenclature of Python web servers can be somewhat confusing.  Actual **servers** focus on the underlying sockets, i.e. servicing connections efficiently and in a scalable way.  However, the actual processing of HTTP headers and bodies, both in receiving requests and generating responses, is usually passed to an HTTP **framework**.  These different bits of code usually communicate over an interface called WSGI (Web Services Gateway Interface).\n",
    "\n",
    "The nomenclature is fuzzy, however.  \"Servers\" such as Gunicorn, Nginx, Tornado, Twisted, or indeed the well-established Apache, all themselves include the ability to serve basic pages with no framework, or in a sense include a basic framework.  \"Frameworks\" such as Flask, Django, web2py, or TurboGears (or *many others*) also include a basic development server in their package.\n",
    "\n",
    "At opposite ends of the spectrum of frameworks are Django and Flask.  The others fall somewhere in the middle. Django includes everything you can imagine, and many things you cannot, related to *web development*, from a MVC (model-view-controller) architecture, to its own database object-relational mapper (ORM), to an elaborate templating system, to an integrated administration interface, to an embedded framework of metaclasses, to many other elements.\n",
    "\n",
    "Flask, in contrast, does as little as possible, in as simple a way as possible.  If you wish to do those many other web development tasks, it does not get in the way of you using other tools for each task, but it does not prescribe particular choices, nor include them in the library itself.\n",
    "\n",
    "A week long bootcamp might scratch the surface on *some* of the corners of Django; an hour of video presentation in this course (perhaps with a couple more hours in the related course, *Secure RESTful APIs using Python*) will cover most of what Flask does."
   ]
  },
  {
   "cell_type": "markdown",
   "id": "ffe09ab9-82e5-48fc-8c91-fbf622f02dad",
   "metadata": {},
   "source": [
    "## The Standard Library\n",
    "\n",
    "Python's standard library contains a simple HTTP server called `http.server`.  If all you wish to do is match the original intention of the HTTP protocol—i.e. make local resources navigable and available remotely—this server does that.  For illustration, we use the Jupyter `HTML` and `Image` display objects to render content, but we could look at the raw bodies if we preferred.\n",
    "\n",
    "In order to get this server running, I simply ran the following in the local directory:\n",
    "\n",
    "```bash\n",
    "python -m http.server 2503\n",
    "```\n",
    "\n",
    "This generates and HTML version of the directory listing by the server."
   ]
  },
  {
   "cell_type": "code",
   "execution_count": 1,
   "id": "9e72706d-41f7-4231-b44b-013fa6817913",
   "metadata": {},
   "outputs": [
    {
     "name": "stdout",
     "output_type": "stream",
     "text": [
      "200 OK\n",
      "Server: SimpleHTTP/0.6 Python/3.8.10\n",
      "Date: Fri, 11 Jun 2021 02:31:53 GMT\n",
      "Content-type: text/html; charset=utf-8\n",
      "Content-Length: 736\n"
     ]
    },
    {
     "data": {
      "text/html": [
       "<!DOCTYPE HTML PUBLIC \"-//W3C//DTD HTML 4.01//EN\" \"http://www.w3.org/TR/html4/strict.dtd\">\n",
       "<html>\n",
       "<head>\n",
       "<meta http-equiv=\"Content-Type\" content=\"text/html; charset=utf-8\">\n",
       "<title>Directory listing for /</title>\n",
       "</head>\n",
       "<body>\n",
       "<h1>Directory listing for /</h1>\n",
       "<hr>\n",
       "<ul>\n",
       "<li><a href=\".ipynb_checkpoints/\">.ipynb_checkpoints/</a></li>\n",
       "<li><a href=\"greetings.txt\">greetings.txt</a></li>\n",
       "<li><a href=\"hello.html\">hello.html</a></li>\n",
       "<li><a href=\"psf-logo.png\">psf-logo.png</a></li>\n",
       "<li><a href=\"server1.py\">server1.py</a></li>\n",
       "<li><a href=\"server2.py\">server2.py</a></li>\n",
       "<li><a href=\"server3.py\">server3.py</a></li>\n",
       "<li><a href=\"server4.py\">server4.py</a></li>\n",
       "<li><a href=\"Servers.ipynb\">Servers.ipynb</a></li>\n",
       "</ul>\n",
       "<hr>\n",
       "</body>\n",
       "</html>\n"
      ],
      "text/plain": [
       "<IPython.core.display.HTML object>"
      ]
     },
     "execution_count": 1,
     "metadata": {},
     "output_type": "execute_result"
    }
   ],
   "source": [
    "from IPython.core.display import HTML, Image\n",
    "import requests\n",
    "\n",
    "resp = requests.get('http://popbox.kdm.local:2503')\n",
    "print(resp.status_code, resp.reason)\n",
    "for k, v in resp.headers.items():\n",
    "    print(f'{k}: {v}')\n",
    "\n",
    "HTML(resp.text)"
   ]
  },
  {
   "cell_type": "markdown",
   "id": "5307504a-4577-4c40-85d3-0e430c0d77c4",
   "metadata": {},
   "source": [
    "This also provides paths to those files that are present, served over HTTP.  Content type is inferred from extension."
   ]
  },
  {
   "cell_type": "code",
   "execution_count": 2,
   "id": "eb559826-00c5-40aa-8046-958644f12c56",
   "metadata": {},
   "outputs": [
    {
     "name": "stdout",
     "output_type": "stream",
     "text": [
      "200 OK\n",
      "Server: SimpleHTTP/0.6 Python/3.8.10\n",
      "Date: Fri, 11 Jun 2021 02:33:55 GMT\n",
      "Content-type: text/plain\n",
      "Content-Length: 375\n",
      "Last-Modified: Wed, 09 Jun 2021 04:34:16 GMT\n",
      "\n",
      "Bonjour\n",
      "Salut\n",
      "Hola\n",
      "¿Qué tal?\n",
      "Zdravstvuyte\n",
      "Privet\n",
      "Nǐn hǎo\n",
      "Nǐ hǎo\n",
      "Salve\n",
      "Ciao\n",
      "\n"
     ]
    }
   ],
   "source": [
    "resp = requests.get('http://popbox.kdm.local:2503/greetings.txt')\n",
    "print(resp.status_code, resp.reason)\n",
    "for k, v in resp.headers.items():\n",
    "    print(f'{k}: {v}')\n",
    "\n",
    "print()\n",
    "print(resp.content.decode()[:75])"
   ]
  },
  {
   "cell_type": "code",
   "execution_count": 3,
   "id": "6040294c-1ca5-4e59-ba9c-41e7888538f3",
   "metadata": {},
   "outputs": [
    {
     "name": "stdout",
     "output_type": "stream",
     "text": [
      "404 File not found\n",
      "\n",
      "<!DOCTYPE HTML PUBLIC \"-//W3C//DTD HTML 4.01//EN\"\n",
      "        \"http://www.w3.org/TR/html4/strict.dtd\">\n",
      "<html>\n",
      "    <head>\n",
      "        <meta http-equiv=\"Content-Type\" content=\"text/html;charset=utf-8\">\n",
      "        <title>Error response</title>\n",
      "    </head>\n",
      "    <body>\n",
      "        <h1>Error response</h1>\n",
      "        <p>Error code: 404</p>\n",
      "        <p>Message: File not found.</p>\n",
      "        <p>Error code explanation: HTTPStatus.NOT_FOUND - Nothing matches the given URI.</p>\n",
      "    </body>\n",
      "</html>\n",
      "\n"
     ]
    }
   ],
   "source": [
    "resp = requests.get('http://popbox.kdm.local:2503/no-such-file.txt')\n",
    "print(resp.status_code, resp.reason)\n",
    "print()\n",
    "print(resp.text)"
   ]
  },
  {
   "cell_type": "markdown",
   "id": "39ed568f-ea3b-44c6-947b-b51c0527d6af",
   "metadata": {},
   "source": [
    "The Jupyter widget properly renders pages, including referenced resources."
   ]
  },
  {
   "cell_type": "code",
   "execution_count": 4,
   "id": "2a9bce49-f528-402c-9611-df6434f5e645",
   "metadata": {},
   "outputs": [
    {
     "name": "stdout",
     "output_type": "stream",
     "text": [
      "200 OK\n",
      "Server: SimpleHTTP/0.6 Python/3.8.10\n",
      "Date: Fri, 11 Jun 2021 02:35:58 GMT\n",
      "Content-type: text/html\n",
      "Content-Length: 214\n",
      "Last-Modified: Thu, 10 Jun 2021 20:37:01 GMT\n"
     ]
    },
    {
     "data": {
      "text/html": [
       "<html>\n",
       "  <head>\n",
       "    <title>Test Page</title>\n",
       "  </head>\n",
       "  <body>\n",
       "    <h3>Hello Student!</h3>\n",
       "    <p>This simple page contains the Python Software Foundation logo.</p>\n",
       "    <img src=\"psf-logo.png\"/>\n",
       "  </body>\n",
       "</html>\n"
      ],
      "text/plain": [
       "<IPython.core.display.HTML object>"
      ]
     },
     "execution_count": 4,
     "metadata": {},
     "output_type": "execute_result"
    }
   ],
   "source": [
    "resp = requests.get('http://popbox.kdm.local:2503/hello.html')\n",
    "print(resp.status_code, resp.reason)\n",
    "for k, v in resp.headers.items():\n",
    "    print(f'{k}: {v}')\n",
    "\n",
    "HTML(resp.text)"
   ]
  },
  {
   "cell_type": "code",
   "execution_count": 5,
   "id": "1a300843-fa9e-4949-b110-2a3821cbcc58",
   "metadata": {},
   "outputs": [
    {
     "name": "stdout",
     "output_type": "stream",
     "text": [
      "<html>\n",
      "  <head>\n",
      "    <title>Test Page</title>\n",
      "  </head>\n",
      "  <body>\n",
      "    <h3>Hello Student!</h3>\n",
      "    <p>This simple page contains the Python Software Foundation logo.</p>\n",
      "    <img src=\"psf-logo.png\"/>\n",
      "  </body>\n",
      "</html>\n",
      "\n"
     ]
    }
   ],
   "source": [
    "print(resp.text)"
   ]
  },
  {
   "cell_type": "markdown",
   "id": "1a878b0e-3e95-49e9-8d3a-55dd5ce3a7b9",
   "metadata": {},
   "source": [
    "---"
   ]
  },
  {
   "cell_type": "code",
   "execution_count": 6,
   "id": "caf43e52-db15-4c5a-9348-cb14963374a1",
   "metadata": {},
   "outputs": [
    {
     "name": "stdout",
     "output_type": "stream",
     "text": [
      "200 OK\n",
      "Server: SimpleHTTP/0.6 Python/3.8.10\n",
      "Date: Fri, 11 Jun 2021 02:37:08 GMT\n",
      "Content-type: image/png\n",
      "Content-Length: 9405\n",
      "Last-Modified: Thu, 10 Jun 2021 20:34:40 GMT\n",
      "\n"
     ]
    },
    {
     "data": {
      "image/png": "[encoded data removed]",
      "text/plain": [
       "<IPython.core.display.Image object>"
      ]
     },
     "execution_count": 6,
     "metadata": {},
     "output_type": "execute_result"
    }
   ],
   "source": [
    "resp = requests.get('http://popbox.kdm.local:2503/psf-logo.png')\n",
    "print(resp.status_code, resp.reason)\n",
    "for k, v in resp.headers.items():\n",
    "    print(f'{k}: {v}')\n",
    "print()\n",
    "\n",
    "Image(resp.content)"
   ]
  },
  {
   "cell_type": "markdown",
   "id": "d3fcd903-7900-45fc-bb63-cba349237736",
   "metadata": {},
   "source": [
    "---\n",
    "\n",
    "Of course, quite likely you might like a server to do something beyond sharing files on disk.  This is possible in `http.server` by defining a class with methods `.do_GET()`, `do_POST()` and so on.  Let's first look at an interaction with a customized server:"
   ]
  },
  {
   "cell_type": "code",
   "execution_count": 7,
   "id": "84ea4ee0-5fbf-4088-a0d8-80dad45531f5",
   "metadata": {},
   "outputs": [
    {
     "name": "stdout",
     "output_type": "stream",
     "text": [
      "200 OK\n",
      "Server: BaseHTTP/0.6 Python/3.8.10\n",
      "Date: Fri, 11 Jun 2021 02:38:46 GMT\n",
      "X-INE-Course: HTTP using Python\n"
     ]
    },
    {
     "data": {
      "text/html": [
       "<h3>Request details:</h3>\n",
       "<p>You accessed path: /some-file.txt</p>\n",
       "<blockquote><pre>\n",
       "GET /some-file.txt HTTP/1.1\n",
       "Host: popbox.kdm.local:2504\n",
       "User-Agent: python-requests/2.25.1\n",
       "Accept-Encoding: gzip, deflate\n",
       "Accept: */*\n",
       "Connection: keep-alive\n",
       "\n",
       "</pre></blockquote>\n"
      ],
      "text/plain": [
       "<IPython.core.display.HTML object>"
      ]
     },
     "execution_count": 7,
     "metadata": {},
     "output_type": "execute_result"
    }
   ],
   "source": [
    "resp = requests.get('http://popbox.kdm.local:2504/some-file.txt')\n",
    "print(resp.status_code, resp.reason)\n",
    "for k, v in resp.headers.items():\n",
    "    print(f'{k}: {v}')\n",
    "\n",
    "HTML(resp.text)"
   ]
  },
  {
   "cell_type": "markdown",
   "id": "105328c8-d70d-425c-b66d-4b0e76120d9a",
   "metadata": {},
   "source": [
    "---\n",
    "\n",
    "This server simply indicates the path requested by the client.  It is free to do what it likes with that information, or indeed with any of the header information provided.  The subclass `SimpleHTTPRequestHandler` was used when we simply ran the module itsef. It decided to examine those HTTP paths, and return 404 if they do not correspond local file, but otherwise return the file content with a header indicating an appropriate `Content-Type`.\n",
    "\n",
    "A server we write ourselves may not take paths as corresponding to files, but it would be free to check the filesystem if that is relevant.  Alternately, it might perform calculations, query databases, or take other actions appropriate to the path and/or query parameters provided in the request."
   ]
  },
  {
   "cell_type": "markdown",
   "id": "6d1a5011-9eca-4430-9359-7f3cf1900692",
   "metadata": {},
   "source": [
    "The code that makes up this server is not complex, and it illustrates how you might customize it.  However, the style of coding is distinctly \"old fashioned\", as will become more evident in comparison to `requests`.\n",
    "\n",
    "```python\n",
    "#!/usr/bin/env python\n",
    "from http.server import BaseHTTPRequestHandler, HTTPServer\n",
    "from time import asctime\n",
    "\n",
    "class Server(BaseHTTPRequestHandler):\n",
    "    def do_GET(self):\n",
    "        self.send_response(200)\n",
    "        self.send_header('X-INE-Course', 'HTTP using Python')\n",
    "        self.end_headers()\n",
    "        self.wfile.write(f\"<h3>Request details:</h3>\\n\".encode())\n",
    "        self.wfile.write(f\"<p>You accessed path: {self.path}</p>\\n\".encode())\n",
    "        self.wfile.write(b\"<blockquote><pre>\\n\")\n",
    "        self.wfile.write(f\"{self.requestline}\\n{self.headers}\".encode())\n",
    "        self.wfile.write(b\"</pre></blockquote>\\n\")\n",
    "\n",
    "host, port = \"0.0.0.0\", 2504\n",
    "server = HTTPServer((host, port), Server)\n",
    "\n",
    "print(f\"{asctime()} Server Start: ({host}:{port})\")\n",
    "try:\n",
    "    server.serve_forever()\n",
    "except KeyboardInterrupt:\n",
    "    server.server_close()\n",
    "print(f\"{asctime()} Server Stop\")\n",
    "```"
   ]
  },
  {
   "cell_type": "markdown",
   "id": "8c4430d0-33e5-49d8-8c7d-d6773521aaa1",
   "metadata": {},
   "source": [
    "When run at the command line, we can cancel the server with Ctrl-C.  For example:\n",
    "\n",
    "```\n",
    "% ./server4.py\n",
    "Thu Jun 10 21:21:01 2021 Server Start: (0.0.0.0:2504)\n",
    "192.168.50.11 - - [10/Jun/2021 21:21:03] \"GET / HTTP/1.1\" 200 -\n",
    "192.168.50.11 - - [10/Jun/2021 21:21:31] \"GET /some-file.txt HTTP/1.1\" 200 -\n",
    "^CThu Jun 10 21:23:03 2021 Server Stop\n",
    "```"
   ]
  },
  {
   "cell_type": "markdown",
   "id": "0092853e-20d0-42a8-95a4-dea04e6626a0",
   "metadata": {},
   "source": [
    "## Modern HTTP with Flask\n",
    "\n",
    "Flask provides a flexible, robust, and modern API for writing HTTP servers. It cooperates easily with high-performance web servers, when desired.  The examples in this course will use the \"Werkzeug\" development server that is included in Flask. However, the exact same framework code can be used for different underlying servers.\n",
    "\n",
    "For example, I might launch one of the servers provided in the repository for this course with, e.g.:\n",
    "\n",
    "```bash\n",
    "$ FLASK_APP=myserver.py flask run\n",
    "```\n",
    "\n",
    "In practice, I include a main block in the files to launch them as executable files, as you will see.  But if I configured a production system, I might instead launch the very same server using, e.g.:\n",
    "\n",
    "```bash\n",
    "$ gunicorn -w 4 -b 127.0.0.1:2510 myserver:app\n",
    "$ uwsgi --http 127.0.0.1:2511 --module myserver:app\n",
    "$ twistd -n web --port tcp:2512 --wsgi myserver.app\n",
    "```\n",
    "\n",
    "The command-line switches are slightly different, but those lines would launch the same web application, `myserver.py` on ports 2501, 2511, 2512, served by different servers.  Other servers are similar as well; some may require a half dozen, or fewer, lines to launch the identical Flask application rather than only a command line.\n",
    "\n"
   ]
  }
 ],
 "metadata": {
  "kernelspec": {
   "display_name": "Python 3",
   "language": "python",
   "name": "python3"
  },
  "language_info": {
   "codemirror_mode": {
    "name": "ipython",
    "version": 3
   },
   "file_extension": ".py",
   "mimetype": "text/x-python",
   "name": "python",
   "nbconvert_exporter": "python",
   "pygments_lexer": "ipython3",
   "version": "3.8.10"
  }
 },
 "nbformat": 4,
 "nbformat_minor": 5
}
