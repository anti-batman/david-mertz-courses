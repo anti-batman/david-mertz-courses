{
 "cells": [
  {
   "cell_type": "markdown",
   "metadata": {},
   "source": [
    "![ine-divider](https://user-images.githubusercontent.com/7065401/92672068-398e8080-f2ee-11ea-82d6-ad53f7feb5c0.png)\n",
    "<hr>\n",
    "\n",
    "### Introduction to HTTP using Python\n",
    "\n",
    "# Creating Web Servers\n",
    "\n",
    "This project will have you create a web servers with some special functionality, built incrementally.  For the project, you will use the Flask framework, which is more modern and flexible than the standard libary module."
   ]
  },
  {
   "cell_type": "markdown",
   "metadata": {},
   "source": [
    "![orange-divider](https://user-images.githubusercontent.com/7065401/92672455-187a5f80-f2ef-11ea-890c-40be9474f7b7.png)"
   ]
  },
  {
   "cell_type": "markdown",
   "metadata": {},
   "source": [
    "## Part 1\n",
    "\n",
    "**Browse file paths**\n",
    "\n",
    "The `http.server` libary had a zero-configuration mode where it could simply act as a file browser of a local directory, allowing that to be served remotely as well.  We would like to implement something analogous in Flask.  Each file in the local directory should be shown as a name and a link, and viewers should return files with an appropriate file type.\n",
    "\n",
    "In evaluating your server, you will probably wish to point a regular web browser to it, and navigate dynamically, rather than only making code requests against the server.  Since this server will accept paths matching files that may be dynamically created, you should read about [URL Route Registrations](https://flask.palletsprojects.com/en/2.0.x/api/#url-route-registrations) to understand how this is possible.\n",
    "\n"
   ]
  },
  {
   "cell_type": "code",
   "execution_count": 12,
   "metadata": {},
   "outputs": [
    {
     "data": {
      "text/plain": [
       "'foobar/baz'"
      ]
     },
     "execution_count": 12,
     "metadata": {},
     "output_type": "execute_result"
    }
   ],
   "source": [
    "import requests\n",
    "resp = requests.get('http://localhost:2553/foobar/baz')\n",
    "resp.text"
   ]
  },
  {
   "cell_type": "code",
   "execution_count": 21,
   "metadata": {},
   "outputs": [
    {
     "data": {
      "text/plain": [
       "('text/html', None)"
      ]
     },
     "execution_count": 21,
     "metadata": {},
     "output_type": "execute_result"
    }
   ],
   "source": [
    "from mimetypes import guess_type\n",
    "guess_type('hello.html')"
   ]
  },
  {
   "cell_type": "markdown",
   "metadata": {},
   "source": [
    "This interaction should fail with appropriate HTTP status codes if the client does not provide valid credentials or if the wrong response token is provided."
   ]
  },
  {
   "cell_type": "markdown",
   "metadata": {},
   "source": [
    "**Solution**\n",
    "\n",
    "```python\n",
    "server\n",
    "```"
   ]
  },
  {
   "cell_type": "markdown",
   "metadata": {},
   "source": [
    "![orange-divider](https://user-images.githubusercontent.com/7065401/92672455-187a5f80-f2ef-11ea-890c-40be9474f7b7.png)"
   ]
  }
 ],
 "metadata": {
  "kernelspec": {
   "display_name": "Python 3",
   "language": "python",
   "name": "python3"
  },
  "language_info": {
   "codemirror_mode": {
    "name": "ipython",
    "version": 3
   },
   "file_extension": ".py",
   "mimetype": "text/x-python",
   "name": "python",
   "nbconvert_exporter": "python",
   "pygments_lexer": "ipython3",
   "version": "3.8.10"
  }
 },
 "nbformat": 4,
 "nbformat_minor": 4
}
