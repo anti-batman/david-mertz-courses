{
 "cells": [
  {
   "cell_type": "markdown",
   "id": "bf332e2b-02c6-4289-bb7f-86876b30c7cd",
   "metadata": {},
   "source": [
    "# Description"
   ]
  },
  {
   "cell_type": "markdown",
   "id": "f5b0e333-8a7d-41d3-952b-d06d8a2980b1",
   "metadata": {},
   "source": [
    "In this exercise, you will need to construct a function that communicates with a locally running server.  Here we want you only to use only `telnetlib` rather than higher-level client libraries used in later lessons.  In particular, you will connect to port 2551 on `localhost`, and to the resource path `/json`.  As the name suggests, this path will return JSON responses; however, your function should return a Python dictionary derived from that. \n",
    "\n",
    "A trick to this exercise is that the server path does not accept GET requests, only POST or PUT.\n",
    "\n",
    "Two more hints will help you out.  The Python function `urllib.parse.urlencode` may be used to encode Python dictionaries.  Also helpful is knowing the `Content-Type` header value of `application/x-www-form-urlencoded` which will be relevant to completing this.\n",
    "\n",
    "A correct implementation of the function will behave like this:\n",
    "\n",
    "```python\n",
    ">>> get_response('David', 'Instructor')\n",
    "{'Server': '77851768', 'name': 'David', 'title': 'Instructor'}\n",
    "```"
   ]
  },
  {
   "cell_type": "markdown",
   "id": "ded57f39-1795-4176-80d8-43df8d630242",
   "metadata": {},
   "source": [
    "# Setup"
   ]
  },
  {
   "cell_type": "code",
   "execution_count": null,
   "id": "74ecbd9d-c5cd-41bc-aa88-c1631e5f6e14",
   "metadata": {},
   "outputs": [],
   "source": [
    "from telnetlib import Telnet\n",
    "import json\n",
    "from urllib.parse import urlencode\n",
    "\n",
    "from exercise_server import start\n",
    "start()\n",
    "\n",
    "def get_response(name, title):\n",
    "    # Telnet(... something ...)\n",
    "    path = '/json'\n",
    "    return {\"Server\": \"Test Server\"}"
   ]
  },
  {
   "cell_type": "markdown",
   "id": "c914376b-e482-4367-847c-e11bd53bd5c7",
   "metadata": {},
   "source": [
    "# Solution"
   ]
  },
  {
   "cell_type": "code",
   "execution_count": null,
   "id": "4d8afcca-9bf1-4222-96cb-e1eac9bd6af4",
   "metadata": {},
   "outputs": [],
   "source": [
    "def get_response(name, title):\n",
    "    eot = '⌁'.encode() \n",
    "    with Telnet('localhost', 2551) as conn:\n",
    "        conn.interact()\n",
    "        query = urlencode({'name': name, 'title': title})\n",
    "        qlen = len(query)\n",
    "        req = ('PUT /json HTTP/1.1\\r\\n'\n",
    "               'Content-Type: application/x-www-form-urlencoded\\r\\n'\n",
    "               f'Content-Length: {qlen}\\r\\n'\n",
    "               f'\\r\\n'\n",
    "               f'{query}').encode()\n",
    "        conn.write(req)\n",
    "        resp = conn.read_all().decode()\n",
    "        header, body = resp.split('\\r\\n\\r\\n')\n",
    "        return json.loads(body)\n",
    "\n",
    "get_response('David', 'Instructor')"
   ]
  },
  {
   "cell_type": "markdown",
   "id": "82c3ea49-e499-415f-935c-8accae5b960e",
   "metadata": {},
   "source": [
    "# Test Cases"
   ]
  },
  {
   "cell_type": "code",
   "execution_count": null,
   "id": "bbf9af91-f4d3-42de-9be5-fbb919b5387c",
   "metadata": {},
   "outputs": [],
   "source": [
    "from itertools import product\n",
    "import requests\n",
    "\n",
    "def test_responses():\n",
    "    names = ['Alice', 'Bob', 'Charlie']\n",
    "    titles = ['Doctor', 'Lawyer', 'Baker']\n",
    "    for name, title in product(names, titles):\n",
    "        resp = requests.put('http://localhost:2551/json', data=dict(name=name, title=title))\n",
    "        correct = json.loads(resp.text)\n",
    "        maybe = get_response(name, title)\n",
    "        assert maybe == correct, f'{maybe} / {correct}'\n",
    "    \n",
    "test_responses()"
   ]
  }
 ],
 "metadata": {
  "kernelspec": {
   "display_name": "Python 3",
   "language": "python",
   "name": "python3"
  },
  "language_info": {
   "codemirror_mode": {
    "name": "ipython",
    "version": 3
   },
   "file_extension": ".py",
   "mimetype": "text/x-python",
   "name": "python",
   "nbconvert_exporter": "python",
   "pygments_lexer": "ipython3",
   "version": "3.8.10"
  }
 },
 "nbformat": 4,
 "nbformat_minor": 5
}
