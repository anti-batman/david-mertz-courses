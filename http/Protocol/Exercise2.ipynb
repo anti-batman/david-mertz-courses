{
 "cells": [
  {
   "cell_type": "markdown",
   "id": "bf332e2b-02c6-4289-bb7f-86876b30c7cd",
   "metadata": {},
   "source": [
    "# Description"
   ]
  },
  {
   "cell_type": "markdown",
   "id": "f5b0e333-8a7d-41d3-952b-d06d8a2980b1",
   "metadata": {},
   "source": [
    "In this exercise, you will need to construct a function that communicates with a locally running server.  Here we want you only to use only `telnetlib` rather than higher-level client libraries used in later lessons.  In particular, you will connect to port 2551 on `localhost`, and to the resource path `/stream` that may be queried with a GET method.  \n",
    "\n",
    "As in the example shown in the lesson, data will arrive relatively slowly as lines; but in the server running for this exercise, it will continue infinitely.  You wish to terminate the session from the client side after a greeting longer than 20 characters is encountered. This will take a variable number of lines, since the greetings are randomized. Moreover, your function should itself be a generator function that will basically proxy the server's response.\n",
    "\n",
    "A correct implementation of the function will behave like this (but with various greeting lines of similar format):\n",
    "\n",
    "```python\n",
    ">>> for data in short_greetings():\n",
    "...     print(data)\n",
    "\n",
    "(13, 'Goddag Nancy!')\n",
    "(14, 'Shikamoo Mary!')\n",
    "(11, 'Salut Mary!')\n",
    "(11, 'Hallo John!')\n",
    "(9, 'Yā Nancy!')\n",
    "(17, 'Namaste Patricia!')\n",
    "(11, 'Salut Mary!')\n",
    "(19, 'Dzień dobry Robert!')\n",
    "(15, 'Selam Patricia!')\n",
    "(15, 'Goedendag Mary!')\n",
    "(23, 'Selamat siang Patricia!')\n",
    "```"
   ]
  },
  {
   "cell_type": "markdown",
   "id": "ded57f39-1795-4176-80d8-43df8d630242",
   "metadata": {},
   "source": [
    "# Setup"
   ]
  },
  {
   "cell_type": "code",
   "execution_count": 11,
   "id": "74ecbd9d-c5cd-41bc-aa88-c1631e5f6e14",
   "metadata": {},
   "outputs": [],
   "source": [
    "from telnetlib import Telnet\n",
    "\n",
    "from exercise_server import start\n",
    "start()\n",
    "\n",
    "def short_greetings():\n",
    "    # Telnet(... something ...)\n",
    "    path = '/stream'\n",
    "    for _ in range(10):\n",
    "        greeting = \"Hello David!\"\n",
    "        yield (len(greeting), greeting)"
   ]
  },
  {
   "cell_type": "markdown",
   "id": "c914376b-e482-4367-847c-e11bd53bd5c7",
   "metadata": {},
   "source": [
    "# Solution"
   ]
  },
  {
   "cell_type": "code",
   "execution_count": 15,
   "id": "c66d11c4-21c5-4602-80b7-0d1f9442eeb7",
   "metadata": {},
   "outputs": [],
   "source": [
    "def short_greetings():\n",
    "    with Telnet('localhost', 2551) as conn:\n",
    "        conn.interact()\n",
    "        conn.write(b'GET /stream HTTP/1.1\\r\\n\\r\\n')\n",
    "        while True:\n",
    "            resp = conn.read_until('⌁'.encode(), 0.1)\n",
    "            if b'\\r\\n\\r\\n' in resp:\n",
    "                header, resp = resp.split(b'\\r\\n\\r\\n')\n",
    "            elif resp:\n",
    "                line = resp.decode()\n",
    "                yield (len(line), line)\n",
    "                if len(line) > 20:\n",
    "                    break"
   ]
  },
  {
   "cell_type": "markdown",
   "id": "82c3ea49-e499-415f-935c-8accae5b960e",
   "metadata": {},
   "source": [
    "# Test Cases"
   ]
  },
  {
   "cell_type": "code",
   "execution_count": 16,
   "id": "bbf9af91-f4d3-42de-9be5-fbb919b5387c",
   "metadata": {},
   "outputs": [
    {
     "name": "stderr",
     "output_type": "stream",
     "text": [
      "127.0.0.1 - - [14/Jun/2021 18:02:03] \"GET /stream HTTP/1.1\" 200 -\n"
     ]
    }
   ],
   "source": [
    "from itertools import product\n",
    "import requests\n",
    "\n",
    "def test_greeting_client():\n",
    "    seen_long = False\n",
    "    for length, phrase in short_greetings():\n",
    "        assert len(phrase) == length, \"Length of phrase incorrect\"\n",
    "        if length > 20:\n",
    "            seen_long = True\n",
    "        else:\n",
    "            assert length <= 20 or not seen_long, \"Phrase neither short nor final\"\n",
    "    assert seen_long, \"No long greeting was encountered!\"\n",
    "    \n",
    "test_greeting_client()"
   ]
  }
 ],
 "metadata": {
  "kernelspec": {
   "display_name": "Python 3",
   "language": "python",
   "name": "python3"
  },
  "language_info": {
   "codemirror_mode": {
    "name": "ipython",
    "version": 3
   },
   "file_extension": ".py",
   "mimetype": "text/x-python",
   "name": "python",
   "nbconvert_exporter": "python",
   "pygments_lexer": "ipython3",
   "version": "3.8.10"
  }
 },
 "nbformat": 4,
 "nbformat_minor": 5
}
